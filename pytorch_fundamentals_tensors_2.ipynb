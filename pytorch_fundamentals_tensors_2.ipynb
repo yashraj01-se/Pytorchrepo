{
  "nbformat": 4,
  "nbformat_minor": 0,
  "metadata": {
    "colab": {
      "provenance": [],
      "gpuType": "T4",
      "authorship_tag": "ABX9TyPmK8LYEPcK0OehoCIFv/Zq",
      "include_colab_link": true
    },
    "kernelspec": {
      "name": "python3",
      "display_name": "Python 3"
    },
    "language_info": {
      "name": "python"
    },
    "accelerator": "GPU"
  },
  "cells": [
    {
      "cell_type": "markdown",
      "metadata": {
        "id": "view-in-github",
        "colab_type": "text"
      },
      "source": [
        "<a href=\"https://colab.research.google.com/github/yashraj01-se/Pytorchrepo/blob/main/pytorch_fundamentals_tensors_2.ipynb\" target=\"_parent\"><img src=\"https://colab.research.google.com/assets/colab-badge.svg\" alt=\"Open In Colab\"/></a>"
      ]
    },
    {
      "cell_type": "code",
      "execution_count": 2,
      "metadata": {
        "id": "9FCQrjKnvlvA"
      },
      "outputs": [],
      "source": [
        "import torch\n",
        "import numpy as np\n",
        "import pandas as pd\n",
        "import matplotlib.pyplot as plt"
      ]
    },
    {
      "cell_type": "code",
      "source": [
        "int_32_tensor=torch.tensor([1,2,3],dtype=torch.int32,device=\"cpu\",requires_grad=False)\n",
        "float_32_tensor=torch.tensor([1.0,2.0,3.0],dtype=torch.float32,device=\"cpu\",requires_grad=False)\n",
        "int_32_tensor*float_32_tensor"
      ],
      "metadata": {
        "colab": {
          "base_uri": "https://localhost:8080/"
        },
        "id": "FquOm63KwM6Y",
        "outputId": "6387f65e-f4fc-4561-df4b-2d1fdb33ce60"
      },
      "execution_count": 3,
      "outputs": [
        {
          "output_type": "execute_result",
          "data": {
            "text/plain": [
              "tensor([1., 4., 9.])"
            ]
          },
          "metadata": {},
          "execution_count": 3
        }
      ]
    },
    {
      "cell_type": "markdown",
      "source": [
        "###Getting information from tensors:\n",
        "1.tensor not right datatype:to do get datatype from a tensor,can use \"tensor.dtype\"\n",
        "2.tensor to get right shape:use \"tensor.shape\"\n",
        "3.tensor on right device:use \"tensor.device\""
      ],
      "metadata": {
        "id": "Q0nEAlIrwbG3"
      }
    },
    {
      "cell_type": "code",
      "source": [
        "some_tensor=torch.rand(3,4)\n",
        "some_tensor"
      ],
      "metadata": {
        "colab": {
          "base_uri": "https://localhost:8080/"
        },
        "id": "mhpWEnHZyV3A",
        "outputId": "c6cc23d0-1350-4416-a341-cb4578e19c7b"
      },
      "execution_count": 4,
      "outputs": [
        {
          "output_type": "execute_result",
          "data": {
            "text/plain": [
              "tensor([[0.5100, 0.2987, 0.1020, 0.1837],\n",
              "        [0.6343, 0.7560, 0.4420, 0.5419],\n",
              "        [0.7630, 0.5910, 0.3457, 0.1962]])"
            ]
          },
          "metadata": {},
          "execution_count": 4
        }
      ]
    },
    {
      "cell_type": "code",
      "source": [
        "#details about above tensor:\n",
        "print(some_tensor.dtype)\n",
        "print(some_tensor.shape)\n",
        "print(some_tensor.device)"
      ],
      "metadata": {
        "colab": {
          "base_uri": "https://localhost:8080/"
        },
        "id": "xVVOTyF3yrfL",
        "outputId": "d68931ca-cb78-45ae-f252-122ffcc73c5e"
      },
      "execution_count": 5,
      "outputs": [
        {
          "output_type": "stream",
          "name": "stdout",
          "text": [
            "torch.float32\n",
            "torch.Size([3, 4])\n",
            "cpu\n"
          ]
        }
      ]
    },
    {
      "cell_type": "code",
      "source": [
        "#if we want to change the details:\n",
        "changed_tensor=torch.rand(dtype=torch.float16,device=\"cuda\",size=(4,4))\n",
        "print(changed_tensor.dtype)\n",
        "print(changed_tensor.shape)\n",
        "print(changed_tensor.device)"
      ],
      "metadata": {
        "colab": {
          "base_uri": "https://localhost:8080/"
        },
        "id": "fcvYt-AyzXzx",
        "outputId": "23904389-6150-4974-d7e9-bad9b04b9153"
      },
      "execution_count": 7,
      "outputs": [
        {
          "output_type": "stream",
          "name": "stdout",
          "text": [
            "torch.float16\n",
            "torch.Size([4, 4])\n",
            "cuda:0\n"
          ]
        }
      ]
    },
    {
      "cell_type": "markdown",
      "source": [
        "###Manipulating tensors"
      ],
      "metadata": {
        "id": "91GE1PGH0mgZ"
      }
    },
    {
      "cell_type": "markdown",
      "source": [
        "#tensor operations:\n",
        "#1.ADD 2.Sub 3.Mul 4.Division 5.Matrix mul\n"
      ],
      "metadata": {
        "id": "9Bx7eZ070qbM"
      }
    },
    {
      "cell_type": "code",
      "source": [
        "tensor=torch.tensor([1,2,3])\n",
        "tensor+10\n",
        "tensor*10\n",
        "tensor-10\n",
        "#inbult function of pytorch:\n",
        "torch.mul(tensor,10)\n",
        "torch.add(tensor,10)"
      ],
      "metadata": {
        "colab": {
          "base_uri": "https://localhost:8080/"
        },
        "id": "WLcZlgXx1JwN",
        "outputId": "5068b4bb-041a-4739-fa8f-12d8910c2c22"
      },
      "execution_count": 13,
      "outputs": [
        {
          "output_type": "execute_result",
          "data": {
            "text/plain": [
              "tensor([11, 12, 13])"
            ]
          },
          "metadata": {},
          "execution_count": 13
        }
      ]
    },
    {
      "cell_type": "code",
      "source": [
        "#matrix mul:(dot product)\n",
        "#two main rule of Matrix multiplication:\n",
        "#1.inner dimension must match\n",
        "#(2,3)@(2,3) will wont work but (2,3)@(3,2) will work...\n",
        "#2.the result will be the shape of outter dimensions....\n",
        "first_tensor=torch.tensor([[1,2,3],\n",
        "                           [1,2,3],\n",
        "                           ])\n",
        "print(first_tensor.shape)\n",
        "second_tensor=torch.tensor([[1,2,3],\n",
        "                            [1,2,3],\n",
        "                            [1,2,3]])\n",
        "print(second_tensor.shape)\n",
        "answer=torch.matmul(first_tensor,second_tensor)\n",
        "print(answer)\n",
        "print(answer.shape)#outter dimension shape..."
      ],
      "metadata": {
        "colab": {
          "base_uri": "https://localhost:8080/"
        },
        "id": "AVTk7gct2F1l",
        "outputId": "4fa3ecf8-c7c1-4fd3-a5ff-3730f3ca2fa0"
      },
      "execution_count": 24,
      "outputs": [
        {
          "output_type": "stream",
          "name": "stdout",
          "text": [
            "torch.Size([2, 3])\n",
            "torch.Size([3, 3])\n",
            "tensor([[ 6, 12, 18],\n",
            "        [ 6, 12, 18]])\n",
            "torch.Size([2, 3])\n"
          ]
        }
      ]
    },
    {
      "cell_type": "markdown",
      "source": [
        "###one of the most common errors in deep learning :shape error"
      ],
      "metadata": {
        "id": "DJbqtEVN65hS"
      }
    },
    {
      "cell_type": "code",
      "source": [
        "first_tensor=torch.tensor([[1,2],\n",
        "                           [1,2],\n",
        "                           [1,2]])\n",
        "\n",
        "second_tensor=torch.tensor([[1,2],\n",
        "                            [1,2],\n",
        "                            [1,2]])\n",
        "print(\"shapes before transpose: \",first_tensor.shape,second_tensor.shape)\n",
        "#how to adjust to matix whose shpe does not matches with the first fule of matrix multipliaction....\n",
        "#using transpose\n",
        "second_tensor=second_tensor.T\n",
        "print(\"shape after transpose: \",first_tensor.shape,second_tensor.shape)\n",
        "answer=torch.matmul(first_tensor,second_tensor)\n",
        "print(answer)\n",
        "print(answer.shape)"
      ],
      "metadata": {
        "colab": {
          "base_uri": "https://localhost:8080/"
        },
        "id": "DeQxVrz07CxS",
        "outputId": "18ac0ac0-4a38-4aaf-c90f-949ca3e4e8a9"
      },
      "execution_count": 37,
      "outputs": [
        {
          "output_type": "stream",
          "name": "stdout",
          "text": [
            "shapes before transpose:  torch.Size([3, 2]) torch.Size([3, 2])\n",
            "shape after transpose:  torch.Size([3, 2]) torch.Size([2, 3])\n",
            "tensor([[5, 5, 5],\n",
            "        [5, 5, 5],\n",
            "        [5, 5, 5]])\n",
            "torch.Size([3, 3])\n"
          ]
        }
      ]
    },
    {
      "cell_type": "markdown",
      "source": [
        "###finding the min, max ,sum etc(tensor aggregation)"
      ],
      "metadata": {
        "id": "CkiU2XDIAAPL"
      }
    },
    {
      "cell_type": "code",
      "source": [
        "x=torch.arange(0,100,10)\n",
        "print(x)\n",
        "x_min=torch.min(x)\n",
        "print(\"min: \",x_min)\n",
        "x_max=torch.max(x)\n",
        "print(\"max: \",x_max)\n",
        "#mean requires float32 but default is int64 so change:\n",
        "x_mean=torch.mean(x.type(torch.float32))\n",
        "print(x_mean)\n",
        "x_sum=torch.sum(x)\n",
        "print(x_sum)\n",
        "\n"
      ],
      "metadata": {
        "colab": {
          "base_uri": "https://localhost:8080/"
        },
        "id": "CCryeN66AHqn",
        "outputId": "c37ad6a4-bab1-4abc-9e2d-b20f8aa165a6"
      },
      "execution_count": 50,
      "outputs": [
        {
          "output_type": "stream",
          "name": "stdout",
          "text": [
            "tensor([ 0, 10, 20, 30, 40, 50, 60, 70, 80, 90])\n",
            "min:  tensor(0)\n",
            "max:  tensor(90)\n",
            "tensor(45.)\n",
            "tensor(450)\n"
          ]
        }
      ]
    },
    {
      "cell_type": "markdown",
      "source": [
        "#Finding the positional min and max:\n"
      ],
      "metadata": {
        "id": "qm7x9Px4D2Pv"
      }
    },
    {
      "cell_type": "code",
      "source": [
        "ten=torch.tensor([2,3,1,5])\n",
        "#return index position of min and max:\n",
        "print(torch.argmin(ten))\n",
        "print(torch.argmax(ten))\n"
      ],
      "metadata": {
        "colab": {
          "base_uri": "https://localhost:8080/"
        },
        "id": "lPUYg46RD668",
        "outputId": "32eb2563-3b1b-438f-8aa1-21bc4e5c89cc"
      },
      "execution_count": 53,
      "outputs": [
        {
          "output_type": "stream",
          "name": "stdout",
          "text": [
            "tensor(2)\n",
            "tensor(3)\n"
          ]
        }
      ]
    }
  ]
}