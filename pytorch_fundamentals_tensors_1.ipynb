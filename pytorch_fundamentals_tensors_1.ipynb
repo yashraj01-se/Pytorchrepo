{
  "nbformat": 4,
  "nbformat_minor": 0,
  "metadata": {
    "colab": {
      "provenance": []
    },
    "kernelspec": {
      "name": "python3",
      "display_name": "Python 3"
    },
    "language_info": {
      "name": "python"
    }
  },
  "cells": [
    {
      "cell_type": "markdown",
      "source": [
        "#00.pytorch fundamentals:\n"
      ],
      "metadata": {
        "id": "C1Y_wm0ZiEf9"
      }
    },
    {
      "cell_type": "code",
      "source": [
        "import torch\n",
        "import numpy as np\n",
        "import pandas as pd\n",
        "import matplotlib.pyplot as plt\n",
        "print(torch.__version__)"
      ],
      "metadata": {
        "colab": {
          "base_uri": "https://localhost:8080/"
        },
        "id": "vCoS-B54i9MT",
        "outputId": "bc38dbe1-d08b-47cc-e0d3-e792daecccee"
      },
      "execution_count": 3,
      "outputs": [
        {
          "output_type": "stream",
          "name": "stdout",
          "text": [
            "2.6.0+cu124\n"
          ]
        }
      ]
    },
    {
      "cell_type": "code",
      "source": [
        "!nvidia-smi"
      ],
      "metadata": {
        "colab": {
          "base_uri": "https://localhost:8080/"
        },
        "id": "HpmcGy1DjWZs",
        "outputId": "56dfad09-db3b-46f9-c6c7-b521a22aafe6"
      },
      "execution_count": 4,
      "outputs": [
        {
          "output_type": "stream",
          "name": "stdout",
          "text": [
            "/bin/bash: line 1: nvidia-smi: command not found\n"
          ]
        }
      ]
    },
    {
      "cell_type": "markdown",
      "source": [
        "#Introduction to Tensors:\n"
      ],
      "metadata": {
        "id": "xiQPt0f_jwWz"
      }
    },
    {
      "cell_type": "markdown",
      "source": [
        "creating tensors\n"
      ],
      "metadata": {
        "id": "PhdELAzTkbri"
      }
    },
    {
      "cell_type": "code",
      "source": [
        "#scaler\n",
        "#pytorch tensors are created using to torch.tensor()\n",
        "scaler=torch.tensor(7)\n",
        "scaler"
      ],
      "metadata": {
        "colab": {
          "base_uri": "https://localhost:8080/"
        },
        "id": "n7wvJ--fki7S",
        "outputId": "1e4146bc-bdaa-4ff5-ecb9-6bd8be82fd45"
      },
      "execution_count": 5,
      "outputs": [
        {
          "output_type": "execute_result",
          "data": {
            "text/plain": [
              "tensor(7)"
            ]
          },
          "metadata": {},
          "execution_count": 5
        }
      ]
    },
    {
      "cell_type": "code",
      "source": [
        "scaler.ndim"
      ],
      "metadata": {
        "colab": {
          "base_uri": "https://localhost:8080/"
        },
        "id": "uO60MQoEliw1",
        "outputId": "e7acf9c2-bc86-4950-9b59-bb1634a8e77a"
      },
      "execution_count": 6,
      "outputs": [
        {
          "output_type": "execute_result",
          "data": {
            "text/plain": [
              "0"
            ]
          },
          "metadata": {},
          "execution_count": 6
        }
      ]
    },
    {
      "cell_type": "code",
      "source": [
        "#get the integer back from tensor:\n",
        "scaler.item()"
      ],
      "metadata": {
        "colab": {
          "base_uri": "https://localhost:8080/"
        },
        "id": "BfjPpDF1mJdZ",
        "outputId": "2c2cb64b-11c9-4ee9-d18a-fa3e80db7c39"
      },
      "execution_count": 7,
      "outputs": [
        {
          "output_type": "execute_result",
          "data": {
            "text/plain": [
              "7"
            ]
          },
          "metadata": {},
          "execution_count": 7
        }
      ]
    },
    {
      "cell_type": "code",
      "source": [
        "#vector\n",
        "vector=torch.tensor([7,7])\n",
        "vector"
      ],
      "metadata": {
        "colab": {
          "base_uri": "https://localhost:8080/"
        },
        "id": "CCNSubyymZgf",
        "outputId": "ba43cdf8-446d-4537-a985-aaf4deefaa88"
      },
      "execution_count": 8,
      "outputs": [
        {
          "output_type": "execute_result",
          "data": {
            "text/plain": [
              "tensor([7, 7])"
            ]
          },
          "metadata": {},
          "execution_count": 8
        }
      ]
    },
    {
      "cell_type": "code",
      "source": [
        "vector.ndim"
      ],
      "metadata": {
        "colab": {
          "base_uri": "https://localhost:8080/"
        },
        "id": "CieOYgG2nCpK",
        "outputId": "579d72e4-6195-4094-9bd9-7e55590a0f86"
      },
      "execution_count": 10,
      "outputs": [
        {
          "output_type": "execute_result",
          "data": {
            "text/plain": [
              "1"
            ]
          },
          "metadata": {},
          "execution_count": 10
        }
      ]
    },
    {
      "cell_type": "code",
      "source": [
        "vector.shape"
      ],
      "metadata": {
        "colab": {
          "base_uri": "https://localhost:8080/"
        },
        "id": "liwWUfIYnfam",
        "outputId": "1962d74b-bdb8-429c-cb6c-273efd860f07"
      },
      "execution_count": 12,
      "outputs": [
        {
          "output_type": "execute_result",
          "data": {
            "text/plain": [
              "torch.Size([2])"
            ]
          },
          "metadata": {},
          "execution_count": 12
        }
      ]
    },
    {
      "cell_type": "code",
      "source": [
        "vector.tolist()"
      ],
      "metadata": {
        "colab": {
          "base_uri": "https://localhost:8080/"
        },
        "id": "HlZYgbqNn9wM",
        "outputId": "f869b3ea-c880-406d-db67-e3d643251a8c"
      },
      "execution_count": 13,
      "outputs": [
        {
          "output_type": "execute_result",
          "data": {
            "text/plain": [
              "[7, 7]"
            ]
          },
          "metadata": {},
          "execution_count": 13
        }
      ]
    },
    {
      "cell_type": "code",
      "source": [
        "#matrix\n",
        "metrix=torch.tensor([[7,8],\n",
        "                     [9,10]])\n",
        "metrix"
      ],
      "metadata": {
        "colab": {
          "base_uri": "https://localhost:8080/"
        },
        "id": "asPEhU0AoK3w",
        "outputId": "ec59298f-2183-4f73-9207-d3473c596832"
      },
      "execution_count": 15,
      "outputs": [
        {
          "output_type": "execute_result",
          "data": {
            "text/plain": [
              "tensor([[ 7,  8],\n",
              "        [ 9, 10]])"
            ]
          },
          "metadata": {},
          "execution_count": 15
        }
      ]
    },
    {
      "cell_type": "code",
      "source": [
        "metrix.ndim"
      ],
      "metadata": {
        "colab": {
          "base_uri": "https://localhost:8080/"
        },
        "id": "LWUgjR44o0EP",
        "outputId": "1289bee0-a8ff-49d9-e223-cd34310e3c5b"
      },
      "execution_count": 16,
      "outputs": [
        {
          "output_type": "execute_result",
          "data": {
            "text/plain": [
              "2"
            ]
          },
          "metadata": {},
          "execution_count": 16
        }
      ]
    },
    {
      "cell_type": "code",
      "source": [
        "metrix[1]"
      ],
      "metadata": {
        "colab": {
          "base_uri": "https://localhost:8080/"
        },
        "id": "9tv5oC_zo-Dp",
        "outputId": "35ed271b-b57a-421f-f50b-4412bebff641"
      },
      "execution_count": 18,
      "outputs": [
        {
          "output_type": "execute_result",
          "data": {
            "text/plain": [
              "tensor([ 9, 10])"
            ]
          },
          "metadata": {},
          "execution_count": 18
        }
      ]
    },
    {
      "cell_type": "code",
      "source": [
        "metrix.shape"
      ],
      "metadata": {
        "colab": {
          "base_uri": "https://localhost:8080/"
        },
        "id": "33hp2Af9pscJ",
        "outputId": "f9ec5027-d979-4a34-9e8c-3c7bd0b1fcd6"
      },
      "execution_count": 20,
      "outputs": [
        {
          "output_type": "execute_result",
          "data": {
            "text/plain": [
              "torch.Size([2, 2])"
            ]
          },
          "metadata": {},
          "execution_count": 20
        }
      ]
    },
    {
      "cell_type": "code",
      "source": [
        "#tensor\n",
        "ten=torch.tensor([\n",
        "    [[1,2,3],\n",
        "    [12,3,4],\n",
        "    [1,4,5]],\n",
        "    [[2,3,4],\n",
        "     [3,4,5],\n",
        "     [23,3,4]],\n",
        "    [[1,2,3],\n",
        "     [2,3,4],\n",
        "     [3,4,5]]\n",
        "    ])\n",
        "ten"
      ],
      "metadata": {
        "colab": {
          "base_uri": "https://localhost:8080/"
        },
        "id": "AiIzKC3dp1tX",
        "outputId": "c1b2f8ef-5c45-4d06-e3f3-5152502e616f"
      },
      "execution_count": 31,
      "outputs": [
        {
          "output_type": "execute_result",
          "data": {
            "text/plain": [
              "tensor([[[ 1,  2,  3],\n",
              "         [12,  3,  4],\n",
              "         [ 1,  4,  5]],\n",
              "\n",
              "        [[ 2,  3,  4],\n",
              "         [ 3,  4,  5],\n",
              "         [23,  3,  4]],\n",
              "\n",
              "        [[ 1,  2,  3],\n",
              "         [ 2,  3,  4],\n",
              "         [ 3,  4,  5]]])"
            ]
          },
          "metadata": {},
          "execution_count": 31
        }
      ]
    },
    {
      "cell_type": "code",
      "source": [
        "ten.ndim"
      ],
      "metadata": {
        "colab": {
          "base_uri": "https://localhost:8080/"
        },
        "id": "TwS__iVEqfmR",
        "outputId": "fd51a507-6560-4505-f0c5-66abb5b4cab3"
      },
      "execution_count": 32,
      "outputs": [
        {
          "output_type": "execute_result",
          "data": {
            "text/plain": [
              "3"
            ]
          },
          "metadata": {},
          "execution_count": 32
        }
      ]
    },
    {
      "cell_type": "code",
      "source": [
        "ten.shape\n",
        "#([1,3,3]) means we have one 3x3 tensor"
      ],
      "metadata": {
        "colab": {
          "base_uri": "https://localhost:8080/"
        },
        "id": "sLnW6LnUqlXf",
        "outputId": "07e8ded4-e286-49a8-ea9b-45bd29f33641"
      },
      "execution_count": 33,
      "outputs": [
        {
          "output_type": "execute_result",
          "data": {
            "text/plain": [
              "torch.Size([3, 3, 3])"
            ]
          },
          "metadata": {},
          "execution_count": 33
        }
      ]
    },
    {
      "cell_type": "code",
      "source": [
        "ten[2][0]"
      ],
      "metadata": {
        "colab": {
          "base_uri": "https://localhost:8080/"
        },
        "id": "EmrmD-IRsvZw",
        "outputId": "3a053c6f-06c9-495a-c20d-a9fe373e806f"
      },
      "execution_count": 38,
      "outputs": [
        {
          "output_type": "execute_result",
          "data": {
            "text/plain": [
              "tensor([1, 2, 3])"
            ]
          },
          "metadata": {},
          "execution_count": 38
        }
      ]
    },
    {
      "cell_type": "markdown",
      "source": [
        "###random tensor"
      ],
      "metadata": {
        "id": "AwEwFXExtoF2"
      }
    },
    {
      "cell_type": "markdown",
      "source": [
        "#why random tensors??\n",
        "#random tensors are important beacuse the way many neural network learn is that\n",
        "#they start with tensors full of random numbers and then adjust those random numbers to better represent\n",
        "#the data....\n",
        "#start with random number->look the data->update random numbers->look the data->\n",
        "#update random numbers..and so on"
      ],
      "metadata": {
        "id": "fP9RMB7QtrPa"
      }
    },
    {
      "cell_type": "code",
      "source": [
        "#create random number...\n",
        "random_tensor=torch.rand(3,4)\n",
        "random_tensor"
      ],
      "metadata": {
        "colab": {
          "base_uri": "https://localhost:8080/"
        },
        "id": "r4UEPdiRuwpW",
        "outputId": "41b50bf1-3e95-4775-b756-0806700a20fe"
      },
      "execution_count": 39,
      "outputs": [
        {
          "output_type": "execute_result",
          "data": {
            "text/plain": [
              "tensor([[0.6491, 0.8528, 0.4445, 0.8182],\n",
              "        [0.5701, 0.3743, 0.5696, 0.7117],\n",
              "        [0.7048, 0.0755, 0.8433, 0.4500]])"
            ]
          },
          "metadata": {},
          "execution_count": 39
        }
      ]
    },
    {
      "cell_type": "code",
      "source": [
        "random_tensor[1][0]"
      ],
      "metadata": {
        "colab": {
          "base_uri": "https://localhost:8080/"
        },
        "id": "c3meKRGjvW5z",
        "outputId": "77458cd0-4ee9-49bc-d666-8d6f421b223e"
      },
      "execution_count": 43,
      "outputs": [
        {
          "output_type": "execute_result",
          "data": {
            "text/plain": [
              "tensor(0.5701)"
            ]
          },
          "metadata": {},
          "execution_count": 43
        }
      ]
    },
    {
      "cell_type": "code",
      "source": [
        "random_tensor.ndim"
      ],
      "metadata": {
        "colab": {
          "base_uri": "https://localhost:8080/"
        },
        "id": "SySpMDp8vgON",
        "outputId": "46cbd55f-8b5f-4346-f651-824194ce0215"
      },
      "execution_count": 44,
      "outputs": [
        {
          "output_type": "execute_result",
          "data": {
            "text/plain": [
              "2"
            ]
          },
          "metadata": {},
          "execution_count": 44
        }
      ]
    },
    {
      "cell_type": "code",
      "source": [
        "random_tensor.shape"
      ],
      "metadata": {
        "colab": {
          "base_uri": "https://localhost:8080/"
        },
        "id": "6Es-c0XNvjrP",
        "outputId": "546a5b18-8044-4c2e-8fa5-c880012ce6a2"
      },
      "execution_count": 45,
      "outputs": [
        {
          "output_type": "execute_result",
          "data": {
            "text/plain": [
              "torch.Size([3, 4])"
            ]
          },
          "metadata": {},
          "execution_count": 45
        }
      ]
    },
    {
      "cell_type": "code",
      "source": [
        "#create a random tensor with similar shape to image tensor\n",
        "random_image_size_tensor=torch.rand(size=(3,224,224))#height,width,color channel (R,G,B)\n",
        "random_image_size_tensor.shape,random_image_size_tensor.ndim"
      ],
      "metadata": {
        "colab": {
          "base_uri": "https://localhost:8080/"
        },
        "id": "UO_GNgvcwNh8",
        "outputId": "4318c002-09b4-4f29-9ac8-2ddd0d66b596"
      },
      "execution_count": 47,
      "outputs": [
        {
          "output_type": "execute_result",
          "data": {
            "text/plain": [
              "(torch.Size([3, 224, 224]), 3)"
            ]
          },
          "metadata": {},
          "execution_count": 47
        }
      ]
    },
    {
      "cell_type": "markdown",
      "source": [
        "###zeroes and ones"
      ],
      "metadata": {
        "id": "LMvdQDdGx2vw"
      }
    },
    {
      "cell_type": "code",
      "source": [
        "#create a tensor full of zeroes and ones\n",
        "zero_tensor=torch.zeros(3,4)\n",
        "zero_tensor"
      ],
      "metadata": {
        "colab": {
          "base_uri": "https://localhost:8080/"
        },
        "id": "uBVFt5Mbx5GA",
        "outputId": "e3821c18-dccd-4c88-cfe9-75fb4435dc07"
      },
      "execution_count": 48,
      "outputs": [
        {
          "output_type": "execute_result",
          "data": {
            "text/plain": [
              "tensor([[0., 0., 0., 0.],\n",
              "        [0., 0., 0., 0.],\n",
              "        [0., 0., 0., 0.]])"
            ]
          },
          "metadata": {},
          "execution_count": 48
        }
      ]
    },
    {
      "cell_type": "code",
      "source": [
        "#multiplying to tensors:\n",
        "zero_tensor[0][1]*random_tensor"
      ],
      "metadata": {
        "colab": {
          "base_uri": "https://localhost:8080/"
        },
        "id": "iw2As45EydmD",
        "outputId": "860e2585-2aa2-4859-fac2-5bddda526897"
      },
      "execution_count": 53,
      "outputs": [
        {
          "output_type": "execute_result",
          "data": {
            "text/plain": [
              "tensor([[0., 0., 0., 0.],\n",
              "        [0., 0., 0., 0.],\n",
              "        [0., 0., 0., 0.]])"
            ]
          },
          "metadata": {},
          "execution_count": 53
        }
      ]
    },
    {
      "cell_type": "code",
      "source": [
        "#create tensor of all ones:\n",
        "ones_tensor=torch.ones(3,4)\n",
        "ones_tensor"
      ],
      "metadata": {
        "colab": {
          "base_uri": "https://localhost:8080/"
        },
        "id": "YAsn1PPly23f",
        "outputId": "4dc04b05-0c40-401b-ce60-bdba84460c32"
      },
      "execution_count": 54,
      "outputs": [
        {
          "output_type": "execute_result",
          "data": {
            "text/plain": [
              "tensor([[1., 1., 1., 1.],\n",
              "        [1., 1., 1., 1.],\n",
              "        [1., 1., 1., 1.]])"
            ]
          },
          "metadata": {},
          "execution_count": 54
        }
      ]
    },
    {
      "cell_type": "code",
      "source": [
        "ones_tensor.dtype"
      ],
      "metadata": {
        "colab": {
          "base_uri": "https://localhost:8080/"
        },
        "id": "Xe620_w5zBZ8",
        "outputId": "005b6996-c4c0-4ae5-89cf-9fe42aa0188c"
      },
      "execution_count": 56,
      "outputs": [
        {
          "output_type": "execute_result",
          "data": {
            "text/plain": [
              "torch.float32"
            ]
          },
          "metadata": {},
          "execution_count": 56
        }
      ]
    },
    {
      "cell_type": "markdown",
      "source": [
        "###create a range of tensor and tensor-like---\n"
      ],
      "metadata": {
        "id": "ukNKz3wNzup3"
      }
    },
    {
      "cell_type": "code",
      "source": [
        "#use torch.range()\n",
        "zero_ninty=torch.arange(0,100,10) # start,end,step"
      ],
      "metadata": {
        "id": "AMJ0aaNBz0V5"
      },
      "execution_count": 65,
      "outputs": []
    },
    {
      "cell_type": "code",
      "source": [
        "#creating tensor-like\n",
        "tensor_zero=torch.zeros_like(zero_ninty)\n",
        "tensor_zero"
      ],
      "metadata": {
        "colab": {
          "base_uri": "https://localhost:8080/"
        },
        "id": "wa79S5kD0tgz",
        "outputId": "9498de00-708b-4cb6-966f-32c02f50adac"
      },
      "execution_count": 68,
      "outputs": [
        {
          "output_type": "execute_result",
          "data": {
            "text/plain": [
              "tensor([0, 0, 0, 0, 0, 0, 0, 0, 0, 0])"
            ]
          },
          "metadata": {},
          "execution_count": 68
        }
      ]
    },
    {
      "cell_type": "code",
      "source": [
        "#practice of lookalike:\n",
        "TENSOR=torch.rand(3,4)\n",
        "TENSOR_LOOKALIKE_ZERO=torch.ones_like(TENSOR)\n",
        "TENSOR_LOOKALIKE_ZERO"
      ],
      "metadata": {
        "colab": {
          "base_uri": "https://localhost:8080/"
        },
        "id": "f9k_Jal_111L",
        "outputId": "518bd71a-9eb5-4733-991a-d2d362ac5b9a"
      },
      "execution_count": 71,
      "outputs": [
        {
          "output_type": "execute_result",
          "data": {
            "text/plain": [
              "tensor([[1., 1., 1., 1.],\n",
              "        [1., 1., 1., 1.],\n",
              "        [1., 1., 1., 1.]])"
            ]
          },
          "metadata": {},
          "execution_count": 71
        }
      ]
    },
    {
      "cell_type": "markdown",
      "source": [
        "###tensors Datatype:\n"
      ],
      "metadata": {
        "id": "D0Atk94L2XS2"
      }
    },
    {
      "cell_type": "markdown",
      "source": [
        "**Note** Tensor datatypes is one of the 3 big errors you'll run into with PYtorch & deeplearning:\n",
        "1.Tensors not right datatype.\n",
        "2.Tensors not right shape.\n",
        "3.Tensors not on the right device."
      ],
      "metadata": {
        "id": "ciql-kXg46yQ"
      }
    },
    {
      "cell_type": "code",
      "source": [
        "#float 32 Dtype:\n",
        "float_32_tensor=torch.tensor([3.0,6.0,9.0],dtype=None)\n",
        "float_16_tensor=torch.tensor([3.0,9.0,6.0],\n",
        "                             dtype=torch.float16,#what datatype is the tensor..\n",
        "                             device=None,#None is \"CPU\" by default #what device your tensor is on...\n",
        "                             requires_grad=False #if we want to track gradients of this tensor...\n",
        "                             )\n",
        "float_32_tensor\n",
        "float_32_tensor.dtype ##default datatype for tensors in pytorch is float32\n",
        "float_16_tensor.dtype"
      ],
      "metadata": {
        "colab": {
          "base_uri": "https://localhost:8080/"
        },
        "id": "2scuvjJ32a8_",
        "outputId": "2f517639-f30a-46e5-9af9-d431a98f294d"
      },
      "execution_count": 75,
      "outputs": [
        {
          "output_type": "execute_result",
          "data": {
            "text/plain": [
              "torch.float16"
            ]
          },
          "metadata": {},
          "execution_count": 75
        }
      ]
    },
    {
      "cell_type": "code",
      "source": [
        "#converting float32 tensor to float16 tensor:\n",
        "float_16_tensor_con=float_32_tensor.type(torch.float16)\n",
        "float_16_tensor_con\n",
        "#this help us to tackle the first error that we encounter while using datatpe:\n",
        "#tensor of not same datatype...."
      ],
      "metadata": {
        "colab": {
          "base_uri": "https://localhost:8080/"
        },
        "id": "2afV5IAc3PFk",
        "outputId": "f44bb1fc-e1f6-4652-adb5-2942a747821b"
      },
      "execution_count": 76,
      "outputs": [
        {
          "output_type": "execute_result",
          "data": {
            "text/plain": [
              "tensor([3., 6., 9.], dtype=torch.float16)"
            ]
          },
          "metadata": {},
          "execution_count": 76
        }
      ]
    },
    {
      "cell_type": "code",
      "source": [
        "mul=float_16_tensor*float_32_tensor\n",
        "mul.dtype\n",
        "# In PyTorch, when you perform operations on tensors with different data types,\n",
        "#it automatically promotes them to a common compatible dtype before performing the operation — this is called type promotion or type inference."
      ],
      "metadata": {
        "colab": {
          "base_uri": "https://localhost:8080/"
        },
        "id": "fyZXVxVl7s69",
        "outputId": "42e62662-0a33-4647-9220-9a855e20d634"
      },
      "execution_count": 81,
      "outputs": [
        {
          "output_type": "execute_result",
          "data": {
            "text/plain": [
              "torch.float32"
            ]
          },
          "metadata": {},
          "execution_count": 81
        }
      ]
    }
  ]
}
