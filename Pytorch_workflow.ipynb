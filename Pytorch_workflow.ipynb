{
  "nbformat": 4,
  "nbformat_minor": 0,
  "metadata": {
    "colab": {
      "provenance": [],
      "authorship_tag": "ABX9TyPYStP59Ar4P8qCmav2Mrga",
      "include_colab_link": true
    },
    "kernelspec": {
      "name": "python3",
      "display_name": "Python 3"
    },
    "language_info": {
      "name": "python"
    }
  },
  "cells": [
    {
      "cell_type": "markdown",
      "metadata": {
        "id": "view-in-github",
        "colab_type": "text"
      },
      "source": [
        "<a href=\"https://colab.research.google.com/github/yashraj01-se/Pytorchrepo/blob/main/Pytorch_workflow.ipynb\" target=\"_parent\"><img src=\"https://colab.research.google.com/assets/colab-badge.svg\" alt=\"Open In Colab\"/></a>"
      ]
    },
    {
      "cell_type": "code",
      "execution_count": 117,
      "metadata": {
        "id": "Pfmm4oV6b_ND"
      },
      "outputs": [],
      "source": [
        "#pytorch workflow:\n",
        "#1.get the data ready ->torchvision.tranforms,torch.utils.data.Dataset,torch.utils.data.DataLoader\n",
        "#2.build or pich up a ml and Dl model in pytorch ->torch.nn,torch.nn.Module,torchvision.models\n",
        "#3.fitting the model\n",
        "#4.making prediction(inference)->torchmetrics\n",
        "#5.saving and loading the model->torch.utils.tensorboard\n",
        "#6.putting it all together."
      ]
    },
    {
      "cell_type": "code",
      "source": [
        "import torch\n",
        "from torch import nn #nn conations all of pytorch's building blocks for neural networks\n",
        "import matplotlib.pyplot as plt\n",
        "torch.__version__"
      ],
      "metadata": {
        "colab": {
          "base_uri": "https://localhost:8080/",
          "height": 35
        },
        "id": "fuWCCUJudQPV",
        "outputId": "70026342-d194-4aa6-b54b-ef805ac13413"
      },
      "execution_count": 118,
      "outputs": [
        {
          "output_type": "execute_result",
          "data": {
            "text/plain": [
              "'2.6.0+cu124'"
            ],
            "application/vnd.google.colaboratory.intrinsic+json": {
              "type": "string"
            }
          },
          "metadata": {},
          "execution_count": 118
        }
      ]
    },
    {
      "cell_type": "markdown",
      "source": [
        "#DATA PREPARING AND LOADING:"
      ],
      "metadata": {
        "id": "QVPFJmK4ktDV"
      }
    },
    {
      "cell_type": "code",
      "source": [
        "\n",
        "#data in Ml can be anything:1.excel sheet,audios,text,videos,DNA,images anything...\n",
        "#but ML and Dl is a game of two parts:\n",
        "#1.get data into a numerical representation.\n",
        "#2.Build a model to learn patterns in that numerical representaions.\n",
        "\n",
        "#we will use a linear regression fromula to make a straight line with know parameters.\n",
        "\n"
      ],
      "metadata": {
        "id": "LJqOQjUIeDPm"
      },
      "execution_count": 119,
      "outputs": []
    },
    {
      "cell_type": "markdown",
      "source": [
        "###CREATE:"
      ],
      "metadata": {
        "id": "lcq9lrRCoVN2"
      }
    },
    {
      "cell_type": "code",
      "source": [
        "\n",
        "#y=a+bx\n",
        "#weight will be b and bias will be a..\n",
        "weight=0.7\n",
        "bais=0.3\n",
        "#create:\n",
        "start=0\n",
        "end=1\n",
        "gap=0.02\n",
        "x=torch.arange(start,end,gap).unsqueeze(dim=1)\n",
        "y=weight*x+bais\n",
        "x[:10],y[:10]"
      ],
      "metadata": {
        "colab": {
          "base_uri": "https://localhost:8080/"
        },
        "id": "kiJqx-v6fztc",
        "outputId": "3ba81bfa-90e7-4d17-fbb0-c2e81ff9c597"
      },
      "execution_count": 120,
      "outputs": [
        {
          "output_type": "execute_result",
          "data": {
            "text/plain": [
              "(tensor([[0.0000],\n",
              "         [0.0200],\n",
              "         [0.0400],\n",
              "         [0.0600],\n",
              "         [0.0800],\n",
              "         [0.1000],\n",
              "         [0.1200],\n",
              "         [0.1400],\n",
              "         [0.1600],\n",
              "         [0.1800]]),\n",
              " tensor([[0.3000],\n",
              "         [0.3140],\n",
              "         [0.3280],\n",
              "         [0.3420],\n",
              "         [0.3560],\n",
              "         [0.3700],\n",
              "         [0.3840],\n",
              "         [0.3980],\n",
              "         [0.4120],\n",
              "         [0.4260]]))"
            ]
          },
          "metadata": {},
          "execution_count": 120
        }
      ]
    },
    {
      "cell_type": "code",
      "source": [
        "plt.figure(figsize=(10,4))\n",
        "plt.scatter(x,y,color=\"red\")\n",
        "plt.xlabel(\"x\")\n",
        "plt.ylabel(\"y\")\n",
        "plt.grid()\n",
        "plt.show()"
      ],
      "metadata": {
        "colab": {
          "base_uri": "https://localhost:8080/",
          "height": 388
        },
        "id": "KEsyfBuhmQhz",
        "outputId": "d98ec248-e473-495f-ba79-1805776fae9d"
      },
      "execution_count": 121,
      "outputs": [
        {
          "output_type": "display_data",
          "data": {
            "text/plain": [
              "<Figure size 1000x400 with 1 Axes>"
            ],
            "image/png": "[encoded data removed]"
          },
          "metadata": {}
        }
      ]
    },
    {
      "cell_type": "code",
      "source": [
        "len(x),len(y)"
      ],
      "metadata": {
        "colab": {
          "base_uri": "https://localhost:8080/"
        },
        "id": "Ucqk7puNkijI",
        "outputId": "16001e9a-d002-475f-c771-06dbf781887a"
      },
      "execution_count": 122,
      "outputs": [
        {
          "output_type": "execute_result",
          "data": {
            "text/plain": [
              "(50, 50)"
            ]
          },
          "metadata": {},
          "execution_count": 122
        }
      ]
    },
    {
      "cell_type": "markdown",
      "source": [
        "####train and test split:"
      ],
      "metadata": {
        "id": "1b7WEgkZoZAe"
      }
    },
    {
      "cell_type": "code",
      "source": [
        "\n",
        "train_split=int(0.8*len(x))\n",
        "x_train,y_train=x[:train_split],y[:train_split]\n",
        "x_test,y_test=x[train_split:],y[train_split:]\n",
        "len(x_train),len(y_train),len(x_test),len(y_test)"
      ],
      "metadata": {
        "colab": {
          "base_uri": "https://localhost:8080/"
        },
        "id": "Wgt8wu3wkpUT",
        "outputId": "023dc437-7c0a-434e-89e5-43c2588d555f"
      },
      "execution_count": 123,
      "outputs": [
        {
          "output_type": "execute_result",
          "data": {
            "text/plain": [
              "(40, 40, 10, 10)"
            ]
          },
          "metadata": {},
          "execution_count": 123
        }
      ]
    },
    {
      "cell_type": "code",
      "source": [
        "#better visualizization:\n"
      ],
      "metadata": {
        "id": "c84wcXNknrTW"
      },
      "execution_count": 124,
      "outputs": []
    },
    {
      "cell_type": "code",
      "source": [
        "def plot_prediction(train_data=x_train,\n",
        "                    train_labels=y_train,\n",
        "                    test_data=x_test,\n",
        "                    test_labels=y_test,\n",
        "                    prediction=None):\n",
        "  plt.figure(figsize=(10,7))\n",
        "#plot the training data:\n",
        "  plt.scatter(train_data,train_labels,c=\"b\",s=4,label=\"Training Data\")\n",
        "#plot the testing data:\n",
        "  plt.scatter(test_data,test_labels,c=\"g\",s=4,label=\"Testing Data\")\n",
        "#now if prediction:\n",
        "  if prediction is not None:\n",
        "    plt.scatter(test_data,prediction,c=\"r\",s=4,label=\"Prediction\")\n",
        "  plt.legend(prop={\"size\":14})\n",
        "  plt.show()"
      ],
      "metadata": {
        "id": "_8_BroqXnQ1O"
      },
      "execution_count": 125,
      "outputs": []
    },
    {
      "cell_type": "code",
      "source": [
        "plot_prediction()"
      ],
      "metadata": {
        "colab": {
          "base_uri": "https://localhost:8080/",
          "height": 599
        },
        "id": "Yw2pGS2ZqHG0",
        "outputId": "dd8f89d7-782e-40d8-fd14-1e9536a98202"
      },
      "execution_count": 126,
      "outputs": [
        {
          "output_type": "display_data",
          "data": {
            "text/plain": [
              "<Figure size 1000x700 with 1 Axes>"
            ],
            "image/png": "[encoded data removed]"
          },
          "metadata": {}
        }
      ]
    },
    {
      "cell_type": "markdown",
      "source": [
        "###creating our first pytorch model for linear regression:"
      ],
      "metadata": {
        "id": "y4vXPtrTrWJO"
      }
    },
    {
      "cell_type": "markdown",
      "source": [
        "What our model does:\n",
        "1.start with the random value(weight & bias)\n",
        "2.look at the training data and adjust the random values to better represent (or get closer to)the ideal values (weight & bias values we used to create the data)\n",
        "\n",
        "How does it do it?\n",
        "1.Gradient Descent\n",
        "2.BackPropagation"
      ],
      "metadata": {
        "id": "dnBxvB8uS1x4"
      }
    },
    {
      "cell_type": "markdown",
      "source": [
        "A gradient tells us:\n",
        "\n",
        "“How should we change the numbers inside the model (called weights) to make it better?”\n",
        "\n",
        "Imagine you're climbing down a mountain in the fog, and you want to reach the lowest point (least error). The gradient is like a guide telling you:\n",
        "\n",
        "*Which direction to step in\n",
        "\n",
        "*How big of a step to take\n",
        "\n"
      ],
      "metadata": {
        "id": "MycbekaLWIby"
      }
    },
    {
      "cell_type": "code",
      "source": [
        "import torch\n",
        "from torch import nn\n",
        "class linearRegression(nn.Module):#almost everything is inherited from nn.Module in pytorch...\n",
        "  def __init__(self):\n",
        "    super().__init__()\n",
        "    #initailize the model parameters...\n",
        "    self.weights=nn.Parameter(torch.randn(1,requires_grad=True,dtype=torch.float))\n",
        "    self.bais=nn.Parameter(torch.randn(1,requires_grad=True,dtype=torch.float))\n",
        "\n",
        "    #forward method to define computation in the model..#any subclass of nn.Module require to override forward function....\n",
        "  def forward(self,x:torch.Tensor)->torch.Tensor:#> torch.Tensor is a hint to the user (and tools) about what type of value the function will return.\n",
        "    return self.weights*x+self.bais #this is the actual linear regreggression formula..."
      ],
      "metadata": {
        "id": "vdUhwdqWN6WL"
      },
      "execution_count": 127,
      "outputs": []
    },
    {
      "cell_type": "markdown",
      "source": [
        "###pytorch model building essentials:\n",
        "\n",
        "*torch.nn:basically contains all the building essentials for computational graphs(a neural network can be considered a computational graph)\n",
        "*torch.nn.Parameters:what parameter our model should work on and try to learn.\n",
        "*torch.nn.Module:The base class for all neutral network models,id we subclass it, you need to overwrite the forward method()\n",
        "*torch.optim:This is where all the optimizers reside in pytorch,they will help with the gradient descent\n",
        "*def forword():this method defines what happens in forward computation...  "
      ],
      "metadata": {
        "id": "FE5lL1gkX6i5"
      }
    },
    {
      "cell_type": "code",
      "source": [
        "\n",
        "#first we will create the random seed\n",
        "random_seed=42\n",
        "torch.manual_seed(random_seed)\n",
        "\n",
        "#we will create the instance of the model\n",
        "model_0=linearRegression()\n",
        "list(model_0.parameters())#we can check our model parameters or what inside the model using .parameters()\n",
        "model_0.state_dict()#to represent the parameter in form of dictionary..."
      ],
      "metadata": {
        "colab": {
          "base_uri": "https://localhost:8080/"
        },
        "id": "Hvw_0LHoZJ6Q",
        "outputId": "1d463431-6331-429e-eef6-b82fe7c4f461"
      },
      "execution_count": 128,
      "outputs": [
        {
          "output_type": "execute_result",
          "data": {
            "text/plain": [
              "OrderedDict([('weights', tensor([0.3367])), ('bais', tensor([0.1288]))])"
            ]
          },
          "metadata": {},
          "execution_count": 128
        }
      ]
    },
    {
      "cell_type": "markdown",
      "source": [
        "In deep learning, we start with some random values (weights and biases), and by looking at the dataset, we try to adjust these values step-by-step to get closer to the ideal values that produce accurate predictions.\n",
        "\n",
        "*This process of adjusting is done using:\n",
        "\n",
        "*Loss function (to measure how wrong we are),\n",
        "\n",
        "*Gradients (to know how to change the weights),\n",
        "\n",
        "*and Optimizers (to actually update the weights)."
      ],
      "metadata": {
        "id": "8dOOC0PJeP3K"
      }
    },
    {
      "cell_type": "code",
      "source": [
        "#making prediction in our random model using inference mode:.inference_mode()will help us to run predictions faster..byb telling to only do prediction do not go for fitting or other stuff...\n",
        "with torch.inference_mode():\n",
        "  y_pred=model_0(x_test)\n",
        "\n",
        "y_pred"
      ],
      "metadata": {
        "colab": {
          "base_uri": "https://localhost:8080/"
        },
        "id": "WPoMo5SjeWPp",
        "outputId": "ebd9f336-73b5-4065-deed-a8ce6630d3d8"
      },
      "execution_count": 129,
      "outputs": [
        {
          "output_type": "execute_result",
          "data": {
            "text/plain": [
              "tensor([[0.3982],\n",
              "        [0.4049],\n",
              "        [0.4116],\n",
              "        [0.4184],\n",
              "        [0.4251],\n",
              "        [0.4318],\n",
              "        [0.4386],\n",
              "        [0.4453],\n",
              "        [0.4520],\n",
              "        [0.4588]])"
            ]
          },
          "metadata": {},
          "execution_count": 129
        }
      ]
    },
    {
      "cell_type": "code",
      "source": [
        "plot_prediction(prediction=y_pred)"
      ],
      "metadata": {
        "colab": {
          "base_uri": "https://localhost:8080/",
          "height": 599
        },
        "id": "R15hiHr6jLwI",
        "outputId": "d76b313e-64df-459e-88bf-8f3e658e42a0"
      },
      "execution_count": 130,
      "outputs": [
        {
          "output_type": "display_data",
          "data": {
            "text/plain": [
              "<Figure size 1000x700 with 1 Axes>"
            ],
            "image/png": "[encoded data removed]"
          },
          "metadata": {}
        }
      ]
    },
    {
      "cell_type": "markdown",
      "source": [
        "###Training a Model Intuition:"
      ],
      "metadata": {
        "id": "POFj55IakxVV"
      }
    },
    {
      "cell_type": "code",
      "source": [
        "#The Whole idea of training a model to move from some unknown parameters to some known parameters.\n",
        "#in other words fro a poor representation to a better representation of data..\n",
        "\n",
        "###ONE WAY TO MEASURE HOW POOR OR WRONG OUR MODEL IS PREDICTING IS USING LOSS FUNCTIONS:\n",
        "#LOSS FUNCTION CAN BE ALSO CALLED AS COST FUNCTION OR CRITERION IN DIFFERENT AREAS:"
      ],
      "metadata": {
        "id": "5qqpvheSk336"
      },
      "execution_count": 131,
      "outputs": []
    },
    {
      "cell_type": "markdown",
      "source": [
        "THINGS WE NEED TO TRAIN:\n",
        "1.LOSS FUNCTION:FUNCTION THAT IS USED TO DEFINE HOW WRONG OUR MODEL'S ARE TO THE ACTUAL IDEAL OUTPUTS,LOWER IS BETTER.\n",
        "2.OPTIMIZER:TAKES INTO ACCOUNT THE LOSS OF A MODEL AND ADJUST THE MODEL PARAMETERS TO IMPROVE THE LOSS FUNCTION.\n",
        "\n",
        "AND SPECIFICALLY FOR PYTORCH,WE NEED:\n",
        "1.A TRAINING LOOP\n",
        "2.A TESTING LOOP"
      ],
      "metadata": {
        "id": "XdkC2aiQnfkD"
      }
    },
    {
      "cell_type": "code",
      "source": [
        "#SETTING UP AN OPTIMIZER AND LOSS FUNCTION:\n",
        "#L1LOSS:Creates a criterion that measures the mean absolute error (MAE) between each element in the input X AND TARGET VARIBALE Y.\n",
        "\n",
        "#LOSS FUNCTION:\n",
        "loss_function=nn.L1Loss()\n",
        "\n",
        "#OPTIMIZER:\n",
        "optimizer=torch.optim.SGD(params=model_0.parameters(),#param is the parameter we like to optimize....\n",
        "                          lr=0.01)#learning rate is the rate at which optimizer will make changes in the model at a step...(hyperparameter are the parametrer we as machine learing engineer set for our model)\n"
      ],
      "metadata": {
        "id": "yHExacF2oElc"
      },
      "execution_count": 132,
      "outputs": []
    },
    {
      "cell_type": "markdown",
      "source": [
        "###Building a training loop and testing loop in pytorch :\n"
      ],
      "metadata": {
        "id": "_-oN3AuDcqM4"
      }
    },
    {
      "cell_type": "code",
      "source": [
        "#things we need to remember while working in loop:\n",
        "#0.Loop through the data and do.....->\n",
        "#1.Forward pass(this involves data moving through our models \"forward function()\" to make predictions on data- also called forward propagation)\n",
        "#2.Calculate the loss (compare the forward pass predictions to ground truth labels)\n",
        "#3.Optimizer zero grad\n",
        "#4.loss backward- move backward through the network to calculate the gradients of each of the parameters of our model with respect to the loss(backpropagation)\n",
        "#5.Optimizer step:use the optimizer to adjust our models paramters to try and improve the loss..(gradient decsent)\n",
        "\n",
        "#to strore the loss function value:\n",
        "epoch_count=[]\n",
        "train_loss_value=[]\n",
        "test_loss_value=[]"
      ],
      "metadata": {
        "id": "J9-r2aroculj"
      },
      "execution_count": 133,
      "outputs": []
    },
    {
      "cell_type": "code",
      "source": [
        "torch.manual_seed(42)\n",
        "#An epoch is one loop throgh data:(this is a hypermeter because we set it...)\n",
        "epochs=167\n",
        "#TRAINING LOOP:\n",
        "#0:loop throgh the data:\n",
        "for epoch in range(epochs): #pass the data throgh the model for a number of epochs...\n",
        "  #set the model to traiing mode:\n",
        "  model_0.train()#traning mode in pytorch sets all parameters that requires gradient to require gradients(for low loss function we have to make gradients near to zero)\n",
        "\n",
        "  #1.Forward pass:\n",
        "  y_pred=model_0(x_train)#fprward pass on the training data using the forward method inside th training loop.#learns patterns...\n",
        "\n",
        "  #2.Calculate the loss value using loss function:\n",
        "  loss=loss_function(y_pred,y_train)#input first target next...\n",
        "  print(\"Loss :\",loss)\n",
        "\n",
        "  #3.optimizer zero grad(zero the gradients of the optimizer):\n",
        "  optimizer.zero_grad() #start fresh everytime...\n",
        "\n",
        "  #4.loss backward(back Propagation) with respect to parameter of the model:\n",
        "  loss.backward()\n",
        "\n",
        "  #5.Optimizer Step (perform gradient descent) update the model parameter with respect to the gradient calculated by loss.backward():\n",
        "  optimizer.step() #by default the optimizer will accumulate through the loop so..we have to zero them in above in step 3 for the next iteration of the loop...\n",
        "\n",
        "###testing loop:\n",
        "  model_0.eval() #truns off the different setting in the model not needed for evaluation/testing...\n",
        "  with torch.inference_mode():\n",
        "  #1.forward Pass:\n",
        "    test_pred=model_0(x_test)\n",
        "  #2.calculate the loss:\n",
        "    test_loss=loss_function(test_pred,y_test)\n",
        "  if epoch%10==0:\n",
        "    epoch_count.append(epoch)\n",
        "    train_loss_value.append(loss)\n",
        "    test_loss_value.append(test_loss)\n",
        "    print(f\"Epoch:{epoch} | Loss:{loss} |Test loss:{test_loss}\")\n",
        "    print(model_0.state_dict())"
      ],
      "metadata": {
        "colab": {
          "base_uri": "https://localhost:8080/"
        },
        "collapsed": true,
        "id": "EonU7q7Sf8As",
        "outputId": "40666863-447e-4208-bff2-4712a4808ecd"
      },
      "execution_count": 134,
      "outputs": [
        {
          "output_type": "stream",
          "name": "stdout",
          "text": [
            "Loss : tensor(0.3129, grad_fn=<MeanBackward0>)\n",
            "Epoch:0 | Loss:0.31288138031959534 |Test loss:0.48106518387794495\n",
            "OrderedDict([('weights', tensor([0.3406])), ('bais', tensor([0.1388]))])\n",
            "Loss : tensor(0.3014, grad_fn=<MeanBackward0>)\n",
            "Loss : tensor(0.2898, grad_fn=<MeanBackward0>)\n",
            "Loss : tensor(0.2783, grad_fn=<MeanBackward0>)\n",
            "Loss : tensor(0.2668, grad_fn=<MeanBackward0>)\n",
            "Loss : tensor(0.2553, grad_fn=<MeanBackward0>)\n",
            "Loss : tensor(0.2438, grad_fn=<MeanBackward0>)\n",
            "Loss : tensor(0.2322, grad_fn=<MeanBackward0>)\n",
            "Loss : tensor(0.2207, grad_fn=<MeanBackward0>)\n",
            "Loss : tensor(0.2092, grad_fn=<MeanBackward0>)\n",
            "Loss : tensor(0.1977, grad_fn=<MeanBackward0>)\n",
            "Epoch:10 | Loss:0.1976713240146637 |Test loss:0.3463551998138428\n",
            "OrderedDict([('weights', tensor([0.3796])), ('bais', tensor([0.2388]))])\n",
            "Loss : tensor(0.1862, grad_fn=<MeanBackward0>)\n",
            "Loss : tensor(0.1746, grad_fn=<MeanBackward0>)\n",
            "Loss : tensor(0.1631, grad_fn=<MeanBackward0>)\n",
            "Loss : tensor(0.1516, grad_fn=<MeanBackward0>)\n",
            "Loss : tensor(0.1401, grad_fn=<MeanBackward0>)\n",
            "Loss : tensor(0.1285, grad_fn=<MeanBackward0>)\n",
            "Loss : tensor(0.1170, grad_fn=<MeanBackward0>)\n",
            "Loss : tensor(0.1061, grad_fn=<MeanBackward0>)\n",
            "Loss : tensor(0.0968, grad_fn=<MeanBackward0>)\n",
            "Loss : tensor(0.0891, grad_fn=<MeanBackward0>)\n",
            "Epoch:20 | Loss:0.08908725529909134 |Test loss:0.21729660034179688\n",
            "OrderedDict([('weights', tensor([0.4184])), ('bais', tensor([0.3333]))])\n",
            "Loss : tensor(0.0823, grad_fn=<MeanBackward0>)\n",
            "Loss : tensor(0.0764, grad_fn=<MeanBackward0>)\n",
            "Loss : tensor(0.0716, grad_fn=<MeanBackward0>)\n",
            "Loss : tensor(0.0675, grad_fn=<MeanBackward0>)\n",
            "Loss : tensor(0.0640, grad_fn=<MeanBackward0>)\n",
            "Loss : tensor(0.0610, grad_fn=<MeanBackward0>)\n",
            "Loss : tensor(0.0585, grad_fn=<MeanBackward0>)\n",
            "Loss : tensor(0.0564, grad_fn=<MeanBackward0>)\n",
            "Loss : tensor(0.0546, grad_fn=<MeanBackward0>)\n",
            "Loss : tensor(0.0531, grad_fn=<MeanBackward0>)\n",
            "Epoch:30 | Loss:0.053148526698350906 |Test loss:0.14464017748832703\n",
            "OrderedDict([('weights', tensor([0.4512])), ('bais', tensor([0.3768]))])\n",
            "Loss : tensor(0.0518, grad_fn=<MeanBackward0>)\n",
            "Loss : tensor(0.0507, grad_fn=<MeanBackward0>)\n",
            "Loss : tensor(0.0498, grad_fn=<MeanBackward0>)\n",
            "Loss : tensor(0.0490, grad_fn=<MeanBackward0>)\n",
            "Loss : tensor(0.0482, grad_fn=<MeanBackward0>)\n",
            "Loss : tensor(0.0475, grad_fn=<MeanBackward0>)\n",
            "Loss : tensor(0.0469, grad_fn=<MeanBackward0>)\n",
            "Loss : tensor(0.0464, grad_fn=<MeanBackward0>)\n",
            "Loss : tensor(0.0459, grad_fn=<MeanBackward0>)\n",
            "Loss : tensor(0.0454, grad_fn=<MeanBackward0>)\n",
            "Epoch:40 | Loss:0.04543796554207802 |Test loss:0.11360953003168106\n",
            "OrderedDict([('weights', tensor([0.4748])), ('bais', tensor([0.3868]))])\n",
            "Loss : tensor(0.0450, grad_fn=<MeanBackward0>)\n",
            "Loss : tensor(0.0446, grad_fn=<MeanBackward0>)\n",
            "Loss : tensor(0.0442, grad_fn=<MeanBackward0>)\n",
            "Loss : tensor(0.0438, grad_fn=<MeanBackward0>)\n",
            "Loss : tensor(0.0434, grad_fn=<MeanBackward0>)\n",
            "Loss : tensor(0.0431, grad_fn=<MeanBackward0>)\n",
            "Loss : tensor(0.0427, grad_fn=<MeanBackward0>)\n",
            "Loss : tensor(0.0424, grad_fn=<MeanBackward0>)\n",
            "Loss : tensor(0.0420, grad_fn=<MeanBackward0>)\n",
            "Loss : tensor(0.0417, grad_fn=<MeanBackward0>)\n",
            "Epoch:50 | Loss:0.04167863354086876 |Test loss:0.09919948130846024\n",
            "OrderedDict([('weights', tensor([0.4938])), ('bais', tensor([0.3843]))])\n",
            "Loss : tensor(0.0413, grad_fn=<MeanBackward0>)\n",
            "Loss : tensor(0.0410, grad_fn=<MeanBackward0>)\n",
            "Loss : tensor(0.0406, grad_fn=<MeanBackward0>)\n",
            "Loss : tensor(0.0403, grad_fn=<MeanBackward0>)\n",
            "Loss : tensor(0.0399, grad_fn=<MeanBackward0>)\n",
            "Loss : tensor(0.0396, grad_fn=<MeanBackward0>)\n",
            "Loss : tensor(0.0392, grad_fn=<MeanBackward0>)\n",
            "Loss : tensor(0.0389, grad_fn=<MeanBackward0>)\n",
            "Loss : tensor(0.0385, grad_fn=<MeanBackward0>)\n",
            "Loss : tensor(0.0382, grad_fn=<MeanBackward0>)\n",
            "Epoch:60 | Loss:0.03818932920694351 |Test loss:0.08886633068323135\n",
            "OrderedDict([('weights', tensor([0.5116])), ('bais', tensor([0.3788]))])\n",
            "Loss : tensor(0.0379, grad_fn=<MeanBackward0>)\n",
            "Loss : tensor(0.0375, grad_fn=<MeanBackward0>)\n",
            "Loss : tensor(0.0372, grad_fn=<MeanBackward0>)\n",
            "Loss : tensor(0.0368, grad_fn=<MeanBackward0>)\n",
            "Loss : tensor(0.0365, grad_fn=<MeanBackward0>)\n",
            "Loss : tensor(0.0361, grad_fn=<MeanBackward0>)\n",
            "Loss : tensor(0.0358, grad_fn=<MeanBackward0>)\n",
            "Loss : tensor(0.0354, grad_fn=<MeanBackward0>)\n",
            "Loss : tensor(0.0351, grad_fn=<MeanBackward0>)\n",
            "Loss : tensor(0.0348, grad_fn=<MeanBackward0>)\n",
            "Epoch:70 | Loss:0.03476089984178543 |Test loss:0.0805937647819519\n",
            "OrderedDict([('weights', tensor([0.5288])), ('bais', tensor([0.3718]))])\n",
            "Loss : tensor(0.0344, grad_fn=<MeanBackward0>)\n",
            "Loss : tensor(0.0341, grad_fn=<MeanBackward0>)\n",
            "Loss : tensor(0.0337, grad_fn=<MeanBackward0>)\n",
            "Loss : tensor(0.0334, grad_fn=<MeanBackward0>)\n",
            "Loss : tensor(0.0330, grad_fn=<MeanBackward0>)\n",
            "Loss : tensor(0.0327, grad_fn=<MeanBackward0>)\n",
            "Loss : tensor(0.0324, grad_fn=<MeanBackward0>)\n",
            "Loss : tensor(0.0320, grad_fn=<MeanBackward0>)\n",
            "Loss : tensor(0.0317, grad_fn=<MeanBackward0>)\n",
            "Loss : tensor(0.0313, grad_fn=<MeanBackward0>)\n",
            "Epoch:80 | Loss:0.03132382780313492 |Test loss:0.07232122868299484\n",
            "OrderedDict([('weights', tensor([0.5459])), ('bais', tensor([0.3648]))])\n",
            "Loss : tensor(0.0310, grad_fn=<MeanBackward0>)\n",
            "Loss : tensor(0.0306, grad_fn=<MeanBackward0>)\n",
            "Loss : tensor(0.0303, grad_fn=<MeanBackward0>)\n",
            "Loss : tensor(0.0300, grad_fn=<MeanBackward0>)\n",
            "Loss : tensor(0.0296, grad_fn=<MeanBackward0>)\n",
            "Loss : tensor(0.0293, grad_fn=<MeanBackward0>)\n",
            "Loss : tensor(0.0289, grad_fn=<MeanBackward0>)\n",
            "Loss : tensor(0.0286, grad_fn=<MeanBackward0>)\n",
            "Loss : tensor(0.0282, grad_fn=<MeanBackward0>)\n",
            "Loss : tensor(0.0279, grad_fn=<MeanBackward0>)\n",
            "Epoch:90 | Loss:0.02788739837706089 |Test loss:0.06473556160926819\n",
            "OrderedDict([('weights', tensor([0.5629])), ('bais', tensor([0.3573]))])\n",
            "Loss : tensor(0.0275, grad_fn=<MeanBackward0>)\n",
            "Loss : tensor(0.0272, grad_fn=<MeanBackward0>)\n",
            "Loss : tensor(0.0269, grad_fn=<MeanBackward0>)\n",
            "Loss : tensor(0.0265, grad_fn=<MeanBackward0>)\n",
            "Loss : tensor(0.0262, grad_fn=<MeanBackward0>)\n",
            "Loss : tensor(0.0258, grad_fn=<MeanBackward0>)\n",
            "Loss : tensor(0.0255, grad_fn=<MeanBackward0>)\n",
            "Loss : tensor(0.0251, grad_fn=<MeanBackward0>)\n",
            "Loss : tensor(0.0248, grad_fn=<MeanBackward0>)\n",
            "Loss : tensor(0.0245, grad_fn=<MeanBackward0>)\n",
            "Epoch:100 | Loss:0.024458957836031914 |Test loss:0.05646304413676262\n",
            "OrderedDict([('weights', tensor([0.5800])), ('bais', tensor([0.3503]))])\n",
            "Loss : tensor(0.0241, grad_fn=<MeanBackward0>)\n",
            "Loss : tensor(0.0238, grad_fn=<MeanBackward0>)\n",
            "Loss : tensor(0.0234, grad_fn=<MeanBackward0>)\n",
            "Loss : tensor(0.0231, grad_fn=<MeanBackward0>)\n",
            "Loss : tensor(0.0227, grad_fn=<MeanBackward0>)\n",
            "Loss : tensor(0.0224, grad_fn=<MeanBackward0>)\n",
            "Loss : tensor(0.0221, grad_fn=<MeanBackward0>)\n",
            "Loss : tensor(0.0217, grad_fn=<MeanBackward0>)\n",
            "Loss : tensor(0.0214, grad_fn=<MeanBackward0>)\n",
            "Loss : tensor(0.0210, grad_fn=<MeanBackward0>)\n",
            "Epoch:110 | Loss:0.021020207554101944 |Test loss:0.04819049686193466\n",
            "OrderedDict([('weights', tensor([0.5972])), ('bais', tensor([0.3433]))])\n",
            "Loss : tensor(0.0207, grad_fn=<MeanBackward0>)\n",
            "Loss : tensor(0.0203, grad_fn=<MeanBackward0>)\n",
            "Loss : tensor(0.0200, grad_fn=<MeanBackward0>)\n",
            "Loss : tensor(0.0196, grad_fn=<MeanBackward0>)\n",
            "Loss : tensor(0.0193, grad_fn=<MeanBackward0>)\n",
            "Loss : tensor(0.0190, grad_fn=<MeanBackward0>)\n",
            "Loss : tensor(0.0186, grad_fn=<MeanBackward0>)\n",
            "Loss : tensor(0.0183, grad_fn=<MeanBackward0>)\n",
            "Loss : tensor(0.0179, grad_fn=<MeanBackward0>)\n",
            "Loss : tensor(0.0176, grad_fn=<MeanBackward0>)\n",
            "Epoch:120 | Loss:0.01758546568453312 |Test loss:0.04060482233762741\n",
            "OrderedDict([('weights', tensor([0.6141])), ('bais', tensor([0.3358]))])\n",
            "Loss : tensor(0.0172, grad_fn=<MeanBackward0>)\n",
            "Loss : tensor(0.0169, grad_fn=<MeanBackward0>)\n",
            "Loss : tensor(0.0166, grad_fn=<MeanBackward0>)\n",
            "Loss : tensor(0.0162, grad_fn=<MeanBackward0>)\n",
            "Loss : tensor(0.0159, grad_fn=<MeanBackward0>)\n",
            "Loss : tensor(0.0155, grad_fn=<MeanBackward0>)\n",
            "Loss : tensor(0.0152, grad_fn=<MeanBackward0>)\n",
            "Loss : tensor(0.0148, grad_fn=<MeanBackward0>)\n",
            "Loss : tensor(0.0145, grad_fn=<MeanBackward0>)\n",
            "Loss : tensor(0.0142, grad_fn=<MeanBackward0>)\n",
            "Epoch:130 | Loss:0.014155393466353416 |Test loss:0.03233227878808975\n",
            "OrderedDict([('weights', tensor([0.6313])), ('bais', tensor([0.3288]))])\n",
            "Loss : tensor(0.0138, grad_fn=<MeanBackward0>)\n",
            "Loss : tensor(0.0135, grad_fn=<MeanBackward0>)\n",
            "Loss : tensor(0.0131, grad_fn=<MeanBackward0>)\n",
            "Loss : tensor(0.0128, grad_fn=<MeanBackward0>)\n",
            "Loss : tensor(0.0124, grad_fn=<MeanBackward0>)\n",
            "Loss : tensor(0.0121, grad_fn=<MeanBackward0>)\n",
            "Loss : tensor(0.0118, grad_fn=<MeanBackward0>)\n",
            "Loss : tensor(0.0114, grad_fn=<MeanBackward0>)\n",
            "Loss : tensor(0.0111, grad_fn=<MeanBackward0>)\n",
            "Loss : tensor(0.0107, grad_fn=<MeanBackward0>)\n",
            "Epoch:140 | Loss:0.010716589167714119 |Test loss:0.024059748277068138\n",
            "OrderedDict([('weights', tensor([0.6485])), ('bais', tensor([0.3218]))])\n",
            "Loss : tensor(0.0104, grad_fn=<MeanBackward0>)\n",
            "Loss : tensor(0.0100, grad_fn=<MeanBackward0>)\n",
            "Loss : tensor(0.0097, grad_fn=<MeanBackward0>)\n",
            "Loss : tensor(0.0093, grad_fn=<MeanBackward0>)\n",
            "Loss : tensor(0.0090, grad_fn=<MeanBackward0>)\n",
            "Loss : tensor(0.0087, grad_fn=<MeanBackward0>)\n",
            "Loss : tensor(0.0083, grad_fn=<MeanBackward0>)\n",
            "Loss : tensor(0.0080, grad_fn=<MeanBackward0>)\n",
            "Loss : tensor(0.0076, grad_fn=<MeanBackward0>)\n",
            "Loss : tensor(0.0073, grad_fn=<MeanBackward0>)\n",
            "Epoch:150 | Loss:0.0072835334576666355 |Test loss:0.016474086791276932\n",
            "OrderedDict([('weights', tensor([0.6654])), ('bais', tensor([0.3143]))])\n",
            "Loss : tensor(0.0069, grad_fn=<MeanBackward0>)\n",
            "Loss : tensor(0.0066, grad_fn=<MeanBackward0>)\n",
            "Loss : tensor(0.0063, grad_fn=<MeanBackward0>)\n",
            "Loss : tensor(0.0059, grad_fn=<MeanBackward0>)\n",
            "Loss : tensor(0.0056, grad_fn=<MeanBackward0>)\n",
            "Loss : tensor(0.0052, grad_fn=<MeanBackward0>)\n",
            "Loss : tensor(0.0049, grad_fn=<MeanBackward0>)\n",
            "Loss : tensor(0.0045, grad_fn=<MeanBackward0>)\n",
            "Loss : tensor(0.0042, grad_fn=<MeanBackward0>)\n",
            "Loss : tensor(0.0039, grad_fn=<MeanBackward0>)\n",
            "Epoch:160 | Loss:0.0038517764769494534 |Test loss:0.008201557211577892\n",
            "OrderedDict([('weights', tensor([0.6826])), ('bais', tensor([0.3073]))])\n",
            "Loss : tensor(0.0035, grad_fn=<MeanBackward0>)\n",
            "Loss : tensor(0.0032, grad_fn=<MeanBackward0>)\n",
            "Loss : tensor(0.0028, grad_fn=<MeanBackward0>)\n",
            "Loss : tensor(0.0025, grad_fn=<MeanBackward0>)\n",
            "Loss : tensor(0.0021, grad_fn=<MeanBackward0>)\n",
            "Loss : tensor(0.0018, grad_fn=<MeanBackward0>)\n"
          ]
        }
      ]
    },
    {
      "cell_type": "code",
      "source": [
        "import numpy as np\n",
        "plt.figure(figsize=(10,4))\n",
        "plt.plot(epoch_count,np.array(torch.tensor(train_loss_value).cpu().numpy()),label=\"training loss\")\n",
        "plt.plot(epoch_count,np.array(torch.tensor(test_loss_value).cpu().numpy()),label=\"testing loss\")\n",
        "plt.title(\"Training and testing curve\")\n",
        "plt.xlabel(\"epochs\")\n",
        "plt.ylabel(\"loss\")\n",
        "plt.legend()\n",
        "plt.show()"
      ],
      "metadata": {
        "colab": {
          "base_uri": "https://localhost:8080/",
          "height": 410
        },
        "id": "pC3Rz3rZJd6e",
        "outputId": "efae3f93-6d0d-478e-b8c1-241e90ad9cc7"
      },
      "execution_count": 141,
      "outputs": [
        {
          "output_type": "display_data",
          "data": {
            "text/plain": [
              "<Figure size 1000x400 with 1 Axes>"
            ],
            "image/png": "[encoded data removed]"
          },
          "metadata": {}
        }
      ]
    },
    {
      "cell_type": "code",
      "source": [
        "with torch.inference_mode():#truns off gradient tracking:\n",
        "  y_pred=model_0(x_test)\n",
        "y_pred"
      ],
      "metadata": {
        "colab": {
          "base_uri": "https://localhost:8080/"
        },
        "id": "lXUu7n0Hw8ee",
        "outputId": "8264b488-8863-4ee8-80d8-121b6443fbe6"
      },
      "execution_count": 135,
      "outputs": [
        {
          "output_type": "execute_result",
          "data": {
            "text/plain": [
              "tensor([[0.8570],\n",
              "        [0.8709],\n",
              "        [0.8847],\n",
              "        [0.8986],\n",
              "        [0.9124],\n",
              "        [0.9263],\n",
              "        [0.9401],\n",
              "        [0.9540],\n",
              "        [0.9678],\n",
              "        [0.9817]])"
            ]
          },
          "metadata": {},
          "execution_count": 135
        }
      ]
    },
    {
      "cell_type": "code",
      "source": [
        "plot_prediction(prediction=y_pred)"
      ],
      "metadata": {
        "colab": {
          "base_uri": "https://localhost:8080/",
          "height": 599
        },
        "id": "2tpeem2ExIav",
        "outputId": "5632e4db-d3dd-4bc4-ff38-698feaeeb928"
      },
      "execution_count": 136,
      "outputs": [
        {
          "output_type": "display_data",
          "data": {
            "text/plain": [
              "<Figure size 1000x700 with 1 Axes>"
            ],
            "image/png": "[encoded data removed]"
          },
          "metadata": {}
        }
      ]
    },
    {
      "cell_type": "code",
      "source": [
        "model_0.state_dict()"
      ],
      "metadata": {
        "colab": {
          "base_uri": "https://localhost:8080/"
        },
        "id": "s1VYKs-BwH4y",
        "outputId": "59a4c1b4-270f-4ce9-8995-caf8f385339f"
      },
      "execution_count": 137,
      "outputs": [
        {
          "output_type": "execute_result",
          "data": {
            "text/plain": [
              "OrderedDict([('weights', tensor([0.6927])), ('bais', tensor([0.3028]))])"
            ]
          },
          "metadata": {},
          "execution_count": 137
        }
      ]
    },
    {
      "cell_type": "markdown",
      "source": [
        "###save our model:\n"
      ],
      "metadata": {
        "id": "bJuToFnEMk8X"
      }
    },
    {
      "cell_type": "code",
      "source": [
        "#there are three main methods that is needed for and loading models in pytorch.\n",
        "#1.'torch.save()'- allows us to save our pytorch object in python's pickle format.\n",
        "#2.'torch.load()'- allow us to load a saved pytorch object.\n",
        "#3.'torch.nn.Module.load_state_dict()'- this allow us to load a model's saved state dictionary..\n",
        "#Method\tPros\tCons\n",
        "#torch.save(model)\tSimple, saves everything\tNot portable, breaks if code changes or moves\n",
        "#torch.save(model.state_dict())\tRobust, portable, avoids pickle issues, more common\tRequires re-defining the model class before loading\n",
        "\n",
        "#import to load and save:\n",
        "from pathlib import Path\n",
        "#1.create the directory:\n",
        "Model_dic=Path(\"models\")\n",
        "Model_dic.mkdir(parents=True,exist_ok=True)\n",
        "\n",
        "#2.cresting the path:\n",
        "model_name=\"first_pytorch_model.pth\"\n",
        "#now in which sytax:\n",
        "model_save_path=Model_dic/model_name\n",
        "\n",
        "#3.save the model:\n",
        "torch.save(obj=model_0.state_dict(),f=model_save_path)\n"
      ],
      "metadata": {
        "id": "BVZw5CHyMptu"
      },
      "execution_count": 142,
      "outputs": []
    },
    {
      "cell_type": "markdown",
      "source": [
        "###load our model:"
      ],
      "metadata": {
        "id": "AuN4xLXcSpxx"
      }
    },
    {
      "cell_type": "code",
      "source": [
        "#we will create a new instance of our class model and load the saved state_dict() into it...\n",
        "#create a new instance:\n",
        "loaded_model=linearRegression()\n",
        "#load the saved state_dict:\n",
        "loaded_model.load_state_dict(torch.load(f=model_save_path))\n",
        "loaded_model.state_dict()"
      ],
      "metadata": {
        "colab": {
          "base_uri": "https://localhost:8080/"
        },
        "id": "9iEh_ImGStrg",
        "outputId": "974b4434-26da-42ac-ffa7-c73635d51d7d"
      },
      "execution_count": 144,
      "outputs": [
        {
          "output_type": "execute_result",
          "data": {
            "text/plain": [
              "OrderedDict([('weights', tensor([0.6927])), ('bais', tensor([0.3028]))])"
            ]
          },
          "metadata": {},
          "execution_count": 144
        }
      ]
    },
    {
      "cell_type": "code",
      "source": [
        "#making some prediction with loaded model:\n",
        "loaded_model.eval()\n",
        "with torch.inference_mode():\n",
        "  y_pred_load=loaded_model(x_test)\n",
        "y_pred_load"
      ],
      "metadata": {
        "colab": {
          "base_uri": "https://localhost:8080/"
        },
        "id": "UhPrJ9GeVJ9-",
        "outputId": "bfd0aa03-0fba-4f3d-a177-7a21458424d3"
      },
      "execution_count": 148,
      "outputs": [
        {
          "output_type": "execute_result",
          "data": {
            "text/plain": [
              "tensor([[0.8570],\n",
              "        [0.8709],\n",
              "        [0.8847],\n",
              "        [0.8986],\n",
              "        [0.9124],\n",
              "        [0.9263],\n",
              "        [0.9401],\n",
              "        [0.9540],\n",
              "        [0.9678],\n",
              "        [0.9817]])"
            ]
          },
          "metadata": {},
          "execution_count": 148
        }
      ]
    },
    {
      "cell_type": "code",
      "source": [
        "plot_prediction(prediction=y_pred)"
      ],
      "metadata": {
        "colab": {
          "base_uri": "https://localhost:8080/",
          "height": 599
        },
        "id": "pmjcxrENVlaV",
        "outputId": "19056861-0049-49ae-a6fe-9212dc6c8283"
      },
      "execution_count": 149,
      "outputs": [
        {
          "output_type": "display_data",
          "data": {
            "text/plain": [
              "<Figure size 1000x700 with 1 Axes>"
            ],
            "image/png": "[encoded data removed]"
          },
          "metadata": {}
        }
      ]
    },
    {
      "cell_type": "code",
      "source": [
        "y_pred== y_pred_load"
      ],
      "metadata": {
        "colab": {
          "base_uri": "https://localhost:8080/"
        },
        "id": "V_1nMTz3V0Py",
        "outputId": "680b1ca3-16e6-46bc-f754-37ae547415e2"
      },
      "execution_count": 150,
      "outputs": [
        {
          "output_type": "execute_result",
          "data": {
            "text/plain": [
              "tensor([[True],\n",
              "        [True],\n",
              "        [True],\n",
              "        [True],\n",
              "        [True],\n",
              "        [True],\n",
              "        [True],\n",
              "        [True],\n",
              "        [True],\n",
              "        [True]])"
            ]
          },
          "metadata": {},
          "execution_count": 150
        }
      ]
    }
  ]
}