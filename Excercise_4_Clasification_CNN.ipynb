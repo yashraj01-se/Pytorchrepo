{
  "nbformat": 4,
  "nbformat_minor": 0,
  "metadata": {
    "colab": {
      "provenance": [],
      "gpuType": "T4",
      "authorship_tag": "ABX9TyN34vi3OzeJXOzsT+MqxZoG",
      "include_colab_link": true
    },
    "kernelspec": {
      "name": "python3",
      "display_name": "Python 3"
    },
    "language_info": {
      "name": "python"
    },
    "accelerator": "GPU",
    "widgets": {
      "application/vnd.jupyter.widget-state+json": {
        "98ae45fd8e72407689aacbd2a8442020": {
          "model_module": "@jupyter-widgets/controls",
          "model_name": "HBoxModel",
          "model_module_version": "1.5.0",
          "state": {
            "_dom_classes": [],
            "_model_module": "@jupyter-widgets/controls",
            "_model_module_version": "1.5.0",
            "_model_name": "HBoxModel",
            "_view_count": null,
            "_view_module": "@jupyter-widgets/controls",
            "_view_module_version": "1.5.0",
            "_view_name": "HBoxView",
            "box_style": "",
            "children": [
              "IPY_MODEL_ec7b58fa2bda4d1c8de56f15dc9033ce",
              "IPY_MODEL_978d73701ac74ee0bff1cfc91204a1a3",
              "IPY_MODEL_843b17cd57ac4c08834f928e15784f2d"
            ],
            "layout": "IPY_MODEL_a74f13b0a34c43f3ad524f865eec1923"
          }
        },
        "ec7b58fa2bda4d1c8de56f15dc9033ce": {
          "model_module": "@jupyter-widgets/controls",
          "model_name": "HTMLModel",
          "model_module_version": "1.5.0",
          "state": {
            "_dom_classes": [],
            "_model_module": "@jupyter-widgets/controls",
            "_model_module_version": "1.5.0",
            "_model_name": "HTMLModel",
            "_view_count": null,
            "_view_module": "@jupyter-widgets/controls",
            "_view_module_version": "1.5.0",
            "_view_name": "HTMLView",
            "description": "",
            "description_tooltip": null,
            "layout": "IPY_MODEL_d55d7f18a2694612a601ebdb4d9d708f",
            "placeholder": "​",
            "style": "IPY_MODEL_378a0585f3ab4a4bb22829f7f35df15b",
            "value": "100%"
          }
        },
        "978d73701ac74ee0bff1cfc91204a1a3": {
          "model_module": "@jupyter-widgets/controls",
          "model_name": "FloatProgressModel",
          "model_module_version": "1.5.0",
          "state": {
            "_dom_classes": [],
            "_model_module": "@jupyter-widgets/controls",
            "_model_module_version": "1.5.0",
            "_model_name": "FloatProgressModel",
            "_view_count": null,
            "_view_module": "@jupyter-widgets/controls",
            "_view_module_version": "1.5.0",
            "_view_name": "ProgressView",
            "bar_style": "success",
            "description": "",
            "description_tooltip": null,
            "layout": "IPY_MODEL_95a75f861a824a81bdb8e0dec615c03c",
            "max": 3,
            "min": 0,
            "orientation": "horizontal",
            "style": "IPY_MODEL_ba048e885c2e4034a91cb7cf5d89b2e6",
            "value": 3
          }
        },
        "843b17cd57ac4c08834f928e15784f2d": {
          "model_module": "@jupyter-widgets/controls",
          "model_name": "HTMLModel",
          "model_module_version": "1.5.0",
          "state": {
            "_dom_classes": [],
            "_model_module": "@jupyter-widgets/controls",
            "_model_module_version": "1.5.0",
            "_model_name": "HTMLModel",
            "_view_count": null,
            "_view_module": "@jupyter-widgets/controls",
            "_view_module_version": "1.5.0",
            "_view_name": "HTMLView",
            "description": "",
            "description_tooltip": null,
            "layout": "IPY_MODEL_e0e89f69681246ce8ceebc0d1cd3388c",
            "placeholder": "​",
            "style": "IPY_MODEL_8a96e39ffb56430db1545a07e2fa7ab9",
            "value": " 3/3 [00:39&lt;00:00, 13.00s/it]"
          }
        },
        "a74f13b0a34c43f3ad524f865eec1923": {
          "model_module": "@jupyter-widgets/base",
          "model_name": "LayoutModel",
          "model_module_version": "1.2.0",
          "state": {
            "_model_module": "@jupyter-widgets/base",
            "_model_module_version": "1.2.0",
            "_model_name": "LayoutModel",
            "_view_count": null,
            "_view_module": "@jupyter-widgets/base",
            "_view_module_version": "1.2.0",
            "_view_name": "LayoutView",
            "align_content": null,
            "align_items": null,
            "align_self": null,
            "border": null,
            "bottom": null,
            "display": null,
            "flex": null,
            "flex_flow": null,
            "grid_area": null,
            "grid_auto_columns": null,
            "grid_auto_flow": null,
            "grid_auto_rows": null,
            "grid_column": null,
            "grid_gap": null,
            "grid_row": null,
            "grid_template_areas": null,
            "grid_template_columns": null,
            "grid_template_rows": null,
            "height": null,
            "justify_content": null,
            "justify_items": null,
            "left": null,
            "margin": null,
            "max_height": null,
            "max_width": null,
            "min_height": null,
            "min_width": null,
            "object_fit": null,
            "object_position": null,
            "order": null,
            "overflow": null,
            "overflow_x": null,
            "overflow_y": null,
            "padding": null,
            "right": null,
            "top": null,
            "visibility": null,
            "width": null
          }
        },
        "d55d7f18a2694612a601ebdb4d9d708f": {
          "model_module": "@jupyter-widgets/base",
          "model_name": "LayoutModel",
          "model_module_version": "1.2.0",
          "state": {
            "_model_module": "@jupyter-widgets/base",
            "_model_module_version": "1.2.0",
            "_model_name": "LayoutModel",
            "_view_count": null,
            "_view_module": "@jupyter-widgets/base",
            "_view_module_version": "1.2.0",
            "_view_name": "LayoutView",
            "align_content": null,
            "align_items": null,
            "align_self": null,
            "border": null,
            "bottom": null,
            "display": null,
            "flex": null,
            "flex_flow": null,
            "grid_area": null,
            "grid_auto_columns": null,
            "grid_auto_flow": null,
            "grid_auto_rows": null,
            "grid_column": null,
            "grid_gap": null,
            "grid_row": null,
            "grid_template_areas": null,
            "grid_template_columns": null,
            "grid_template_rows": null,
            "height": null,
            "justify_content": null,
            "justify_items": null,
            "left": null,
            "margin": null,
            "max_height": null,
            "max_width": null,
            "min_height": null,
            "min_width": null,
            "object_fit": null,
            "object_position": null,
            "order": null,
            "overflow": null,
            "overflow_x": null,
            "overflow_y": null,
            "padding": null,
            "right": null,
            "top": null,
            "visibility": null,
            "width": null
          }
        },
        "378a0585f3ab4a4bb22829f7f35df15b": {
          "model_module": "@jupyter-widgets/controls",
          "model_name": "DescriptionStyleModel",
          "model_module_version": "1.5.0",
          "state": {
            "_model_module": "@jupyter-widgets/controls",
            "_model_module_version": "1.5.0",
            "_model_name": "DescriptionStyleModel",
            "_view_count": null,
            "_view_module": "@jupyter-widgets/base",
            "_view_module_version": "1.2.0",
            "_view_name": "StyleView",
            "description_width": ""
          }
        },
        "95a75f861a824a81bdb8e0dec615c03c": {
          "model_module": "@jupyter-widgets/base",
          "model_name": "LayoutModel",
          "model_module_version": "1.2.0",
          "state": {
            "_model_module": "@jupyter-widgets/base",
            "_model_module_version": "1.2.0",
            "_model_name": "LayoutModel",
            "_view_count": null,
            "_view_module": "@jupyter-widgets/base",
            "_view_module_version": "1.2.0",
            "_view_name": "LayoutView",
            "align_content": null,
            "align_items": null,
            "align_self": null,
            "border": null,
            "bottom": null,
            "display": null,
            "flex": null,
            "flex_flow": null,
            "grid_area": null,
            "grid_auto_columns": null,
            "grid_auto_flow": null,
            "grid_auto_rows": null,
            "grid_column": null,
            "grid_gap": null,
            "grid_row": null,
            "grid_template_areas": null,
            "grid_template_columns": null,
            "grid_template_rows": null,
            "height": null,
            "justify_content": null,
            "justify_items": null,
            "left": null,
            "margin": null,
            "max_height": null,
            "max_width": null,
            "min_height": null,
            "min_width": null,
            "object_fit": null,
            "object_position": null,
            "order": null,
            "overflow": null,
            "overflow_x": null,
            "overflow_y": null,
            "padding": null,
            "right": null,
            "top": null,
            "visibility": null,
            "width": null
          }
        },
        "ba048e885c2e4034a91cb7cf5d89b2e6": {
          "model_module": "@jupyter-widgets/controls",
          "model_name": "ProgressStyleModel",
          "model_module_version": "1.5.0",
          "state": {
            "_model_module": "@jupyter-widgets/controls",
            "_model_module_version": "1.5.0",
            "_model_name": "ProgressStyleModel",
            "_view_count": null,
            "_view_module": "@jupyter-widgets/base",
            "_view_module_version": "1.2.0",
            "_view_name": "StyleView",
            "bar_color": null,
            "description_width": ""
          }
        },
        "e0e89f69681246ce8ceebc0d1cd3388c": {
          "model_module": "@jupyter-widgets/base",
          "model_name": "LayoutModel",
          "model_module_version": "1.2.0",
          "state": {
            "_model_module": "@jupyter-widgets/base",
            "_model_module_version": "1.2.0",
            "_model_name": "LayoutModel",
            "_view_count": null,
            "_view_module": "@jupyter-widgets/base",
            "_view_module_version": "1.2.0",
            "_view_name": "LayoutView",
            "align_content": null,
            "align_items": null,
            "align_self": null,
            "border": null,
            "bottom": null,
            "display": null,
            "flex": null,
            "flex_flow": null,
            "grid_area": null,
            "grid_auto_columns": null,
            "grid_auto_flow": null,
            "grid_auto_rows": null,
            "grid_column": null,
            "grid_gap": null,
            "grid_row": null,
            "grid_template_areas": null,
            "grid_template_columns": null,
            "grid_template_rows": null,
            "height": null,
            "justify_content": null,
            "justify_items": null,
            "left": null,
            "margin": null,
            "max_height": null,
            "max_width": null,
            "min_height": null,
            "min_width": null,
            "object_fit": null,
            "object_position": null,
            "order": null,
            "overflow": null,
            "overflow_x": null,
            "overflow_y": null,
            "padding": null,
            "right": null,
            "top": null,
            "visibility": null,
            "width": null
          }
        },
        "8a96e39ffb56430db1545a07e2fa7ab9": {
          "model_module": "@jupyter-widgets/controls",
          "model_name": "DescriptionStyleModel",
          "model_module_version": "1.5.0",
          "state": {
            "_model_module": "@jupyter-widgets/controls",
            "_model_module_version": "1.5.0",
            "_model_name": "DescriptionStyleModel",
            "_view_count": null,
            "_view_module": "@jupyter-widgets/base",
            "_view_module_version": "1.2.0",
            "_view_name": "StyleView",
            "description_width": ""
          }
        },
        "7411154b0d914843a3efb40acee20a36": {
          "model_module": "@jupyter-widgets/controls",
          "model_name": "HBoxModel",
          "model_module_version": "1.5.0",
          "state": {
            "_dom_classes": [],
            "_model_module": "@jupyter-widgets/controls",
            "_model_module_version": "1.5.0",
            "_model_name": "HBoxModel",
            "_view_count": null,
            "_view_module": "@jupyter-widgets/controls",
            "_view_module_version": "1.5.0",
            "_view_name": "HBoxView",
            "box_style": "",
            "children": [
              "IPY_MODEL_5c73f5679eea4a1eabed50fdb0a46166",
              "IPY_MODEL_eb486e41004649fbb1e6109a8cb50b83",
              "IPY_MODEL_9e3bc04d847342c68d74fe70c7116f90"
            ],
            "layout": "IPY_MODEL_7029c9258acb4a07a0c90aab99ce1744"
          }
        },
        "5c73f5679eea4a1eabed50fdb0a46166": {
          "model_module": "@jupyter-widgets/controls",
          "model_name": "HTMLModel",
          "model_module_version": "1.5.0",
          "state": {
            "_dom_classes": [],
            "_model_module": "@jupyter-widgets/controls",
            "_model_module_version": "1.5.0",
            "_model_name": "HTMLModel",
            "_view_count": null,
            "_view_module": "@jupyter-widgets/controls",
            "_view_module_version": "1.5.0",
            "_view_name": "HTMLView",
            "description": "",
            "description_tooltip": null,
            "layout": "IPY_MODEL_d3e966fdc9f3445e963249eede12d029",
            "placeholder": "​",
            "style": "IPY_MODEL_247d18c3ea54458490eb7e76b513e5a8",
            "value": "100%"
          }
        },
        "eb486e41004649fbb1e6109a8cb50b83": {
          "model_module": "@jupyter-widgets/controls",
          "model_name": "FloatProgressModel",
          "model_module_version": "1.5.0",
          "state": {
            "_dom_classes": [],
            "_model_module": "@jupyter-widgets/controls",
            "_model_module_version": "1.5.0",
            "_model_name": "FloatProgressModel",
            "_view_count": null,
            "_view_module": "@jupyter-widgets/controls",
            "_view_module_version": "1.5.0",
            "_view_name": "ProgressView",
            "bar_style": "success",
            "description": "",
            "description_tooltip": null,
            "layout": "IPY_MODEL_c140a87e5bf24bd9933d9eed158300e0",
            "max": 313,
            "min": 0,
            "orientation": "horizontal",
            "style": "IPY_MODEL_5ccf2c8d55d345df88d8c1a7a37f9bf1",
            "value": 313
          }
        },
        "9e3bc04d847342c68d74fe70c7116f90": {
          "model_module": "@jupyter-widgets/controls",
          "model_name": "HTMLModel",
          "model_module_version": "1.5.0",
          "state": {
            "_dom_classes": [],
            "_model_module": "@jupyter-widgets/controls",
            "_model_module_version": "1.5.0",
            "_model_name": "HTMLModel",
            "_view_count": null,
            "_view_module": "@jupyter-widgets/controls",
            "_view_module_version": "1.5.0",
            "_view_name": "HTMLView",
            "description": "",
            "description_tooltip": null,
            "layout": "IPY_MODEL_a85d3b3bce68497c9d6f1783e56e1b11",
            "placeholder": "​",
            "style": "IPY_MODEL_c0a2b72209c7436686ee0cc363b9724f",
            "value": " 313/313 [00:01&lt;00:00, 223.06it/s]"
          }
        },
        "7029c9258acb4a07a0c90aab99ce1744": {
          "model_module": "@jupyter-widgets/base",
          "model_name": "LayoutModel",
          "model_module_version": "1.2.0",
          "state": {
            "_model_module": "@jupyter-widgets/base",
            "_model_module_version": "1.2.0",
            "_model_name": "LayoutModel",
            "_view_count": null,
            "_view_module": "@jupyter-widgets/base",
            "_view_module_version": "1.2.0",
            "_view_name": "LayoutView",
            "align_content": null,
            "align_items": null,
            "align_self": null,
            "border": null,
            "bottom": null,
            "display": null,
            "flex": null,
            "flex_flow": null,
            "grid_area": null,
            "grid_auto_columns": null,
            "grid_auto_flow": null,
            "grid_auto_rows": null,
            "grid_column": null,
            "grid_gap": null,
            "grid_row": null,
            "grid_template_areas": null,
            "grid_template_columns": null,
            "grid_template_rows": null,
            "height": null,
            "justify_content": null,
            "justify_items": null,
            "left": null,
            "margin": null,
            "max_height": null,
            "max_width": null,
            "min_height": null,
            "min_width": null,
            "object_fit": null,
            "object_position": null,
            "order": null,
            "overflow": null,
            "overflow_x": null,
            "overflow_y": null,
            "padding": null,
            "right": null,
            "top": null,
            "visibility": null,
            "width": null
          }
        },
        "d3e966fdc9f3445e963249eede12d029": {
          "model_module": "@jupyter-widgets/base",
          "model_name": "LayoutModel",
          "model_module_version": "1.2.0",
          "state": {
            "_model_module": "@jupyter-widgets/base",
            "_model_module_version": "1.2.0",
            "_model_name": "LayoutModel",
            "_view_count": null,
            "_view_module": "@jupyter-widgets/base",
            "_view_module_version": "1.2.0",
            "_view_name": "LayoutView",
            "align_content": null,
            "align_items": null,
            "align_self": null,
            "border": null,
            "bottom": null,
            "display": null,
            "flex": null,
            "flex_flow": null,
            "grid_area": null,
            "grid_auto_columns": null,
            "grid_auto_flow": null,
            "grid_auto_rows": null,
            "grid_column": null,
            "grid_gap": null,
            "grid_row": null,
            "grid_template_areas": null,
            "grid_template_columns": null,
            "grid_template_rows": null,
            "height": null,
            "justify_content": null,
            "justify_items": null,
            "left": null,
            "margin": null,
            "max_height": null,
            "max_width": null,
            "min_height": null,
            "min_width": null,
            "object_fit": null,
            "object_position": null,
            "order": null,
            "overflow": null,
            "overflow_x": null,
            "overflow_y": null,
            "padding": null,
            "right": null,
            "top": null,
            "visibility": null,
            "width": null
          }
        },
        "247d18c3ea54458490eb7e76b513e5a8": {
          "model_module": "@jupyter-widgets/controls",
          "model_name": "DescriptionStyleModel",
          "model_module_version": "1.5.0",
          "state": {
            "_model_module": "@jupyter-widgets/controls",
            "_model_module_version": "1.5.0",
            "_model_name": "DescriptionStyleModel",
            "_view_count": null,
            "_view_module": "@jupyter-widgets/base",
            "_view_module_version": "1.2.0",
            "_view_name": "StyleView",
            "description_width": ""
          }
        },
        "c140a87e5bf24bd9933d9eed158300e0": {
          "model_module": "@jupyter-widgets/base",
          "model_name": "LayoutModel",
          "model_module_version": "1.2.0",
          "state": {
            "_model_module": "@jupyter-widgets/base",
            "_model_module_version": "1.2.0",
            "_model_name": "LayoutModel",
            "_view_count": null,
            "_view_module": "@jupyter-widgets/base",
            "_view_module_version": "1.2.0",
            "_view_name": "LayoutView",
            "align_content": null,
            "align_items": null,
            "align_self": null,
            "border": null,
            "bottom": null,
            "display": null,
            "flex": null,
            "flex_flow": null,
            "grid_area": null,
            "grid_auto_columns": null,
            "grid_auto_flow": null,
            "grid_auto_rows": null,
            "grid_column": null,
            "grid_gap": null,
            "grid_row": null,
            "grid_template_areas": null,
            "grid_template_columns": null,
            "grid_template_rows": null,
            "height": null,
            "justify_content": null,
            "justify_items": null,
            "left": null,
            "margin": null,
            "max_height": null,
            "max_width": null,
            "min_height": null,
            "min_width": null,
            "object_fit": null,
            "object_position": null,
            "order": null,
            "overflow": null,
            "overflow_x": null,
            "overflow_y": null,
            "padding": null,
            "right": null,
            "top": null,
            "visibility": null,
            "width": null
          }
        },
        "5ccf2c8d55d345df88d8c1a7a37f9bf1": {
          "model_module": "@jupyter-widgets/controls",
          "model_name": "ProgressStyleModel",
          "model_module_version": "1.5.0",
          "state": {
            "_model_module": "@jupyter-widgets/controls",
            "_model_module_version": "1.5.0",
            "_model_name": "ProgressStyleModel",
            "_view_count": null,
            "_view_module": "@jupyter-widgets/base",
            "_view_module_version": "1.2.0",
            "_view_name": "StyleView",
            "bar_color": null,
            "description_width": ""
          }
        },
        "a85d3b3bce68497c9d6f1783e56e1b11": {
          "model_module": "@jupyter-widgets/base",
          "model_name": "LayoutModel",
          "model_module_version": "1.2.0",
          "state": {
            "_model_module": "@jupyter-widgets/base",
            "_model_module_version": "1.2.0",
            "_model_name": "LayoutModel",
            "_view_count": null,
            "_view_module": "@jupyter-widgets/base",
            "_view_module_version": "1.2.0",
            "_view_name": "LayoutView",
            "align_content": null,
            "align_items": null,
            "align_self": null,
            "border": null,
            "bottom": null,
            "display": null,
            "flex": null,
            "flex_flow": null,
            "grid_area": null,
            "grid_auto_columns": null,
            "grid_auto_flow": null,
            "grid_auto_rows": null,
            "grid_column": null,
            "grid_gap": null,
            "grid_row": null,
            "grid_template_areas": null,
            "grid_template_columns": null,
            "grid_template_rows": null,
            "height": null,
            "justify_content": null,
            "justify_items": null,
            "left": null,
            "margin": null,
            "max_height": null,
            "max_width": null,
            "min_height": null,
            "min_width": null,
            "object_fit": null,
            "object_position": null,
            "order": null,
            "overflow": null,
            "overflow_x": null,
            "overflow_y": null,
            "padding": null,
            "right": null,
            "top": null,
            "visibility": null,
            "width": null
          }
        },
        "c0a2b72209c7436686ee0cc363b9724f": {
          "model_module": "@jupyter-widgets/controls",
          "model_name": "DescriptionStyleModel",
          "model_module_version": "1.5.0",
          "state": {
            "_model_module": "@jupyter-widgets/controls",
            "_model_module_version": "1.5.0",
            "_model_name": "DescriptionStyleModel",
            "_view_count": null,
            "_view_module": "@jupyter-widgets/base",
            "_view_module_version": "1.2.0",
            "_view_name": "StyleView",
            "description_width": ""
          }
        },
        "da86ca6e0e9b4c92a314aeed043c02bb": {
          "model_module": "@jupyter-widgets/controls",
          "model_name": "HBoxModel",
          "model_module_version": "1.5.0",
          "state": {
            "_dom_classes": [],
            "_model_module": "@jupyter-widgets/controls",
            "_model_module_version": "1.5.0",
            "_model_name": "HBoxModel",
            "_view_count": null,
            "_view_module": "@jupyter-widgets/controls",
            "_view_module_version": "1.5.0",
            "_view_name": "HBoxView",
            "box_style": "",
            "children": [
              "IPY_MODEL_85ac5cbb624e4db09260d8f90943b49b",
              "IPY_MODEL_cd98c25343e14165a67af88d7ac20b14",
              "IPY_MODEL_c675c994ff25421d9eb5e24b18318ff9"
            ],
            "layout": "IPY_MODEL_6d322358d33647759fc4db34c3578fba"
          }
        },
        "85ac5cbb624e4db09260d8f90943b49b": {
          "model_module": "@jupyter-widgets/controls",
          "model_name": "HTMLModel",
          "model_module_version": "1.5.0",
          "state": {
            "_dom_classes": [],
            "_model_module": "@jupyter-widgets/controls",
            "_model_module_version": "1.5.0",
            "_model_name": "HTMLModel",
            "_view_count": null,
            "_view_module": "@jupyter-widgets/controls",
            "_view_module_version": "1.5.0",
            "_view_name": "HTMLView",
            "description": "",
            "description_tooltip": null,
            "layout": "IPY_MODEL_08583902576e46c88340a2cdb7363f73",
            "placeholder": "​",
            "style": "IPY_MODEL_6a77737c59a84f2987c10eca34428614",
            "value": "100%"
          }
        },
        "cd98c25343e14165a67af88d7ac20b14": {
          "model_module": "@jupyter-widgets/controls",
          "model_name": "FloatProgressModel",
          "model_module_version": "1.5.0",
          "state": {
            "_dom_classes": [],
            "_model_module": "@jupyter-widgets/controls",
            "_model_module_version": "1.5.0",
            "_model_name": "FloatProgressModel",
            "_view_count": null,
            "_view_module": "@jupyter-widgets/controls",
            "_view_module_version": "1.5.0",
            "_view_name": "ProgressView",
            "bar_style": "success",
            "description": "",
            "description_tooltip": null,
            "layout": "IPY_MODEL_cd01b90b0805432099531b458ddbca29",
            "max": 313,
            "min": 0,
            "orientation": "horizontal",
            "style": "IPY_MODEL_890527f996644f4ab4b3b8fdc40c17fa",
            "value": 313
          }
        },
        "c675c994ff25421d9eb5e24b18318ff9": {
          "model_module": "@jupyter-widgets/controls",
          "model_name": "HTMLModel",
          "model_module_version": "1.5.0",
          "state": {
            "_dom_classes": [],
            "_model_module": "@jupyter-widgets/controls",
            "_model_module_version": "1.5.0",
            "_model_name": "HTMLModel",
            "_view_count": null,
            "_view_module": "@jupyter-widgets/controls",
            "_view_module_version": "1.5.0",
            "_view_name": "HTMLView",
            "description": "",
            "description_tooltip": null,
            "layout": "IPY_MODEL_ab2d261bb52242d6be8b0744ee75c3e7",
            "placeholder": "​",
            "style": "IPY_MODEL_9e886e457c3b4db29f0ef12b8cc4e5d5",
            "value": " 313/313 [00:01&lt;00:00, 226.62it/s]"
          }
        },
        "6d322358d33647759fc4db34c3578fba": {
          "model_module": "@jupyter-widgets/base",
          "model_name": "LayoutModel",
          "model_module_version": "1.2.0",
          "state": {
            "_model_module": "@jupyter-widgets/base",
            "_model_module_version": "1.2.0",
            "_model_name": "LayoutModel",
            "_view_count": null,
            "_view_module": "@jupyter-widgets/base",
            "_view_module_version": "1.2.0",
            "_view_name": "LayoutView",
            "align_content": null,
            "align_items": null,
            "align_self": null,
            "border": null,
            "bottom": null,
            "display": null,
            "flex": null,
            "flex_flow": null,
            "grid_area": null,
            "grid_auto_columns": null,
            "grid_auto_flow": null,
            "grid_auto_rows": null,
            "grid_column": null,
            "grid_gap": null,
            "grid_row": null,
            "grid_template_areas": null,
            "grid_template_columns": null,
            "grid_template_rows": null,
            "height": null,
            "justify_content": null,
            "justify_items": null,
            "left": null,
            "margin": null,
            "max_height": null,
            "max_width": null,
            "min_height": null,
            "min_width": null,
            "object_fit": null,
            "object_position": null,
            "order": null,
            "overflow": null,
            "overflow_x": null,
            "overflow_y": null,
            "padding": null,
            "right": null,
            "top": null,
            "visibility": null,
            "width": null
          }
        },
        "08583902576e46c88340a2cdb7363f73": {
          "model_module": "@jupyter-widgets/base",
          "model_name": "LayoutModel",
          "model_module_version": "1.2.0",
          "state": {
            "_model_module": "@jupyter-widgets/base",
            "_model_module_version": "1.2.0",
            "_model_name": "LayoutModel",
            "_view_count": null,
            "_view_module": "@jupyter-widgets/base",
            "_view_module_version": "1.2.0",
            "_view_name": "LayoutView",
            "align_content": null,
            "align_items": null,
            "align_self": null,
            "border": null,
            "bottom": null,
            "display": null,
            "flex": null,
            "flex_flow": null,
            "grid_area": null,
            "grid_auto_columns": null,
            "grid_auto_flow": null,
            "grid_auto_rows": null,
            "grid_column": null,
            "grid_gap": null,
            "grid_row": null,
            "grid_template_areas": null,
            "grid_template_columns": null,
            "grid_template_rows": null,
            "height": null,
            "justify_content": null,
            "justify_items": null,
            "left": null,
            "margin": null,
            "max_height": null,
            "max_width": null,
            "min_height": null,
            "min_width": null,
            "object_fit": null,
            "object_position": null,
            "order": null,
            "overflow": null,
            "overflow_x": null,
            "overflow_y": null,
            "padding": null,
            "right": null,
            "top": null,
            "visibility": null,
            "width": null
          }
        },
        "6a77737c59a84f2987c10eca34428614": {
          "model_module": "@jupyter-widgets/controls",
          "model_name": "DescriptionStyleModel",
          "model_module_version": "1.5.0",
          "state": {
            "_model_module": "@jupyter-widgets/controls",
            "_model_module_version": "1.5.0",
            "_model_name": "DescriptionStyleModel",
            "_view_count": null,
            "_view_module": "@jupyter-widgets/base",
            "_view_module_version": "1.2.0",
            "_view_name": "StyleView",
            "description_width": ""
          }
        },
        "cd01b90b0805432099531b458ddbca29": {
          "model_module": "@jupyter-widgets/base",
          "model_name": "LayoutModel",
          "model_module_version": "1.2.0",
          "state": {
            "_model_module": "@jupyter-widgets/base",
            "_model_module_version": "1.2.0",
            "_model_name": "LayoutModel",
            "_view_count": null,
            "_view_module": "@jupyter-widgets/base",
            "_view_module_version": "1.2.0",
            "_view_name": "LayoutView",
            "align_content": null,
            "align_items": null,
            "align_self": null,
            "border": null,
            "bottom": null,
            "display": null,
            "flex": null,
            "flex_flow": null,
            "grid_area": null,
            "grid_auto_columns": null,
            "grid_auto_flow": null,
            "grid_auto_rows": null,
            "grid_column": null,
            "grid_gap": null,
            "grid_row": null,
            "grid_template_areas": null,
            "grid_template_columns": null,
            "grid_template_rows": null,
            "height": null,
            "justify_content": null,
            "justify_items": null,
            "left": null,
            "margin": null,
            "max_height": null,
            "max_width": null,
            "min_height": null,
            "min_width": null,
            "object_fit": null,
            "object_position": null,
            "order": null,
            "overflow": null,
            "overflow_x": null,
            "overflow_y": null,
            "padding": null,
            "right": null,
            "top": null,
            "visibility": null,
            "width": null
          }
        },
        "890527f996644f4ab4b3b8fdc40c17fa": {
          "model_module": "@jupyter-widgets/controls",
          "model_name": "ProgressStyleModel",
          "model_module_version": "1.5.0",
          "state": {
            "_model_module": "@jupyter-widgets/controls",
            "_model_module_version": "1.5.0",
            "_model_name": "ProgressStyleModel",
            "_view_count": null,
            "_view_module": "@jupyter-widgets/base",
            "_view_module_version": "1.2.0",
            "_view_name": "StyleView",
            "bar_color": null,
            "description_width": ""
          }
        },
        "ab2d261bb52242d6be8b0744ee75c3e7": {
          "model_module": "@jupyter-widgets/base",
          "model_name": "LayoutModel",
          "model_module_version": "1.2.0",
          "state": {
            "_model_module": "@jupyter-widgets/base",
            "_model_module_version": "1.2.0",
            "_model_name": "LayoutModel",
            "_view_count": null,
            "_view_module": "@jupyter-widgets/base",
            "_view_module_version": "1.2.0",
            "_view_name": "LayoutView",
            "align_content": null,
            "align_items": null,
            "align_self": null,
            "border": null,
            "bottom": null,
            "display": null,
            "flex": null,
            "flex_flow": null,
            "grid_area": null,
            "grid_auto_columns": null,
            "grid_auto_flow": null,
            "grid_auto_rows": null,
            "grid_column": null,
            "grid_gap": null,
            "grid_row": null,
            "grid_template_areas": null,
            "grid_template_columns": null,
            "grid_template_rows": null,
            "height": null,
            "justify_content": null,
            "justify_items": null,
            "left": null,
            "margin": null,
            "max_height": null,
            "max_width": null,
            "min_height": null,
            "min_width": null,
            "object_fit": null,
            "object_position": null,
            "order": null,
            "overflow": null,
            "overflow_x": null,
            "overflow_y": null,
            "padding": null,
            "right": null,
            "top": null,
            "visibility": null,
            "width": null
          }
        },
        "9e886e457c3b4db29f0ef12b8cc4e5d5": {
          "model_module": "@jupyter-widgets/controls",
          "model_name": "DescriptionStyleModel",
          "model_module_version": "1.5.0",
          "state": {
            "_model_module": "@jupyter-widgets/controls",
            "_model_module_version": "1.5.0",
            "_model_name": "DescriptionStyleModel",
            "_view_count": null,
            "_view_module": "@jupyter-widgets/base",
            "_view_module_version": "1.2.0",
            "_view_name": "StyleView",
            "description_width": ""
          }
        }
      }
    }
  },
  "cells": [
    {
      "cell_type": "markdown",
      "metadata": {
        "id": "view-in-github",
        "colab_type": "text"
      },
      "source": [
        "<a href=\"https://colab.research.google.com/github/yashraj01-se/Pytorchrepo/blob/main/Excercise_4_Clasification_CNN.ipynb\" target=\"_parent\"><img src=\"https://colab.research.google.com/assets/colab-badge.svg\" alt=\"Open In Colab\"/></a>"
      ]
    },
    {
      "cell_type": "code",
      "source": [
        "import torch\n",
        "from torch import nn\n",
        "import torchvision\n",
        "from torchvision import datasets\n",
        "import matplotlib.pyplot as plt\n",
        "from torch.utils.data import DataLoader\n",
        "from timeit import default_timer as timer\n",
        "from tqdm.auto import tqdm\n",
        "from pathlib import Path"
      ],
      "metadata": {
        "id": "MIzduN8NoY1h"
      },
      "execution_count": 34,
      "outputs": []
    },
    {
      "cell_type": "code",
      "execution_count": 3,
      "metadata": {
        "colab": {
          "base_uri": "https://localhost:8080/"
        },
        "id": "QMLqRe7roDzE",
        "outputId": "e9138334-4a0f-426c-a528-88c05a823bbd"
      },
      "outputs": [
        {
          "output_type": "execute_result",
          "data": {
            "text/plain": [
              "device(type='cuda')"
            ]
          },
          "metadata": {},
          "execution_count": 3
        }
      ],
      "source": [
        "device = torch.device(\"cuda\" if torch.cuda.is_available() else \"cpu\")\n",
        "device"
      ]
    },
    {
      "cell_type": "code",
      "source": [
        "train_data=torchvision.datasets.MNIST(root=\"data\",\n",
        "                                      train=True,\n",
        "                                      transform=torchvision.transforms.ToTensor(),\n",
        "                                      target_transform=None,\n",
        "                                      download=True)\n",
        "test_data=torchvision.datasets.MNIST(root=\"data\",\n",
        "                                     train=False,\n",
        "                                     transform=torchvision.transforms.ToTensor(),\n",
        "                                     target_transform=None,\n",
        "                                     download=True)"
      ],
      "metadata": {
        "id": "EhAFzWZYohsF"
      },
      "execution_count": 4,
      "outputs": []
    },
    {
      "cell_type": "code",
      "source": [
        "image,label=train_data[0]\n",
        "image,label"
      ],
      "metadata": {
        "collapsed": true,
        "id": "1jxnBnwhq7FP"
      },
      "execution_count": null,
      "outputs": []
    },
    {
      "cell_type": "code",
      "source": [
        "class_=train_data.classes\n",
        "class_ = [label.split(' - ')[1] for label in train_data.classes]\n",
        "class_"
      ],
      "metadata": {
        "colab": {
          "base_uri": "https://localhost:8080/"
        },
        "collapsed": true,
        "id": "pyDmQPWBp7Ws",
        "outputId": "d37132ce-53f5-4a43-f2ce-edc8fb591513"
      },
      "execution_count": 6,
      "outputs": [
        {
          "output_type": "execute_result",
          "data": {
            "text/plain": [
              "['zero',\n",
              " 'one',\n",
              " 'two',\n",
              " 'three',\n",
              " 'four',\n",
              " 'five',\n",
              " 'six',\n",
              " 'seven',\n",
              " 'eight',\n",
              " 'nine']"
            ]
          },
          "metadata": {},
          "execution_count": 6
        }
      ]
    },
    {
      "cell_type": "code",
      "source": [
        "index=train_data.class_to_idx\n",
        "index= {key.split(' - ')[1]: value for key, value in train_data.class_to_idx.items()}\n",
        "index"
      ],
      "metadata": {
        "colab": {
          "base_uri": "https://localhost:8080/"
        },
        "collapsed": true,
        "id": "As57IEaEqFZQ",
        "outputId": "519f524f-656d-4b38-882e-f7d828d2289d"
      },
      "execution_count": 7,
      "outputs": [
        {
          "output_type": "execute_result",
          "data": {
            "text/plain": [
              "{'zero': 0,\n",
              " 'one': 1,\n",
              " 'two': 2,\n",
              " 'three': 3,\n",
              " 'four': 4,\n",
              " 'five': 5,\n",
              " 'six': 6,\n",
              " 'seven': 7,\n",
              " 'eight': 8,\n",
              " 'nine': 9}"
            ]
          },
          "metadata": {},
          "execution_count": 7
        }
      ]
    },
    {
      "cell_type": "code",
      "source": [
        "image,label=train_data[0]\n",
        "plt.figure(figsize=(10,6))\n",
        "plt.title(class_[label])\n",
        "plt.imshow(image.squeeze())\n",
        "plt.axis(\"off\")"
      ],
      "metadata": {
        "colab": {
          "base_uri": "https://localhost:8080/",
          "height": 538
        },
        "id": "Ft0rjEnVqOD_",
        "outputId": "59e0c2ba-c2a2-4c14-c937-803ab2a8f2e5"
      },
      "execution_count": 8,
      "outputs": [
        {
          "output_type": "execute_result",
          "data": {
            "text/plain": [
              "(np.float64(-0.5), np.float64(27.5), np.float64(27.5), np.float64(-0.5))"
            ]
          },
          "metadata": {},
          "execution_count": 8
        },
        {
          "output_type": "display_data",
          "data": {
            "text/plain": [
              "<Figure size 1000x600 with 1 Axes>"
            ],
            "image/png": "[encoded data removed]"
          },
          "metadata": {}
        }
      ]
    },
    {
      "cell_type": "code",
      "source": [
        "torch.manual_seed(42)\n",
        "fig=plt.figure(figsize=(10,6))\n",
        "row,col=4,4\n",
        "for i in range(1,row*col+1):\n",
        "  ran_idx=torch.randint(0,len(train_data),size=[1]).item()\n",
        "  image,label=train_data[ran_idx]\n",
        "  fig.add_subplot(row,col,i)\n",
        "  plt.imshow(image.squeeze(),cmap=\"gray\")\n",
        "  plt.title(class_[label])\n",
        "  plt.axis(\"off\")"
      ],
      "metadata": {
        "colab": {
          "base_uri": "https://localhost:8080/",
          "height": 521
        },
        "id": "bnl6neZVrwWI",
        "outputId": "1fba166f-dc00-42cf-a48e-1aeca6815457"
      },
      "execution_count": 9,
      "outputs": [
        {
          "output_type": "display_data",
          "data": {
            "text/plain": [
              "<Figure size 1000x600 with 16 Axes>"
            ],
            "image/png": "[encoded data removed]"
          },
          "metadata": {}
        }
      ]
    },
    {
      "cell_type": "code",
      "source": [
        "train_dataloader=DataLoader(dataset=train_data,\n",
        "                            batch_size=32,\n",
        "                            shuffle=True)\n",
        "test_dataloader=DataLoader(dataset=test_data,\n",
        "                           batch_size=32,\n",
        "                           shuffle=True)\n",
        "\n",
        "print(\"Lenght of Training DataLoader: \",len(train_dataloader))\n",
        "print(\"Lenght of Testing DataLoader: \",len(test_dataloader))"
      ],
      "metadata": {
        "colab": {
          "base_uri": "https://localhost:8080/"
        },
        "id": "AJV4ozIxsbs0",
        "outputId": "273d97ec-2ef6-4a5e-c45a-c2f498e8298f"
      },
      "execution_count": 10,
      "outputs": [
        {
          "output_type": "stream",
          "name": "stdout",
          "text": [
            "Lenght of Training DataLoader:  1875\n",
            "Lenght of Testing DataLoader:  313\n"
          ]
        }
      ]
    },
    {
      "cell_type": "code",
      "source": [
        "data_feature_sample,data_lable_sample=next(iter(train_dataloader))\n",
        "data_feature_sample.shape,data_feature_sample.dtype"
      ],
      "metadata": {
        "colab": {
          "base_uri": "https://localhost:8080/"
        },
        "id": "AQjk14rkCTqt",
        "outputId": "7a7e3f8b-1b97-4868-b132-0c71b7c69f96"
      },
      "execution_count": 11,
      "outputs": [
        {
          "output_type": "execute_result",
          "data": {
            "text/plain": [
              "(torch.Size([32, 1, 28, 28]), torch.float32)"
            ]
          },
          "metadata": {},
          "execution_count": 11
        }
      ]
    },
    {
      "cell_type": "code",
      "source": [
        "#show a sample Dataloader\n",
        "torch.manual_seed(42)\n",
        "random_index=torch.randint(0,len(data_feature_sample),size=[1]).item()\n",
        "image,label=data_feature_sample[random_index] , data_lable_sample[random_index]\n",
        "plt.imshow(image.squeeze(),cmap=\"gray\")\n",
        "plt.title(\"Batch\")\n",
        "plt.axis(\"off\")\n",
        "plt.show()"
      ],
      "metadata": {
        "colab": {
          "base_uri": "https://localhost:8080/",
          "height": 428
        },
        "id": "iMHym91VCrNY",
        "outputId": "29a1efe2-84c0-4a09-8852-3db2934f5741"
      },
      "execution_count": 12,
      "outputs": [
        {
          "output_type": "display_data",
          "data": {
            "text/plain": [
              "<Figure size 640x480 with 1 Axes>"
            ],
            "image/png": "[encoded data removed]"
          },
          "metadata": {}
        }
      ]
    },
    {
      "cell_type": "code",
      "source": [
        "import requests\n",
        "from pathlib import Path\n",
        "if Path(\"helper_function.py\").is_file():\n",
        "  print(\"Already there\")\n",
        "else:\n",
        "  print(\"Downloading\")\n",
        "  request=requests.get(\"https://raw.githubusercontent.com/mrdbourke/pytorch-deep-learning/refs/heads/main/helper_functions.py\")\n",
        "  with open(\"helper_function.py\",\"wb\") as f:\n",
        "    f.write(request.content)"
      ],
      "metadata": {
        "colab": {
          "base_uri": "https://localhost:8080/"
        },
        "id": "faQPR7rduMBA",
        "outputId": "7883b107-8e0f-445c-ea6f-28d792ee7930"
      },
      "execution_count": 13,
      "outputs": [
        {
          "output_type": "stream",
          "name": "stdout",
          "text": [
            "Already there\n"
          ]
        }
      ]
    },
    {
      "cell_type": "code",
      "source": [
        "class Model_classifier_CNN(nn.Module):\n",
        "  def __init__(self,\n",
        "               input_shape:int,\n",
        "               hidden_layer:int,\n",
        "               output_shape:int):\n",
        "    super().__init__()\n",
        "    self.convblock1=nn.Sequential(\n",
        "        nn.Conv2d(in_channels=input_shape,\n",
        "                  out_channels=hidden_layer,\n",
        "                  kernel_size=3,\n",
        "                  stride=1,\n",
        "                  padding=1),\n",
        "        nn.ReLU(),\n",
        "        nn.Conv2d(in_channels=hidden_layer,\n",
        "                  out_channels=hidden_layer,\n",
        "                  kernel_size=3,\n",
        "                  stride=1,\n",
        "                  padding=1),\n",
        "        nn.ReLU(),\n",
        "        nn.MaxPool2d(kernel_size=2)\n",
        "    )\n",
        "    self.convblock2=nn.Sequential(\n",
        "         nn.Conv2d(in_channels=hidden_layer,\n",
        "                  out_channels=hidden_layer,\n",
        "                  kernel_size=3,\n",
        "                  stride=1,\n",
        "                  padding=1),\n",
        "        nn.ReLU(),\n",
        "        nn.Conv2d(in_channels=hidden_layer,\n",
        "                  out_channels=hidden_layer,\n",
        "                  kernel_size=3,\n",
        "                  stride=1,\n",
        "                  padding=1),\n",
        "        nn.ReLU(),\n",
        "        nn.MaxPool2d(kernel_size=2)\n",
        "    )\n",
        "    self.classifier=nn.Sequential(\n",
        "        nn.Flatten(),\n",
        "        nn.Linear(in_features=hidden_layer*7*7,\n",
        "                  out_features=len(class_))\n",
        "    )\n",
        "\n",
        "  def forward(self,x):\n",
        "    x=self.convblock1(x)\n",
        "    # print(x.shape)\n",
        "    x=self.convblock2(x)\n",
        "    # print(x.shape)\n",
        "    x=self.classifier(x)\n",
        "    # print(x.shape)\n",
        "    return x\n",
        "\n",
        "model=Model_classifier_CNN(input_shape=1,\n",
        "                       hidden_layer=30,\n",
        "                       output_shape=1).to(device)\n",
        "model"
      ],
      "metadata": {
        "colab": {
          "base_uri": "https://localhost:8080/"
        },
        "id": "ces9dhB-tbnM",
        "outputId": "97c0e44d-4923-4480-f4ee-c905f901d95e"
      },
      "execution_count": 14,
      "outputs": [
        {
          "output_type": "execute_result",
          "data": {
            "text/plain": [
              "Model_classifier_CNN(\n",
              "  (convblock1): Sequential(\n",
              "    (0): Conv2d(1, 30, kernel_size=(3, 3), stride=(1, 1), padding=(1, 1))\n",
              "    (1): ReLU()\n",
              "    (2): Conv2d(30, 30, kernel_size=(3, 3), stride=(1, 1), padding=(1, 1))\n",
              "    (3): ReLU()\n",
              "    (4): MaxPool2d(kernel_size=2, stride=2, padding=0, dilation=1, ceil_mode=False)\n",
              "  )\n",
              "  (convblock2): Sequential(\n",
              "    (0): Conv2d(30, 30, kernel_size=(3, 3), stride=(1, 1), padding=(1, 1))\n",
              "    (1): ReLU()\n",
              "    (2): Conv2d(30, 30, kernel_size=(3, 3), stride=(1, 1), padding=(1, 1))\n",
              "    (3): ReLU()\n",
              "    (4): MaxPool2d(kernel_size=2, stride=2, padding=0, dilation=1, ceil_mode=False)\n",
              "  )\n",
              "  (classifier): Sequential(\n",
              "    (0): Flatten(start_dim=1, end_dim=-1)\n",
              "    (1): Linear(in_features=1470, out_features=10, bias=True)\n",
              "  )\n",
              ")"
            ]
          },
          "metadata": {},
          "execution_count": 14
        }
      ]
    },
    {
      "cell_type": "markdown",
      "source": [
        "**###Trick to find out Input shape:**"
      ],
      "metadata": {
        "id": "HriMKqBzHVA4"
      }
    },
    {
      "cell_type": "code",
      "source": [
        "image.shape"
      ],
      "metadata": {
        "colab": {
          "base_uri": "https://localhost:8080/"
        },
        "id": "AGEBJKpaFtAE",
        "outputId": "d9acda91-a5bd-4bdd-e4d6-ffb8d98ea737"
      },
      "execution_count": 15,
      "outputs": [
        {
          "output_type": "execute_result",
          "data": {
            "text/plain": [
              "torch.Size([1, 28, 28])"
            ]
          },
          "metadata": {},
          "execution_count": 15
        }
      ]
    },
    {
      "cell_type": "code",
      "source": [
        "# random_image=torch.randn(1,28,28).unsqueeze(0)\n",
        "# model(random_image)"
      ],
      "metadata": {
        "id": "Gkxv1lWEGloe"
      },
      "execution_count": 16,
      "outputs": []
    },
    {
      "cell_type": "markdown",
      "source": [
        "#Making Loss_Function, Optimizer , Model:"
      ],
      "metadata": {
        "id": "ZjIjwbUdHxOs"
      }
    },
    {
      "cell_type": "code",
      "source": [
        "from helper_function import accuracy_fn\n",
        "Loss_fn=nn.CrossEntropyLoss()\n",
        "optimizer=torch.optim.SGD(params=model.parameters(),\n",
        "                          lr=0.155)"
      ],
      "metadata": {
        "id": "AMWijrtRHh6t"
      },
      "execution_count": 17,
      "outputs": []
    },
    {
      "cell_type": "code",
      "source": [
        "def train_step(model_imp:torch.nn.Module,\n",
        "               data_loader:torch.utils.data.DataLoader,\n",
        "               loss_fn:torch.nn.Module,\n",
        "               optimizer:torch.optim.Optimizer,\n",
        "               device:torch.device,\n",
        "               accuracy_fn=None):\n",
        "  model.train()\n",
        "  train_loss=0\n",
        "  train_acc=0\n",
        "  #Add a loop to loop through training the training batches:\n",
        "  for batch,(X,y) in enumerate(data_loader):\n",
        "    # Move data to device\n",
        "    X, y = X.to(device), y.to(device)\n",
        "    y_pred=model(X)\n",
        "    loss=loss_fn(y_pred,y)\n",
        "    train_loss+=loss.item()\n",
        "    train_acc+=accuracy_fn(y_true=y,y_pred=y_pred.argmax(dim=1))\n",
        "    optimizer.zero_grad()\n",
        "    loss.backward()\n",
        "    optimizer.step()\n",
        "\n",
        "  #divide the  train_loader  by the len of dataloader.\n",
        "  train_loss/=len(data_loader)\n",
        "  train_acc/=len(data_loader)\n",
        "  print(f\"Train loss:{train_loss:.4f}, Train Accuracy:{train_acc:.4f}\")"
      ],
      "metadata": {
        "id": "XWDyaBr1IMGH"
      },
      "execution_count": 18,
      "outputs": []
    },
    {
      "cell_type": "code",
      "source": [
        "def test_step(model_imp:torch.nn.Module,\n",
        "               data_loader:torch.utils.data.DataLoader,\n",
        "               loss_fn:torch.nn.Module,\n",
        "               optimizer:torch.optim.Optimizer,\n",
        "               device:torch.device,\n",
        "               accuracy_fn=None):\n",
        "  test_loss=0\n",
        "  test_acc=0\n",
        "  model.eval()\n",
        "  with torch.inference_mode():\n",
        "    for X,y in data_loader:\n",
        "      # Move data to device\n",
        "      X, y = X.to(device), y.to(device)\n",
        "      test_pred=model(X)\n",
        "      test_los=loss_fn(test_pred,y)\n",
        "      test_loss+=test_los.item()\n",
        "      test_acc+=accuracy_fn(y_true=y,y_pred=test_pred.argmax(dim=1))\n",
        "\n",
        "    #calculate the test loss (average):\n",
        "    test_loss/=len(data_loader)\n",
        "    test_acc/=len(data_loader)\n",
        "    print(f\"Test Loss:{test_loss:.4f} ,Test Accuracy:{test_acc:.4f}\")"
      ],
      "metadata": {
        "id": "agppm8ULIuJM"
      },
      "execution_count": 19,
      "outputs": []
    },
    {
      "cell_type": "code",
      "source": [
        "def print_train_time(start:float,\n",
        "                     end:float,\n",
        "                     device:torch.device=\"None\"):\n",
        "  total_time=end-start\n",
        "  print(f\"Train time on {device}: {total_time:.3f} seconds\")\n",
        "  return total_time\n",
        "\n",
        "\n",
        "# start_time=timer()\n",
        "# some code:\n",
        "# end_time=timer()\n",
        "# print_train_time(start=start_time,\n",
        "#                  end=end_time,\n",
        "#                  device=\"cpu\")"
      ],
      "metadata": {
        "id": "8fhhcw6mSCs_"
      },
      "execution_count": 20,
      "outputs": []
    },
    {
      "cell_type": "code",
      "source": [
        "#setting up manual seed\n",
        "torch.manual_seed(42)\n",
        "\n",
        "#start timer...\n",
        "train_start_time_imp=timer()\n",
        "\n",
        "#number of epochs means 1857 batches of 32 images will run 3 times through our model:\n",
        "epochs=3\n",
        "for epoch in tqdm(range(epochs)):\n",
        "  print(f\"Epoch:{epoch}/n-----\")\n",
        "  train_step(model_imp=model,\n",
        "             data_loader=train_dataloader,\n",
        "             loss_fn=Loss_fn,\n",
        "             optimizer=optimizer,\n",
        "             device=device,\n",
        "             accuracy_fn=accuracy_fn)\n",
        "  test_step(model_imp=model,\n",
        "            data_loader=test_dataloader,\n",
        "            loss_fn=Loss_fn,\n",
        "            optimizer=optimizer,\n",
        "            device=device,\n",
        "            accuracy_fn=accuracy_fn)\n",
        "\n",
        "train_end_time_imp=timer()\n",
        "total_time__non_li=print_train_time(start=train_start_time_imp,\n",
        "                            end=train_end_time_imp,\n",
        "                            device=device)\n",
        "model"
      ],
      "metadata": {
        "colab": {
          "base_uri": "https://localhost:8080/",
          "height": 570,
          "referenced_widgets": [
            "98ae45fd8e72407689aacbd2a8442020",
            "ec7b58fa2bda4d1c8de56f15dc9033ce",
            "978d73701ac74ee0bff1cfc91204a1a3",
            "843b17cd57ac4c08834f928e15784f2d",
            "a74f13b0a34c43f3ad524f865eec1923",
            "d55d7f18a2694612a601ebdb4d9d708f",
            "378a0585f3ab4a4bb22829f7f35df15b",
            "95a75f861a824a81bdb8e0dec615c03c",
            "ba048e885c2e4034a91cb7cf5d89b2e6",
            "e0e89f69681246ce8ceebc0d1cd3388c",
            "8a96e39ffb56430db1545a07e2fa7ab9"
          ]
        },
        "id": "j1aoyWvWJIRJ",
        "outputId": "cf759b5e-8b53-4ecf-dfc5-4019ec6d3c4b"
      },
      "execution_count": 21,
      "outputs": [
        {
          "output_type": "display_data",
          "data": {
            "text/plain": [
              "  0%|          | 0/3 [00:00<?, ?it/s]"
            ],
            "application/vnd.jupyter.widget-view+json": {
              "version_major": 2,
              "version_minor": 0,
              "model_id": "98ae45fd8e72407689aacbd2a8442020"
            }
          },
          "metadata": {}
        },
        {
          "output_type": "stream",
          "name": "stdout",
          "text": [
            "Epoch:0/n-----\n",
            "Train loss:0.2621, Train Accuracy:91.6217\n",
            "Test Loss:0.0705 ,Test Accuracy:97.7137\n",
            "Epoch:1/n-----\n",
            "Train loss:0.0647, Train Accuracy:98.0367\n",
            "Test Loss:0.0432 ,Test Accuracy:98.5224\n",
            "Epoch:2/n-----\n",
            "Train loss:0.0487, Train Accuracy:98.4983\n",
            "Test Loss:0.0419 ,Test Accuracy:98.6621\n",
            "Train time on cuda: 39.148 seconds\n"
          ]
        },
        {
          "output_type": "execute_result",
          "data": {
            "text/plain": [
              "Model_classifier_CNN(\n",
              "  (convblock1): Sequential(\n",
              "    (0): Conv2d(1, 30, kernel_size=(3, 3), stride=(1, 1), padding=(1, 1))\n",
              "    (1): ReLU()\n",
              "    (2): Conv2d(30, 30, kernel_size=(3, 3), stride=(1, 1), padding=(1, 1))\n",
              "    (3): ReLU()\n",
              "    (4): MaxPool2d(kernel_size=2, stride=2, padding=0, dilation=1, ceil_mode=False)\n",
              "  )\n",
              "  (convblock2): Sequential(\n",
              "    (0): Conv2d(30, 30, kernel_size=(3, 3), stride=(1, 1), padding=(1, 1))\n",
              "    (1): ReLU()\n",
              "    (2): Conv2d(30, 30, kernel_size=(3, 3), stride=(1, 1), padding=(1, 1))\n",
              "    (3): ReLU()\n",
              "    (4): MaxPool2d(kernel_size=2, stride=2, padding=0, dilation=1, ceil_mode=False)\n",
              "  )\n",
              "  (classifier): Sequential(\n",
              "    (0): Flatten(start_dim=1, end_dim=-1)\n",
              "    (1): Linear(in_features=1470, out_features=10, bias=True)\n",
              "  )\n",
              ")"
            ]
          },
          "metadata": {},
          "execution_count": 21
        }
      ]
    },
    {
      "cell_type": "code",
      "source": [
        "def make_prediction(model:torch.nn.Module,\n",
        "               data:list,\n",
        "               device:torch.device=device):\n",
        "  pred_probs=[]\n",
        "  model.to(device)\n",
        "  model.eval()\n",
        "  with torch.inference_mode():\n",
        "    for sample in data:\n",
        "    #making our sample to pass through the model:\n",
        "      sample=torch.unsqueeze(sample,dim=0).to(device)\n",
        "    #now getting raw logits by passing the data from our model:\n",
        "      y_pred=model(sample)\n",
        "    #now logits to prediction probabilities:\n",
        "      pred_prob=torch.softmax(y_pred.squeeze(),dim=0)\n",
        "    #now tranferring the pred pobs from gpu to cpu for futher evaluation:\n",
        "      pred_probs.append(pred_prob.cpu())\n",
        "\n",
        "    #stack the pred_probs from list to tensor\n",
        "    return torch.stack(pred_probs)"
      ],
      "metadata": {
        "id": "63Kc69DsU9yw"
      },
      "execution_count": 22,
      "outputs": []
    },
    {
      "cell_type": "code",
      "source": [
        "import random\n",
        "random.seed(13)\n",
        "test_samples=[]\n",
        "test_labels=[]\n",
        "for sample,label in random.sample(list(test_data),k=9):\n",
        "  test_samples.append(sample)\n",
        "  test_labels.append(label)\n",
        "\n",
        "print(test_samples[0])"
      ],
      "metadata": {
        "colab": {
          "base_uri": "https://localhost:8080/"
        },
        "id": "l1KIB5puVIDk",
        "outputId": "90fbdac8-b54d-416d-b941-7a2cb96e4fb5"
      },
      "execution_count": 27,
      "outputs": [
        {
          "output_type": "stream",
          "name": "stdout",
          "text": [
            "tensor([[[0.0000, 0.0000, 0.0000, 0.0000, 0.0000, 0.0000, 0.0000, 0.0000,\n",
            "          0.0000, 0.0000, 0.0000, 0.0000, 0.0000, 0.0000, 0.0000, 0.0000,\n",
            "          0.0000, 0.0000, 0.0000, 0.0000, 0.0000, 0.0000, 0.0000, 0.0000,\n",
            "          0.0000, 0.0000, 0.0000, 0.0000],\n",
            "         [0.0000, 0.0000, 0.0000, 0.0000, 0.0000, 0.0000, 0.0000, 0.0000,\n",
            "          0.0000, 0.0000, 0.0000, 0.0000, 0.0000, 0.0000, 0.0000, 0.0000,\n",
            "          0.0000, 0.0000, 0.0000, 0.0000, 0.0000, 0.0000, 0.0000, 0.0000,\n",
            "          0.0000, 0.0000, 0.0000, 0.0000],\n",
            "         [0.0000, 0.0000, 0.0000, 0.0000, 0.0000, 0.0000, 0.0000, 0.0000,\n",
            "          0.0000, 0.0000, 0.0000, 0.0000, 0.0000, 0.0000, 0.0000, 0.0000,\n",
            "          0.0000, 0.0000, 0.0000, 0.0000, 0.0000, 0.0000, 0.0000, 0.0000,\n",
            "          0.0000, 0.0000, 0.0000, 0.0000],\n",
            "         [0.0000, 0.0000, 0.0000, 0.0000, 0.0000, 0.0000, 0.0000, 0.0000,\n",
            "          0.0000, 0.0000, 0.0000, 0.0000, 0.0000, 0.0000, 0.0000, 0.0000,\n",
            "          0.0000, 0.0980, 0.7882, 0.9922, 0.8196, 0.1216, 0.0000, 0.0000,\n",
            "          0.0000, 0.0000, 0.0000, 0.0000],\n",
            "         [0.0000, 0.0000, 0.0000, 0.0000, 0.0000, 0.0000, 0.0000, 0.0000,\n",
            "          0.0000, 0.0000, 0.0000, 0.0000, 0.0000, 0.0000, 0.0000, 0.1412,\n",
            "          0.8196, 0.8549, 0.8471, 0.9882, 0.9882, 0.6314, 0.0000, 0.0000,\n",
            "          0.0000, 0.0000, 0.0000, 0.0000],\n",
            "         [0.0000, 0.0000, 0.0000, 0.0000, 0.0000, 0.0000, 0.0000, 0.0000,\n",
            "          0.0000, 0.0000, 0.0000, 0.0000, 0.0000, 0.0000, 0.0118, 0.6078,\n",
            "          0.9922, 0.9882, 0.4039, 0.6196, 0.7882, 0.1020, 0.0000, 0.0000,\n",
            "          0.0000, 0.0000, 0.0000, 0.0000],\n",
            "         [0.0000, 0.0000, 0.0000, 0.0000, 0.0000, 0.0000, 0.0000, 0.0000,\n",
            "          0.0000, 0.0000, 0.0000, 0.0000, 0.0000, 0.1686, 0.5569, 0.9882,\n",
            "          0.9922, 0.6000, 0.4902, 0.0000, 0.3098, 0.0000, 0.0000, 0.0000,\n",
            "          0.0000, 0.0000, 0.0000, 0.0000],\n",
            "         [0.0000, 0.0000, 0.0000, 0.0000, 0.0000, 0.0000, 0.0000, 0.0000,\n",
            "          0.0000, 0.0000, 0.0000, 0.0000, 0.0000, 0.5216, 0.9882, 0.9882,\n",
            "          0.4588, 0.0196, 0.0000, 0.0000, 0.0000, 0.0000, 0.0000, 0.0000,\n",
            "          0.0000, 0.0000, 0.0000, 0.0000],\n",
            "         [0.0000, 0.0000, 0.0000, 0.0000, 0.0000, 0.0000, 0.0000, 0.0000,\n",
            "          0.0000, 0.0000, 0.0000, 0.0000, 0.0627, 0.9412, 0.9882, 0.5725,\n",
            "          0.0000, 0.0000, 0.0000, 0.0000, 0.0000, 0.0000, 0.0000, 0.0000,\n",
            "          0.0000, 0.0000, 0.0000, 0.0000],\n",
            "         [0.0000, 0.0000, 0.0000, 0.0000, 0.0000, 0.0000, 0.0000, 0.0000,\n",
            "          0.0000, 0.0000, 0.0000, 0.0627, 0.7686, 0.9882, 0.8941, 0.1922,\n",
            "          0.0000, 0.0000, 0.0000, 0.0000, 0.0000, 0.0000, 0.0000, 0.0000,\n",
            "          0.0000, 0.0000, 0.0000, 0.0000],\n",
            "         [0.0000, 0.0000, 0.0000, 0.0000, 0.0000, 0.0000, 0.0000, 0.0000,\n",
            "          0.0000, 0.0000, 0.0000, 0.1176, 0.9882, 0.9882, 0.6039, 0.0000,\n",
            "          0.0000, 0.0000, 0.0000, 0.0000, 0.0000, 0.0000, 0.0000, 0.0000,\n",
            "          0.0000, 0.0000, 0.0000, 0.0000],\n",
            "         [0.0000, 0.0000, 0.0000, 0.0000, 0.0000, 0.0000, 0.0000, 0.0000,\n",
            "          0.0000, 0.0000, 0.0000, 0.5647, 0.9882, 0.7176, 0.0549, 0.0000,\n",
            "          0.0000, 0.0000, 0.0000, 0.0000, 0.0000, 0.0000, 0.0000, 0.0000,\n",
            "          0.0000, 0.0000, 0.0000, 0.0000],\n",
            "         [0.0000, 0.0000, 0.0000, 0.0000, 0.0000, 0.0000, 0.0000, 0.0000,\n",
            "          0.0000, 0.0000, 0.1765, 0.8706, 0.9882, 0.6353, 0.0000, 0.0000,\n",
            "          0.0000, 0.0000, 0.0000, 0.0000, 0.0000, 0.0000, 0.0000, 0.0000,\n",
            "          0.0000, 0.0000, 0.0000, 0.0000],\n",
            "         [0.0000, 0.0000, 0.0000, 0.0000, 0.0000, 0.0000, 0.0000, 0.0000,\n",
            "          0.0000, 0.0000, 0.8784, 0.9922, 0.9922, 0.9922, 0.9922, 0.9922,\n",
            "          1.0000, 0.1725, 0.0000, 0.0000, 0.0000, 0.0000, 0.0000, 0.0000,\n",
            "          0.0000, 0.0000, 0.0000, 0.0000],\n",
            "         [0.0000, 0.0000, 0.0000, 0.0000, 0.0000, 0.0000, 0.0000, 0.0000,\n",
            "          0.0000, 0.1137, 0.9020, 0.9882, 0.9882, 0.9882, 0.8078, 0.8902,\n",
            "          0.9922, 0.3098, 0.0000, 0.0000, 0.0000, 0.0000, 0.0000, 0.0000,\n",
            "          0.0000, 0.0000, 0.0000, 0.0000],\n",
            "         [0.0000, 0.0000, 0.0000, 0.0000, 0.0000, 0.0000, 0.0000, 0.0000,\n",
            "          0.0000, 0.4706, 0.9882, 0.9882, 0.9882, 0.7216, 0.0824, 0.5490,\n",
            "          0.9922, 0.7647, 0.0235, 0.0000, 0.0000, 0.0000, 0.0000, 0.0000,\n",
            "          0.0000, 0.0000, 0.0000, 0.0000],\n",
            "         [0.0000, 0.0000, 0.0000, 0.0000, 0.0000, 0.0000, 0.0000, 0.0000,\n",
            "          0.0000, 0.4706, 0.9882, 0.9882, 0.7373, 0.0314, 0.0000, 0.0000,\n",
            "          0.9922, 0.9882, 0.3451, 0.0000, 0.0000, 0.0000, 0.0000, 0.0000,\n",
            "          0.0000, 0.0000, 0.0000, 0.0000],\n",
            "         [0.0000, 0.0000, 0.0000, 0.0000, 0.0000, 0.0000, 0.0000, 0.0000,\n",
            "          0.0000, 0.4706, 0.9882, 0.9882, 0.4627, 0.0000, 0.0000, 0.5176,\n",
            "          0.9922, 0.9882, 0.3451, 0.0000, 0.0000, 0.0000, 0.0000, 0.0000,\n",
            "          0.0000, 0.0000, 0.0000, 0.0000],\n",
            "         [0.0000, 0.0000, 0.0000, 0.0000, 0.0000, 0.0000, 0.0000, 0.0000,\n",
            "          0.0000, 0.4157, 0.9725, 0.9882, 0.4627, 0.0000, 0.0000, 0.5843,\n",
            "          0.9922, 0.9882, 0.3451, 0.0000, 0.0000, 0.0000, 0.0000, 0.0000,\n",
            "          0.0000, 0.0000, 0.0000, 0.0000],\n",
            "         [0.0000, 0.0000, 0.0000, 0.0000, 0.0000, 0.0000, 0.0000, 0.0000,\n",
            "          0.0000, 0.0000, 0.8745, 0.9882, 0.7412, 0.0314, 0.4078, 0.7961,\n",
            "          0.9922, 0.8627, 0.1647, 0.0000, 0.0000, 0.0000, 0.0000, 0.0000,\n",
            "          0.0000, 0.0000, 0.0000, 0.0000],\n",
            "         [0.0000, 0.0000, 0.0000, 0.0000, 0.0000, 0.0000, 0.0000, 0.0000,\n",
            "          0.0000, 0.0000, 0.8745, 0.9882, 0.9882, 0.9373, 0.9725, 0.9882,\n",
            "          0.9922, 0.2039, 0.0000, 0.0000, 0.0000, 0.0000, 0.0000, 0.0000,\n",
            "          0.0000, 0.0000, 0.0000, 0.0000],\n",
            "         [0.0000, 0.0000, 0.0000, 0.0000, 0.0000, 0.0000, 0.0000, 0.0000,\n",
            "          0.0000, 0.0000, 0.7725, 0.9882, 0.9882, 0.9882, 0.9882, 0.8824,\n",
            "          0.5725, 0.0392, 0.0000, 0.0000, 0.0000, 0.0000, 0.0000, 0.0000,\n",
            "          0.0000, 0.0000, 0.0000, 0.0000],\n",
            "         [0.0000, 0.0000, 0.0000, 0.0000, 0.0000, 0.0000, 0.0000, 0.0000,\n",
            "          0.0000, 0.0000, 0.1216, 0.8157, 0.9882, 0.9882, 0.8824, 0.1686,\n",
            "          0.0000, 0.0000, 0.0000, 0.0000, 0.0000, 0.0000, 0.0000, 0.0000,\n",
            "          0.0000, 0.0000, 0.0000, 0.0000],\n",
            "         [0.0000, 0.0000, 0.0000, 0.0000, 0.0000, 0.0000, 0.0000, 0.0000,\n",
            "          0.0000, 0.0000, 0.0000, 0.0000, 0.0000, 0.0000, 0.0000, 0.0000,\n",
            "          0.0000, 0.0000, 0.0000, 0.0000, 0.0000, 0.0000, 0.0000, 0.0000,\n",
            "          0.0000, 0.0000, 0.0000, 0.0000],\n",
            "         [0.0000, 0.0000, 0.0000, 0.0000, 0.0000, 0.0000, 0.0000, 0.0000,\n",
            "          0.0000, 0.0000, 0.0000, 0.0000, 0.0000, 0.0000, 0.0000, 0.0000,\n",
            "          0.0000, 0.0000, 0.0000, 0.0000, 0.0000, 0.0000, 0.0000, 0.0000,\n",
            "          0.0000, 0.0000, 0.0000, 0.0000],\n",
            "         [0.0000, 0.0000, 0.0000, 0.0000, 0.0000, 0.0000, 0.0000, 0.0000,\n",
            "          0.0000, 0.0000, 0.0000, 0.0000, 0.0000, 0.0000, 0.0000, 0.0000,\n",
            "          0.0000, 0.0000, 0.0000, 0.0000, 0.0000, 0.0000, 0.0000, 0.0000,\n",
            "          0.0000, 0.0000, 0.0000, 0.0000],\n",
            "         [0.0000, 0.0000, 0.0000, 0.0000, 0.0000, 0.0000, 0.0000, 0.0000,\n",
            "          0.0000, 0.0000, 0.0000, 0.0000, 0.0000, 0.0000, 0.0000, 0.0000,\n",
            "          0.0000, 0.0000, 0.0000, 0.0000, 0.0000, 0.0000, 0.0000, 0.0000,\n",
            "          0.0000, 0.0000, 0.0000, 0.0000],\n",
            "         [0.0000, 0.0000, 0.0000, 0.0000, 0.0000, 0.0000, 0.0000, 0.0000,\n",
            "          0.0000, 0.0000, 0.0000, 0.0000, 0.0000, 0.0000, 0.0000, 0.0000,\n",
            "          0.0000, 0.0000, 0.0000, 0.0000, 0.0000, 0.0000, 0.0000, 0.0000,\n",
            "          0.0000, 0.0000, 0.0000, 0.0000]]])\n"
          ]
        }
      ]
    },
    {
      "cell_type": "code",
      "source": [
        "plt.imshow(test_samples[0].squeeze(),cmap=\"gray\")\n",
        "plt.title(class_[test_labels[0]])"
      ],
      "metadata": {
        "colab": {
          "base_uri": "https://localhost:8080/",
          "height": 469
        },
        "id": "Tn3j1HFEVPgc",
        "outputId": "fde76522-0661-4e5c-87df-90fbeff9c1ab"
      },
      "execution_count": 28,
      "outputs": [
        {
          "output_type": "execute_result",
          "data": {
            "text/plain": [
              "Text(0.5, 1.0, 'six')"
            ]
          },
          "metadata": {},
          "execution_count": 28
        },
        {
          "output_type": "display_data",
          "data": {
            "text/plain": [
              "<Figure size 640x480 with 1 Axes>"
            ],
            "image/png": "[encoded data removed]"
          },
          "metadata": {}
        }
      ]
    },
    {
      "cell_type": "code",
      "source": [
        "#Make prediction:\n",
        "pred_probs=make_prediction(model=model,\n",
        "                       data=test_samples\n",
        "                      )\n",
        "pred_probs[:2]"
      ],
      "metadata": {
        "colab": {
          "base_uri": "https://localhost:8080/"
        },
        "id": "4B3rQ1ZpVVVG",
        "outputId": "58926541-b7ce-4eb2-a7d6-2170d4bea9b0"
      },
      "execution_count": 29,
      "outputs": [
        {
          "output_type": "execute_result",
          "data": {
            "text/plain": [
              "tensor([[1.4139e-05, 7.3825e-09, 1.9438e-08, 5.9161e-11, 4.7981e-08, 2.0542e-04,\n",
              "         9.9973e-01, 8.9402e-12, 5.3608e-05, 2.5995e-09],\n",
              "        [7.1869e-06, 1.2533e-10, 1.7888e-09, 4.5261e-07, 3.8316e-08, 9.9686e-01,\n",
              "         3.1230e-03, 2.7267e-11, 7.6934e-06, 1.1551e-06]])"
            ]
          },
          "metadata": {},
          "execution_count": 29
        }
      ]
    },
    {
      "cell_type": "code",
      "source": [
        "test_labels"
      ],
      "metadata": {
        "colab": {
          "base_uri": "https://localhost:8080/"
        },
        "id": "ev4cyUIkVl-x",
        "outputId": "d9784ac7-1e20-421c-ab57-8a2ede116abb"
      },
      "execution_count": 31,
      "outputs": [
        {
          "output_type": "execute_result",
          "data": {
            "text/plain": [
              "[6, 5, 4, 1, 1, 1, 4, 2, 4]"
            ]
          },
          "metadata": {},
          "execution_count": 31
        }
      ]
    },
    {
      "cell_type": "code",
      "source": [
        "#convert prediction probabilities to label:\n",
        "pred_lables=pred_probs.argmax(dim=1)\n",
        "pred_lables"
      ],
      "metadata": {
        "colab": {
          "base_uri": "https://localhost:8080/"
        },
        "id": "MEzdr3XzVfze",
        "outputId": "a45a7d6b-560b-4a12-ce39-e988abd83b50"
      },
      "execution_count": 30,
      "outputs": [
        {
          "output_type": "execute_result",
          "data": {
            "text/plain": [
              "tensor([6, 5, 4, 1, 1, 1, 4, 2, 4])"
            ]
          },
          "metadata": {},
          "execution_count": 30
        }
      ]
    },
    {
      "cell_type": "code",
      "source": [
        "#visualize visualize visualize\n",
        "plt.figure(figsize=(9,9))\n",
        "nrows=3\n",
        "ncols=3\n",
        "for i,sample in enumerate(test_samples):\n",
        "  #plot the subplot\n",
        "  plt.subplot(nrows,ncols,i+1)\n",
        "  #make the target image\n",
        "  plt.imshow(sample.squeeze(),cmap=\"gray\")\n",
        "  #Predicted_labels:\n",
        "  pred_label=class_[pred_lables[i]]\n",
        "  #truth label:\n",
        "  true_label=class_[test_labels[i]]\n",
        "\n",
        "  #create the title of each subplot:\n",
        "  title_text=f\"Pred: {pred_label} | Truth: {true_label}\"\n",
        "\n",
        "  #check the eqality and changing color of right or wrong prdiction:\n",
        "  if pred_label==true_label:\n",
        "    plt.title(title_text,fontsize=10,c='g')\n",
        "    plt.axis(\"off\")\n",
        "  else:\n",
        "    plt.title(title_text,fontsize=10,c=\"r\")\n",
        "    plt.axis(\"off\")"
      ],
      "metadata": {
        "colab": {
          "base_uri": "https://localhost:8080/",
          "height": 749
        },
        "id": "GYXxqBRlVpEo",
        "outputId": "d96eadf1-2fea-43b2-ba12-51d6d93a7209"
      },
      "execution_count": 32,
      "outputs": [
        {
          "output_type": "display_data",
          "data": {
            "text/plain": [
              "<Figure size 900x900 with 9 Axes>"
            ],
            "image/png": "[encoded data removed]"
          },
          "metadata": {}
        }
      ]
    },
    {
      "cell_type": "code",
      "source": [
        "#creating the path and folder\n",
        "Model_path=Path(\"Model_CNN\")\n",
        "Model_path.mkdir(parents=True,\n",
        "                 exist_ok=True)\n",
        "\n",
        "#Model naming and its path naming:\n",
        "Model_name=\"Exercise_4_model_CNN.pth\"\n",
        "Model_saving_path=Model_path / Model_name\n",
        "\n",
        "#saving the model:\n",
        "print(f\"Saving model to: {Model_saving_path}\")\n",
        "torch.save(obj=model.state_dict(), # only saving the state_dict() only saves the learned parameters\n",
        "           f=Model_saving_path)"
      ],
      "metadata": {
        "colab": {
          "base_uri": "https://localhost:8080/"
        },
        "id": "bqvYTqjxV0YX",
        "outputId": "1c6fa631-fc38-492e-b4bd-ba36e39c8a49"
      },
      "execution_count": 33,
      "outputs": [
        {
          "output_type": "stream",
          "name": "stdout",
          "text": [
            "Saving model to: Model_CNN/Exercise_4_model_CNN.pth\n"
          ]
        }
      ]
    },
    {
      "cell_type": "code",
      "source": [
        "#now we will create evaluation function so that it can run for diffrent model:\n",
        "def eval(model_=torch.nn.Module,\n",
        "         data_loader=torch.utils.data.DataLoader,\n",
        "         loss_fn=torch.nn.Module,\n",
        "         accuracy_fn=None,\n",
        "         device: torch.device = device):\n",
        "  model_.eval()\n",
        "  loss=0\n",
        "  accu=0\n",
        "  with torch.inference_mode():\n",
        "    for X,y in tqdm(data_loader):\n",
        "      X,y=X.to(device),y.to(device)\n",
        "      y_pred=model_(X)\n",
        "      loss+=loss_fn(y_pred,y).item()\n",
        "      accu+=accuracy_fn(y_true=y,\n",
        "                y_pred=y_pred.argmax(dim=1))\n",
        "\n",
        "    loss/=len(data_loader)\n",
        "    accu/=len(data_loader)\n",
        "\n",
        "  return {\"Model_name\":model_.__class__.__name__,\n",
        "          \"Model_loss\":loss,\n",
        "          \"Model_accuracy\":accu}\n",
        "\n",
        "model_result=eval(model_=model,\n",
        "     data_loader=test_dataloader,\n",
        "     loss_fn=Loss_fn,\n",
        "     accuracy_fn=accuracy_fn)\n",
        "\n",
        "print(model_result)"
      ],
      "metadata": {
        "colab": {
          "base_uri": "https://localhost:8080/",
          "height": 66,
          "referenced_widgets": [
            "7411154b0d914843a3efb40acee20a36",
            "5c73f5679eea4a1eabed50fdb0a46166",
            "eb486e41004649fbb1e6109a8cb50b83",
            "9e3bc04d847342c68d74fe70c7116f90",
            "7029c9258acb4a07a0c90aab99ce1744",
            "d3e966fdc9f3445e963249eede12d029",
            "247d18c3ea54458490eb7e76b513e5a8",
            "c140a87e5bf24bd9933d9eed158300e0",
            "5ccf2c8d55d345df88d8c1a7a37f9bf1",
            "a85d3b3bce68497c9d6f1783e56e1b11",
            "c0a2b72209c7436686ee0cc363b9724f"
          ]
        },
        "id": "AsAkr-GmXNvZ",
        "outputId": "35338a40-8f84-4137-8cc3-dfcef9c36211"
      },
      "execution_count": 36,
      "outputs": [
        {
          "output_type": "display_data",
          "data": {
            "text/plain": [
              "  0%|          | 0/313 [00:00<?, ?it/s]"
            ],
            "application/vnd.jupyter.widget-view+json": {
              "version_major": 2,
              "version_minor": 0,
              "model_id": "7411154b0d914843a3efb40acee20a36"
            }
          },
          "metadata": {}
        },
        {
          "output_type": "stream",
          "name": "stdout",
          "text": [
            "{'Model_name': 'Model_classifier_CNN', 'Model_loss': 0.04183773210593172, 'Model_accuracy': 98.66214057507987}\n"
          ]
        }
      ]
    },
    {
      "cell_type": "code",
      "source": [
        "#using our saved model again:\n",
        "loaded_model=Model_classifier_CNN(input_shape=1,\n",
        "                      hidden_layer=30,\n",
        "                      output_shape=1)\n",
        "loaded_model.load_state_dict(torch.load(f=Model_saving_path))\n",
        "loaded_model=loaded_model.to(device)\n",
        "#evaluate our model:\n",
        "torch.manual_seed(42)\n",
        "loaded_model_result=eval(model_=loaded_model,\n",
        "                         data_loader=test_dataloader,\n",
        "                         loss_fn=Loss_fn,\n",
        "                         accuracy_fn=accuracy_fn,\n",
        "                         device=device)\n",
        "loaded_model_result"
      ],
      "metadata": {
        "colab": {
          "base_uri": "https://localhost:8080/",
          "height": 101,
          "referenced_widgets": [
            "da86ca6e0e9b4c92a314aeed043c02bb",
            "85ac5cbb624e4db09260d8f90943b49b",
            "cd98c25343e14165a67af88d7ac20b14",
            "c675c994ff25421d9eb5e24b18318ff9",
            "6d322358d33647759fc4db34c3578fba",
            "08583902576e46c88340a2cdb7363f73",
            "6a77737c59a84f2987c10eca34428614",
            "cd01b90b0805432099531b458ddbca29",
            "890527f996644f4ab4b3b8fdc40c17fa",
            "ab2d261bb52242d6be8b0744ee75c3e7",
            "9e886e457c3b4db29f0ef12b8cc4e5d5"
          ]
        },
        "id": "aVGjuIaNWIdA",
        "outputId": "15e1f887-ffb2-4ce2-829d-faf082a8633e"
      },
      "execution_count": 37,
      "outputs": [
        {
          "output_type": "display_data",
          "data": {
            "text/plain": [
              "  0%|          | 0/313 [00:00<?, ?it/s]"
            ],
            "application/vnd.jupyter.widget-view+json": {
              "version_major": 2,
              "version_minor": 0,
              "model_id": "da86ca6e0e9b4c92a314aeed043c02bb"
            }
          },
          "metadata": {}
        },
        {
          "output_type": "execute_result",
          "data": {
            "text/plain": [
              "{'Model_name': 'Model_classifier_CNN',\n",
              " 'Model_loss': 0.04183773210593172,\n",
              " 'Model_accuracy': 98.66214057507987}"
            ]
          },
          "metadata": {},
          "execution_count": 37
        }
      ]
    }
  ]
}