{
  "nbformat": 4,
  "nbformat_minor": 0,
  "metadata": {
    "colab": {
      "provenance": [],
      "gpuType": "T4",
      "authorship_tag": "ABX9TyM7qCCLOSNA0/3w1sTNNCiH",
      "include_colab_link": true
    },
    "kernelspec": {
      "name": "python3",
      "display_name": "Python 3"
    },
    "language_info": {
      "name": "python"
    },
    "accelerator": "GPU"
  },
  "cells": [
    {
      "cell_type": "markdown",
      "metadata": {
        "id": "view-in-github",
        "colab_type": "text"
      },
      "source": [
        "<a href=\"https://colab.research.google.com/github/yashraj01-se/Pytorchrepo/blob/main/Exrecise_fundamentals_1.ipynb\" target=\"_parent\"><img src=\"https://colab.research.google.com/assets/colab-badge.svg\" alt=\"Open In Colab\"/></a>"
      ]
    },
    {
      "cell_type": "code",
      "execution_count": 3,
      "metadata": {
        "id": "WyE85V7iPw11"
      },
      "outputs": [],
      "source": [
        "import torch"
      ]
    },
    {
      "cell_type": "code",
      "source": [
        "#1.#random tensor of shape (7,7)\n",
        "rand_tensor1=torch.rand(7,7)\n",
        "rand_tensor1"
      ],
      "metadata": {
        "colab": {
          "base_uri": "https://localhost:8080/"
        },
        "id": "rglxVhjUP9k3",
        "outputId": "2c56468a-57b3-4f08-ab65-f7252ce5a8ad"
      },
      "execution_count": 4,
      "outputs": [
        {
          "output_type": "execute_result",
          "data": {
            "text/plain": [
              "tensor([[0.4987, 0.7133, 0.3605, 0.6374, 0.4524, 0.8672, 0.8318],\n",
              "        [0.8686, 0.5433, 0.0690, 0.5684, 0.5011, 0.5965, 0.7643],\n",
              "        [0.2680, 0.8560, 0.8549, 0.8059, 0.5349, 0.0943, 0.2629],\n",
              "        [0.7471, 0.0665, 0.9354, 0.1319, 0.1880, 0.9167, 0.4535],\n",
              "        [0.8055, 0.5799, 0.0269, 0.9622, 0.4115, 0.1869, 0.3533],\n",
              "        [0.0922, 0.6042, 0.4701, 0.4266, 0.6112, 0.0613, 0.7932],\n",
              "        [0.6458, 0.4421, 0.0713, 0.3335, 0.9651, 0.9613, 0.3608]])"
            ]
          },
          "metadata": {},
          "execution_count": 4
        }
      ]
    },
    {
      "cell_type": "code",
      "source": [
        "#2.#matrix multipliaction with tensor of shape(1,7) #cannot be mutiplied direct beacue of mat rule 1.\n",
        "rand_tensor2=torch.rand(1,7)\n",
        "rand_tensor2_T=rand_tensor2.T\n",
        "mul_mat=rand_tensor1.matmul(rand_tensor2_T)\n",
        "print(mul_mat)"
      ],
      "metadata": {
        "colab": {
          "base_uri": "https://localhost:8080/"
        },
        "id": "jHCqgFekQNs-",
        "outputId": "9e75d189-aace-4ede-c055-48785f142342"
      },
      "execution_count": 5,
      "outputs": [
        {
          "output_type": "stream",
          "name": "stdout",
          "text": [
            "tensor([[3.0042],\n",
            "        [2.6605],\n",
            "        [2.2425],\n",
            "        [2.5403],\n",
            "        [2.0282],\n",
            "        [1.9259],\n",
            "        [2.6991]])\n"
          ]
        }
      ]
    },
    {
      "cell_type": "code",
      "source": [
        "#3. Set the random seed to `0` and do 2 & 3 over again.#random seed give us fixed random tensors....\n",
        "RANDOM_SEED=42;\n",
        "torch.manual_seed(RANDOM_SEED)\n",
        "fixed_tensor_1=torch.rand(7,7)\n",
        "print(\"first tensor:\",fixed_tensor_1)\n",
        "torch.manual_seed(RANDOM_SEED)\n",
        "fixed_tensor_2=torch.rand(1,7)\n",
        "print(\"second tensor:\",fixed_tensor_2)\n",
        "fixed_tensor_2_T=fixed_tensor_2.T\n",
        "mul=fixed_tensor_1.matmul(fixed_tensor_2_T)\n",
        "print(\"Matrix Multiplication:\",mul)"
      ],
      "metadata": {
        "id": "BRYyJvBQRGlm",
        "colab": {
          "base_uri": "https://localhost:8080/"
        },
        "outputId": "29acc52c-3a37-48cc-b86e-fb3fcb98c909"
      },
      "execution_count": 6,
      "outputs": [
        {
          "output_type": "stream",
          "name": "stdout",
          "text": [
            "first tensor: tensor([[0.8823, 0.9150, 0.3829, 0.9593, 0.3904, 0.6009, 0.2566],\n",
            "        [0.7936, 0.9408, 0.1332, 0.9346, 0.5936, 0.8694, 0.5677],\n",
            "        [0.7411, 0.4294, 0.8854, 0.5739, 0.2666, 0.6274, 0.2696],\n",
            "        [0.4414, 0.2969, 0.8317, 0.1053, 0.2695, 0.3588, 0.1994],\n",
            "        [0.5472, 0.0062, 0.9516, 0.0753, 0.8860, 0.5832, 0.3376],\n",
            "        [0.8090, 0.5779, 0.9040, 0.5547, 0.3423, 0.6343, 0.3644],\n",
            "        [0.7104, 0.9464, 0.7890, 0.2814, 0.7886, 0.5895, 0.7539]])\n",
            "second tensor: tensor([[0.8823, 0.9150, 0.3829, 0.9593, 0.3904, 0.6009, 0.2566]])\n",
            "Matrix Multiplication: tensor([[3.2618],\n",
            "        [3.4084],\n",
            "        [2.4866],\n",
            "        [1.4525],\n",
            "        [1.7079],\n",
            "        [2.7291],\n",
            "        [2.9204]])\n"
          ]
        }
      ]
    },
    {
      "cell_type": "code",
      "source": [
        "#4. Speaking of random seeds, we saw how to set it with `torch.manual_seed()` but is there a GPU equivalent? (hint: you'll need to look into the documentation for `torch.cuda` for this one)\n",
        "#* If there is, set the GPU random seed to `1234`.\n",
        "RANDOM_SEED=1234\n",
        "torch.manual_seed(RANDOM_SEED)\n",
        "random_tensor1=torch.rand(7,7)\n",
        "torch.manual_seed(RANDOM_SEED)\n",
        "random_tensor2=torch.rand(1,7)\n",
        "random_tensor2_t=random_tensor2.T\n",
        "device=\"cuda\" if torch.cuda.is_available() else \"cpu\"\n",
        "rand_tensor_to_gpu_1=random_tensor1.to(device)\n",
        "rand_tensor_to_gpu_2=random_tensor2_t.to(device)\n",
        "mul=rand_tensor_to_gpu_1.matmul(rand_tensor_to_gpu_2)\n",
        "print(\"Matrix multiplication on GPU:\",mul)\n"
      ],
      "metadata": {
        "colab": {
          "base_uri": "https://localhost:8080/"
        },
        "id": "ejBy7cBUSjHs",
        "outputId": "34ee023d-1d57-4423-c0d6-13794a2aa948"
      },
      "execution_count": 12,
      "outputs": [
        {
          "output_type": "stream",
          "name": "stdout",
          "text": [
            "Matrix multiplication on GPU: tensor([[0.8613],\n",
            "        [1.2761],\n",
            "        [1.1540],\n",
            "        [1.0134],\n",
            "        [0.6783],\n",
            "        [1.1122],\n",
            "        [0.7266]], device='cuda:0')\n"
          ]
        }
      ]
    },
    {
      "cell_type": "code",
      "source": [
        "#5.finding min and max after matrix mulytiplication:\n",
        "print(\"Minimum value:\",mul.min())\n",
        "print(\"Maximum value:\",mul.max())"
      ],
      "metadata": {
        "colab": {
          "base_uri": "https://localhost:8080/"
        },
        "id": "b0oZzbKhUIXA",
        "outputId": "0f28a811-cb66-479e-9eef-4b17a743f530"
      },
      "execution_count": 13,
      "outputs": [
        {
          "output_type": "stream",
          "name": "stdout",
          "text": [
            "Minimum value: tensor(0.6783, device='cuda:0')\n",
            "Maximum value: tensor(1.2761, device='cuda:0')\n"
          ]
        }
      ]
    },
    {
      "cell_type": "code",
      "source": [
        "#6.finding the maximum and minimum index values of the output of 7:\n",
        "\n",
        "print(\"Minimum value index:\",mul.argmin())\n",
        "print(\"Maximum value index:\",mul.argmax())"
      ],
      "metadata": {
        "colab": {
          "base_uri": "https://localhost:8080/"
        },
        "id": "vzqA9eAiVk4Z",
        "outputId": "66cf0b9b-fa97-40a3-bec4-0883b448f047"
      },
      "execution_count": 14,
      "outputs": [
        {
          "output_type": "stream",
          "name": "stdout",
          "text": [
            "Minimum value index: tensor(4, device='cuda:0')\n",
            "Maximum value index: tensor(1, device='cuda:0')\n"
          ]
        }
      ]
    },
    {
      "cell_type": "code",
      "source": [
        "#7. Make a random tensor with shape `(1, 1, 1, 10)` and then create a new tensor with all the `1` dimensions removed to be left with a tensor of shape `(10)`. Set the seed to `7` when you create it and print out the first tensor and it's shape as well as the second tensor and it's shape.\n",
        "RANDOM_SEED=7\n",
        "torch.manual_seed(RANDOM_SEED)\n",
        "ra_ten=torch.rand(1,1,1,10)\n",
        "print(\"First_tensor:\",ra_ten)\n",
        "print(\"First tensor shape:\",ra_ten.shape)\n",
        "torch.manual_seed(RANDOM_SEED)\n",
        "ra_ten_sq=ra_ten.squeeze()\n",
        "print(\"Second_tensor:\",ra_ten_sq)\n",
        "print(\"Second tensor shape:\",ra_ten_sq.shape)\n"
      ],
      "metadata": {
        "colab": {
          "base_uri": "https://localhost:8080/"
        },
        "id": "VtCuEXb0WH4T",
        "outputId": "8fbd6fd0-e1e4-45e1-8d68-d0278166b7ea"
      },
      "execution_count": 16,
      "outputs": [
        {
          "output_type": "stream",
          "name": "stdout",
          "text": [
            "First_tensor: tensor([[[[0.5349, 0.1988, 0.6592, 0.6569, 0.2328, 0.4251, 0.2071, 0.6297,\n",
            "           0.3653, 0.8513]]]])\n",
            "First tensor shape: torch.Size([1, 1, 1, 10])\n",
            "Second_tensor: tensor([0.5349, 0.1988, 0.6592, 0.6569, 0.2328, 0.4251, 0.2071, 0.6297, 0.3653,\n",
            "        0.8513])\n",
            "Second tensor shape: torch.Size([10])\n"
          ]
        }
      ]
    }
  ]
}