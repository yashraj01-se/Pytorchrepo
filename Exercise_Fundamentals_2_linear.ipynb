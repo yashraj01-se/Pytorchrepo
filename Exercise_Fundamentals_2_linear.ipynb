{
  "nbformat": 4,
  "nbformat_minor": 0,
  "metadata": {
    "colab": {
      "provenance": [],
      "gpuType": "T4",
      "authorship_tag": "ABX9TyPBvHfwVBrff2R7e0cFRFtt",
      "include_colab_link": true
    },
    "kernelspec": {
      "name": "python3",
      "display_name": "Python 3"
    },
    "language_info": {
      "name": "python"
    },
    "accelerator": "GPU"
  },
  "cells": [
    {
      "cell_type": "markdown",
      "metadata": {
        "id": "view-in-github",
        "colab_type": "text"
      },
      "source": [
        "<a href=\"https://colab.research.google.com/github/yashraj01-se/Pytorchrepo/blob/main/Exercise_Fundamentals_2_linear.ipynb\" target=\"_parent\"><img src=\"https://colab.research.google.com/assets/colab-badge.svg\" alt=\"Open In Colab\"/></a>"
      ]
    },
    {
      "cell_type": "code",
      "execution_count": 69,
      "metadata": {
        "id": "EvobcbNwcE0o",
        "colab": {
          "base_uri": "https://localhost:8080/",
          "height": 35
        },
        "outputId": "8a355893-5b47-4069-b043-506f2583b06c"
      },
      "outputs": [
        {
          "output_type": "execute_result",
          "data": {
            "text/plain": [
              "'cuda'"
            ],
            "application/vnd.google.colaboratory.intrinsic+json": {
              "type": "string"
            }
          },
          "metadata": {},
          "execution_count": 69
        }
      ],
      "source": [
        "import torch\n",
        "\n",
        "#setting up device agnostic code:\n",
        "device=\"cuda\" if torch.cuda.is_available() else \"cpu\"\n",
        "device"
      ]
    },
    {
      "cell_type": "code",
      "source": [
        "weight=0.7\n",
        "bias=0.3\n",
        "start=0\n",
        "end=1\n",
        "step=0.01\n",
        "\n",
        "x_data=torch.arange(start,end,step).unsqueeze(dim=1)\n",
        "y_data=x_data*weight+bias\n",
        "\n",
        "\n",
        "print(x_data[:10],y_data[:10])"
      ],
      "metadata": {
        "id": "qDQAQ7dLdl6N",
        "colab": {
          "base_uri": "https://localhost:8080/"
        },
        "outputId": "4ff4decb-d170-44b2-83b8-04c1a11aaf0e"
      },
      "execution_count": 70,
      "outputs": [
        {
          "output_type": "stream",
          "name": "stdout",
          "text": [
            "tensor([[0.0000],\n",
            "        [0.0100],\n",
            "        [0.0200],\n",
            "        [0.0300],\n",
            "        [0.0400],\n",
            "        [0.0500],\n",
            "        [0.0600],\n",
            "        [0.0700],\n",
            "        [0.0800],\n",
            "        [0.0900]]) tensor([[0.3000],\n",
            "        [0.3070],\n",
            "        [0.3140],\n",
            "        [0.3210],\n",
            "        [0.3280],\n",
            "        [0.3350],\n",
            "        [0.3420],\n",
            "        [0.3490],\n",
            "        [0.3560],\n",
            "        [0.3630]])\n"
          ]
        }
      ]
    },
    {
      "cell_type": "code",
      "source": [
        "x_split=int(len(x_data)*0.8)\n",
        "x_train,y_train=x_data[:x_split],x_data[:x_split]\n",
        "x_test,y_test=x_data[x_split:],x_data[x_split:]\n",
        "\n",
        "print(len(x_train),len(y_train),len(x_test),len(y_test))"
      ],
      "metadata": {
        "colab": {
          "base_uri": "https://localhost:8080/"
        },
        "id": "UR5S-QRAeQP7",
        "outputId": "1aa195bb-f2c5-4ea5-d262-de7fe555c3ed"
      },
      "execution_count": 71,
      "outputs": [
        {
          "output_type": "stream",
          "name": "stdout",
          "text": [
            "80 80 20 20\n"
          ]
        }
      ]
    },
    {
      "cell_type": "code",
      "source": [
        "import matplotlib.pyplot as plt\n",
        "def plot_prediction(train_data=x_train,\n",
        "                    train_labels=y_train,\n",
        "                    test_data=x_test,\n",
        "                    test_labels=y_test,\n",
        "                    prediction=None):\n",
        "  plt.figure(figsize=(10,7))\n",
        "#plot the training data:\n",
        "  plt.scatter(train_data,train_labels,c=\"b\",s=4,label=\"Training Data\")\n",
        "#plot the testing data:\n",
        "  plt.scatter(test_data,test_labels,c=\"g\",s=4,label=\"Testing Data\")\n",
        "#now if prediction:\n",
        "  if prediction is not None:\n",
        "    plt.scatter(test_data,prediction,c=\"r\",s=4,label=\"Prediction\")\n",
        "  plt.legend(prop={\"size\":14})\n",
        "  plt.show()"
      ],
      "metadata": {
        "id": "0C8C3P2egQCU"
      },
      "execution_count": 72,
      "outputs": []
    },
    {
      "cell_type": "code",
      "source": [
        "plot_prediction(train_data=x_train,\n",
        "                train_labels=y_train,\n",
        "                test_data=x_test,\n",
        "                test_labels=y_test)"
      ],
      "metadata": {
        "colab": {
          "base_uri": "https://localhost:8080/",
          "height": 599
        },
        "id": "jbV8MmCTg9Ad",
        "outputId": "e788d05b-ef91-4a21-998a-c2a12bb83e56"
      },
      "execution_count": 73,
      "outputs": [
        {
          "output_type": "display_data",
          "data": {
            "text/plain": [
              "<Figure size 1000x700 with 1 Axes>"
            ],
            "image/png": "[encoded data removed]"
          },
          "metadata": {}
        }
      ]
    },
    {
      "cell_type": "code",
      "source": [
        "from torch import nn\n",
        "class linearModel(nn.Module):\n",
        "  def __init__(self):\n",
        "    super().__init__()\n",
        "    self.weight=nn.Parameter(torch.randn(1,requires_grad=True,dtype=torch.float))\n",
        "    self.bias=nn.Parameter(torch.randn(1,requires_grad=True,dtype=torch.float))\n",
        "\n",
        "  def forward(self,x):\n",
        "    return self.weight*x+self.bias"
      ],
      "metadata": {
        "id": "glhI9_X5hVhQ"
      },
      "execution_count": 74,
      "outputs": []
    },
    {
      "cell_type": "code",
      "source": [
        "torch.manual_seed(42)\n",
        "torch.cuda.manual_seed(42)\n",
        "\n",
        "model_0=linearModel()\n",
        "model_0.state_dict()"
      ],
      "metadata": {
        "colab": {
          "base_uri": "https://localhost:8080/"
        },
        "id": "I8ZBsEdKiPNX",
        "outputId": "7468601e-8772-42ef-9a7a-747d586b2838"
      },
      "execution_count": 75,
      "outputs": [
        {
          "output_type": "execute_result",
          "data": {
            "text/plain": [
              "OrderedDict([('weight', tensor([0.3367])), ('bias', tensor([0.1288]))])"
            ]
          },
          "metadata": {},
          "execution_count": 75
        }
      ]
    },
    {
      "cell_type": "code",
      "source": [
        "with torch.inference_mode():\n",
        "  y_pred=model_0(x_test)"
      ],
      "metadata": {
        "id": "FRun78hnl30I"
      },
      "execution_count": 76,
      "outputs": []
    },
    {
      "cell_type": "code",
      "source": [
        "plot_prediction(prediction=y_pred)"
      ],
      "metadata": {
        "colab": {
          "base_uri": "https://localhost:8080/",
          "height": 599
        },
        "id": "T8g-D2bgmP0j",
        "outputId": "674f16a3-d0d0-47c8-8e1e-21653c5abe5f"
      },
      "execution_count": 77,
      "outputs": [
        {
          "output_type": "display_data",
          "data": {
            "text/plain": [
              "<Figure size 1000x700 with 1 Axes>"
            ],
            "image/png": "[encoded data removed]"
          },
          "metadata": {}
        }
      ]
    },
    {
      "cell_type": "code",
      "source": [
        "loss_fn=nn.L1Loss()\n",
        "optimizer=torch.optim.SGD(params=model_0.parameters(),\n",
        "                          lr=0.01)"
      ],
      "metadata": {
        "id": "pNT3FepmitOb"
      },
      "execution_count": 78,
      "outputs": []
    },
    {
      "cell_type": "code",
      "source": [
        "epochs=300\n",
        "for epoch in range(epochs):\n",
        "  model_0.train()\n",
        "  y_pred=model_0(x_train)\n",
        "  train_loss=loss_fn(y_pred,y_train)\n",
        "  optimizer.zero_grad()\n",
        "  train_loss.backward()\n",
        "  optimizer.step()\n",
        "\n",
        "  model_0.eval()\n",
        "  with torch.inference_mode():\n",
        "    test_pred=model_0(x_test)\n",
        "    test_loss=loss_fn(test_pred,y_test)\n",
        "\n",
        "  if epoch%10==0:\n",
        "    print(f\"Epoch:{epoch:.2f} | Loss:{train_loss:.2f} |Test loss:{test_loss:.2f}\")\n",
        "    print(model_0.state_dict())\n"
      ],
      "metadata": {
        "colab": {
          "base_uri": "https://localhost:8080/"
        },
        "id": "HSjvOuvyi5Yc",
        "outputId": "1210dcda-390d-4e62-db3d-21d8703121f0"
      },
      "execution_count": 79,
      "outputs": [
        {
          "output_type": "stream",
          "name": "stdout",
          "text": [
            "Epoch:0.00 | Loss:0.17 |Test loss:0.46\n",
            "OrderedDict([('weight', tensor([0.3402])), ('bias', tensor([0.1338]))])\n",
            "Epoch:10.00 | Loss:0.14 |Test loss:0.39\n",
            "OrderedDict([('weight', tensor([0.3726])), ('bias', tensor([0.1733]))])\n",
            "Epoch:20.00 | Loss:0.12 |Test loss:0.34\n",
            "OrderedDict([('weight', tensor([0.4008])), ('bias', tensor([0.1971]))])\n",
            "Epoch:30.00 | Loss:0.12 |Test loss:0.31\n",
            "OrderedDict([('weight', tensor([0.4253])), ('bias', tensor([0.2093]))])\n",
            "Epoch:40.00 | Loss:0.11 |Test loss:0.28\n",
            "OrderedDict([('weight', tensor([0.4473])), ('bias', tensor([0.2143]))])\n",
            "Epoch:50.00 | Loss:0.11 |Test loss:0.26\n",
            "OrderedDict([('weight', tensor([0.4673])), ('bias', tensor([0.2143]))])\n",
            "Epoch:60.00 | Loss:0.10 |Test loss:0.25\n",
            "OrderedDict([('weight', tensor([0.4861])), ('bias', tensor([0.2113]))])\n",
            "Epoch:70.00 | Loss:0.10 |Test loss:0.24\n",
            "OrderedDict([('weight', tensor([0.5040])), ('bias', tensor([0.2063]))])\n",
            "Epoch:80.00 | Loss:0.10 |Test loss:0.23\n",
            "OrderedDict([('weight', tensor([0.5218])), ('bias', tensor([0.2008]))])\n",
            "Epoch:90.00 | Loss:0.09 |Test loss:0.22\n",
            "OrderedDict([('weight', tensor([0.5389])), ('bias', tensor([0.1938]))])\n",
            "Epoch:100.00 | Loss:0.09 |Test loss:0.21\n",
            "OrderedDict([('weight', tensor([0.5560])), ('bias', tensor([0.1866]))])\n",
            "Epoch:110.00 | Loss:0.09 |Test loss:0.20\n",
            "OrderedDict([('weight', tensor([0.5730])), ('bias', tensor([0.1793]))])\n",
            "Epoch:120.00 | Loss:0.08 |Test loss:0.19\n",
            "OrderedDict([('weight', tensor([0.5901])), ('bias', tensor([0.1723]))])\n",
            "Epoch:130.00 | Loss:0.08 |Test loss:0.19\n",
            "OrderedDict([('weight', tensor([0.6071])), ('bias', tensor([0.1651]))])\n",
            "Epoch:140.00 | Loss:0.08 |Test loss:0.18\n",
            "OrderedDict([('weight', tensor([0.6242])), ('bias', tensor([0.1578]))])\n",
            "Epoch:150.00 | Loss:0.07 |Test loss:0.17\n",
            "OrderedDict([('weight', tensor([0.6413])), ('bias', tensor([0.1508]))])\n",
            "Epoch:160.00 | Loss:0.07 |Test loss:0.16\n",
            "OrderedDict([('weight', tensor([0.6583])), ('bias', tensor([0.1436]))])\n",
            "Epoch:170.00 | Loss:0.07 |Test loss:0.15\n",
            "OrderedDict([('weight', tensor([0.6754])), ('bias', tensor([0.1363]))])\n",
            "Epoch:180.00 | Loss:0.06 |Test loss:0.15\n",
            "OrderedDict([('weight', tensor([0.6925])), ('bias', tensor([0.1293]))])\n",
            "Epoch:190.00 | Loss:0.06 |Test loss:0.14\n",
            "OrderedDict([('weight', tensor([0.7095])), ('bias', tensor([0.1221]))])\n",
            "Epoch:200.00 | Loss:0.06 |Test loss:0.13\n",
            "OrderedDict([('weight', tensor([0.7266])), ('bias', tensor([0.1148]))])\n",
            "Epoch:210.00 | Loss:0.05 |Test loss:0.12\n",
            "OrderedDict([('weight', tensor([0.7437])), ('bias', tensor([0.1078]))])\n",
            "Epoch:220.00 | Loss:0.05 |Test loss:0.11\n",
            "OrderedDict([('weight', tensor([0.7607])), ('bias', tensor([0.1006]))])\n",
            "Epoch:230.00 | Loss:0.04 |Test loss:0.11\n",
            "OrderedDict([('weight', tensor([0.7778])), ('bias', tensor([0.0933]))])\n",
            "Epoch:240.00 | Loss:0.04 |Test loss:0.10\n",
            "OrderedDict([('weight', tensor([0.7949])), ('bias', tensor([0.0863]))])\n",
            "Epoch:250.00 | Loss:0.04 |Test loss:0.09\n",
            "OrderedDict([('weight', tensor([0.8119])), ('bias', tensor([0.0791]))])\n",
            "Epoch:260.00 | Loss:0.03 |Test loss:0.08\n",
            "OrderedDict([('weight', tensor([0.8290])), ('bias', tensor([0.0718]))])\n",
            "Epoch:270.00 | Loss:0.03 |Test loss:0.07\n",
            "OrderedDict([('weight', tensor([0.8461])), ('bias', tensor([0.0648]))])\n",
            "Epoch:280.00 | Loss:0.03 |Test loss:0.06\n",
            "OrderedDict([('weight', tensor([0.8631])), ('bias', tensor([0.0576]))])\n",
            "Epoch:290.00 | Loss:0.02 |Test loss:0.06\n",
            "OrderedDict([('weight', tensor([0.8802])), ('bias', tensor([0.0503]))])\n"
          ]
        }
      ]
    },
    {
      "cell_type": "code",
      "source": [
        "with torch.inference_mode():#truns off gradient tracking:\n",
        "  y_pred=model_0(x_test)\n",
        "y_pred\n",
        ""
      ],
      "metadata": {
        "colab": {
          "base_uri": "https://localhost:8080/"
        },
        "id": "Kpr1mmXulLaq",
        "outputId": "0b6feaf1-191f-44f9-9f48-9e192e69bb73"
      },
      "execution_count": 82,
      "outputs": [
        {
          "output_type": "execute_result",
          "data": {
            "text/plain": [
              "tensor([[0.7605],\n",
              "        [0.7695],\n",
              "        [0.7784],\n",
              "        [0.7874],\n",
              "        [0.7964],\n",
              "        [0.8053],\n",
              "        [0.8143],\n",
              "        [0.8232],\n",
              "        [0.8322],\n",
              "        [0.8411],\n",
              "        [0.8501],\n",
              "        [0.8590],\n",
              "        [0.8680],\n",
              "        [0.8770],\n",
              "        [0.8859],\n",
              "        [0.8949],\n",
              "        [0.9038],\n",
              "        [0.9128],\n",
              "        [0.9217],\n",
              "        [0.9307]])"
            ]
          },
          "metadata": {},
          "execution_count": 82
        }
      ]
    },
    {
      "cell_type": "code",
      "source": [
        "plot_prediction(prediction=y_pred)"
      ],
      "metadata": {
        "colab": {
          "base_uri": "https://localhost:8080/",
          "height": 599
        },
        "id": "WOmhp_YblN6w",
        "outputId": "da323d1d-95f8-46f4-ae74-99b1e69050de"
      },
      "execution_count": 83,
      "outputs": [
        {
          "output_type": "display_data",
          "data": {
            "text/plain": [
              "<Figure size 1000x700 with 1 Axes>"
            ],
            "image/png": "[encoded data removed]"
          },
          "metadata": {}
        }
      ]
    },
    {
      "cell_type": "code",
      "source": [
        "model_0.state_dict()"
      ],
      "metadata": {
        "colab": {
          "base_uri": "https://localhost:8080/"
        },
        "id": "4fU56-b6m0D7",
        "outputId": "58b93692-8e84-4270-e4dd-e97d30811659"
      },
      "execution_count": 84,
      "outputs": [
        {
          "output_type": "execute_result",
          "data": {
            "text/plain": [
              "OrderedDict([('weight', tensor([0.8956])), ('bias', tensor([0.0441]))])"
            ]
          },
          "metadata": {},
          "execution_count": 84
        }
      ]
    }
  ]
}