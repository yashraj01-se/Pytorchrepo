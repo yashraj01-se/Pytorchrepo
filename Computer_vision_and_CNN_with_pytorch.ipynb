{
  "nbformat": 4,
  "nbformat_minor": 0,
  "metadata": {
    "colab": {
      "provenance": [],
      "gpuType": "T4",
      "authorship_tag": "ABX9TyPqngc4JhCTSQzEjT5tB38j",
      "include_colab_link": true
    },
    "kernelspec": {
      "name": "python3",
      "display_name": "Python 3"
    },
    "language_info": {
      "name": "python"
    },
    "widgets": {
      "application/vnd.jupyter.widget-state+json": {
        "510281f0def94805a2cebbf86fa95e9c": {
          "model_module": "@jupyter-widgets/controls",
          "model_name": "HBoxModel",
          "model_module_version": "1.5.0",
          "state": {
            "_dom_classes": [],
            "_model_module": "@jupyter-widgets/controls",
            "_model_module_version": "1.5.0",
            "_model_name": "HBoxModel",
            "_view_count": null,
            "_view_module": "@jupyter-widgets/controls",
            "_view_module_version": "1.5.0",
            "_view_name": "HBoxView",
            "box_style": "",
            "children": [
              "IPY_MODEL_a628c9e6ef08482d8c280ef9f4aabb6f",
              "IPY_MODEL_d22024c8296e410e9991d6538b70275c",
              "IPY_MODEL_dd6ca877fc9b495ab809efa7fc72436d"
            ],
            "layout": "IPY_MODEL_c56146a35b6147fcb878f885dd773770"
          }
        },
        "a628c9e6ef08482d8c280ef9f4aabb6f": {
          "model_module": "@jupyter-widgets/controls",
          "model_name": "HTMLModel",
          "model_module_version": "1.5.0",
          "state": {
            "_dom_classes": [],
            "_model_module": "@jupyter-widgets/controls",
            "_model_module_version": "1.5.0",
            "_model_name": "HTMLModel",
            "_view_count": null,
            "_view_module": "@jupyter-widgets/controls",
            "_view_module_version": "1.5.0",
            "_view_name": "HTMLView",
            "description": "",
            "description_tooltip": null,
            "layout": "IPY_MODEL_ab5f2c13fcc844ebbcf09e4b0c9dc5d2",
            "placeholder": "​",
            "style": "IPY_MODEL_cff6105aae424509940b3d6e0361b003",
            "value": "100%"
          }
        },
        "d22024c8296e410e9991d6538b70275c": {
          "model_module": "@jupyter-widgets/controls",
          "model_name": "FloatProgressModel",
          "model_module_version": "1.5.0",
          "state": {
            "_dom_classes": [],
            "_model_module": "@jupyter-widgets/controls",
            "_model_module_version": "1.5.0",
            "_model_name": "FloatProgressModel",
            "_view_count": null,
            "_view_module": "@jupyter-widgets/controls",
            "_view_module_version": "1.5.0",
            "_view_name": "ProgressView",
            "bar_style": "success",
            "description": "",
            "description_tooltip": null,
            "layout": "IPY_MODEL_118b5995b25b42c9b066b83dee9dcb98",
            "max": 3,
            "min": 0,
            "orientation": "horizontal",
            "style": "IPY_MODEL_10f01beb92b24af58a37b8865260b6ff",
            "value": 3
          }
        },
        "dd6ca877fc9b495ab809efa7fc72436d": {
          "model_module": "@jupyter-widgets/controls",
          "model_name": "HTMLModel",
          "model_module_version": "1.5.0",
          "state": {
            "_dom_classes": [],
            "_model_module": "@jupyter-widgets/controls",
            "_model_module_version": "1.5.0",
            "_model_name": "HTMLModel",
            "_view_count": null,
            "_view_module": "@jupyter-widgets/controls",
            "_view_module_version": "1.5.0",
            "_view_name": "HTMLView",
            "description": "",
            "description_tooltip": null,
            "layout": "IPY_MODEL_945c186a848d4e72a699789d4ddae9c5",
            "placeholder": "​",
            "style": "IPY_MODEL_d36d41cd69a549098e42692a96abfb61",
            "value": " 3/3 [00:30&lt;00:00,  9.99s/it]"
          }
        },
        "c56146a35b6147fcb878f885dd773770": {
          "model_module": "@jupyter-widgets/base",
          "model_name": "LayoutModel",
          "model_module_version": "1.2.0",
          "state": {
            "_model_module": "@jupyter-widgets/base",
            "_model_module_version": "1.2.0",
            "_model_name": "LayoutModel",
            "_view_count": null,
            "_view_module": "@jupyter-widgets/base",
            "_view_module_version": "1.2.0",
            "_view_name": "LayoutView",
            "align_content": null,
            "align_items": null,
            "align_self": null,
            "border": null,
            "bottom": null,
            "display": null,
            "flex": null,
            "flex_flow": null,
            "grid_area": null,
            "grid_auto_columns": null,
            "grid_auto_flow": null,
            "grid_auto_rows": null,
            "grid_column": null,
            "grid_gap": null,
            "grid_row": null,
            "grid_template_areas": null,
            "grid_template_columns": null,
            "grid_template_rows": null,
            "height": null,
            "justify_content": null,
            "justify_items": null,
            "left": null,
            "margin": null,
            "max_height": null,
            "max_width": null,
            "min_height": null,
            "min_width": null,
            "object_fit": null,
            "object_position": null,
            "order": null,
            "overflow": null,
            "overflow_x": null,
            "overflow_y": null,
            "padding": null,
            "right": null,
            "top": null,
            "visibility": null,
            "width": null
          }
        },
        "ab5f2c13fcc844ebbcf09e4b0c9dc5d2": {
          "model_module": "@jupyter-widgets/base",
          "model_name": "LayoutModel",
          "model_module_version": "1.2.0",
          "state": {
            "_model_module": "@jupyter-widgets/base",
            "_model_module_version": "1.2.0",
            "_model_name": "LayoutModel",
            "_view_count": null,
            "_view_module": "@jupyter-widgets/base",
            "_view_module_version": "1.2.0",
            "_view_name": "LayoutView",
            "align_content": null,
            "align_items": null,
            "align_self": null,
            "border": null,
            "bottom": null,
            "display": null,
            "flex": null,
            "flex_flow": null,
            "grid_area": null,
            "grid_auto_columns": null,
            "grid_auto_flow": null,
            "grid_auto_rows": null,
            "grid_column": null,
            "grid_gap": null,
            "grid_row": null,
            "grid_template_areas": null,
            "grid_template_columns": null,
            "grid_template_rows": null,
            "height": null,
            "justify_content": null,
            "justify_items": null,
            "left": null,
            "margin": null,
            "max_height": null,
            "max_width": null,
            "min_height": null,
            "min_width": null,
            "object_fit": null,
            "object_position": null,
            "order": null,
            "overflow": null,
            "overflow_x": null,
            "overflow_y": null,
            "padding": null,
            "right": null,
            "top": null,
            "visibility": null,
            "width": null
          }
        },
        "cff6105aae424509940b3d6e0361b003": {
          "model_module": "@jupyter-widgets/controls",
          "model_name": "DescriptionStyleModel",
          "model_module_version": "1.5.0",
          "state": {
            "_model_module": "@jupyter-widgets/controls",
            "_model_module_version": "1.5.0",
            "_model_name": "DescriptionStyleModel",
            "_view_count": null,
            "_view_module": "@jupyter-widgets/base",
            "_view_module_version": "1.2.0",
            "_view_name": "StyleView",
            "description_width": ""
          }
        },
        "118b5995b25b42c9b066b83dee9dcb98": {
          "model_module": "@jupyter-widgets/base",
          "model_name": "LayoutModel",
          "model_module_version": "1.2.0",
          "state": {
            "_model_module": "@jupyter-widgets/base",
            "_model_module_version": "1.2.0",
            "_model_name": "LayoutModel",
            "_view_count": null,
            "_view_module": "@jupyter-widgets/base",
            "_view_module_version": "1.2.0",
            "_view_name": "LayoutView",
            "align_content": null,
            "align_items": null,
            "align_self": null,
            "border": null,
            "bottom": null,
            "display": null,
            "flex": null,
            "flex_flow": null,
            "grid_area": null,
            "grid_auto_columns": null,
            "grid_auto_flow": null,
            "grid_auto_rows": null,
            "grid_column": null,
            "grid_gap": null,
            "grid_row": null,
            "grid_template_areas": null,
            "grid_template_columns": null,
            "grid_template_rows": null,
            "height": null,
            "justify_content": null,
            "justify_items": null,
            "left": null,
            "margin": null,
            "max_height": null,
            "max_width": null,
            "min_height": null,
            "min_width": null,
            "object_fit": null,
            "object_position": null,
            "order": null,
            "overflow": null,
            "overflow_x": null,
            "overflow_y": null,
            "padding": null,
            "right": null,
            "top": null,
            "visibility": null,
            "width": null
          }
        },
        "10f01beb92b24af58a37b8865260b6ff": {
          "model_module": "@jupyter-widgets/controls",
          "model_name": "ProgressStyleModel",
          "model_module_version": "1.5.0",
          "state": {
            "_model_module": "@jupyter-widgets/controls",
            "_model_module_version": "1.5.0",
            "_model_name": "ProgressStyleModel",
            "_view_count": null,
            "_view_module": "@jupyter-widgets/base",
            "_view_module_version": "1.2.0",
            "_view_name": "StyleView",
            "bar_color": null,
            "description_width": ""
          }
        },
        "945c186a848d4e72a699789d4ddae9c5": {
          "model_module": "@jupyter-widgets/base",
          "model_name": "LayoutModel",
          "model_module_version": "1.2.0",
          "state": {
            "_model_module": "@jupyter-widgets/base",
            "_model_module_version": "1.2.0",
            "_model_name": "LayoutModel",
            "_view_count": null,
            "_view_module": "@jupyter-widgets/base",
            "_view_module_version": "1.2.0",
            "_view_name": "LayoutView",
            "align_content": null,
            "align_items": null,
            "align_self": null,
            "border": null,
            "bottom": null,
            "display": null,
            "flex": null,
            "flex_flow": null,
            "grid_area": null,
            "grid_auto_columns": null,
            "grid_auto_flow": null,
            "grid_auto_rows": null,
            "grid_column": null,
            "grid_gap": null,
            "grid_row": null,
            "grid_template_areas": null,
            "grid_template_columns": null,
            "grid_template_rows": null,
            "height": null,
            "justify_content": null,
            "justify_items": null,
            "left": null,
            "margin": null,
            "max_height": null,
            "max_width": null,
            "min_height": null,
            "min_width": null,
            "object_fit": null,
            "object_position": null,
            "order": null,
            "overflow": null,
            "overflow_x": null,
            "overflow_y": null,
            "padding": null,
            "right": null,
            "top": null,
            "visibility": null,
            "width": null
          }
        },
        "d36d41cd69a549098e42692a96abfb61": {
          "model_module": "@jupyter-widgets/controls",
          "model_name": "DescriptionStyleModel",
          "model_module_version": "1.5.0",
          "state": {
            "_model_module": "@jupyter-widgets/controls",
            "_model_module_version": "1.5.0",
            "_model_name": "DescriptionStyleModel",
            "_view_count": null,
            "_view_module": "@jupyter-widgets/base",
            "_view_module_version": "1.2.0",
            "_view_name": "StyleView",
            "description_width": ""
          }
        },
        "4ab43cd67ad24f61bc97d80c1a230f8e": {
          "model_module": "@jupyter-widgets/controls",
          "model_name": "HBoxModel",
          "model_module_version": "1.5.0",
          "state": {
            "_dom_classes": [],
            "_model_module": "@jupyter-widgets/controls",
            "_model_module_version": "1.5.0",
            "_model_name": "HBoxModel",
            "_view_count": null,
            "_view_module": "@jupyter-widgets/controls",
            "_view_module_version": "1.5.0",
            "_view_name": "HBoxView",
            "box_style": "",
            "children": [
              "IPY_MODEL_6fdcee11c794472291b26c4751b41ab5",
              "IPY_MODEL_e6135f8523b049e3b4fd240d7acc7f0d",
              "IPY_MODEL_e4feb5888b5a4f958637a142aa3f03f3"
            ],
            "layout": "IPY_MODEL_9f06bb1f6ea846b2a5a0b291bbe4367b"
          }
        },
        "6fdcee11c794472291b26c4751b41ab5": {
          "model_module": "@jupyter-widgets/controls",
          "model_name": "HTMLModel",
          "model_module_version": "1.5.0",
          "state": {
            "_dom_classes": [],
            "_model_module": "@jupyter-widgets/controls",
            "_model_module_version": "1.5.0",
            "_model_name": "HTMLModel",
            "_view_count": null,
            "_view_module": "@jupyter-widgets/controls",
            "_view_module_version": "1.5.0",
            "_view_name": "HTMLView",
            "description": "",
            "description_tooltip": null,
            "layout": "IPY_MODEL_e9e9e78b6be9473ebb721a3783a46d4a",
            "placeholder": "​",
            "style": "IPY_MODEL_6585c2bb3e3f4b45ac19b69937f02e03",
            "value": "100%"
          }
        },
        "e6135f8523b049e3b4fd240d7acc7f0d": {
          "model_module": "@jupyter-widgets/controls",
          "model_name": "FloatProgressModel",
          "model_module_version": "1.5.0",
          "state": {
            "_dom_classes": [],
            "_model_module": "@jupyter-widgets/controls",
            "_model_module_version": "1.5.0",
            "_model_name": "FloatProgressModel",
            "_view_count": null,
            "_view_module": "@jupyter-widgets/controls",
            "_view_module_version": "1.5.0",
            "_view_name": "ProgressView",
            "bar_style": "success",
            "description": "",
            "description_tooltip": null,
            "layout": "IPY_MODEL_ae47f04bf4a545e39acf8c752d779f23",
            "max": 313,
            "min": 0,
            "orientation": "horizontal",
            "style": "IPY_MODEL_e1f5b863ffa14f769baf08eda9dd9b94",
            "value": 313
          }
        },
        "e4feb5888b5a4f958637a142aa3f03f3": {
          "model_module": "@jupyter-widgets/controls",
          "model_name": "HTMLModel",
          "model_module_version": "1.5.0",
          "state": {
            "_dom_classes": [],
            "_model_module": "@jupyter-widgets/controls",
            "_model_module_version": "1.5.0",
            "_model_name": "HTMLModel",
            "_view_count": null,
            "_view_module": "@jupyter-widgets/controls",
            "_view_module_version": "1.5.0",
            "_view_name": "HTMLView",
            "description": "",
            "description_tooltip": null,
            "layout": "IPY_MODEL_d416968a78e748a2a44530e1c3f5e677",
            "placeholder": "​",
            "style": "IPY_MODEL_e30a29042e4b47f9a6d9b1e49f76e266",
            "value": " 313/313 [00:01&lt;00:00, 280.12it/s]"
          }
        },
        "9f06bb1f6ea846b2a5a0b291bbe4367b": {
          "model_module": "@jupyter-widgets/base",
          "model_name": "LayoutModel",
          "model_module_version": "1.2.0",
          "state": {
            "_model_module": "@jupyter-widgets/base",
            "_model_module_version": "1.2.0",
            "_model_name": "LayoutModel",
            "_view_count": null,
            "_view_module": "@jupyter-widgets/base",
            "_view_module_version": "1.2.0",
            "_view_name": "LayoutView",
            "align_content": null,
            "align_items": null,
            "align_self": null,
            "border": null,
            "bottom": null,
            "display": null,
            "flex": null,
            "flex_flow": null,
            "grid_area": null,
            "grid_auto_columns": null,
            "grid_auto_flow": null,
            "grid_auto_rows": null,
            "grid_column": null,
            "grid_gap": null,
            "grid_row": null,
            "grid_template_areas": null,
            "grid_template_columns": null,
            "grid_template_rows": null,
            "height": null,
            "justify_content": null,
            "justify_items": null,
            "left": null,
            "margin": null,
            "max_height": null,
            "max_width": null,
            "min_height": null,
            "min_width": null,
            "object_fit": null,
            "object_position": null,
            "order": null,
            "overflow": null,
            "overflow_x": null,
            "overflow_y": null,
            "padding": null,
            "right": null,
            "top": null,
            "visibility": null,
            "width": null
          }
        },
        "e9e9e78b6be9473ebb721a3783a46d4a": {
          "model_module": "@jupyter-widgets/base",
          "model_name": "LayoutModel",
          "model_module_version": "1.2.0",
          "state": {
            "_model_module": "@jupyter-widgets/base",
            "_model_module_version": "1.2.0",
            "_model_name": "LayoutModel",
            "_view_count": null,
            "_view_module": "@jupyter-widgets/base",
            "_view_module_version": "1.2.0",
            "_view_name": "LayoutView",
            "align_content": null,
            "align_items": null,
            "align_self": null,
            "border": null,
            "bottom": null,
            "display": null,
            "flex": null,
            "flex_flow": null,
            "grid_area": null,
            "grid_auto_columns": null,
            "grid_auto_flow": null,
            "grid_auto_rows": null,
            "grid_column": null,
            "grid_gap": null,
            "grid_row": null,
            "grid_template_areas": null,
            "grid_template_columns": null,
            "grid_template_rows": null,
            "height": null,
            "justify_content": null,
            "justify_items": null,
            "left": null,
            "margin": null,
            "max_height": null,
            "max_width": null,
            "min_height": null,
            "min_width": null,
            "object_fit": null,
            "object_position": null,
            "order": null,
            "overflow": null,
            "overflow_x": null,
            "overflow_y": null,
            "padding": null,
            "right": null,
            "top": null,
            "visibility": null,
            "width": null
          }
        },
        "6585c2bb3e3f4b45ac19b69937f02e03": {
          "model_module": "@jupyter-widgets/controls",
          "model_name": "DescriptionStyleModel",
          "model_module_version": "1.5.0",
          "state": {
            "_model_module": "@jupyter-widgets/controls",
            "_model_module_version": "1.5.0",
            "_model_name": "DescriptionStyleModel",
            "_view_count": null,
            "_view_module": "@jupyter-widgets/base",
            "_view_module_version": "1.2.0",
            "_view_name": "StyleView",
            "description_width": ""
          }
        },
        "ae47f04bf4a545e39acf8c752d779f23": {
          "model_module": "@jupyter-widgets/base",
          "model_name": "LayoutModel",
          "model_module_version": "1.2.0",
          "state": {
            "_model_module": "@jupyter-widgets/base",
            "_model_module_version": "1.2.0",
            "_model_name": "LayoutModel",
            "_view_count": null,
            "_view_module": "@jupyter-widgets/base",
            "_view_module_version": "1.2.0",
            "_view_name": "LayoutView",
            "align_content": null,
            "align_items": null,
            "align_self": null,
            "border": null,
            "bottom": null,
            "display": null,
            "flex": null,
            "flex_flow": null,
            "grid_area": null,
            "grid_auto_columns": null,
            "grid_auto_flow": null,
            "grid_auto_rows": null,
            "grid_column": null,
            "grid_gap": null,
            "grid_row": null,
            "grid_template_areas": null,
            "grid_template_columns": null,
            "grid_template_rows": null,
            "height": null,
            "justify_content": null,
            "justify_items": null,
            "left": null,
            "margin": null,
            "max_height": null,
            "max_width": null,
            "min_height": null,
            "min_width": null,
            "object_fit": null,
            "object_position": null,
            "order": null,
            "overflow": null,
            "overflow_x": null,
            "overflow_y": null,
            "padding": null,
            "right": null,
            "top": null,
            "visibility": null,
            "width": null
          }
        },
        "e1f5b863ffa14f769baf08eda9dd9b94": {
          "model_module": "@jupyter-widgets/controls",
          "model_name": "ProgressStyleModel",
          "model_module_version": "1.5.0",
          "state": {
            "_model_module": "@jupyter-widgets/controls",
            "_model_module_version": "1.5.0",
            "_model_name": "ProgressStyleModel",
            "_view_count": null,
            "_view_module": "@jupyter-widgets/base",
            "_view_module_version": "1.2.0",
            "_view_name": "StyleView",
            "bar_color": null,
            "description_width": ""
          }
        },
        "d416968a78e748a2a44530e1c3f5e677": {
          "model_module": "@jupyter-widgets/base",
          "model_name": "LayoutModel",
          "model_module_version": "1.2.0",
          "state": {
            "_model_module": "@jupyter-widgets/base",
            "_model_module_version": "1.2.0",
            "_model_name": "LayoutModel",
            "_view_count": null,
            "_view_module": "@jupyter-widgets/base",
            "_view_module_version": "1.2.0",
            "_view_name": "LayoutView",
            "align_content": null,
            "align_items": null,
            "align_self": null,
            "border": null,
            "bottom": null,
            "display": null,
            "flex": null,
            "flex_flow": null,
            "grid_area": null,
            "grid_auto_columns": null,
            "grid_auto_flow": null,
            "grid_auto_rows": null,
            "grid_column": null,
            "grid_gap": null,
            "grid_row": null,
            "grid_template_areas": null,
            "grid_template_columns": null,
            "grid_template_rows": null,
            "height": null,
            "justify_content": null,
            "justify_items": null,
            "left": null,
            "margin": null,
            "max_height": null,
            "max_width": null,
            "min_height": null,
            "min_width": null,
            "object_fit": null,
            "object_position": null,
            "order": null,
            "overflow": null,
            "overflow_x": null,
            "overflow_y": null,
            "padding": null,
            "right": null,
            "top": null,
            "visibility": null,
            "width": null
          }
        },
        "e30a29042e4b47f9a6d9b1e49f76e266": {
          "model_module": "@jupyter-widgets/controls",
          "model_name": "DescriptionStyleModel",
          "model_module_version": "1.5.0",
          "state": {
            "_model_module": "@jupyter-widgets/controls",
            "_model_module_version": "1.5.0",
            "_model_name": "DescriptionStyleModel",
            "_view_count": null,
            "_view_module": "@jupyter-widgets/base",
            "_view_module_version": "1.2.0",
            "_view_name": "StyleView",
            "description_width": ""
          }
        },
        "0534e8a260664df1a2ac08e6ece79608": {
          "model_module": "@jupyter-widgets/controls",
          "model_name": "HBoxModel",
          "model_module_version": "1.5.0",
          "state": {
            "_dom_classes": [],
            "_model_module": "@jupyter-widgets/controls",
            "_model_module_version": "1.5.0",
            "_model_name": "HBoxModel",
            "_view_count": null,
            "_view_module": "@jupyter-widgets/controls",
            "_view_module_version": "1.5.0",
            "_view_name": "HBoxView",
            "box_style": "",
            "children": [
              "IPY_MODEL_d6375e57823b48aba15e57b93416b395",
              "IPY_MODEL_90fe0eca3dfe417c97bbda936b59796b",
              "IPY_MODEL_ddb259c2fd5940b5b4e6a021d6d2b43f"
            ],
            "layout": "IPY_MODEL_b97a4b91688e43d6a6b76b889f474c91"
          }
        },
        "d6375e57823b48aba15e57b93416b395": {
          "model_module": "@jupyter-widgets/controls",
          "model_name": "HTMLModel",
          "model_module_version": "1.5.0",
          "state": {
            "_dom_classes": [],
            "_model_module": "@jupyter-widgets/controls",
            "_model_module_version": "1.5.0",
            "_model_name": "HTMLModel",
            "_view_count": null,
            "_view_module": "@jupyter-widgets/controls",
            "_view_module_version": "1.5.0",
            "_view_name": "HTMLView",
            "description": "",
            "description_tooltip": null,
            "layout": "IPY_MODEL_3e4223b9b1d44e7dbcfded4ad7948ae7",
            "placeholder": "​",
            "style": "IPY_MODEL_d9c42252efe64c17ab5aa3ecfc9eafd9",
            "value": "100%"
          }
        },
        "90fe0eca3dfe417c97bbda936b59796b": {
          "model_module": "@jupyter-widgets/controls",
          "model_name": "FloatProgressModel",
          "model_module_version": "1.5.0",
          "state": {
            "_dom_classes": [],
            "_model_module": "@jupyter-widgets/controls",
            "_model_module_version": "1.5.0",
            "_model_name": "FloatProgressModel",
            "_view_count": null,
            "_view_module": "@jupyter-widgets/controls",
            "_view_module_version": "1.5.0",
            "_view_name": "ProgressView",
            "bar_style": "success",
            "description": "",
            "description_tooltip": null,
            "layout": "IPY_MODEL_633f6209ef8f4623acbf05bb70484c36",
            "max": 3,
            "min": 0,
            "orientation": "horizontal",
            "style": "IPY_MODEL_c033d5f7ae214b038a208aecd8b222a0",
            "value": 3
          }
        },
        "ddb259c2fd5940b5b4e6a021d6d2b43f": {
          "model_module": "@jupyter-widgets/controls",
          "model_name": "HTMLModel",
          "model_module_version": "1.5.0",
          "state": {
            "_dom_classes": [],
            "_model_module": "@jupyter-widgets/controls",
            "_model_module_version": "1.5.0",
            "_model_name": "HTMLModel",
            "_view_count": null,
            "_view_module": "@jupyter-widgets/controls",
            "_view_module_version": "1.5.0",
            "_view_name": "HTMLView",
            "description": "",
            "description_tooltip": null,
            "layout": "IPY_MODEL_5e427cdf869640868d35d2ee4368965c",
            "placeholder": "​",
            "style": "IPY_MODEL_6c333a40c3ca4766a820e8a3c06c2746",
            "value": " 3/3 [00:30&lt;00:00,  9.93s/it]"
          }
        },
        "b97a4b91688e43d6a6b76b889f474c91": {
          "model_module": "@jupyter-widgets/base",
          "model_name": "LayoutModel",
          "model_module_version": "1.2.0",
          "state": {
            "_model_module": "@jupyter-widgets/base",
            "_model_module_version": "1.2.0",
            "_model_name": "LayoutModel",
            "_view_count": null,
            "_view_module": "@jupyter-widgets/base",
            "_view_module_version": "1.2.0",
            "_view_name": "LayoutView",
            "align_content": null,
            "align_items": null,
            "align_self": null,
            "border": null,
            "bottom": null,
            "display": null,
            "flex": null,
            "flex_flow": null,
            "grid_area": null,
            "grid_auto_columns": null,
            "grid_auto_flow": null,
            "grid_auto_rows": null,
            "grid_column": null,
            "grid_gap": null,
            "grid_row": null,
            "grid_template_areas": null,
            "grid_template_columns": null,
            "grid_template_rows": null,
            "height": null,
            "justify_content": null,
            "justify_items": null,
            "left": null,
            "margin": null,
            "max_height": null,
            "max_width": null,
            "min_height": null,
            "min_width": null,
            "object_fit": null,
            "object_position": null,
            "order": null,
            "overflow": null,
            "overflow_x": null,
            "overflow_y": null,
            "padding": null,
            "right": null,
            "top": null,
            "visibility": null,
            "width": null
          }
        },
        "3e4223b9b1d44e7dbcfded4ad7948ae7": {
          "model_module": "@jupyter-widgets/base",
          "model_name": "LayoutModel",
          "model_module_version": "1.2.0",
          "state": {
            "_model_module": "@jupyter-widgets/base",
            "_model_module_version": "1.2.0",
            "_model_name": "LayoutModel",
            "_view_count": null,
            "_view_module": "@jupyter-widgets/base",
            "_view_module_version": "1.2.0",
            "_view_name": "LayoutView",
            "align_content": null,
            "align_items": null,
            "align_self": null,
            "border": null,
            "bottom": null,
            "display": null,
            "flex": null,
            "flex_flow": null,
            "grid_area": null,
            "grid_auto_columns": null,
            "grid_auto_flow": null,
            "grid_auto_rows": null,
            "grid_column": null,
            "grid_gap": null,
            "grid_row": null,
            "grid_template_areas": null,
            "grid_template_columns": null,
            "grid_template_rows": null,
            "height": null,
            "justify_content": null,
            "justify_items": null,
            "left": null,
            "margin": null,
            "max_height": null,
            "max_width": null,
            "min_height": null,
            "min_width": null,
            "object_fit": null,
            "object_position": null,
            "order": null,
            "overflow": null,
            "overflow_x": null,
            "overflow_y": null,
            "padding": null,
            "right": null,
            "top": null,
            "visibility": null,
            "width": null
          }
        },
        "d9c42252efe64c17ab5aa3ecfc9eafd9": {
          "model_module": "@jupyter-widgets/controls",
          "model_name": "DescriptionStyleModel",
          "model_module_version": "1.5.0",
          "state": {
            "_model_module": "@jupyter-widgets/controls",
            "_model_module_version": "1.5.0",
            "_model_name": "DescriptionStyleModel",
            "_view_count": null,
            "_view_module": "@jupyter-widgets/base",
            "_view_module_version": "1.2.0",
            "_view_name": "StyleView",
            "description_width": ""
          }
        },
        "633f6209ef8f4623acbf05bb70484c36": {
          "model_module": "@jupyter-widgets/base",
          "model_name": "LayoutModel",
          "model_module_version": "1.2.0",
          "state": {
            "_model_module": "@jupyter-widgets/base",
            "_model_module_version": "1.2.0",
            "_model_name": "LayoutModel",
            "_view_count": null,
            "_view_module": "@jupyter-widgets/base",
            "_view_module_version": "1.2.0",
            "_view_name": "LayoutView",
            "align_content": null,
            "align_items": null,
            "align_self": null,
            "border": null,
            "bottom": null,
            "display": null,
            "flex": null,
            "flex_flow": null,
            "grid_area": null,
            "grid_auto_columns": null,
            "grid_auto_flow": null,
            "grid_auto_rows": null,
            "grid_column": null,
            "grid_gap": null,
            "grid_row": null,
            "grid_template_areas": null,
            "grid_template_columns": null,
            "grid_template_rows": null,
            "height": null,
            "justify_content": null,
            "justify_items": null,
            "left": null,
            "margin": null,
            "max_height": null,
            "max_width": null,
            "min_height": null,
            "min_width": null,
            "object_fit": null,
            "object_position": null,
            "order": null,
            "overflow": null,
            "overflow_x": null,
            "overflow_y": null,
            "padding": null,
            "right": null,
            "top": null,
            "visibility": null,
            "width": null
          }
        },
        "c033d5f7ae214b038a208aecd8b222a0": {
          "model_module": "@jupyter-widgets/controls",
          "model_name": "ProgressStyleModel",
          "model_module_version": "1.5.0",
          "state": {
            "_model_module": "@jupyter-widgets/controls",
            "_model_module_version": "1.5.0",
            "_model_name": "ProgressStyleModel",
            "_view_count": null,
            "_view_module": "@jupyter-widgets/base",
            "_view_module_version": "1.2.0",
            "_view_name": "StyleView",
            "bar_color": null,
            "description_width": ""
          }
        },
        "5e427cdf869640868d35d2ee4368965c": {
          "model_module": "@jupyter-widgets/base",
          "model_name": "LayoutModel",
          "model_module_version": "1.2.0",
          "state": {
            "_model_module": "@jupyter-widgets/base",
            "_model_module_version": "1.2.0",
            "_model_name": "LayoutModel",
            "_view_count": null,
            "_view_module": "@jupyter-widgets/base",
            "_view_module_version": "1.2.0",
            "_view_name": "LayoutView",
            "align_content": null,
            "align_items": null,
            "align_self": null,
            "border": null,
            "bottom": null,
            "display": null,
            "flex": null,
            "flex_flow": null,
            "grid_area": null,
            "grid_auto_columns": null,
            "grid_auto_flow": null,
            "grid_auto_rows": null,
            "grid_column": null,
            "grid_gap": null,
            "grid_row": null,
            "grid_template_areas": null,
            "grid_template_columns": null,
            "grid_template_rows": null,
            "height": null,
            "justify_content": null,
            "justify_items": null,
            "left": null,
            "margin": null,
            "max_height": null,
            "max_width": null,
            "min_height": null,
            "min_width": null,
            "object_fit": null,
            "object_position": null,
            "order": null,
            "overflow": null,
            "overflow_x": null,
            "overflow_y": null,
            "padding": null,
            "right": null,
            "top": null,
            "visibility": null,
            "width": null
          }
        },
        "6c333a40c3ca4766a820e8a3c06c2746": {
          "model_module": "@jupyter-widgets/controls",
          "model_name": "DescriptionStyleModel",
          "model_module_version": "1.5.0",
          "state": {
            "_model_module": "@jupyter-widgets/controls",
            "_model_module_version": "1.5.0",
            "_model_name": "DescriptionStyleModel",
            "_view_count": null,
            "_view_module": "@jupyter-widgets/base",
            "_view_module_version": "1.2.0",
            "_view_name": "StyleView",
            "description_width": ""
          }
        },
        "1cadba412a354a13bcf4c8709772daeb": {
          "model_module": "@jupyter-widgets/controls",
          "model_name": "HBoxModel",
          "model_module_version": "1.5.0",
          "state": {
            "_dom_classes": [],
            "_model_module": "@jupyter-widgets/controls",
            "_model_module_version": "1.5.0",
            "_model_name": "HBoxModel",
            "_view_count": null,
            "_view_module": "@jupyter-widgets/controls",
            "_view_module_version": "1.5.0",
            "_view_name": "HBoxView",
            "box_style": "",
            "children": [
              "IPY_MODEL_aff3e8dee1834f17b2cc6ab8881df8fb",
              "IPY_MODEL_336ff94918b642e08dcb294c3344e2f6",
              "IPY_MODEL_5f6e80f0c8774e899d66e2292b54cba4"
            ],
            "layout": "IPY_MODEL_8cbad25b1c5f488b971ecc7153d2ba09"
          }
        },
        "aff3e8dee1834f17b2cc6ab8881df8fb": {
          "model_module": "@jupyter-widgets/controls",
          "model_name": "HTMLModel",
          "model_module_version": "1.5.0",
          "state": {
            "_dom_classes": [],
            "_model_module": "@jupyter-widgets/controls",
            "_model_module_version": "1.5.0",
            "_model_name": "HTMLModel",
            "_view_count": null,
            "_view_module": "@jupyter-widgets/controls",
            "_view_module_version": "1.5.0",
            "_view_name": "HTMLView",
            "description": "",
            "description_tooltip": null,
            "layout": "IPY_MODEL_5102601f88184b699101da19d301f85b",
            "placeholder": "​",
            "style": "IPY_MODEL_9cae0c45768245b2a166ec35b980996c",
            "value": "100%"
          }
        },
        "336ff94918b642e08dcb294c3344e2f6": {
          "model_module": "@jupyter-widgets/controls",
          "model_name": "FloatProgressModel",
          "model_module_version": "1.5.0",
          "state": {
            "_dom_classes": [],
            "_model_module": "@jupyter-widgets/controls",
            "_model_module_version": "1.5.0",
            "_model_name": "FloatProgressModel",
            "_view_count": null,
            "_view_module": "@jupyter-widgets/controls",
            "_view_module_version": "1.5.0",
            "_view_name": "ProgressView",
            "bar_style": "success",
            "description": "",
            "description_tooltip": null,
            "layout": "IPY_MODEL_9d70c1a1e7084e3ab28566a3ad8e81cd",
            "max": 313,
            "min": 0,
            "orientation": "horizontal",
            "style": "IPY_MODEL_61e05510a26a4b73a98ec45d7efd120e",
            "value": 313
          }
        },
        "5f6e80f0c8774e899d66e2292b54cba4": {
          "model_module": "@jupyter-widgets/controls",
          "model_name": "HTMLModel",
          "model_module_version": "1.5.0",
          "state": {
            "_dom_classes": [],
            "_model_module": "@jupyter-widgets/controls",
            "_model_module_version": "1.5.0",
            "_model_name": "HTMLModel",
            "_view_count": null,
            "_view_module": "@jupyter-widgets/controls",
            "_view_module_version": "1.5.0",
            "_view_name": "HTMLView",
            "description": "",
            "description_tooltip": null,
            "layout": "IPY_MODEL_b146eee1d3d24af4bd995829264d1642",
            "placeholder": "​",
            "style": "IPY_MODEL_82034706639a4e838aed73c8ffb3b40e",
            "value": " 313/313 [00:01&lt;00:00, 276.35it/s]"
          }
        },
        "8cbad25b1c5f488b971ecc7153d2ba09": {
          "model_module": "@jupyter-widgets/base",
          "model_name": "LayoutModel",
          "model_module_version": "1.2.0",
          "state": {
            "_model_module": "@jupyter-widgets/base",
            "_model_module_version": "1.2.0",
            "_model_name": "LayoutModel",
            "_view_count": null,
            "_view_module": "@jupyter-widgets/base",
            "_view_module_version": "1.2.0",
            "_view_name": "LayoutView",
            "align_content": null,
            "align_items": null,
            "align_self": null,
            "border": null,
            "bottom": null,
            "display": null,
            "flex": null,
            "flex_flow": null,
            "grid_area": null,
            "grid_auto_columns": null,
            "grid_auto_flow": null,
            "grid_auto_rows": null,
            "grid_column": null,
            "grid_gap": null,
            "grid_row": null,
            "grid_template_areas": null,
            "grid_template_columns": null,
            "grid_template_rows": null,
            "height": null,
            "justify_content": null,
            "justify_items": null,
            "left": null,
            "margin": null,
            "max_height": null,
            "max_width": null,
            "min_height": null,
            "min_width": null,
            "object_fit": null,
            "object_position": null,
            "order": null,
            "overflow": null,
            "overflow_x": null,
            "overflow_y": null,
            "padding": null,
            "right": null,
            "top": null,
            "visibility": null,
            "width": null
          }
        },
        "5102601f88184b699101da19d301f85b": {
          "model_module": "@jupyter-widgets/base",
          "model_name": "LayoutModel",
          "model_module_version": "1.2.0",
          "state": {
            "_model_module": "@jupyter-widgets/base",
            "_model_module_version": "1.2.0",
            "_model_name": "LayoutModel",
            "_view_count": null,
            "_view_module": "@jupyter-widgets/base",
            "_view_module_version": "1.2.0",
            "_view_name": "LayoutView",
            "align_content": null,
            "align_items": null,
            "align_self": null,
            "border": null,
            "bottom": null,
            "display": null,
            "flex": null,
            "flex_flow": null,
            "grid_area": null,
            "grid_auto_columns": null,
            "grid_auto_flow": null,
            "grid_auto_rows": null,
            "grid_column": null,
            "grid_gap": null,
            "grid_row": null,
            "grid_template_areas": null,
            "grid_template_columns": null,
            "grid_template_rows": null,
            "height": null,
            "justify_content": null,
            "justify_items": null,
            "left": null,
            "margin": null,
            "max_height": null,
            "max_width": null,
            "min_height": null,
            "min_width": null,
            "object_fit": null,
            "object_position": null,
            "order": null,
            "overflow": null,
            "overflow_x": null,
            "overflow_y": null,
            "padding": null,
            "right": null,
            "top": null,
            "visibility": null,
            "width": null
          }
        },
        "9cae0c45768245b2a166ec35b980996c": {
          "model_module": "@jupyter-widgets/controls",
          "model_name": "DescriptionStyleModel",
          "model_module_version": "1.5.0",
          "state": {
            "_model_module": "@jupyter-widgets/controls",
            "_model_module_version": "1.5.0",
            "_model_name": "DescriptionStyleModel",
            "_view_count": null,
            "_view_module": "@jupyter-widgets/base",
            "_view_module_version": "1.2.0",
            "_view_name": "StyleView",
            "description_width": ""
          }
        },
        "9d70c1a1e7084e3ab28566a3ad8e81cd": {
          "model_module": "@jupyter-widgets/base",
          "model_name": "LayoutModel",
          "model_module_version": "1.2.0",
          "state": {
            "_model_module": "@jupyter-widgets/base",
            "_model_module_version": "1.2.0",
            "_model_name": "LayoutModel",
            "_view_count": null,
            "_view_module": "@jupyter-widgets/base",
            "_view_module_version": "1.2.0",
            "_view_name": "LayoutView",
            "align_content": null,
            "align_items": null,
            "align_self": null,
            "border": null,
            "bottom": null,
            "display": null,
            "flex": null,
            "flex_flow": null,
            "grid_area": null,
            "grid_auto_columns": null,
            "grid_auto_flow": null,
            "grid_auto_rows": null,
            "grid_column": null,
            "grid_gap": null,
            "grid_row": null,
            "grid_template_areas": null,
            "grid_template_columns": null,
            "grid_template_rows": null,
            "height": null,
            "justify_content": null,
            "justify_items": null,
            "left": null,
            "margin": null,
            "max_height": null,
            "max_width": null,
            "min_height": null,
            "min_width": null,
            "object_fit": null,
            "object_position": null,
            "order": null,
            "overflow": null,
            "overflow_x": null,
            "overflow_y": null,
            "padding": null,
            "right": null,
            "top": null,
            "visibility": null,
            "width": null
          }
        },
        "61e05510a26a4b73a98ec45d7efd120e": {
          "model_module": "@jupyter-widgets/controls",
          "model_name": "ProgressStyleModel",
          "model_module_version": "1.5.0",
          "state": {
            "_model_module": "@jupyter-widgets/controls",
            "_model_module_version": "1.5.0",
            "_model_name": "ProgressStyleModel",
            "_view_count": null,
            "_view_module": "@jupyter-widgets/base",
            "_view_module_version": "1.2.0",
            "_view_name": "StyleView",
            "bar_color": null,
            "description_width": ""
          }
        },
        "b146eee1d3d24af4bd995829264d1642": {
          "model_module": "@jupyter-widgets/base",
          "model_name": "LayoutModel",
          "model_module_version": "1.2.0",
          "state": {
            "_model_module": "@jupyter-widgets/base",
            "_model_module_version": "1.2.0",
            "_model_name": "LayoutModel",
            "_view_count": null,
            "_view_module": "@jupyter-widgets/base",
            "_view_module_version": "1.2.0",
            "_view_name": "LayoutView",
            "align_content": null,
            "align_items": null,
            "align_self": null,
            "border": null,
            "bottom": null,
            "display": null,
            "flex": null,
            "flex_flow": null,
            "grid_area": null,
            "grid_auto_columns": null,
            "grid_auto_flow": null,
            "grid_auto_rows": null,
            "grid_column": null,
            "grid_gap": null,
            "grid_row": null,
            "grid_template_areas": null,
            "grid_template_columns": null,
            "grid_template_rows": null,
            "height": null,
            "justify_content": null,
            "justify_items": null,
            "left": null,
            "margin": null,
            "max_height": null,
            "max_width": null,
            "min_height": null,
            "min_width": null,
            "object_fit": null,
            "object_position": null,
            "order": null,
            "overflow": null,
            "overflow_x": null,
            "overflow_y": null,
            "padding": null,
            "right": null,
            "top": null,
            "visibility": null,
            "width": null
          }
        },
        "82034706639a4e838aed73c8ffb3b40e": {
          "model_module": "@jupyter-widgets/controls",
          "model_name": "DescriptionStyleModel",
          "model_module_version": "1.5.0",
          "state": {
            "_model_module": "@jupyter-widgets/controls",
            "_model_module_version": "1.5.0",
            "_model_name": "DescriptionStyleModel",
            "_view_count": null,
            "_view_module": "@jupyter-widgets/base",
            "_view_module_version": "1.2.0",
            "_view_name": "StyleView",
            "description_width": ""
          }
        },
        "384ff54783b34aaabe3ad6369d55a8a5": {
          "model_module": "@jupyter-widgets/controls",
          "model_name": "HBoxModel",
          "model_module_version": "1.5.0",
          "state": {
            "_dom_classes": [],
            "_model_module": "@jupyter-widgets/controls",
            "_model_module_version": "1.5.0",
            "_model_name": "HBoxModel",
            "_view_count": null,
            "_view_module": "@jupyter-widgets/controls",
            "_view_module_version": "1.5.0",
            "_view_name": "HBoxView",
            "box_style": "",
            "children": [
              "IPY_MODEL_ffd5f28958174502a903fd127c8095df",
              "IPY_MODEL_3c10374641f94c289817e5cbab8c136f",
              "IPY_MODEL_c8384f0647274c0b8f50f4958d002d30"
            ],
            "layout": "IPY_MODEL_d10e0d4151d84de0a941a03a46e17637"
          }
        },
        "ffd5f28958174502a903fd127c8095df": {
          "model_module": "@jupyter-widgets/controls",
          "model_name": "HTMLModel",
          "model_module_version": "1.5.0",
          "state": {
            "_dom_classes": [],
            "_model_module": "@jupyter-widgets/controls",
            "_model_module_version": "1.5.0",
            "_model_name": "HTMLModel",
            "_view_count": null,
            "_view_module": "@jupyter-widgets/controls",
            "_view_module_version": "1.5.0",
            "_view_name": "HTMLView",
            "description": "",
            "description_tooltip": null,
            "layout": "IPY_MODEL_2d98f142fe97472499545ce5545cab87",
            "placeholder": "​",
            "style": "IPY_MODEL_9d2e399da8054b0295056c701477fe94",
            "value": "100%"
          }
        },
        "3c10374641f94c289817e5cbab8c136f": {
          "model_module": "@jupyter-widgets/controls",
          "model_name": "FloatProgressModel",
          "model_module_version": "1.5.0",
          "state": {
            "_dom_classes": [],
            "_model_module": "@jupyter-widgets/controls",
            "_model_module_version": "1.5.0",
            "_model_name": "FloatProgressModel",
            "_view_count": null,
            "_view_module": "@jupyter-widgets/controls",
            "_view_module_version": "1.5.0",
            "_view_name": "ProgressView",
            "bar_style": "success",
            "description": "",
            "description_tooltip": null,
            "layout": "IPY_MODEL_e24160bfd9814397aee54299a4cef17f",
            "max": 5,
            "min": 0,
            "orientation": "horizontal",
            "style": "IPY_MODEL_3663877d3f3a4c5091c037a11ce1de41",
            "value": 5
          }
        },
        "c8384f0647274c0b8f50f4958d002d30": {
          "model_module": "@jupyter-widgets/controls",
          "model_name": "HTMLModel",
          "model_module_version": "1.5.0",
          "state": {
            "_dom_classes": [],
            "_model_module": "@jupyter-widgets/controls",
            "_model_module_version": "1.5.0",
            "_model_name": "HTMLModel",
            "_view_count": null,
            "_view_module": "@jupyter-widgets/controls",
            "_view_module_version": "1.5.0",
            "_view_name": "HTMLView",
            "description": "",
            "description_tooltip": null,
            "layout": "IPY_MODEL_1d6db1909bec4e79a3a90b5259b79b73",
            "placeholder": "​",
            "style": "IPY_MODEL_4b238186dcde46e8b962723ef38b3810",
            "value": " 5/5 [10:07&lt;00:00, 120.73s/it]"
          }
        },
        "d10e0d4151d84de0a941a03a46e17637": {
          "model_module": "@jupyter-widgets/base",
          "model_name": "LayoutModel",
          "model_module_version": "1.2.0",
          "state": {
            "_model_module": "@jupyter-widgets/base",
            "_model_module_version": "1.2.0",
            "_model_name": "LayoutModel",
            "_view_count": null,
            "_view_module": "@jupyter-widgets/base",
            "_view_module_version": "1.2.0",
            "_view_name": "LayoutView",
            "align_content": null,
            "align_items": null,
            "align_self": null,
            "border": null,
            "bottom": null,
            "display": null,
            "flex": null,
            "flex_flow": null,
            "grid_area": null,
            "grid_auto_columns": null,
            "grid_auto_flow": null,
            "grid_auto_rows": null,
            "grid_column": null,
            "grid_gap": null,
            "grid_row": null,
            "grid_template_areas": null,
            "grid_template_columns": null,
            "grid_template_rows": null,
            "height": null,
            "justify_content": null,
            "justify_items": null,
            "left": null,
            "margin": null,
            "max_height": null,
            "max_width": null,
            "min_height": null,
            "min_width": null,
            "object_fit": null,
            "object_position": null,
            "order": null,
            "overflow": null,
            "overflow_x": null,
            "overflow_y": null,
            "padding": null,
            "right": null,
            "top": null,
            "visibility": null,
            "width": null
          }
        },
        "2d98f142fe97472499545ce5545cab87": {
          "model_module": "@jupyter-widgets/base",
          "model_name": "LayoutModel",
          "model_module_version": "1.2.0",
          "state": {
            "_model_module": "@jupyter-widgets/base",
            "_model_module_version": "1.2.0",
            "_model_name": "LayoutModel",
            "_view_count": null,
            "_view_module": "@jupyter-widgets/base",
            "_view_module_version": "1.2.0",
            "_view_name": "LayoutView",
            "align_content": null,
            "align_items": null,
            "align_self": null,
            "border": null,
            "bottom": null,
            "display": null,
            "flex": null,
            "flex_flow": null,
            "grid_area": null,
            "grid_auto_columns": null,
            "grid_auto_flow": null,
            "grid_auto_rows": null,
            "grid_column": null,
            "grid_gap": null,
            "grid_row": null,
            "grid_template_areas": null,
            "grid_template_columns": null,
            "grid_template_rows": null,
            "height": null,
            "justify_content": null,
            "justify_items": null,
            "left": null,
            "margin": null,
            "max_height": null,
            "max_width": null,
            "min_height": null,
            "min_width": null,
            "object_fit": null,
            "object_position": null,
            "order": null,
            "overflow": null,
            "overflow_x": null,
            "overflow_y": null,
            "padding": null,
            "right": null,
            "top": null,
            "visibility": null,
            "width": null
          }
        },
        "9d2e399da8054b0295056c701477fe94": {
          "model_module": "@jupyter-widgets/controls",
          "model_name": "DescriptionStyleModel",
          "model_module_version": "1.5.0",
          "state": {
            "_model_module": "@jupyter-widgets/controls",
            "_model_module_version": "1.5.0",
            "_model_name": "DescriptionStyleModel",
            "_view_count": null,
            "_view_module": "@jupyter-widgets/base",
            "_view_module_version": "1.2.0",
            "_view_name": "StyleView",
            "description_width": ""
          }
        },
        "e24160bfd9814397aee54299a4cef17f": {
          "model_module": "@jupyter-widgets/base",
          "model_name": "LayoutModel",
          "model_module_version": "1.2.0",
          "state": {
            "_model_module": "@jupyter-widgets/base",
            "_model_module_version": "1.2.0",
            "_model_name": "LayoutModel",
            "_view_count": null,
            "_view_module": "@jupyter-widgets/base",
            "_view_module_version": "1.2.0",
            "_view_name": "LayoutView",
            "align_content": null,
            "align_items": null,
            "align_self": null,
            "border": null,
            "bottom": null,
            "display": null,
            "flex": null,
            "flex_flow": null,
            "grid_area": null,
            "grid_auto_columns": null,
            "grid_auto_flow": null,
            "grid_auto_rows": null,
            "grid_column": null,
            "grid_gap": null,
            "grid_row": null,
            "grid_template_areas": null,
            "grid_template_columns": null,
            "grid_template_rows": null,
            "height": null,
            "justify_content": null,
            "justify_items": null,
            "left": null,
            "margin": null,
            "max_height": null,
            "max_width": null,
            "min_height": null,
            "min_width": null,
            "object_fit": null,
            "object_position": null,
            "order": null,
            "overflow": null,
            "overflow_x": null,
            "overflow_y": null,
            "padding": null,
            "right": null,
            "top": null,
            "visibility": null,
            "width": null
          }
        },
        "3663877d3f3a4c5091c037a11ce1de41": {
          "model_module": "@jupyter-widgets/controls",
          "model_name": "ProgressStyleModel",
          "model_module_version": "1.5.0",
          "state": {
            "_model_module": "@jupyter-widgets/controls",
            "_model_module_version": "1.5.0",
            "_model_name": "ProgressStyleModel",
            "_view_count": null,
            "_view_module": "@jupyter-widgets/base",
            "_view_module_version": "1.2.0",
            "_view_name": "StyleView",
            "bar_color": null,
            "description_width": ""
          }
        },
        "1d6db1909bec4e79a3a90b5259b79b73": {
          "model_module": "@jupyter-widgets/base",
          "model_name": "LayoutModel",
          "model_module_version": "1.2.0",
          "state": {
            "_model_module": "@jupyter-widgets/base",
            "_model_module_version": "1.2.0",
            "_model_name": "LayoutModel",
            "_view_count": null,
            "_view_module": "@jupyter-widgets/base",
            "_view_module_version": "1.2.0",
            "_view_name": "LayoutView",
            "align_content": null,
            "align_items": null,
            "align_self": null,
            "border": null,
            "bottom": null,
            "display": null,
            "flex": null,
            "flex_flow": null,
            "grid_area": null,
            "grid_auto_columns": null,
            "grid_auto_flow": null,
            "grid_auto_rows": null,
            "grid_column": null,
            "grid_gap": null,
            "grid_row": null,
            "grid_template_areas": null,
            "grid_template_columns": null,
            "grid_template_rows": null,
            "height": null,
            "justify_content": null,
            "justify_items": null,
            "left": null,
            "margin": null,
            "max_height": null,
            "max_width": null,
            "min_height": null,
            "min_width": null,
            "object_fit": null,
            "object_position": null,
            "order": null,
            "overflow": null,
            "overflow_x": null,
            "overflow_y": null,
            "padding": null,
            "right": null,
            "top": null,
            "visibility": null,
            "width": null
          }
        },
        "4b238186dcde46e8b962723ef38b3810": {
          "model_module": "@jupyter-widgets/controls",
          "model_name": "DescriptionStyleModel",
          "model_module_version": "1.5.0",
          "state": {
            "_model_module": "@jupyter-widgets/controls",
            "_model_module_version": "1.5.0",
            "_model_name": "DescriptionStyleModel",
            "_view_count": null,
            "_view_module": "@jupyter-widgets/base",
            "_view_module_version": "1.2.0",
            "_view_name": "StyleView",
            "description_width": ""
          }
        },
        "0d7a28c954a6481b968073cb1e9668d8": {
          "model_module": "@jupyter-widgets/controls",
          "model_name": "HBoxModel",
          "model_module_version": "1.5.0",
          "state": {
            "_dom_classes": [],
            "_model_module": "@jupyter-widgets/controls",
            "_model_module_version": "1.5.0",
            "_model_name": "HBoxModel",
            "_view_count": null,
            "_view_module": "@jupyter-widgets/controls",
            "_view_module_version": "1.5.0",
            "_view_name": "HBoxView",
            "box_style": "",
            "children": [
              "IPY_MODEL_e20c9fd3a2e04a4fa02edc36f08d9ec7",
              "IPY_MODEL_cac06af9706b4c9a92763368a0c7562a",
              "IPY_MODEL_831f40e5ac3d4b8db3c2fd6fd18164e4"
            ],
            "layout": "IPY_MODEL_89bc1e9cb9b44a359ac44e7d8ab89811"
          }
        },
        "e20c9fd3a2e04a4fa02edc36f08d9ec7": {
          "model_module": "@jupyter-widgets/controls",
          "model_name": "HTMLModel",
          "model_module_version": "1.5.0",
          "state": {
            "_dom_classes": [],
            "_model_module": "@jupyter-widgets/controls",
            "_model_module_version": "1.5.0",
            "_model_name": "HTMLModel",
            "_view_count": null,
            "_view_module": "@jupyter-widgets/controls",
            "_view_module_version": "1.5.0",
            "_view_name": "HTMLView",
            "description": "",
            "description_tooltip": null,
            "layout": "IPY_MODEL_b5c47035c3564b779225e37a974e7248",
            "placeholder": "​",
            "style": "IPY_MODEL_272da4f476534e73bd2f5c0c93f0ec20",
            "value": "100%"
          }
        },
        "cac06af9706b4c9a92763368a0c7562a": {
          "model_module": "@jupyter-widgets/controls",
          "model_name": "FloatProgressModel",
          "model_module_version": "1.5.0",
          "state": {
            "_dom_classes": [],
            "_model_module": "@jupyter-widgets/controls",
            "_model_module_version": "1.5.0",
            "_model_name": "FloatProgressModel",
            "_view_count": null,
            "_view_module": "@jupyter-widgets/controls",
            "_view_module_version": "1.5.0",
            "_view_name": "ProgressView",
            "bar_style": "success",
            "description": "",
            "description_tooltip": null,
            "layout": "IPY_MODEL_2f0b3036f7ea437eba184b432e163fb8",
            "max": 313,
            "min": 0,
            "orientation": "horizontal",
            "style": "IPY_MODEL_6b5ee9b7f76e4c3c8dc693acc9895fcd",
            "value": 313
          }
        },
        "831f40e5ac3d4b8db3c2fd6fd18164e4": {
          "model_module": "@jupyter-widgets/controls",
          "model_name": "HTMLModel",
          "model_module_version": "1.5.0",
          "state": {
            "_dom_classes": [],
            "_model_module": "@jupyter-widgets/controls",
            "_model_module_version": "1.5.0",
            "_model_name": "HTMLModel",
            "_view_count": null,
            "_view_module": "@jupyter-widgets/controls",
            "_view_module_version": "1.5.0",
            "_view_name": "HTMLView",
            "description": "",
            "description_tooltip": null,
            "layout": "IPY_MODEL_9b09d513cfb446e087bcb3dec91d95e8",
            "placeholder": "​",
            "style": "IPY_MODEL_e5283f982d76401bbde90b54e2f11d79",
            "value": " 313/313 [00:08&lt;00:00, 41.73it/s]"
          }
        },
        "89bc1e9cb9b44a359ac44e7d8ab89811": {
          "model_module": "@jupyter-widgets/base",
          "model_name": "LayoutModel",
          "model_module_version": "1.2.0",
          "state": {
            "_model_module": "@jupyter-widgets/base",
            "_model_module_version": "1.2.0",
            "_model_name": "LayoutModel",
            "_view_count": null,
            "_view_module": "@jupyter-widgets/base",
            "_view_module_version": "1.2.0",
            "_view_name": "LayoutView",
            "align_content": null,
            "align_items": null,
            "align_self": null,
            "border": null,
            "bottom": null,
            "display": null,
            "flex": null,
            "flex_flow": null,
            "grid_area": null,
            "grid_auto_columns": null,
            "grid_auto_flow": null,
            "grid_auto_rows": null,
            "grid_column": null,
            "grid_gap": null,
            "grid_row": null,
            "grid_template_areas": null,
            "grid_template_columns": null,
            "grid_template_rows": null,
            "height": null,
            "justify_content": null,
            "justify_items": null,
            "left": null,
            "margin": null,
            "max_height": null,
            "max_width": null,
            "min_height": null,
            "min_width": null,
            "object_fit": null,
            "object_position": null,
            "order": null,
            "overflow": null,
            "overflow_x": null,
            "overflow_y": null,
            "padding": null,
            "right": null,
            "top": null,
            "visibility": null,
            "width": null
          }
        },
        "b5c47035c3564b779225e37a974e7248": {
          "model_module": "@jupyter-widgets/base",
          "model_name": "LayoutModel",
          "model_module_version": "1.2.0",
          "state": {
            "_model_module": "@jupyter-widgets/base",
            "_model_module_version": "1.2.0",
            "_model_name": "LayoutModel",
            "_view_count": null,
            "_view_module": "@jupyter-widgets/base",
            "_view_module_version": "1.2.0",
            "_view_name": "LayoutView",
            "align_content": null,
            "align_items": null,
            "align_self": null,
            "border": null,
            "bottom": null,
            "display": null,
            "flex": null,
            "flex_flow": null,
            "grid_area": null,
            "grid_auto_columns": null,
            "grid_auto_flow": null,
            "grid_auto_rows": null,
            "grid_column": null,
            "grid_gap": null,
            "grid_row": null,
            "grid_template_areas": null,
            "grid_template_columns": null,
            "grid_template_rows": null,
            "height": null,
            "justify_content": null,
            "justify_items": null,
            "left": null,
            "margin": null,
            "max_height": null,
            "max_width": null,
            "min_height": null,
            "min_width": null,
            "object_fit": null,
            "object_position": null,
            "order": null,
            "overflow": null,
            "overflow_x": null,
            "overflow_y": null,
            "padding": null,
            "right": null,
            "top": null,
            "visibility": null,
            "width": null
          }
        },
        "272da4f476534e73bd2f5c0c93f0ec20": {
          "model_module": "@jupyter-widgets/controls",
          "model_name": "DescriptionStyleModel",
          "model_module_version": "1.5.0",
          "state": {
            "_model_module": "@jupyter-widgets/controls",
            "_model_module_version": "1.5.0",
            "_model_name": "DescriptionStyleModel",
            "_view_count": null,
            "_view_module": "@jupyter-widgets/base",
            "_view_module_version": "1.2.0",
            "_view_name": "StyleView",
            "description_width": ""
          }
        },
        "2f0b3036f7ea437eba184b432e163fb8": {
          "model_module": "@jupyter-widgets/base",
          "model_name": "LayoutModel",
          "model_module_version": "1.2.0",
          "state": {
            "_model_module": "@jupyter-widgets/base",
            "_model_module_version": "1.2.0",
            "_model_name": "LayoutModel",
            "_view_count": null,
            "_view_module": "@jupyter-widgets/base",
            "_view_module_version": "1.2.0",
            "_view_name": "LayoutView",
            "align_content": null,
            "align_items": null,
            "align_self": null,
            "border": null,
            "bottom": null,
            "display": null,
            "flex": null,
            "flex_flow": null,
            "grid_area": null,
            "grid_auto_columns": null,
            "grid_auto_flow": null,
            "grid_auto_rows": null,
            "grid_column": null,
            "grid_gap": null,
            "grid_row": null,
            "grid_template_areas": null,
            "grid_template_columns": null,
            "grid_template_rows": null,
            "height": null,
            "justify_content": null,
            "justify_items": null,
            "left": null,
            "margin": null,
            "max_height": null,
            "max_width": null,
            "min_height": null,
            "min_width": null,
            "object_fit": null,
            "object_position": null,
            "order": null,
            "overflow": null,
            "overflow_x": null,
            "overflow_y": null,
            "padding": null,
            "right": null,
            "top": null,
            "visibility": null,
            "width": null
          }
        },
        "6b5ee9b7f76e4c3c8dc693acc9895fcd": {
          "model_module": "@jupyter-widgets/controls",
          "model_name": "ProgressStyleModel",
          "model_module_version": "1.5.0",
          "state": {
            "_model_module": "@jupyter-widgets/controls",
            "_model_module_version": "1.5.0",
            "_model_name": "ProgressStyleModel",
            "_view_count": null,
            "_view_module": "@jupyter-widgets/base",
            "_view_module_version": "1.2.0",
            "_view_name": "StyleView",
            "bar_color": null,
            "description_width": ""
          }
        },
        "9b09d513cfb446e087bcb3dec91d95e8": {
          "model_module": "@jupyter-widgets/base",
          "model_name": "LayoutModel",
          "model_module_version": "1.2.0",
          "state": {
            "_model_module": "@jupyter-widgets/base",
            "_model_module_version": "1.2.0",
            "_model_name": "LayoutModel",
            "_view_count": null,
            "_view_module": "@jupyter-widgets/base",
            "_view_module_version": "1.2.0",
            "_view_name": "LayoutView",
            "align_content": null,
            "align_items": null,
            "align_self": null,
            "border": null,
            "bottom": null,
            "display": null,
            "flex": null,
            "flex_flow": null,
            "grid_area": null,
            "grid_auto_columns": null,
            "grid_auto_flow": null,
            "grid_auto_rows": null,
            "grid_column": null,
            "grid_gap": null,
            "grid_row": null,
            "grid_template_areas": null,
            "grid_template_columns": null,
            "grid_template_rows": null,
            "height": null,
            "justify_content": null,
            "justify_items": null,
            "left": null,
            "margin": null,
            "max_height": null,
            "max_width": null,
            "min_height": null,
            "min_width": null,
            "object_fit": null,
            "object_position": null,
            "order": null,
            "overflow": null,
            "overflow_x": null,
            "overflow_y": null,
            "padding": null,
            "right": null,
            "top": null,
            "visibility": null,
            "width": null
          }
        },
        "e5283f982d76401bbde90b54e2f11d79": {
          "model_module": "@jupyter-widgets/controls",
          "model_name": "DescriptionStyleModel",
          "model_module_version": "1.5.0",
          "state": {
            "_model_module": "@jupyter-widgets/controls",
            "_model_module_version": "1.5.0",
            "_model_name": "DescriptionStyleModel",
            "_view_count": null,
            "_view_module": "@jupyter-widgets/base",
            "_view_module_version": "1.2.0",
            "_view_name": "StyleView",
            "description_width": ""
          }
        },
        "4f0a8801307a48f9a6731a154b239671": {
          "model_module": "@jupyter-widgets/controls",
          "model_name": "HBoxModel",
          "model_module_version": "1.5.0",
          "state": {
            "_dom_classes": [],
            "_model_module": "@jupyter-widgets/controls",
            "_model_module_version": "1.5.0",
            "_model_name": "HBoxModel",
            "_view_count": null,
            "_view_module": "@jupyter-widgets/controls",
            "_view_module_version": "1.5.0",
            "_view_name": "HBoxView",
            "box_style": "",
            "children": [
              "IPY_MODEL_9f85eb7d8969400faab6e8687bf152ac",
              "IPY_MODEL_84d85b4e2d76464fa3d73a2d3cbadab6",
              "IPY_MODEL_99e2d48b529a48ed888982295972541d"
            ],
            "layout": "IPY_MODEL_9804ab789dbd42ddb5c268b2c7eaa2f7"
          }
        },
        "9f85eb7d8969400faab6e8687bf152ac": {
          "model_module": "@jupyter-widgets/controls",
          "model_name": "HTMLModel",
          "model_module_version": "1.5.0",
          "state": {
            "_dom_classes": [],
            "_model_module": "@jupyter-widgets/controls",
            "_model_module_version": "1.5.0",
            "_model_name": "HTMLModel",
            "_view_count": null,
            "_view_module": "@jupyter-widgets/controls",
            "_view_module_version": "1.5.0",
            "_view_name": "HTMLView",
            "description": "",
            "description_tooltip": null,
            "layout": "IPY_MODEL_12f516fb224c4a4abed3129f7f925563",
            "placeholder": "​",
            "style": "IPY_MODEL_d83130848ad949b9b5ed9a7ed4fb0a94",
            "value": "Making predictions...: 100%"
          }
        },
        "84d85b4e2d76464fa3d73a2d3cbadab6": {
          "model_module": "@jupyter-widgets/controls",
          "model_name": "FloatProgressModel",
          "model_module_version": "1.5.0",
          "state": {
            "_dom_classes": [],
            "_model_module": "@jupyter-widgets/controls",
            "_model_module_version": "1.5.0",
            "_model_name": "FloatProgressModel",
            "_view_count": null,
            "_view_module": "@jupyter-widgets/controls",
            "_view_module_version": "1.5.0",
            "_view_name": "ProgressView",
            "bar_style": "success",
            "description": "",
            "description_tooltip": null,
            "layout": "IPY_MODEL_7b548d62cd5d4917ae48ec9df065c422",
            "max": 313,
            "min": 0,
            "orientation": "horizontal",
            "style": "IPY_MODEL_b277823f405e46a08f2bc76b1ae701b9",
            "value": 313
          }
        },
        "99e2d48b529a48ed888982295972541d": {
          "model_module": "@jupyter-widgets/controls",
          "model_name": "HTMLModel",
          "model_module_version": "1.5.0",
          "state": {
            "_dom_classes": [],
            "_model_module": "@jupyter-widgets/controls",
            "_model_module_version": "1.5.0",
            "_model_name": "HTMLModel",
            "_view_count": null,
            "_view_module": "@jupyter-widgets/controls",
            "_view_module_version": "1.5.0",
            "_view_name": "HTMLView",
            "description": "",
            "description_tooltip": null,
            "layout": "IPY_MODEL_c1980e4f0bd44e8a8e59986fe1961dc6",
            "placeholder": "​",
            "style": "IPY_MODEL_69613d3970044cdbb878ab688d1dda9f",
            "value": " 313/313 [00:08&lt;00:00, 40.98it/s]"
          }
        },
        "9804ab789dbd42ddb5c268b2c7eaa2f7": {
          "model_module": "@jupyter-widgets/base",
          "model_name": "LayoutModel",
          "model_module_version": "1.2.0",
          "state": {
            "_model_module": "@jupyter-widgets/base",
            "_model_module_version": "1.2.0",
            "_model_name": "LayoutModel",
            "_view_count": null,
            "_view_module": "@jupyter-widgets/base",
            "_view_module_version": "1.2.0",
            "_view_name": "LayoutView",
            "align_content": null,
            "align_items": null,
            "align_self": null,
            "border": null,
            "bottom": null,
            "display": null,
            "flex": null,
            "flex_flow": null,
            "grid_area": null,
            "grid_auto_columns": null,
            "grid_auto_flow": null,
            "grid_auto_rows": null,
            "grid_column": null,
            "grid_gap": null,
            "grid_row": null,
            "grid_template_areas": null,
            "grid_template_columns": null,
            "grid_template_rows": null,
            "height": null,
            "justify_content": null,
            "justify_items": null,
            "left": null,
            "margin": null,
            "max_height": null,
            "max_width": null,
            "min_height": null,
            "min_width": null,
            "object_fit": null,
            "object_position": null,
            "order": null,
            "overflow": null,
            "overflow_x": null,
            "overflow_y": null,
            "padding": null,
            "right": null,
            "top": null,
            "visibility": null,
            "width": null
          }
        },
        "12f516fb224c4a4abed3129f7f925563": {
          "model_module": "@jupyter-widgets/base",
          "model_name": "LayoutModel",
          "model_module_version": "1.2.0",
          "state": {
            "_model_module": "@jupyter-widgets/base",
            "_model_module_version": "1.2.0",
            "_model_name": "LayoutModel",
            "_view_count": null,
            "_view_module": "@jupyter-widgets/base",
            "_view_module_version": "1.2.0",
            "_view_name": "LayoutView",
            "align_content": null,
            "align_items": null,
            "align_self": null,
            "border": null,
            "bottom": null,
            "display": null,
            "flex": null,
            "flex_flow": null,
            "grid_area": null,
            "grid_auto_columns": null,
            "grid_auto_flow": null,
            "grid_auto_rows": null,
            "grid_column": null,
            "grid_gap": null,
            "grid_row": null,
            "grid_template_areas": null,
            "grid_template_columns": null,
            "grid_template_rows": null,
            "height": null,
            "justify_content": null,
            "justify_items": null,
            "left": null,
            "margin": null,
            "max_height": null,
            "max_width": null,
            "min_height": null,
            "min_width": null,
            "object_fit": null,
            "object_position": null,
            "order": null,
            "overflow": null,
            "overflow_x": null,
            "overflow_y": null,
            "padding": null,
            "right": null,
            "top": null,
            "visibility": null,
            "width": null
          }
        },
        "d83130848ad949b9b5ed9a7ed4fb0a94": {
          "model_module": "@jupyter-widgets/controls",
          "model_name": "DescriptionStyleModel",
          "model_module_version": "1.5.0",
          "state": {
            "_model_module": "@jupyter-widgets/controls",
            "_model_module_version": "1.5.0",
            "_model_name": "DescriptionStyleModel",
            "_view_count": null,
            "_view_module": "@jupyter-widgets/base",
            "_view_module_version": "1.2.0",
            "_view_name": "StyleView",
            "description_width": ""
          }
        },
        "7b548d62cd5d4917ae48ec9df065c422": {
          "model_module": "@jupyter-widgets/base",
          "model_name": "LayoutModel",
          "model_module_version": "1.2.0",
          "state": {
            "_model_module": "@jupyter-widgets/base",
            "_model_module_version": "1.2.0",
            "_model_name": "LayoutModel",
            "_view_count": null,
            "_view_module": "@jupyter-widgets/base",
            "_view_module_version": "1.2.0",
            "_view_name": "LayoutView",
            "align_content": null,
            "align_items": null,
            "align_self": null,
            "border": null,
            "bottom": null,
            "display": null,
            "flex": null,
            "flex_flow": null,
            "grid_area": null,
            "grid_auto_columns": null,
            "grid_auto_flow": null,
            "grid_auto_rows": null,
            "grid_column": null,
            "grid_gap": null,
            "grid_row": null,
            "grid_template_areas": null,
            "grid_template_columns": null,
            "grid_template_rows": null,
            "height": null,
            "justify_content": null,
            "justify_items": null,
            "left": null,
            "margin": null,
            "max_height": null,
            "max_width": null,
            "min_height": null,
            "min_width": null,
            "object_fit": null,
            "object_position": null,
            "order": null,
            "overflow": null,
            "overflow_x": null,
            "overflow_y": null,
            "padding": null,
            "right": null,
            "top": null,
            "visibility": null,
            "width": null
          }
        },
        "b277823f405e46a08f2bc76b1ae701b9": {
          "model_module": "@jupyter-widgets/controls",
          "model_name": "ProgressStyleModel",
          "model_module_version": "1.5.0",
          "state": {
            "_model_module": "@jupyter-widgets/controls",
            "_model_module_version": "1.5.0",
            "_model_name": "ProgressStyleModel",
            "_view_count": null,
            "_view_module": "@jupyter-widgets/base",
            "_view_module_version": "1.2.0",
            "_view_name": "StyleView",
            "bar_color": null,
            "description_width": ""
          }
        },
        "c1980e4f0bd44e8a8e59986fe1961dc6": {
          "model_module": "@jupyter-widgets/base",
          "model_name": "LayoutModel",
          "model_module_version": "1.2.0",
          "state": {
            "_model_module": "@jupyter-widgets/base",
            "_model_module_version": "1.2.0",
            "_model_name": "LayoutModel",
            "_view_count": null,
            "_view_module": "@jupyter-widgets/base",
            "_view_module_version": "1.2.0",
            "_view_name": "LayoutView",
            "align_content": null,
            "align_items": null,
            "align_self": null,
            "border": null,
            "bottom": null,
            "display": null,
            "flex": null,
            "flex_flow": null,
            "grid_area": null,
            "grid_auto_columns": null,
            "grid_auto_flow": null,
            "grid_auto_rows": null,
            "grid_column": null,
            "grid_gap": null,
            "grid_row": null,
            "grid_template_areas": null,
            "grid_template_columns": null,
            "grid_template_rows": null,
            "height": null,
            "justify_content": null,
            "justify_items": null,
            "left": null,
            "margin": null,
            "max_height": null,
            "max_width": null,
            "min_height": null,
            "min_width": null,
            "object_fit": null,
            "object_position": null,
            "order": null,
            "overflow": null,
            "overflow_x": null,
            "overflow_y": null,
            "padding": null,
            "right": null,
            "top": null,
            "visibility": null,
            "width": null
          }
        },
        "69613d3970044cdbb878ab688d1dda9f": {
          "model_module": "@jupyter-widgets/controls",
          "model_name": "DescriptionStyleModel",
          "model_module_version": "1.5.0",
          "state": {
            "_model_module": "@jupyter-widgets/controls",
            "_model_module_version": "1.5.0",
            "_model_name": "DescriptionStyleModel",
            "_view_count": null,
            "_view_module": "@jupyter-widgets/base",
            "_view_module_version": "1.2.0",
            "_view_name": "StyleView",
            "description_width": ""
          }
        },
        "9fb2ec77591d4eca9e08bb0514d7c754": {
          "model_module": "@jupyter-widgets/controls",
          "model_name": "HBoxModel",
          "model_module_version": "1.5.0",
          "state": {
            "_dom_classes": [],
            "_model_module": "@jupyter-widgets/controls",
            "_model_module_version": "1.5.0",
            "_model_name": "HBoxModel",
            "_view_count": null,
            "_view_module": "@jupyter-widgets/controls",
            "_view_module_version": "1.5.0",
            "_view_name": "HBoxView",
            "box_style": "",
            "children": [
              "IPY_MODEL_b92d748e312b4b28a5aa588678ec6d35",
              "IPY_MODEL_90616d4ea2ec4b548bfe8c1d06c6bd2c",
              "IPY_MODEL_b46af197c7e341eca898acaa91dae82b"
            ],
            "layout": "IPY_MODEL_3fe3441ffe0341c18a32b0210d34f5bc"
          }
        },
        "b92d748e312b4b28a5aa588678ec6d35": {
          "model_module": "@jupyter-widgets/controls",
          "model_name": "HTMLModel",
          "model_module_version": "1.5.0",
          "state": {
            "_dom_classes": [],
            "_model_module": "@jupyter-widgets/controls",
            "_model_module_version": "1.5.0",
            "_model_name": "HTMLModel",
            "_view_count": null,
            "_view_module": "@jupyter-widgets/controls",
            "_view_module_version": "1.5.0",
            "_view_name": "HTMLView",
            "description": "",
            "description_tooltip": null,
            "layout": "IPY_MODEL_a238d3a2bdd941c89c601d7898933abf",
            "placeholder": "​",
            "style": "IPY_MODEL_0faffa9109fe4f568ab93b924febd671",
            "value": "100%"
          }
        },
        "90616d4ea2ec4b548bfe8c1d06c6bd2c": {
          "model_module": "@jupyter-widgets/controls",
          "model_name": "FloatProgressModel",
          "model_module_version": "1.5.0",
          "state": {
            "_dom_classes": [],
            "_model_module": "@jupyter-widgets/controls",
            "_model_module_version": "1.5.0",
            "_model_name": "FloatProgressModel",
            "_view_count": null,
            "_view_module": "@jupyter-widgets/controls",
            "_view_module_version": "1.5.0",
            "_view_name": "ProgressView",
            "bar_style": "success",
            "description": "",
            "description_tooltip": null,
            "layout": "IPY_MODEL_417fba8c1a31498aa3d4df3ff815d9b1",
            "max": 313,
            "min": 0,
            "orientation": "horizontal",
            "style": "IPY_MODEL_c79389d21e604577910ab7758da1567d",
            "value": 313
          }
        },
        "b46af197c7e341eca898acaa91dae82b": {
          "model_module": "@jupyter-widgets/controls",
          "model_name": "HTMLModel",
          "model_module_version": "1.5.0",
          "state": {
            "_dom_classes": [],
            "_model_module": "@jupyter-widgets/controls",
            "_model_module_version": "1.5.0",
            "_model_name": "HTMLModel",
            "_view_count": null,
            "_view_module": "@jupyter-widgets/controls",
            "_view_module_version": "1.5.0",
            "_view_name": "HTMLView",
            "description": "",
            "description_tooltip": null,
            "layout": "IPY_MODEL_a10c08c789e14102914da28a7e680966",
            "placeholder": "​",
            "style": "IPY_MODEL_dc53cc8581c246a8ab44fbe7cddf0eb6",
            "value": " 313/313 [00:08&lt;00:00, 42.75it/s]"
          }
        },
        "3fe3441ffe0341c18a32b0210d34f5bc": {
          "model_module": "@jupyter-widgets/base",
          "model_name": "LayoutModel",
          "model_module_version": "1.2.0",
          "state": {
            "_model_module": "@jupyter-widgets/base",
            "_model_module_version": "1.2.0",
            "_model_name": "LayoutModel",
            "_view_count": null,
            "_view_module": "@jupyter-widgets/base",
            "_view_module_version": "1.2.0",
            "_view_name": "LayoutView",
            "align_content": null,
            "align_items": null,
            "align_self": null,
            "border": null,
            "bottom": null,
            "display": null,
            "flex": null,
            "flex_flow": null,
            "grid_area": null,
            "grid_auto_columns": null,
            "grid_auto_flow": null,
            "grid_auto_rows": null,
            "grid_column": null,
            "grid_gap": null,
            "grid_row": null,
            "grid_template_areas": null,
            "grid_template_columns": null,
            "grid_template_rows": null,
            "height": null,
            "justify_content": null,
            "justify_items": null,
            "left": null,
            "margin": null,
            "max_height": null,
            "max_width": null,
            "min_height": null,
            "min_width": null,
            "object_fit": null,
            "object_position": null,
            "order": null,
            "overflow": null,
            "overflow_x": null,
            "overflow_y": null,
            "padding": null,
            "right": null,
            "top": null,
            "visibility": null,
            "width": null
          }
        },
        "a238d3a2bdd941c89c601d7898933abf": {
          "model_module": "@jupyter-widgets/base",
          "model_name": "LayoutModel",
          "model_module_version": "1.2.0",
          "state": {
            "_model_module": "@jupyter-widgets/base",
            "_model_module_version": "1.2.0",
            "_model_name": "LayoutModel",
            "_view_count": null,
            "_view_module": "@jupyter-widgets/base",
            "_view_module_version": "1.2.0",
            "_view_name": "LayoutView",
            "align_content": null,
            "align_items": null,
            "align_self": null,
            "border": null,
            "bottom": null,
            "display": null,
            "flex": null,
            "flex_flow": null,
            "grid_area": null,
            "grid_auto_columns": null,
            "grid_auto_flow": null,
            "grid_auto_rows": null,
            "grid_column": null,
            "grid_gap": null,
            "grid_row": null,
            "grid_template_areas": null,
            "grid_template_columns": null,
            "grid_template_rows": null,
            "height": null,
            "justify_content": null,
            "justify_items": null,
            "left": null,
            "margin": null,
            "max_height": null,
            "max_width": null,
            "min_height": null,
            "min_width": null,
            "object_fit": null,
            "object_position": null,
            "order": null,
            "overflow": null,
            "overflow_x": null,
            "overflow_y": null,
            "padding": null,
            "right": null,
            "top": null,
            "visibility": null,
            "width": null
          }
        },
        "0faffa9109fe4f568ab93b924febd671": {
          "model_module": "@jupyter-widgets/controls",
          "model_name": "DescriptionStyleModel",
          "model_module_version": "1.5.0",
          "state": {
            "_model_module": "@jupyter-widgets/controls",
            "_model_module_version": "1.5.0",
            "_model_name": "DescriptionStyleModel",
            "_view_count": null,
            "_view_module": "@jupyter-widgets/base",
            "_view_module_version": "1.2.0",
            "_view_name": "StyleView",
            "description_width": ""
          }
        },
        "417fba8c1a31498aa3d4df3ff815d9b1": {
          "model_module": "@jupyter-widgets/base",
          "model_name": "LayoutModel",
          "model_module_version": "1.2.0",
          "state": {
            "_model_module": "@jupyter-widgets/base",
            "_model_module_version": "1.2.0",
            "_model_name": "LayoutModel",
            "_view_count": null,
            "_view_module": "@jupyter-widgets/base",
            "_view_module_version": "1.2.0",
            "_view_name": "LayoutView",
            "align_content": null,
            "align_items": null,
            "align_self": null,
            "border": null,
            "bottom": null,
            "display": null,
            "flex": null,
            "flex_flow": null,
            "grid_area": null,
            "grid_auto_columns": null,
            "grid_auto_flow": null,
            "grid_auto_rows": null,
            "grid_column": null,
            "grid_gap": null,
            "grid_row": null,
            "grid_template_areas": null,
            "grid_template_columns": null,
            "grid_template_rows": null,
            "height": null,
            "justify_content": null,
            "justify_items": null,
            "left": null,
            "margin": null,
            "max_height": null,
            "max_width": null,
            "min_height": null,
            "min_width": null,
            "object_fit": null,
            "object_position": null,
            "order": null,
            "overflow": null,
            "overflow_x": null,
            "overflow_y": null,
            "padding": null,
            "right": null,
            "top": null,
            "visibility": null,
            "width": null
          }
        },
        "c79389d21e604577910ab7758da1567d": {
          "model_module": "@jupyter-widgets/controls",
          "model_name": "ProgressStyleModel",
          "model_module_version": "1.5.0",
          "state": {
            "_model_module": "@jupyter-widgets/controls",
            "_model_module_version": "1.5.0",
            "_model_name": "ProgressStyleModel",
            "_view_count": null,
            "_view_module": "@jupyter-widgets/base",
            "_view_module_version": "1.2.0",
            "_view_name": "StyleView",
            "bar_color": null,
            "description_width": ""
          }
        },
        "a10c08c789e14102914da28a7e680966": {
          "model_module": "@jupyter-widgets/base",
          "model_name": "LayoutModel",
          "model_module_version": "1.2.0",
          "state": {
            "_model_module": "@jupyter-widgets/base",
            "_model_module_version": "1.2.0",
            "_model_name": "LayoutModel",
            "_view_count": null,
            "_view_module": "@jupyter-widgets/base",
            "_view_module_version": "1.2.0",
            "_view_name": "LayoutView",
            "align_content": null,
            "align_items": null,
            "align_self": null,
            "border": null,
            "bottom": null,
            "display": null,
            "flex": null,
            "flex_flow": null,
            "grid_area": null,
            "grid_auto_columns": null,
            "grid_auto_flow": null,
            "grid_auto_rows": null,
            "grid_column": null,
            "grid_gap": null,
            "grid_row": null,
            "grid_template_areas": null,
            "grid_template_columns": null,
            "grid_template_rows": null,
            "height": null,
            "justify_content": null,
            "justify_items": null,
            "left": null,
            "margin": null,
            "max_height": null,
            "max_width": null,
            "min_height": null,
            "min_width": null,
            "object_fit": null,
            "object_position": null,
            "order": null,
            "overflow": null,
            "overflow_x": null,
            "overflow_y": null,
            "padding": null,
            "right": null,
            "top": null,
            "visibility": null,
            "width": null
          }
        },
        "dc53cc8581c246a8ab44fbe7cddf0eb6": {
          "model_module": "@jupyter-widgets/controls",
          "model_name": "DescriptionStyleModel",
          "model_module_version": "1.5.0",
          "state": {
            "_model_module": "@jupyter-widgets/controls",
            "_model_module_version": "1.5.0",
            "_model_name": "DescriptionStyleModel",
            "_view_count": null,
            "_view_module": "@jupyter-widgets/base",
            "_view_module_version": "1.2.0",
            "_view_name": "StyleView",
            "description_width": ""
          }
        }
      }
    },
    "accelerator": "GPU"
  },
  "cells": [
    {
      "cell_type": "markdown",
      "metadata": {
        "id": "view-in-github",
        "colab_type": "text"
      },
      "source": [
        "<a href=\"https://colab.research.google.com/github/yashraj01-se/Pytorchrepo/blob/main/Computer_vision_and_CNN_with_pytorch.ipynb\" target=\"_parent\"><img src=\"https://colab.research.google.com/assets/colab-badge.svg\" alt=\"Open In Colab\"/></a>"
      ]
    },
    {
      "cell_type": "markdown",
      "source": [
        "###what are CNN?\n",
        "A Convolutional Neural Network (CNN) is a type of deep learning model that is especially good at analyzing images.\n",
        "\n",
        "It works by automatically detecting important features (like edges, shapes, colors) from an image using convolutional layers, and then uses these features to classify or understand the image."
      ],
      "metadata": {
        "id": "cbB26r8N1omh"
      }
    },
    {
      "cell_type": "code",
      "source": [
        "##.Computer vision library in Pytorch:\n",
        "#[`torchvision`]-base doimin library for pytorch computer vision.\n",
        "#[`torchvision.Datasets`]-get the dataset and data loading function for our computer vision.\n",
        "#[`torchvision.models`]-get pretrained computer vision models that you can leverage for your own problem.\n",
        "#[`torchvison.transforms`]-function for manipulating our vision Data (images) to be suitable for use with an ML model\n",
        "#[`torch.utils.data.Dataset`]-Base dataset class for Pytorch.\n",
        "#[`torch.utils.data.DataLoader`]-Creates a Python iterable over a dataset."
      ],
      "metadata": {
        "id": "mUhA6DDK3_tp"
      },
      "execution_count": 1,
      "outputs": []
    },
    {
      "cell_type": "markdown",
      "source": [
        "###Importing our Libraries:"
      ],
      "metadata": {
        "id": "Lmp1RcPq7Ywr"
      }
    },
    {
      "cell_type": "code",
      "source": [
        "#import Pytorch\n",
        "import torch\n",
        "from torch import nn\n",
        "#Import TorchVision\n",
        "import torchvision\n",
        "from torchvision import datasets\n",
        "from torchvision.transforms import ToTensor\n",
        "#import matplot for visualization\n",
        "import matplotlib.pyplot as plt"
      ],
      "metadata": {
        "id": "xV4OB3nR6NCc"
      },
      "execution_count": 2,
      "outputs": []
    },
    {
      "cell_type": "markdown",
      "source": [
        "###1.Getting A Computer Vision Dataset and checking its input and output Shape:\n",
        "\n",
        "FashionMNIST from torchvision.datsets"
      ],
      "metadata": {
        "id": "5IpCP1Qz7dzr"
      }
    },
    {
      "cell_type": "code",
      "source": [
        "#Setup up training data:\n",
        "from torchvision import datasets\n",
        "train_data=datasets.FashionMNIST(\n",
        "    root=\"data\",\n",
        "    train=True,\n",
        "    transform=torchvision.transforms.ToTensor(),\n",
        "    target_transform=None,\n",
        "    download=True\n",
        ")\n",
        "#setup our Test data:\n",
        "Test_data=datasets.FashionMNIST(\n",
        "    root=\"data\",\n",
        "    train=False,\n",
        "    transform=torchvision.transforms.ToTensor(),\n",
        "    target_transform=None,\n",
        "    download=True\n",
        ")"
      ],
      "metadata": {
        "id": "6dOLbYHt7nm8",
        "colab": {
          "base_uri": "https://localhost:8080/"
        },
        "outputId": "4351f72b-3c93-466d-967d-4f5a581d9550"
      },
      "execution_count": 3,
      "outputs": [
        {
          "output_type": "stream",
          "name": "stderr",
          "text": [
            "100%|██████████| 26.4M/26.4M [00:01<00:00, 20.6MB/s]\n",
            "100%|██████████| 29.5k/29.5k [00:00<00:00, 357kB/s]\n",
            "100%|██████████| 4.42M/4.42M [00:00<00:00, 6.28MB/s]\n",
            "100%|██████████| 5.15k/5.15k [00:00<00:00, 12.4MB/s]\n"
          ]
        }
      ]
    },
    {
      "cell_type": "code",
      "source": [
        "len(train_data),len(Test_data)"
      ],
      "metadata": {
        "colab": {
          "base_uri": "https://localhost:8080/"
        },
        "id": "W0S4ea_tAYvo",
        "outputId": "26a0a70e-0001-45a9-cf4b-24628003fe9a"
      },
      "execution_count": 4,
      "outputs": [
        {
          "output_type": "execute_result",
          "data": {
            "text/plain": [
              "(60000, 10000)"
            ]
          },
          "metadata": {},
          "execution_count": 4
        }
      ]
    },
    {
      "cell_type": "code",
      "source": [
        "image,label=train_data[0]\n",
        "image,label"
      ],
      "metadata": {
        "id": "MUeLdwiWAQIX",
        "colab": {
          "base_uri": "https://localhost:8080/"
        },
        "outputId": "49894e60-64f7-45e6-96df-e037585183db"
      },
      "execution_count": 5,
      "outputs": [
        {
          "output_type": "execute_result",
          "data": {
            "text/plain": [
              "(tensor([[[0.0000, 0.0000, 0.0000, 0.0000, 0.0000, 0.0000, 0.0000, 0.0000,\n",
              "           0.0000, 0.0000, 0.0000, 0.0000, 0.0000, 0.0000, 0.0000, 0.0000,\n",
              "           0.0000, 0.0000, 0.0000, 0.0000, 0.0000, 0.0000, 0.0000, 0.0000,\n",
              "           0.0000, 0.0000, 0.0000, 0.0000],\n",
              "          [0.0000, 0.0000, 0.0000, 0.0000, 0.0000, 0.0000, 0.0000, 0.0000,\n",
              "           0.0000, 0.0000, 0.0000, 0.0000, 0.0000, 0.0000, 0.0000, 0.0000,\n",
              "           0.0000, 0.0000, 0.0000, 0.0000, 0.0000, 0.0000, 0.0000, 0.0000,\n",
              "           0.0000, 0.0000, 0.0000, 0.0000],\n",
              "          [0.0000, 0.0000, 0.0000, 0.0000, 0.0000, 0.0000, 0.0000, 0.0000,\n",
              "           0.0000, 0.0000, 0.0000, 0.0000, 0.0000, 0.0000, 0.0000, 0.0000,\n",
              "           0.0000, 0.0000, 0.0000, 0.0000, 0.0000, 0.0000, 0.0000, 0.0000,\n",
              "           0.0000, 0.0000, 0.0000, 0.0000],\n",
              "          [0.0000, 0.0000, 0.0000, 0.0000, 0.0000, 0.0000, 0.0000, 0.0000,\n",
              "           0.0000, 0.0000, 0.0000, 0.0000, 0.0039, 0.0000, 0.0000, 0.0510,\n",
              "           0.2863, 0.0000, 0.0000, 0.0039, 0.0157, 0.0000, 0.0000, 0.0000,\n",
              "           0.0000, 0.0039, 0.0039, 0.0000],\n",
              "          [0.0000, 0.0000, 0.0000, 0.0000, 0.0000, 0.0000, 0.0000, 0.0000,\n",
              "           0.0000, 0.0000, 0.0000, 0.0000, 0.0118, 0.0000, 0.1412, 0.5333,\n",
              "           0.4980, 0.2431, 0.2118, 0.0000, 0.0000, 0.0000, 0.0039, 0.0118,\n",
              "           0.0157, 0.0000, 0.0000, 0.0118],\n",
              "          [0.0000, 0.0000, 0.0000, 0.0000, 0.0000, 0.0000, 0.0000, 0.0000,\n",
              "           0.0000, 0.0000, 0.0000, 0.0000, 0.0235, 0.0000, 0.4000, 0.8000,\n",
              "           0.6902, 0.5255, 0.5647, 0.4824, 0.0902, 0.0000, 0.0000, 0.0000,\n",
              "           0.0000, 0.0471, 0.0392, 0.0000],\n",
              "          [0.0000, 0.0000, 0.0000, 0.0000, 0.0000, 0.0000, 0.0000, 0.0000,\n",
              "           0.0000, 0.0000, 0.0000, 0.0000, 0.0000, 0.0000, 0.6078, 0.9255,\n",
              "           0.8118, 0.6980, 0.4196, 0.6118, 0.6314, 0.4275, 0.2510, 0.0902,\n",
              "           0.3020, 0.5098, 0.2824, 0.0588],\n",
              "          [0.0000, 0.0000, 0.0000, 0.0000, 0.0000, 0.0000, 0.0000, 0.0000,\n",
              "           0.0000, 0.0000, 0.0000, 0.0039, 0.0000, 0.2706, 0.8118, 0.8745,\n",
              "           0.8549, 0.8471, 0.8471, 0.6392, 0.4980, 0.4745, 0.4784, 0.5725,\n",
              "           0.5529, 0.3451, 0.6745, 0.2588],\n",
              "          [0.0000, 0.0000, 0.0000, 0.0000, 0.0000, 0.0000, 0.0000, 0.0000,\n",
              "           0.0000, 0.0039, 0.0039, 0.0039, 0.0000, 0.7843, 0.9098, 0.9098,\n",
              "           0.9137, 0.8980, 0.8745, 0.8745, 0.8431, 0.8353, 0.6431, 0.4980,\n",
              "           0.4824, 0.7686, 0.8980, 0.0000],\n",
              "          [0.0000, 0.0000, 0.0000, 0.0000, 0.0000, 0.0000, 0.0000, 0.0000,\n",
              "           0.0000, 0.0000, 0.0000, 0.0000, 0.0000, 0.7176, 0.8824, 0.8471,\n",
              "           0.8745, 0.8941, 0.9216, 0.8902, 0.8784, 0.8706, 0.8784, 0.8667,\n",
              "           0.8745, 0.9608, 0.6784, 0.0000],\n",
              "          [0.0000, 0.0000, 0.0000, 0.0000, 0.0000, 0.0000, 0.0000, 0.0000,\n",
              "           0.0000, 0.0000, 0.0000, 0.0000, 0.0000, 0.7569, 0.8941, 0.8549,\n",
              "           0.8353, 0.7765, 0.7059, 0.8314, 0.8235, 0.8275, 0.8353, 0.8745,\n",
              "           0.8627, 0.9529, 0.7922, 0.0000],\n",
              "          [0.0000, 0.0000, 0.0000, 0.0000, 0.0000, 0.0000, 0.0000, 0.0000,\n",
              "           0.0000, 0.0039, 0.0118, 0.0000, 0.0471, 0.8588, 0.8627, 0.8314,\n",
              "           0.8549, 0.7529, 0.6627, 0.8902, 0.8157, 0.8549, 0.8784, 0.8314,\n",
              "           0.8863, 0.7725, 0.8196, 0.2039],\n",
              "          [0.0000, 0.0000, 0.0000, 0.0000, 0.0000, 0.0000, 0.0000, 0.0000,\n",
              "           0.0000, 0.0000, 0.0235, 0.0000, 0.3882, 0.9569, 0.8706, 0.8627,\n",
              "           0.8549, 0.7961, 0.7765, 0.8667, 0.8431, 0.8353, 0.8706, 0.8627,\n",
              "           0.9608, 0.4667, 0.6549, 0.2196],\n",
              "          [0.0000, 0.0000, 0.0000, 0.0000, 0.0000, 0.0000, 0.0000, 0.0000,\n",
              "           0.0000, 0.0157, 0.0000, 0.0000, 0.2157, 0.9255, 0.8941, 0.9020,\n",
              "           0.8941, 0.9412, 0.9098, 0.8353, 0.8549, 0.8745, 0.9176, 0.8510,\n",
              "           0.8510, 0.8196, 0.3608, 0.0000],\n",
              "          [0.0000, 0.0000, 0.0039, 0.0157, 0.0235, 0.0275, 0.0078, 0.0000,\n",
              "           0.0000, 0.0000, 0.0000, 0.0000, 0.9294, 0.8863, 0.8510, 0.8745,\n",
              "           0.8706, 0.8588, 0.8706, 0.8667, 0.8471, 0.8745, 0.8980, 0.8431,\n",
              "           0.8549, 1.0000, 0.3020, 0.0000],\n",
              "          [0.0000, 0.0118, 0.0000, 0.0000, 0.0000, 0.0000, 0.0000, 0.0000,\n",
              "           0.0000, 0.2431, 0.5686, 0.8000, 0.8941, 0.8118, 0.8353, 0.8667,\n",
              "           0.8549, 0.8157, 0.8275, 0.8549, 0.8784, 0.8745, 0.8588, 0.8431,\n",
              "           0.8784, 0.9569, 0.6235, 0.0000],\n",
              "          [0.0000, 0.0000, 0.0000, 0.0000, 0.0706, 0.1725, 0.3216, 0.4196,\n",
              "           0.7412, 0.8941, 0.8627, 0.8706, 0.8510, 0.8863, 0.7843, 0.8039,\n",
              "           0.8275, 0.9020, 0.8784, 0.9176, 0.6902, 0.7373, 0.9804, 0.9725,\n",
              "           0.9137, 0.9333, 0.8431, 0.0000],\n",
              "          [0.0000, 0.2235, 0.7333, 0.8157, 0.8784, 0.8667, 0.8784, 0.8157,\n",
              "           0.8000, 0.8392, 0.8157, 0.8196, 0.7843, 0.6235, 0.9608, 0.7569,\n",
              "           0.8078, 0.8745, 1.0000, 1.0000, 0.8667, 0.9176, 0.8667, 0.8275,\n",
              "           0.8627, 0.9098, 0.9647, 0.0000],\n",
              "          [0.0118, 0.7922, 0.8941, 0.8784, 0.8667, 0.8275, 0.8275, 0.8392,\n",
              "           0.8039, 0.8039, 0.8039, 0.8627, 0.9412, 0.3137, 0.5882, 1.0000,\n",
              "           0.8980, 0.8667, 0.7373, 0.6039, 0.7490, 0.8235, 0.8000, 0.8196,\n",
              "           0.8706, 0.8941, 0.8824, 0.0000],\n",
              "          [0.3843, 0.9137, 0.7765, 0.8235, 0.8706, 0.8980, 0.8980, 0.9176,\n",
              "           0.9765, 0.8627, 0.7608, 0.8431, 0.8510, 0.9451, 0.2549, 0.2863,\n",
              "           0.4157, 0.4588, 0.6588, 0.8588, 0.8667, 0.8431, 0.8510, 0.8745,\n",
              "           0.8745, 0.8784, 0.8980, 0.1137],\n",
              "          [0.2941, 0.8000, 0.8314, 0.8000, 0.7569, 0.8039, 0.8275, 0.8824,\n",
              "           0.8471, 0.7255, 0.7725, 0.8078, 0.7765, 0.8353, 0.9412, 0.7647,\n",
              "           0.8902, 0.9608, 0.9373, 0.8745, 0.8549, 0.8314, 0.8196, 0.8706,\n",
              "           0.8627, 0.8667, 0.9020, 0.2627],\n",
              "          [0.1882, 0.7961, 0.7176, 0.7608, 0.8353, 0.7725, 0.7255, 0.7451,\n",
              "           0.7608, 0.7529, 0.7922, 0.8392, 0.8588, 0.8667, 0.8627, 0.9255,\n",
              "           0.8824, 0.8471, 0.7804, 0.8078, 0.7294, 0.7098, 0.6941, 0.6745,\n",
              "           0.7098, 0.8039, 0.8078, 0.4510],\n",
              "          [0.0000, 0.4784, 0.8588, 0.7569, 0.7020, 0.6706, 0.7176, 0.7686,\n",
              "           0.8000, 0.8235, 0.8353, 0.8118, 0.8275, 0.8235, 0.7843, 0.7686,\n",
              "           0.7608, 0.7490, 0.7647, 0.7490, 0.7765, 0.7529, 0.6902, 0.6118,\n",
              "           0.6549, 0.6941, 0.8235, 0.3608],\n",
              "          [0.0000, 0.0000, 0.2902, 0.7412, 0.8314, 0.7490, 0.6863, 0.6745,\n",
              "           0.6863, 0.7098, 0.7255, 0.7373, 0.7412, 0.7373, 0.7569, 0.7765,\n",
              "           0.8000, 0.8196, 0.8235, 0.8235, 0.8275, 0.7373, 0.7373, 0.7608,\n",
              "           0.7529, 0.8471, 0.6667, 0.0000],\n",
              "          [0.0078, 0.0000, 0.0000, 0.0000, 0.2588, 0.7843, 0.8706, 0.9294,\n",
              "           0.9373, 0.9490, 0.9647, 0.9529, 0.9569, 0.8667, 0.8627, 0.7569,\n",
              "           0.7490, 0.7020, 0.7137, 0.7137, 0.7098, 0.6902, 0.6510, 0.6588,\n",
              "           0.3882, 0.2275, 0.0000, 0.0000],\n",
              "          [0.0000, 0.0000, 0.0000, 0.0000, 0.0000, 0.0000, 0.0000, 0.1569,\n",
              "           0.2392, 0.1725, 0.2824, 0.1608, 0.1373, 0.0000, 0.0000, 0.0000,\n",
              "           0.0000, 0.0000, 0.0000, 0.0000, 0.0000, 0.0000, 0.0000, 0.0000,\n",
              "           0.0000, 0.0000, 0.0000, 0.0000],\n",
              "          [0.0000, 0.0000, 0.0000, 0.0000, 0.0000, 0.0000, 0.0000, 0.0000,\n",
              "           0.0000, 0.0000, 0.0000, 0.0000, 0.0000, 0.0000, 0.0000, 0.0000,\n",
              "           0.0000, 0.0000, 0.0000, 0.0000, 0.0000, 0.0000, 0.0000, 0.0000,\n",
              "           0.0000, 0.0000, 0.0000, 0.0000],\n",
              "          [0.0000, 0.0000, 0.0000, 0.0000, 0.0000, 0.0000, 0.0000, 0.0000,\n",
              "           0.0000, 0.0000, 0.0000, 0.0000, 0.0000, 0.0000, 0.0000, 0.0000,\n",
              "           0.0000, 0.0000, 0.0000, 0.0000, 0.0000, 0.0000, 0.0000, 0.0000,\n",
              "           0.0000, 0.0000, 0.0000, 0.0000]]]),\n",
              " 9)"
            ]
          },
          "metadata": {},
          "execution_count": 5
        }
      ]
    },
    {
      "cell_type": "code",
      "source": [
        "class_=train_data.classes\n",
        "class_"
      ],
      "metadata": {
        "colab": {
          "base_uri": "https://localhost:8080/"
        },
        "id": "1ju-4mbpAp3K",
        "outputId": "336b142b-db24-4d98-e463-6da22f8b0b87"
      },
      "execution_count": 6,
      "outputs": [
        {
          "output_type": "execute_result",
          "data": {
            "text/plain": [
              "['T-shirt/top',\n",
              " 'Trouser',\n",
              " 'Pullover',\n",
              " 'Dress',\n",
              " 'Coat',\n",
              " 'Sandal',\n",
              " 'Shirt',\n",
              " 'Sneaker',\n",
              " 'Bag',\n",
              " 'Ankle boot']"
            ]
          },
          "metadata": {},
          "execution_count": 6
        }
      ]
    },
    {
      "cell_type": "code",
      "source": [
        "index=train_data.class_to_idx\n",
        "index"
      ],
      "metadata": {
        "colab": {
          "base_uri": "https://localhost:8080/"
        },
        "id": "2BjlNlgBAzET",
        "outputId": "6ffa0ce7-f582-49a5-ab14-938e3ac5338f"
      },
      "execution_count": 7,
      "outputs": [
        {
          "output_type": "execute_result",
          "data": {
            "text/plain": [
              "{'T-shirt/top': 0,\n",
              " 'Trouser': 1,\n",
              " 'Pullover': 2,\n",
              " 'Dress': 3,\n",
              " 'Coat': 4,\n",
              " 'Sandal': 5,\n",
              " 'Shirt': 6,\n",
              " 'Sneaker': 7,\n",
              " 'Bag': 8,\n",
              " 'Ankle boot': 9}"
            ]
          },
          "metadata": {},
          "execution_count": 7
        }
      ]
    },
    {
      "cell_type": "markdown",
      "source": [
        "##checking input and output shape:"
      ],
      "metadata": {
        "id": "lwXWF1FLDCax"
      }
    },
    {
      "cell_type": "code",
      "source": [
        "print(f\"Image Shape:{image.shape}->Colour channel,width,height|Ouput lables:{label}\")"
      ],
      "metadata": {
        "colab": {
          "base_uri": "https://localhost:8080/"
        },
        "id": "5HeQjrHmBHBG",
        "outputId": "0c2a714c-1a39-448b-c58a-41e8710c75fa"
      },
      "execution_count": 8,
      "outputs": [
        {
          "output_type": "stream",
          "name": "stdout",
          "text": [
            "Image Shape:torch.Size([1, 28, 28])->Colour channel,width,height|Ouput lables:9\n"
          ]
        }
      ]
    },
    {
      "cell_type": "markdown",
      "source": [
        "#visualize some random sample of Data:\n"
      ],
      "metadata": {
        "id": "UQhkLzLzDKB0"
      }
    },
    {
      "cell_type": "code",
      "source": [
        "image,label=train_data[0]\n",
        "plt.figure(figsize=(10,4))\n",
        "plt.title(class_[label]);\n",
        "plt.imshow(image.squeeze())"
      ],
      "metadata": {
        "colab": {
          "base_uri": "https://localhost:8080/",
          "height": 408
        },
        "id": "haiSX-qhDLX2",
        "outputId": "3ab1fdc8-92ba-4de6-ac8f-f5b9efdbf855"
      },
      "execution_count": 9,
      "outputs": [
        {
          "output_type": "execute_result",
          "data": {
            "text/plain": [
              "<matplotlib.image.AxesImage at 0x78a95b5fa1d0>"
            ]
          },
          "metadata": {},
          "execution_count": 9
        },
        {
          "output_type": "display_data",
          "data": {
            "text/plain": [
              "<Figure size 1000x400 with 1 Axes>"
            ],
            "image/png": "[encoded data removed]"
          },
          "metadata": {}
        }
      ]
    },
    {
      "cell_type": "code",
      "source": [
        "plt.figure(figsize=(10, 4))\n",
        "plt.imshow(image.squeeze(), cmap=\"gray\")\n",
        "plt.title(class_[label])\n",
        "plt.axis(\"off\")\n",
        "plt.show()"
      ],
      "metadata": {
        "colab": {
          "base_uri": "https://localhost:8080/",
          "height": 367
        },
        "id": "wv2nNoG_EHiS",
        "outputId": "a5a3a127-d81f-4c0e-ea86-daf520aaa840"
      },
      "execution_count": 10,
      "outputs": [
        {
          "output_type": "display_data",
          "data": {
            "text/plain": [
              "<Figure size 1000x400 with 1 Axes>"
            ],
            "image/png": "[encoded data removed]"
          },
          "metadata": {}
        }
      ]
    },
    {
      "cell_type": "code",
      "source": [
        "torch.manual_seed(42)\n",
        "fig=plt.figure(figsize=(9,9))\n",
        "rows,cols=4,4\n",
        "for i in range(1,rows*cols+1):\n",
        "  ran_idx=torch.randint(0,len(train_data),size=[1]).item()\n",
        "  image,label=train_data[ran_idx]\n",
        "  fig.add_subplot(rows,cols,i)\n",
        "  plt.imshow(image.squeeze(),cmap=\"gray\")\n",
        "  plt.title(class_[label])\n",
        "  plt.axis(\"off\")"
      ],
      "metadata": {
        "colab": {
          "base_uri": "https://localhost:8080/",
          "height": 752
        },
        "id": "Hagw46gKFV_e",
        "outputId": "58c9e629-5c22-4f02-ef52-2548d9500964"
      },
      "execution_count": 11,
      "outputs": [
        {
          "output_type": "display_data",
          "data": {
            "text/plain": [
              "<Figure size 900x900 with 16 Axes>"
            ],
            "image/png": "[encoded data removed]"
          },
          "metadata": {}
        }
      ]
    },
    {
      "cell_type": "markdown",
      "source": [
        "###DataLoader Overview Understanding mini-Batch"
      ],
      "metadata": {
        "id": "pQZzpvl9FHi3"
      }
    },
    {
      "cell_type": "code",
      "source": [
        "#these clothing images could be modelled with pure straight lines or need any non-linear activation function??"
      ],
      "metadata": {
        "id": "pAeGRVI9FM-w"
      },
      "execution_count": 12,
      "outputs": []
    },
    {
      "cell_type": "markdown",
      "source": [
        "###DataLoader converts the dataset into python iterable.. turning dataset into batches...(mini Batches)\n",
        "\n",
        "why we do this??\n",
        "\n",
        "#1.It is more computationally effecient as in your computing hardware may not be able to look at all the 60000 images at once.So we break it down to 32 images at a time...\n",
        "\n",
        "#2.It gives our neural network more chances to update its gradients per epoch."
      ],
      "metadata": {
        "id": "6kYIdt2zFxFg"
      }
    },
    {
      "cell_type": "code",
      "source": [
        "from torch.utils.data import DataLoader\n",
        "#setup Hyperperamenter\n",
        "train_Data_loader=DataLoader(dataset=train_data,\n",
        "                       batch_size=32,\n",
        "                       shuffle=True)\n",
        "test_Data_loader=DataLoader(\n",
        "    dataset=Test_data,\n",
        "    batch_size=32,\n",
        "    shuffle=False\n",
        ")"
      ],
      "metadata": {
        "id": "w6BPaZEyF3VO"
      },
      "execution_count": 13,
      "outputs": []
    },
    {
      "cell_type": "code",
      "source": [
        "print(f\"Number of Train DataLoader:{len(train_Data_loader)} of size 32\")\n",
        "print(f\"Number of Test DataLoader:{len(test_Data_loader)} of size 32\")"
      ],
      "metadata": {
        "colab": {
          "base_uri": "https://localhost:8080/"
        },
        "id": "2srIRvRrJJKV",
        "outputId": "7bc56ee9-0cb7-48fc-f24f-21a6626aca8d"
      },
      "execution_count": 14,
      "outputs": [
        {
          "output_type": "stream",
          "name": "stdout",
          "text": [
            "Number of Train DataLoader:1875 of size 32\n",
            "Number of Test DataLoader:313 of size 32\n"
          ]
        }
      ]
    },
    {
      "cell_type": "code",
      "source": [
        "data_feature_sample,data_label_sample=next(iter(train_Data_loader))\n",
        "data_feature_sample.shape,data_label_sample.shape"
      ],
      "metadata": {
        "colab": {
          "base_uri": "https://localhost:8080/"
        },
        "id": "VPbJHoW2KO2k",
        "outputId": "6f8cf079-9c93-408c-8c5d-74e4e7229746"
      },
      "execution_count": 15,
      "outputs": [
        {
          "output_type": "execute_result",
          "data": {
            "text/plain": [
              "(torch.Size([32, 1, 28, 28]), torch.Size([32]))"
            ]
          },
          "metadata": {},
          "execution_count": 15
        }
      ]
    },
    {
      "cell_type": "code",
      "source": [
        "#show a sample Dataloader\n",
        "torch.manual_seed(42)\n",
        "random_index=torch.randint(0,len(data_feature_sample),size=[1]).item()\n",
        "image,label=data_feature_sample[random_index] , data_label_sample[random_index]\n",
        "plt.imshow(image.squeeze(),cmap=\"gray\")\n",
        "plt.title(\"Batch\")\n",
        "plt.axis(\"off\")\n",
        "plt.show()"
      ],
      "metadata": {
        "colab": {
          "base_uri": "https://localhost:8080/",
          "height": 428
        },
        "id": "P7_yJV5HJwcB",
        "outputId": "613c9752-d033-4629-ff0d-4c71d4659f5b"
      },
      "execution_count": 16,
      "outputs": [
        {
          "output_type": "display_data",
          "data": {
            "text/plain": [
              "<Figure size 640x480 with 1 Axes>"
            ],
            "image/png": "[encoded data removed]"
          },
          "metadata": {}
        }
      ]
    },
    {
      "cell_type": "markdown",
      "source": [
        "#Creating a baseline model with two linear Layers"
      ],
      "metadata": {
        "id": "vKLDqGekMENv"
      }
    },
    {
      "cell_type": "markdown",
      "source": [
        "#We will first pass the train dataloader though flatten modle as we are building a model with two linear layer and linear modle cannot handle multifeature dataset."
      ],
      "metadata": {
        "id": "Ojqy5D3POsUq"
      }
    },
    {
      "cell_type": "code",
      "source": [
        "#first Computer Vision model:\n",
        "#starts simply and add complexity when necessary\n",
        "\n",
        "#First we will create a flatten layer:\n",
        "flatten_model=nn.Flatten()\n",
        "\n",
        "#get a sample train data:\n",
        "x=data_feature_sample[0]\n",
        "\n",
        "#pass the data through flatten model:(Forward pass)\n",
        "output=flatten_model(x)\n",
        "\n",
        "#what we got  after passing the data past the flatten model:\n",
        "print(f\"Shape before flattening:{x.shape}->[color_channel,height,width]\")\n",
        "print(f\"Shape after flattening:{output.shape}->[color_channel,height*width]\")"
      ],
      "metadata": {
        "colab": {
          "base_uri": "https://localhost:8080/"
        },
        "id": "IJuH-Hl6MMID",
        "outputId": "7909315c-f31c-400c-c377-042ea170ab8c"
      },
      "execution_count": 17,
      "outputs": [
        {
          "output_type": "stream",
          "name": "stdout",
          "text": [
            "Shape before flattening:torch.Size([1, 28, 28])->[color_channel,height,width]\n",
            "Shape after flattening:torch.Size([1, 784])->[color_channel,height*width]\n"
          ]
        }
      ]
    },
    {
      "cell_type": "code",
      "source": [
        "#model Building:\n",
        "torch.manual_seed(42)\n",
        "from torch import nn\n",
        "class CNNfashion(nn.Module):\n",
        "  def __init__(self,\n",
        "               input_shape,\n",
        "               hidden_layer,\n",
        "               output_shape):\n",
        "    super().__init__()\n",
        "    self.layer_stack=nn.Sequential(\n",
        "        nn.Flatten(),\n",
        "        nn.Linear(in_features=input_shape,\n",
        "                  out_features=hidden_layer),\n",
        "        nn.Linear(in_features=hidden_layer,\n",
        "                  out_features=output_shape)\n",
        "        )\n",
        "\n",
        "  def forward(self,x):\n",
        "    return self.layer_stack(x)\n",
        "\n",
        "model=CNNfashion(input_shape=784,\n",
        "                 hidden_layer=10,\n",
        "                 output_shape=len(class_))\n",
        "\n",
        "model\n",
        "\n"
      ],
      "metadata": {
        "colab": {
          "base_uri": "https://localhost:8080/"
        },
        "id": "OfLBZxQqQ491",
        "outputId": "5424f722-4723-4973-89ab-56015ce49e50"
      },
      "execution_count": 18,
      "outputs": [
        {
          "output_type": "execute_result",
          "data": {
            "text/plain": [
              "CNNfashion(\n",
              "  (layer_stack): Sequential(\n",
              "    (0): Flatten(start_dim=1, end_dim=-1)\n",
              "    (1): Linear(in_features=784, out_features=10, bias=True)\n",
              "    (2): Linear(in_features=10, out_features=10, bias=True)\n",
              "  )\n",
              ")"
            ]
          },
          "metadata": {},
          "execution_count": 18
        }
      ]
    },
    {
      "cell_type": "markdown",
      "source": [
        "##loss_function and optimizer and Accuracy:"
      ],
      "metadata": {
        "id": "dEDf2PYDVy6s"
      }
    },
    {
      "cell_type": "code",
      "source": [
        "import requests\n",
        "from pathlib import Path\n",
        "if Path(\"helper_function.py\").is_file():\n",
        "  print(\"Already there\")\n",
        "else:\n",
        "  print(\"Downloading\")\n",
        "  request=requests.get(\"https://raw.githubusercontent.com/mrdbourke/pytorch-deep-learning/refs/heads/main/helper_functions.py\")\n",
        "  with open(\"helper_function.py\",\"wb\") as f:\n",
        "    f.write(request.content)"
      ],
      "metadata": {
        "colab": {
          "base_uri": "https://localhost:8080/"
        },
        "id": "xiJjQWnGSRyE",
        "outputId": "553dd8ab-eec3-41c6-c1e0-d8183bc05d5c"
      },
      "execution_count": 19,
      "outputs": [
        {
          "output_type": "stream",
          "name": "stdout",
          "text": [
            "Downloading\n"
          ]
        }
      ]
    },
    {
      "cell_type": "code",
      "source": [
        "#Accuracy:\n",
        "from helper_function import accuracy_fn\n",
        "#loss_function:\n",
        "loss_function=nn.CrossEntropyLoss()\n",
        "#optimizer:\n",
        "optimizer=torch.optim.SGD(params=model.parameters(),\n",
        "                          lr=0.1)"
      ],
      "metadata": {
        "id": "XHAiQaTVVNxA"
      },
      "execution_count": 20,
      "outputs": []
    },
    {
      "cell_type": "markdown",
      "source": [
        "###creating a Function to time our modeling code:"
      ],
      "metadata": {
        "id": "W60D7qIAV_wW"
      }
    },
    {
      "cell_type": "code",
      "source": [
        "from timeit import default_timer as timer\n",
        "def print_train_time(start:float,\n",
        "                     end:float,\n",
        "                     device:torch.device=\"None\"):\n",
        "  total_time=end-start\n",
        "  print(f\"Train time on {device}: {total_time:.3f} seconds\")\n",
        "  return total_time\n",
        "\n",
        "\n",
        "# start_time=timer()\n",
        "# some code:\n",
        "# end_time=timer()\n",
        "# print_train_time(start=start_time,\n",
        "#                  end=end_time,\n",
        "#                  device=\"cpu\")"
      ],
      "metadata": {
        "id": "P1F5Zf0vWFaI"
      },
      "execution_count": 21,
      "outputs": []
    },
    {
      "cell_type": "markdown",
      "source": [
        "#Training and Testing Loop for our Batch Data:"
      ],
      "metadata": {
        "id": "RFoFXCQnY878"
      }
    },
    {
      "cell_type": "code",
      "source": [
        "#the optimizer will update a model's paramter once per batch rather than once per epoch.\n",
        "\n",
        "#Steps:\n",
        "# 1.Loop through the epochs.\n",
        "# 2.Loop through the training batch,perform the training steps, calculate the training loss per batch....\n",
        "# 3.Loop through the testing batch,perform the testing steps, claculate the testing loss per batch...\n",
        "# 4.Print out whats happening along with timer..."
      ],
      "metadata": {
        "id": "BkvIHzV7ZCim"
      },
      "execution_count": 22,
      "outputs": []
    },
    {
      "cell_type": "code",
      "source": [
        "#better progress bar\n",
        "from tqdm.auto import tqdm\n",
        "\n",
        "#setting up manual seed\n",
        "torch.manual_seed(42)\n",
        "\n",
        "#start timer...\n",
        "train_start_time=timer()\n",
        "\n",
        "#number of epochs means 1857 batches of 32 images will run 3 times through our model:\n",
        "epochs=3\n",
        "\n",
        "#training and testing loop:\n",
        "for epoch in tqdm(range(epochs)):\n",
        "  print(f\"epoch: {epoch+1}\\n-----\")\n",
        "  train_loss=0\n",
        "  train_acc=0\n",
        "  #Add a loop to loop through training the training batches:\n",
        "  for batch,(X,y) in enumerate(train_Data_loader):\n",
        "    model.train()\n",
        "    y_pred=model(X)\n",
        "    loss=loss_function(y_pred,y)\n",
        "    train_loss+=loss\n",
        "    train_acc+=accuracy_fn(y_true=y,y_pred=y_pred.argmax(dim=1))\n",
        "    optimizer.zero_grad()\n",
        "    loss.backward()\n",
        "    optimizer.step()\n",
        "\n",
        "  #divide the  train_lodd  by the len of dataloader.\n",
        "  train_loss/=len(train_Data_loader)\n",
        "  train_acc/=len(train_Data_loader)\n",
        "\n",
        "  test_loss=0\n",
        "  test_acc=0\n",
        "  model.eval()\n",
        "  with torch.inference_mode():\n",
        "    for X,y in test_Data_loader:\n",
        "      test_pred=model(X)\n",
        "      test_los=loss_function(test_pred,y)\n",
        "      test_loss+=test_los\n",
        "      test_acc+=accuracy_fn(y_true=y,y_pred=test_pred.argmax(dim=1))\n",
        "\n",
        "    #calculate the test loss (average):\n",
        "    test_loss/=len(test_Data_loader)\n",
        "    test_acc/=len(test_Data_loader)\n",
        "\n",
        "  #print out whats happeing:\n",
        "  print(f\"Training Loss: {loss:.4f} , Training Accuracy:{train_acc:4f} , Testing Loss: {test_loss:.4f} , Testing_Accuracy: {test_acc:.4f}\")\n",
        "\n",
        "train_end_time=timer()\n",
        "total_time=print_train_time(start=train_start_time,\n",
        "                            end=train_end_time,\n",
        "                            device=str(next(model.parameters())))"
      ],
      "metadata": {
        "colab": {
          "base_uri": "https://localhost:8080/",
          "height": 361,
          "referenced_widgets": [
            "510281f0def94805a2cebbf86fa95e9c",
            "a628c9e6ef08482d8c280ef9f4aabb6f",
            "d22024c8296e410e9991d6538b70275c",
            "dd6ca877fc9b495ab809efa7fc72436d",
            "c56146a35b6147fcb878f885dd773770",
            "ab5f2c13fcc844ebbcf09e4b0c9dc5d2",
            "cff6105aae424509940b3d6e0361b003",
            "118b5995b25b42c9b066b83dee9dcb98",
            "10f01beb92b24af58a37b8865260b6ff",
            "945c186a848d4e72a699789d4ddae9c5",
            "d36d41cd69a549098e42692a96abfb61"
          ]
        },
        "id": "2mkiVzNobHmT",
        "outputId": "57418012-d21b-4cb0-8b27-f7d9e8f0e3ad"
      },
      "execution_count": 23,
      "outputs": [
        {
          "output_type": "display_data",
          "data": {
            "text/plain": [
              "  0%|          | 0/3 [00:00<?, ?it/s]"
            ],
            "application/vnd.jupyter.widget-view+json": {
              "version_major": 2,
              "version_minor": 0,
              "model_id": "510281f0def94805a2cebbf86fa95e9c"
            }
          },
          "metadata": {}
        },
        {
          "output_type": "stream",
          "name": "stdout",
          "text": [
            "epoch: 1\n",
            "-----\n",
            "Training Loss: 0.4652 , Training Accuracy:79.171667 , Testing Loss: 0.5095 , Testing_Accuracy: 82.0387\n",
            "epoch: 2\n",
            "-----\n",
            "Training Loss: 0.6015 , Training Accuracy:83.320000 , Testing Loss: 0.4799 , Testing_Accuracy: 83.1969\n",
            "epoch: 3\n",
            "-----\n",
            "Training Loss: 0.3182 , Training Accuracy:84.051667 , Testing Loss: 0.4766 , Testing_Accuracy: 83.4265\n",
            "Train time on Parameter containing:\n",
            "tensor([[ 0.0273,  0.0298, -0.0065,  ...,  0.0071,  0.0091,  0.0170],\n",
            "        [-0.0189, -0.0355,  0.0155,  ...,  0.0161,  0.0120,  0.0117],\n",
            "        [-0.0008,  0.0020,  0.0032,  ...,  0.0058, -0.0146,  0.0084],\n",
            "        ...,\n",
            "        [-0.0116,  0.0274, -0.0323,  ...,  0.0527,  0.0434,  0.0006],\n",
            "        [-0.0231,  0.0252,  0.0236,  ..., -0.0892, -0.0385, -0.0071],\n",
            "        [ 0.0175, -0.0148,  0.0027,  ..., -0.1155, -0.0674,  0.0125]],\n",
            "       requires_grad=True): 30.088 seconds\n"
          ]
        }
      ]
    },
    {
      "cell_type": "code",
      "source": [
        "#now we will create evaluation function so that it can run for diffrent model:\n",
        "def eval(model_=torch.nn.Module,\n",
        "         data_loader=torch.utils.data.DataLoader,\n",
        "         loss_fn=torch.nn.Module,\n",
        "         accuracy_fn=None,\n",
        "         device: torch.device = torch.device(\"cpu\")):\n",
        "  model_.eval()\n",
        "  loss=0\n",
        "  accu=0\n",
        "  with torch.inference_mode():\n",
        "    for X,y in tqdm(data_loader):\n",
        "      X,y=X.to(device),y.to(device)\n",
        "      y_pred=model_(X)\n",
        "      loss+=loss_fn(y_pred,y).item()\n",
        "      accu+=accuracy_fn(y_true=y,\n",
        "                y_pred=y_pred.argmax(dim=1))\n",
        "\n",
        "    loss/=len(data_loader)\n",
        "    accu/=len(data_loader)\n",
        "\n",
        "  return {\"Model_name\":model_.__class__.__name__,\n",
        "          \"Model_loss\":loss,\n",
        "          \"Model_accuracy\":accu}\n",
        "\n",
        "model_result=eval(model_=model,\n",
        "     data_loader=test_Data_loader,\n",
        "     loss_fn=loss_function,\n",
        "     accuracy_fn=accuracy_fn)\n",
        "\n",
        "print(model_result)"
      ],
      "metadata": {
        "colab": {
          "base_uri": "https://localhost:8080/",
          "height": 66,
          "referenced_widgets": [
            "4ab43cd67ad24f61bc97d80c1a230f8e",
            "6fdcee11c794472291b26c4751b41ab5",
            "e6135f8523b049e3b4fd240d7acc7f0d",
            "e4feb5888b5a4f958637a142aa3f03f3",
            "9f06bb1f6ea846b2a5a0b291bbe4367b",
            "e9e9e78b6be9473ebb721a3783a46d4a",
            "6585c2bb3e3f4b45ac19b69937f02e03",
            "ae47f04bf4a545e39acf8c752d779f23",
            "e1f5b863ffa14f769baf08eda9dd9b94",
            "d416968a78e748a2a44530e1c3f5e677",
            "e30a29042e4b47f9a6d9b1e49f76e266"
          ]
        },
        "id": "TvBNKmWPlz_m",
        "outputId": "4a3c748b-d99f-48c9-d318-b1d5fdf526e6"
      },
      "execution_count": 24,
      "outputs": [
        {
          "output_type": "display_data",
          "data": {
            "text/plain": [
              "  0%|          | 0/313 [00:00<?, ?it/s]"
            ],
            "application/vnd.jupyter.widget-view+json": {
              "version_major": 2,
              "version_minor": 0,
              "model_id": "4ab43cd67ad24f61bc97d80c1a230f8e"
            }
          },
          "metadata": {}
        },
        {
          "output_type": "stream",
          "name": "stdout",
          "text": [
            "{'Model_name': 'CNNfashion', 'Model_loss': 0.47663889553981087, 'Model_accuracy': 83.42651757188499}\n"
          ]
        }
      ]
    },
    {
      "cell_type": "markdown",
      "source": [
        "#**ANOTHER MODEL / ANOTHER WAY**"
      ],
      "metadata": {
        "id": "V4iOQvQ1r-n_"
      }
    },
    {
      "cell_type": "code",
      "source": [
        "import torch\n",
        "device=\"cuda\" if torch.cuda.is_available() else \"cpu\"\n",
        "device"
      ],
      "metadata": {
        "colab": {
          "base_uri": "https://localhost:8080/",
          "height": 35
        },
        "id": "AhV3vxx9sEl2",
        "outputId": "c688436e-7b48-4401-b366-273072461623"
      },
      "execution_count": 25,
      "outputs": [
        {
          "output_type": "execute_result",
          "data": {
            "text/plain": [
              "'cpu'"
            ],
            "application/vnd.google.colaboratory.intrinsic+json": {
              "type": "string"
            }
          },
          "metadata": {},
          "execution_count": 25
        }
      ]
    },
    {
      "cell_type": "markdown",
      "source": [
        "###Creating another model with non-Linear function:"
      ],
      "metadata": {
        "id": "gsGbg2s8skPX"
      }
    },
    {
      "cell_type": "code",
      "source": [
        "torch.manual_seed(42)\n",
        "class CNNfashionimp_non_li(nn.Module):\n",
        "  def __init__(self,\n",
        "               input_shape,\n",
        "               output_shape,\n",
        "               hidden_layer):\n",
        "    super().__init__()\n",
        "    self.layer_stackimp=nn.Sequential(\n",
        "        nn.Flatten(),\n",
        "        nn.Linear(in_features=input_shape,out_features=hidden_layer),\n",
        "        nn.ReLU(),\n",
        "        nn.Linear(in_features=hidden_layer,out_features=output_shape)\n",
        "        )\n",
        "\n",
        "  def forward(self,x:torch.Tensor):\n",
        "    return self.layer_stackimp(x)"
      ],
      "metadata": {
        "id": "6d1w9Vlcsugg"
      },
      "execution_count": 26,
      "outputs": []
    },
    {
      "cell_type": "code",
      "source": [
        "modelimp=CNNfashionimp_non_li(input_shape=784,\n",
        "                    output_shape=len(class_),\n",
        "                    hidden_layer=10).to(device)\n",
        "print(modelimp.state_dict())\n",
        "next(modelimp.parameters()).device"
      ],
      "metadata": {
        "colab": {
          "base_uri": "https://localhost:8080/"
        },
        "id": "QsEEAKOpuFsX",
        "outputId": "4e067b92-de59-4384-f5ab-c207b91fbc4b"
      },
      "execution_count": 27,
      "outputs": [
        {
          "output_type": "stream",
          "name": "stdout",
          "text": [
            "OrderedDict([('layer_stackimp.1.weight', tensor([[ 0.0273,  0.0296, -0.0084,  ..., -0.0142,  0.0093,  0.0135],\n",
            "        [-0.0188, -0.0354,  0.0187,  ..., -0.0106, -0.0001,  0.0115],\n",
            "        [-0.0008,  0.0017,  0.0045,  ..., -0.0127, -0.0188,  0.0059],\n",
            "        ...,\n",
            "        [-0.0116,  0.0273, -0.0344,  ...,  0.0176,  0.0283, -0.0011],\n",
            "        [-0.0230,  0.0257,  0.0291,  ..., -0.0187, -0.0087,  0.0001],\n",
            "        [ 0.0176, -0.0147,  0.0053,  ..., -0.0336, -0.0221,  0.0205]])), ('layer_stackimp.1.bias', tensor([-0.0093,  0.0283, -0.0033,  0.0255,  0.0017,  0.0037, -0.0302, -0.0123,\n",
            "         0.0018,  0.0163])), ('layer_stackimp.3.weight', tensor([[ 0.0614, -0.0687,  0.0021,  0.2718,  0.2109,  0.1079, -0.2279, -0.1063,\n",
            "          0.2019,  0.2847],\n",
            "        [-0.1495,  0.1344, -0.0740,  0.2006, -0.0475, -0.2514, -0.3130, -0.0118,\n",
            "          0.0932, -0.1864],\n",
            "        [ 0.2488,  0.1500,  0.1907,  0.1457, -0.3050, -0.0580,  0.1643,  0.1565,\n",
            "         -0.2877, -0.1792],\n",
            "        [ 0.2305, -0.2618,  0.2397, -0.0610,  0.0232,  0.1542,  0.0851, -0.2027,\n",
            "          0.1030, -0.2715],\n",
            "        [-0.1596, -0.0555, -0.0633,  0.2302, -0.1726,  0.2654,  0.1473,  0.1029,\n",
            "          0.2252, -0.2160],\n",
            "        [-0.2725,  0.0118,  0.1559,  0.1596,  0.0132,  0.3024,  0.1124,  0.1366,\n",
            "         -0.1533,  0.0965],\n",
            "        [-0.1184, -0.2555, -0.2057, -0.1909, -0.0477, -0.1324,  0.2905,  0.1307,\n",
            "         -0.2629,  0.0133],\n",
            "        [ 0.2727, -0.0127,  0.0513,  0.0863, -0.1043, -0.2047, -0.1185, -0.0825,\n",
            "          0.2488, -0.2571],\n",
            "        [ 0.0425, -0.1209, -0.0336, -0.0281, -0.1227,  0.0730,  0.0747, -0.1816,\n",
            "          0.1943,  0.2853],\n",
            "        [-0.1310,  0.0645, -0.1171,  0.2168, -0.0245, -0.2820,  0.0736,  0.2621,\n",
            "          0.0012, -0.0810]])), ('layer_stackimp.3.bias', tensor([-0.0087,  0.1791,  0.2712, -0.0791,  0.1685,  0.1762,  0.2825,  0.2266,\n",
            "        -0.2612, -0.2613]))])\n"
          ]
        },
        {
          "output_type": "execute_result",
          "data": {
            "text/plain": [
              "device(type='cpu')"
            ]
          },
          "metadata": {},
          "execution_count": 27
        }
      ]
    },
    {
      "cell_type": "code",
      "source": [
        "#Accuracy:\n",
        "from helper_function import accuracy_fn\n",
        "#loss_function:\n",
        "loss_functionimp=nn.CrossEntropyLoss()\n",
        "#optimizer:\n",
        "optimizerimp=torch.optim.SGD(params=modelimp.parameters(),\n",
        "                          lr=0.1)"
      ],
      "metadata": {
        "id": "D-NyJEFMu7eu"
      },
      "execution_count": 28,
      "outputs": []
    },
    {
      "cell_type": "markdown",
      "source": [
        "#Function for training and testsing loop:"
      ],
      "metadata": {
        "id": "oiNtKTzHvQ92"
      }
    },
    {
      "cell_type": "code",
      "source": [
        "def train_step(model_imp:torch.nn.Module,\n",
        "               data_loader:torch.utils.data.DataLoader,\n",
        "               loss_fn:torch.nn.Module,\n",
        "               optimizer:torch.optim.Optimizer,\n",
        "               device:torch.device,\n",
        "               accuracy_fn=None):\n",
        "  model_imp.train()\n",
        "  train_loss=0\n",
        "  train_acc=0\n",
        "  #Add a loop to loop through training the training batches:\n",
        "  for batch,(X,y) in enumerate(data_loader):\n",
        "    # Move data to device\n",
        "    X, y = X.to(device), y.to(device)\n",
        "    y_pred=model_imp(X)\n",
        "    loss=loss_fn(y_pred,y)\n",
        "    train_loss+=loss.item()\n",
        "    train_acc+=accuracy_fn(y_true=y,y_pred=y_pred.argmax(dim=1))\n",
        "    optimizer.zero_grad()\n",
        "    loss.backward()\n",
        "    optimizer.step()\n",
        "\n",
        "  #divide the  train_loader  by the len of dataloader.\n",
        "  train_loss/=len(data_loader)\n",
        "  train_acc/=len(data_loader)\n",
        "  print(f\"Train loss:{train_loss:.4f}, Train Accuracy:{train_acc:.4f}\")"
      ],
      "metadata": {
        "id": "5Jke0vd7vP6J"
      },
      "execution_count": 29,
      "outputs": []
    },
    {
      "cell_type": "code",
      "source": [
        "def test_step(model_imp:torch.nn.Module,\n",
        "               data_loader:torch.utils.data.DataLoader,\n",
        "               loss_fn:torch.nn.Module,\n",
        "               optimizer:torch.optim.Optimizer,\n",
        "               device:torch.device,\n",
        "               accuracy_fn=None):\n",
        "  test_loss=0\n",
        "  test_acc=0\n",
        "  model_imp.eval()\n",
        "  with torch.inference_mode():\n",
        "    for X,y in data_loader:\n",
        "      # Move data to device\n",
        "      X, y = X.to(device), y.to(device)\n",
        "      test_pred=model_imp(X)\n",
        "      test_los=loss_fn(test_pred,y)\n",
        "      test_loss+=test_los.item()\n",
        "      test_acc+=accuracy_fn(y_true=y,y_pred=test_pred.argmax(dim=1))\n",
        "\n",
        "    #calculate the test loss (average):\n",
        "    test_loss/=len(data_loader)\n",
        "    test_acc/=len(data_loader)\n",
        "    print(f\"Test Loss:{test_loss:.4f} ,Test Accuracy:{test_acc:.4f}\")"
      ],
      "metadata": {
        "id": "Gno_wRVZzR--"
      },
      "execution_count": 30,
      "outputs": []
    },
    {
      "cell_type": "code",
      "source": [
        "#setting up manual seed\n",
        "torch.manual_seed(42)\n",
        "\n",
        "#start timer...\n",
        "train_start_time_imp=timer()\n",
        "\n",
        "#number of epochs means 1857 batches of 32 images will run 3 times through our model:\n",
        "epochs=3\n",
        "for epoch in tqdm(range(epochs)):\n",
        "  print(f\"Epoch:{epoch}/n-----\")\n",
        "  train_step(model_imp=modelimp,\n",
        "             data_loader=train_Data_loader,\n",
        "             loss_fn=loss_functionimp,\n",
        "             optimizer=optimizerimp,\n",
        "             device=device,\n",
        "             accuracy_fn=accuracy_fn)\n",
        "  test_step(model_imp=modelimp,\n",
        "            data_loader=test_Data_loader,\n",
        "            loss_fn=loss_functionimp,\n",
        "            optimizer=optimizerimp,\n",
        "            device=device,\n",
        "            accuracy_fn=accuracy_fn)\n",
        "\n",
        "train_end_time_imp=timer()\n",
        "total_time__non_li=print_train_time(start=train_start_time_imp,\n",
        "                            end=train_end_time_imp,\n",
        "                            device=device)\n",
        "modelimp"
      ],
      "metadata": {
        "colab": {
          "base_uri": "https://localhost:8080/",
          "height": 361,
          "referenced_widgets": [
            "0534e8a260664df1a2ac08e6ece79608",
            "d6375e57823b48aba15e57b93416b395",
            "90fe0eca3dfe417c97bbda936b59796b",
            "ddb259c2fd5940b5b4e6a021d6d2b43f",
            "b97a4b91688e43d6a6b76b889f474c91",
            "3e4223b9b1d44e7dbcfded4ad7948ae7",
            "d9c42252efe64c17ab5aa3ecfc9eafd9",
            "633f6209ef8f4623acbf05bb70484c36",
            "c033d5f7ae214b038a208aecd8b222a0",
            "5e427cdf869640868d35d2ee4368965c",
            "6c333a40c3ca4766a820e8a3c06c2746"
          ]
        },
        "id": "8PFmbrsA1InQ",
        "outputId": "fcb7a6b2-d3ba-4e54-8d15-9a6a1dda4d8a"
      },
      "execution_count": 31,
      "outputs": [
        {
          "output_type": "display_data",
          "data": {
            "text/plain": [
              "  0%|          | 0/3 [00:00<?, ?it/s]"
            ],
            "application/vnd.jupyter.widget-view+json": {
              "version_major": 2,
              "version_minor": 0,
              "model_id": "0534e8a260664df1a2ac08e6ece79608"
            }
          },
          "metadata": {}
        },
        {
          "output_type": "stream",
          "name": "stdout",
          "text": [
            "Epoch:0/n-----\n",
            "Train loss:0.6461, Train Accuracy:77.1700\n",
            "Test Loss:0.5386 ,Test Accuracy:80.7608\n",
            "Epoch:1/n-----\n",
            "Train loss:0.4809, Train Accuracy:82.9433\n",
            "Test Loss:0.4939 ,Test Accuracy:82.4581\n",
            "Epoch:2/n-----\n",
            "Train loss:0.4469, Train Accuracy:84.1633\n",
            "Test Loss:0.4575 ,Test Accuracy:83.9856\n",
            "Train time on cpu: 30.050 seconds\n"
          ]
        },
        {
          "output_type": "execute_result",
          "data": {
            "text/plain": [
              "CNNfashionimp_non_li(\n",
              "  (layer_stackimp): Sequential(\n",
              "    (0): Flatten(start_dim=1, end_dim=-1)\n",
              "    (1): Linear(in_features=784, out_features=10, bias=True)\n",
              "    (2): ReLU()\n",
              "    (3): Linear(in_features=10, out_features=10, bias=True)\n",
              "  )\n",
              ")"
            ]
          },
          "metadata": {},
          "execution_count": 31
        }
      ]
    },
    {
      "cell_type": "markdown",
      "source": [
        " Note:\n",
        "Sometimes, depending on your data/hardware, you might find that your model trains faster on CPU than GPU.\n",
        "\n",
        "❓ Why is this?\n",
        "Overhead Costs:\n",
        "Copying data between the CPU and GPU can take time. If your model or dataset is small, the communication overhead might be more than the speedup from using a GPU.\n",
        "\n",
        "Hardware Differences:\n",
        "The CPU you're using might actually have better performance (e.g., more powerful cores or higher clock speed) relative to the GPU available on your system."
      ],
      "metadata": {
        "id": "GPvuHGYw7mak"
      }
    },
    {
      "cell_type": "code",
      "source": [
        "model_result_non_li= eval(model_=modelimp,\n",
        "                    device=device,\n",
        "                    data_loader=test_Data_loader,\n",
        "                    loss_fn=loss_functionimp,\n",
        "                    accuracy_fn=accuracy_fn\n",
        ")"
      ],
      "metadata": {
        "colab": {
          "base_uri": "https://localhost:8080/",
          "height": 49,
          "referenced_widgets": [
            "1cadba412a354a13bcf4c8709772daeb",
            "aff3e8dee1834f17b2cc6ab8881df8fb",
            "336ff94918b642e08dcb294c3344e2f6",
            "5f6e80f0c8774e899d66e2292b54cba4",
            "8cbad25b1c5f488b971ecc7153d2ba09",
            "5102601f88184b699101da19d301f85b",
            "9cae0c45768245b2a166ec35b980996c",
            "9d70c1a1e7084e3ab28566a3ad8e81cd",
            "61e05510a26a4b73a98ec45d7efd120e",
            "b146eee1d3d24af4bd995829264d1642",
            "82034706639a4e838aed73c8ffb3b40e"
          ]
        },
        "id": "Ww0xtcUd57Jc",
        "outputId": "51cb0d33-0aca-43d4-851f-2617e4f87ecd"
      },
      "execution_count": 32,
      "outputs": [
        {
          "output_type": "display_data",
          "data": {
            "text/plain": [
              "  0%|          | 0/313 [00:00<?, ?it/s]"
            ],
            "application/vnd.jupyter.widget-view+json": {
              "version_major": 2,
              "version_minor": 0,
              "model_id": "1cadba412a354a13bcf4c8709772daeb"
            }
          },
          "metadata": {}
        }
      ]
    },
    {
      "cell_type": "code",
      "source": [
        "print(model_result_non_li)"
      ],
      "metadata": {
        "colab": {
          "base_uri": "https://localhost:8080/"
        },
        "id": "Vpy0bsiF-shy",
        "outputId": "6b61fccb-bf6d-4545-d0d7-9713d8a5378c"
      },
      "execution_count": 33,
      "outputs": [
        {
          "output_type": "stream",
          "name": "stdout",
          "text": [
            "{'Model_name': 'CNNfashionimp_non_li', 'Model_loss': 0.4574634914104931, 'Model_accuracy': 83.98562300319489}\n"
          ]
        }
      ]
    },
    {
      "cell_type": "code",
      "source": [
        "print(model_result)"
      ],
      "metadata": {
        "colab": {
          "base_uri": "https://localhost:8080/"
        },
        "id": "kKs_-tdo-i9p",
        "outputId": "1fd8537a-8626-4bf0-aee9-8685c7e0338d"
      },
      "execution_count": 34,
      "outputs": [
        {
          "output_type": "stream",
          "name": "stdout",
          "text": [
            "{'Model_name': 'CNNfashion', 'Model_loss': 0.47663889553981087, 'Model_accuracy': 83.42651757188499}\n"
          ]
        }
      ]
    },
    {
      "cell_type": "markdown",
      "source": [
        "#CONVOLUTIONAL NEURAL NETWORK HIGH LEVEL OVERVIEW"
      ],
      "metadata": {
        "id": "uwQrb5lgeIOP"
      }
    },
    {
      "cell_type": "markdown",
      "source": [
        "###CONVOLUTIONAL NEURAL NETWORK IS ALSO CALLED COVNETS---\n",
        "###BEST IN FINDING PATTRENS WITHIN IMAGE---"
      ],
      "metadata": {
        "id": "PoUVljrmeiqq"
      }
    },
    {
      "cell_type": "code",
      "source": [
        "from torch import nn\n",
        "class CNNFirst(nn.Module):\n",
        "  def __init__(self,\n",
        "               input_shape:int,\n",
        "               hidden_layer:int,\n",
        "               output_shape:int):\n",
        "    super().__init__()\n",
        "    self.Conv_block_1=nn.Sequential(\n",
        "        nn.Conv2d(in_channels=input_shape,\n",
        "                  out_channels=hidden_layer,\n",
        "                  kernel_size=3,\n",
        "                  stride=1,\n",
        "                  padding=1),\n",
        "        nn.ReLU(),\n",
        "        nn.Conv2d(in_channels=hidden_layer,\n",
        "                  out_channels=hidden_layer,\n",
        "                  kernel_size=3,\n",
        "                  stride=1,\n",
        "                  padding=1),\n",
        "        nn.ReLU(),\n",
        "        nn.MaxPool2d(kernel_size=2)\n",
        "    )\n",
        "    self.Conv_block_2=nn.Sequential(\n",
        "        nn.Conv2d(in_channels=hidden_layer,\n",
        "                  out_channels=hidden_layer,\n",
        "                  kernel_size=3,\n",
        "                  stride=1,\n",
        "                  padding=1),\n",
        "        nn.ReLU(),\n",
        "        nn.Conv2d(in_channels=hidden_layer,\n",
        "                  out_channels=hidden_layer,\n",
        "                  kernel_size=3,\n",
        "                  stride=1,\n",
        "                  padding=1),\n",
        "        nn.ReLU(),\n",
        "        nn.MaxPool2d(kernel_size=2)\n",
        "    )\n",
        "    self.classfier=nn.Sequential(\n",
        "        nn.Flatten(),\n",
        "        nn.Linear(in_features=hidden_layer*7*7,\n",
        "                  out_features=len(class_))\n",
        "    )\n",
        "\n",
        "\n",
        "  def forward(self,x):\n",
        "    x=self.Conv_block_1(x)\n",
        "    #print(x.shape)                 #compulsory to write to find out the shape for next layer\n",
        "    x=self.Conv_block_2(x)\n",
        "    #print(x.shape)                #compulsory to write to find out the shape for next layer\n",
        "    x=self.classfier(x)\n",
        "    #print(x.shape)\n",
        "    return x\n"
      ],
      "metadata": {
        "id": "0eXR-y54eOKK"
      },
      "execution_count": 35,
      "outputs": []
    },
    {
      "cell_type": "code",
      "source": [
        "model_CNN=CNNFirst(input_shape=1,# number of colour channels since we have black and white image dataset we will have one colour channels but if we have colurfull images we will have 3 colour channels.\n",
        "                   hidden_layer=30,\n",
        "                   output_shape=1).to(device)\n",
        "model_CNN"
      ],
      "metadata": {
        "colab": {
          "base_uri": "https://localhost:8080/"
        },
        "id": "36sSdgvLpGoR",
        "outputId": "3d4166e1-f279-4e81-ccfa-37a17da536f6"
      },
      "execution_count": 36,
      "outputs": [
        {
          "output_type": "execute_result",
          "data": {
            "text/plain": [
              "CNNFirst(\n",
              "  (Conv_block_1): Sequential(\n",
              "    (0): Conv2d(1, 30, kernel_size=(3, 3), stride=(1, 1), padding=(1, 1))\n",
              "    (1): ReLU()\n",
              "    (2): Conv2d(30, 30, kernel_size=(3, 3), stride=(1, 1), padding=(1, 1))\n",
              "    (3): ReLU()\n",
              "    (4): MaxPool2d(kernel_size=2, stride=2, padding=0, dilation=1, ceil_mode=False)\n",
              "  )\n",
              "  (Conv_block_2): Sequential(\n",
              "    (0): Conv2d(30, 30, kernel_size=(3, 3), stride=(1, 1), padding=(1, 1))\n",
              "    (1): ReLU()\n",
              "    (2): Conv2d(30, 30, kernel_size=(3, 3), stride=(1, 1), padding=(1, 1))\n",
              "    (3): ReLU()\n",
              "    (4): MaxPool2d(kernel_size=2, stride=2, padding=0, dilation=1, ceil_mode=False)\n",
              "  )\n",
              "  (classfier): Sequential(\n",
              "    (0): Flatten(start_dim=1, end_dim=-1)\n",
              "    (1): Linear(in_features=1470, out_features=10, bias=True)\n",
              "  )\n",
              ")"
            ]
          },
          "metadata": {},
          "execution_count": 36
        }
      ]
    },
    {
      "cell_type": "code",
      "source": [
        "###steping in conv2d layer:\n",
        "image_data=torch.randn(32,3,64,64)\n",
        "image_test=image_data[0]\n",
        "\n",
        "print(f\"shape of image_data: {image_data.shape}\")\n",
        "print(f\"Shape of image_test: {image_test.shape}\")\n",
        "print(f\"Image_test: {image_test}\")"
      ],
      "metadata": {
        "colab": {
          "base_uri": "https://localhost:8080/"
        },
        "collapsed": true,
        "id": "lHdvGAyHuOlj",
        "outputId": "d6fb0286-deea-4987-8c23-cf25dc74fc46"
      },
      "execution_count": 37,
      "outputs": [
        {
          "output_type": "stream",
          "name": "stdout",
          "text": [
            "shape of image_data: torch.Size([32, 3, 64, 64])\n",
            "Shape of image_test: torch.Size([3, 64, 64])\n",
            "Image_test: tensor([[[ 0.3811,  0.1663,  0.1838,  ..., -0.0042,  0.3015, -0.6351],\n",
            "         [-0.3368,  2.2371, -1.4603,  ..., -0.6701, -0.7264, -1.1232],\n",
            "         [-0.5912, -1.8621,  0.5204,  ..., -0.6680,  0.1039,  1.5709],\n",
            "         ...,\n",
            "         [ 0.1588, -0.6031, -0.3986,  ...,  0.7355,  0.0237,  0.9791],\n",
            "         [-0.9533, -0.1899,  0.2951,  ..., -0.5164,  0.5199,  0.5501],\n",
            "         [-0.3130,  0.2207,  0.5152,  ...,  1.4178,  0.5995, -0.1610]],\n",
            "\n",
            "        [[ 0.9542, -0.5875, -0.9802,  ..., -0.4601,  0.6375,  0.4837],\n",
            "         [ 0.5316,  0.1006,  0.1551,  ..., -1.4548, -0.2098,  0.2467],\n",
            "         [ 0.0659, -0.4125,  0.0889,  ..., -1.4390,  0.6416,  0.0872],\n",
            "         ...,\n",
            "         [ 0.7025, -1.2984, -0.3760,  ...,  0.3111, -0.2677,  0.6393],\n",
            "         [-0.7976,  1.2675, -0.2634,  ..., -0.7679,  1.0679, -0.2806],\n",
            "         [ 0.2984, -1.5368, -0.5082,  ...,  0.0553,  0.3668,  0.1438]],\n",
            "\n",
            "        [[ 0.7089,  0.1477, -0.1241,  ...,  1.0913,  0.3873,  1.0675],\n",
            "         [ 1.0629,  1.4930, -0.9686,  ..., -0.6554,  0.4810, -0.2024],\n",
            "         [-0.3580,  0.4752, -0.0732,  ..., -0.1046,  0.1916, -0.0028],\n",
            "         ...,\n",
            "         [-1.2163, -0.5680, -0.2126,  ...,  0.3454, -0.5817,  0.2927],\n",
            "         [ 0.8749, -1.3656,  0.3332,  ..., -0.5176,  0.5783,  0.6791],\n",
            "         [ 0.0245,  0.3815, -0.2552,  ...,  0.8925, -1.6529,  0.7557]]])\n"
          ]
        }
      ]
    },
    {
      "cell_type": "code",
      "source": [
        "conv_layer=nn.Conv2d(in_channels=3,\n",
        "                     out_channels=10,\n",
        "                     kernel_size=3,\n",
        "                     stride=1,\n",
        "                     padding=1)\n",
        "conv_output=conv_layer(image_test)\n",
        "conv_output"
      ],
      "metadata": {
        "colab": {
          "base_uri": "https://localhost:8080/"
        },
        "id": "xFo6ndvruvrA",
        "outputId": "de64bcf4-7c1e-49ae-d41e-da1b148a8ee8"
      },
      "execution_count": 38,
      "outputs": [
        {
          "output_type": "execute_result",
          "data": {
            "text/plain": [
              "tensor([[[ 2.3743e-04,  1.8787e-01, -3.5328e-01,  ...,  1.8803e-01,\n",
              "           5.7530e-02,  3.6102e-01],\n",
              "         [-5.9391e-01, -1.1605e-01,  6.3468e-01,  ...,  2.1314e-01,\n",
              "           6.0899e-01, -9.0482e-02],\n",
              "         [ 4.5736e-02,  9.4228e-02, -2.6817e-01,  ..., -5.6895e-01,\n",
              "          -5.4969e-01, -3.1758e-02],\n",
              "         ...,\n",
              "         [ 7.3267e-01,  1.2180e+00, -1.5166e-01,  ..., -1.0785e+00,\n",
              "           1.5516e-01, -7.2985e-01],\n",
              "         [ 8.4429e-01, -1.6448e-01,  3.0035e-01,  ...,  1.4027e+00,\n",
              "          -7.9413e-01,  1.5844e-01],\n",
              "         [-1.1002e-01,  4.2802e-01,  4.9562e-01,  ..., -5.8083e-01,\n",
              "          -1.9262e-01, -8.3637e-02]],\n",
              "\n",
              "        [[-8.5856e-01,  2.3425e-01,  1.1088e-01,  ..., -5.1568e-01,\n",
              "          -1.9072e-02, -5.1570e-01],\n",
              "         [-3.7429e-01, -1.1473e-01, -6.5089e-01,  ...,  1.0055e-01,\n",
              "          -1.0874e-01,  1.4183e-01],\n",
              "         [ 4.2126e-02, -1.2811e-01, -6.7372e-01,  ...,  2.1964e-01,\n",
              "          -5.3657e-01, -4.5872e-01],\n",
              "         ...,\n",
              "         [-1.9427e-01, -9.0079e-01,  1.2949e+00,  ..., -1.5461e-01,\n",
              "          -2.6674e-01, -2.2510e-01],\n",
              "         [-3.9975e-01, -9.3475e-01, -3.0089e-01,  ..., -6.8251e-01,\n",
              "           2.2405e-01,  1.8484e-01],\n",
              "         [ 1.0281e-01,  3.6958e-01,  2.1751e-01,  ...,  3.3968e-01,\n",
              "           1.3037e-01, -5.8544e-01]],\n",
              "\n",
              "        [[ 1.5185e-01,  5.6302e-02, -1.0149e+00,  ..., -4.7631e-01,\n",
              "          -6.0421e-01, -3.3021e-01],\n",
              "         [-8.5943e-01,  7.7379e-01, -1.4539e-01,  ..., -8.0276e-01,\n",
              "           7.8230e-01, -2.4572e-01],\n",
              "         [ 7.2871e-01, -5.3493e-01, -7.4309e-01,  ..., -6.9245e-01,\n",
              "          -7.8742e-01,  3.0565e-01],\n",
              "         ...,\n",
              "         [-3.0484e-01, -3.5299e-01,  5.6835e-01,  ..., -5.9373e-02,\n",
              "           9.1136e-01,  7.2172e-02],\n",
              "         [ 8.0873e-01, -9.4886e-01,  2.3061e-01,  ...,  8.5602e-02,\n",
              "          -8.4343e-01,  6.2049e-01],\n",
              "         [-1.0761e+00,  6.6161e-01, -3.2040e-01,  ..., -3.8616e-02,\n",
              "          -1.0865e-02,  1.7900e-01]],\n",
              "\n",
              "        ...,\n",
              "\n",
              "        [[-3.3150e-01, -6.6470e-01, -1.6890e-01,  ..., -3.6964e-01,\n",
              "           3.3419e-01, -1.2494e-01],\n",
              "         [-2.4935e-01,  7.4256e-02, -8.2796e-01,  ...,  1.2004e-01,\n",
              "           4.1663e-01, -1.7785e-01],\n",
              "         [-1.9879e-01,  3.0072e-02, -2.1360e-01,  ...,  4.6371e-02,\n",
              "           2.2163e-01, -2.4150e-01],\n",
              "         ...,\n",
              "         [ 3.7726e-01, -3.0667e-01,  9.8266e-01,  ..., -1.4470e-01,\n",
              "          -9.9253e-01, -8.1390e-02],\n",
              "         [ 4.2830e-02, -2.1905e-01,  2.0885e-01,  ..., -5.9360e-01,\n",
              "          -6.6864e-01, -3.6432e-02],\n",
              "         [-1.8150e-01, -2.0485e-01,  4.6039e-01,  ...,  4.8358e-02,\n",
              "          -3.7105e-01, -2.0438e-01]],\n",
              "\n",
              "        [[-9.9640e-04, -8.9125e-01,  8.2835e-01,  ..., -4.9036e-02,\n",
              "          -6.1777e-01, -2.6486e-01],\n",
              "         [-2.9186e-01,  1.0171e-01, -4.2985e-01,  ..., -2.4692e-01,\n",
              "          -6.1990e-02, -2.4061e-01],\n",
              "         [-3.8063e-01, -5.3206e-01,  8.9064e-01,  ...,  2.8184e-01,\n",
              "           4.6844e-01, -5.0754e-01],\n",
              "         ...,\n",
              "         [-1.2769e-01, -2.1890e-01, -4.7582e-01,  ..., -8.9549e-01,\n",
              "           3.7726e-01, -3.3711e-01],\n",
              "         [ 6.7945e-01,  1.2610e-01, -6.2347e-01,  ..., -9.1179e-01,\n",
              "           1.8385e-01, -2.7316e-01],\n",
              "         [-9.6856e-01,  4.8658e-01, -3.7088e-01,  ...,  6.2391e-01,\n",
              "          -1.9200e-02, -8.4567e-01]],\n",
              "\n",
              "        [[-6.2132e-01,  1.1738e-01,  2.9132e-01,  ..., -4.4463e-02,\n",
              "          -2.5274e-01, -1.0285e-01],\n",
              "         [ 3.2591e-01, -4.6710e-01,  5.7483e-01,  ..., -1.5841e-01,\n",
              "           1.1678e-02,  4.0138e-01],\n",
              "         [ 6.6836e-01, -3.8751e-02, -6.1714e-01,  ..., -4.2553e-01,\n",
              "          -5.6445e-01, -3.0252e-01],\n",
              "         ...,\n",
              "         [-9.2068e-01, -5.8013e-01, -4.3273e-02,  ..., -1.3881e+00,\n",
              "           4.5348e-01, -5.1305e-01],\n",
              "         [-2.6682e-01, -4.3216e-01, -7.6922e-01,  ..., -6.2240e-01,\n",
              "          -1.5027e-01, -3.7430e-01],\n",
              "         [-6.1483e-01,  1.5660e-01, -5.6740e-01,  ..., -7.1007e-01,\n",
              "           6.5390e-01, -5.9763e-01]]], grad_fn=<SqueezeBackward1>)"
            ]
          },
          "metadata": {},
          "execution_count": 38
        }
      ]
    },
    {
      "cell_type": "code",
      "source": [
        "print(f\"shape of image_data: {image_data.shape}\")\n",
        "print(f\"shape of conv_layer: {conv_output.shape}\")"
      ],
      "metadata": {
        "colab": {
          "base_uri": "https://localhost:8080/"
        },
        "id": "ur9oKl7NvKSP",
        "outputId": "e2808ebf-9949-40d1-be5b-06982c3f1245"
      },
      "execution_count": 39,
      "outputs": [
        {
          "output_type": "stream",
          "name": "stdout",
          "text": [
            "shape of image_data: torch.Size([32, 3, 64, 64])\n",
            "shape of conv_layer: torch.Size([10, 64, 64])\n"
          ]
        }
      ]
    },
    {
      "cell_type": "markdown",
      "source": [
        "#FIGURING OUT THE INPUT AND OUTPUT SHAPE OF DIFFERNT LAYERS"
      ],
      "metadata": {
        "id": "YaZlp6b24nY3"
      }
    },
    {
      "cell_type": "code",
      "source": [
        "rand_image=torch.randn(size=(1,28,28)).to(device).unsqueeze(0)\n",
        "model_CNN(rand_image)"
      ],
      "metadata": {
        "colab": {
          "base_uri": "https://localhost:8080/"
        },
        "id": "hh1LTt99wKZb",
        "outputId": "39078630-f51a-4562-9c6f-9a0b8d359074"
      },
      "execution_count": 40,
      "outputs": [
        {
          "output_type": "execute_result",
          "data": {
            "text/plain": [
              "tensor([[ 0.0412,  0.0228, -0.0008, -0.0158, -0.0057, -0.0162, -0.0015, -0.0290,\n",
              "          0.0112,  0.0493]], grad_fn=<AddmmBackward0>)"
            ]
          },
          "metadata": {},
          "execution_count": 40
        }
      ]
    },
    {
      "cell_type": "markdown",
      "source": [
        "#Training and testing(loss function and Optimizer of our CNN model):"
      ],
      "metadata": {
        "id": "hM92vAm_9QDU"
      }
    },
    {
      "cell_type": "code",
      "source": [
        "from helper_function import accuracy_fn\n",
        "loss_function_cnn=nn.CrossEntropyLoss()\n",
        "optimizer_cnn=torch.optim.SGD(params=model_CNN.parameters(),\n",
        "                              lr=0.1)"
      ],
      "metadata": {
        "id": "_I4okHZd9YXo"
      },
      "execution_count": 41,
      "outputs": []
    },
    {
      "cell_type": "code",
      "source": [
        "torch.manual_seed(42)\n",
        "from timeit import default_timer as timer\n",
        "start_time_cnn=timer()\n",
        "epochs=5\n",
        "for epoch in tqdm(range(epochs)):\n",
        "  print(f\"Epoch: {epoch}\\n---------\")\n",
        "  train_step(model_imp=model_CNN,\n",
        "             data_loader=train_Data_loader,\n",
        "             loss_fn=loss_function_cnn,\n",
        "             optimizer=optimizer_cnn,\n",
        "             device=device,\n",
        "             accuracy_fn=accuracy_fn)\n",
        "  test_step(model_imp=model_CNN,\n",
        "            data_loader=test_Data_loader,\n",
        "            loss_fn=loss_function_cnn,\n",
        "            optimizer=optimizer_cnn,\n",
        "            device=device,\n",
        "            accuracy_fn=accuracy_fn)\n",
        "\n",
        "end_time_cnn=timer()\n",
        "train_model_cnn=print_train_time(start=start_time_cnn,\n",
        "                 end=end_time_cnn,\n",
        "                 device=device)\n",
        "model_CNN"
      ],
      "metadata": {
        "colab": {
          "base_uri": "https://localhost:8080/",
          "height": 761,
          "referenced_widgets": [
            "384ff54783b34aaabe3ad6369d55a8a5",
            "ffd5f28958174502a903fd127c8095df",
            "3c10374641f94c289817e5cbab8c136f",
            "c8384f0647274c0b8f50f4958d002d30",
            "d10e0d4151d84de0a941a03a46e17637",
            "2d98f142fe97472499545ce5545cab87",
            "9d2e399da8054b0295056c701477fe94",
            "e24160bfd9814397aee54299a4cef17f",
            "3663877d3f3a4c5091c037a11ce1de41",
            "1d6db1909bec4e79a3a90b5259b79b73",
            "4b238186dcde46e8b962723ef38b3810"
          ]
        },
        "collapsed": true,
        "id": "rqxvAZYv-su-",
        "outputId": "5ea3d811-8f1e-48c0-8841-41734cbb7160"
      },
      "execution_count": 42,
      "outputs": [
        {
          "output_type": "display_data",
          "data": {
            "text/plain": [
              "  0%|          | 0/5 [00:00<?, ?it/s]"
            ],
            "application/vnd.jupyter.widget-view+json": {
              "version_major": 2,
              "version_minor": 0,
              "model_id": "384ff54783b34aaabe3ad6369d55a8a5"
            }
          },
          "metadata": {}
        },
        {
          "output_type": "stream",
          "name": "stdout",
          "text": [
            "Epoch: 0\n",
            "---------\n",
            "Train loss:0.5628, Train Accuracy:79.6867\n",
            "Test Loss:0.3538 ,Test Accuracy:87.2204\n",
            "Epoch: 1\n",
            "---------\n",
            "Train loss:0.3161, Train Accuracy:88.6567\n",
            "Test Loss:0.3074 ,Test Accuracy:89.1573\n",
            "Epoch: 2\n",
            "---------\n",
            "Train loss:0.2708, Train Accuracy:90.2917\n",
            "Test Loss:0.2774 ,Test Accuracy:90.0060\n",
            "Epoch: 3\n",
            "---------\n",
            "Train loss:0.2457, Train Accuracy:91.1433\n",
            "Test Loss:0.2634 ,Test Accuracy:90.3654\n",
            "Epoch: 4\n",
            "---------\n",
            "Train loss:0.2271, Train Accuracy:91.9200\n",
            "Test Loss:0.2586 ,Test Accuracy:90.9345\n",
            "Train time on cpu: 607.481 seconds\n"
          ]
        },
        {
          "output_type": "execute_result",
          "data": {
            "text/plain": [
              "CNNFirst(\n",
              "  (Conv_block_1): Sequential(\n",
              "    (0): Conv2d(1, 30, kernel_size=(3, 3), stride=(1, 1), padding=(1, 1))\n",
              "    (1): ReLU()\n",
              "    (2): Conv2d(30, 30, kernel_size=(3, 3), stride=(1, 1), padding=(1, 1))\n",
              "    (3): ReLU()\n",
              "    (4): MaxPool2d(kernel_size=2, stride=2, padding=0, dilation=1, ceil_mode=False)\n",
              "  )\n",
              "  (Conv_block_2): Sequential(\n",
              "    (0): Conv2d(30, 30, kernel_size=(3, 3), stride=(1, 1), padding=(1, 1))\n",
              "    (1): ReLU()\n",
              "    (2): Conv2d(30, 30, kernel_size=(3, 3), stride=(1, 1), padding=(1, 1))\n",
              "    (3): ReLU()\n",
              "    (4): MaxPool2d(kernel_size=2, stride=2, padding=0, dilation=1, ceil_mode=False)\n",
              "  )\n",
              "  (classfier): Sequential(\n",
              "    (0): Flatten(start_dim=1, end_dim=-1)\n",
              "    (1): Linear(in_features=1470, out_features=10, bias=True)\n",
              "  )\n",
              ")"
            ]
          },
          "metadata": {},
          "execution_count": 42
        }
      ]
    },
    {
      "cell_type": "code",
      "source": [
        "model_CNN_output=eval(model_=model_CNN,\n",
        "                      data_loader=test_Data_loader,\n",
        "                      loss_fn=loss_function_cnn,\n",
        "                      accuracy_fn=accuracy_fn,\n",
        "                      device=device)\n",
        "model_CNN_output"
      ],
      "metadata": {
        "colab": {
          "base_uri": "https://localhost:8080/",
          "height": 101,
          "referenced_widgets": [
            "0d7a28c954a6481b968073cb1e9668d8",
            "e20c9fd3a2e04a4fa02edc36f08d9ec7",
            "cac06af9706b4c9a92763368a0c7562a",
            "831f40e5ac3d4b8db3c2fd6fd18164e4",
            "89bc1e9cb9b44a359ac44e7d8ab89811",
            "b5c47035c3564b779225e37a974e7248",
            "272da4f476534e73bd2f5c0c93f0ec20",
            "2f0b3036f7ea437eba184b432e163fb8",
            "6b5ee9b7f76e4c3c8dc693acc9895fcd",
            "9b09d513cfb446e087bcb3dec91d95e8",
            "e5283f982d76401bbde90b54e2f11d79"
          ]
        },
        "id": "7tj1UtHlDENy",
        "outputId": "d7dfccd0-a7b8-4ec2-9ea9-c2665d1de124"
      },
      "execution_count": 43,
      "outputs": [
        {
          "output_type": "display_data",
          "data": {
            "text/plain": [
              "  0%|          | 0/313 [00:00<?, ?it/s]"
            ],
            "application/vnd.jupyter.widget-view+json": {
              "version_major": 2,
              "version_minor": 0,
              "model_id": "0d7a28c954a6481b968073cb1e9668d8"
            }
          },
          "metadata": {}
        },
        {
          "output_type": "execute_result",
          "data": {
            "text/plain": [
              "{'Model_name': 'CNNFirst',\n",
              " 'Model_loss': 0.2585536369952721,\n",
              " 'Model_accuracy': 90.93450479233226}"
            ]
          },
          "metadata": {},
          "execution_count": 43
        }
      ]
    },
    {
      "cell_type": "code",
      "source": [
        "import pandas as pd\n",
        "com=pd.DataFrame([model_result,model_result_non_li,model_CNN_output])\n",
        "com"
      ],
      "metadata": {
        "colab": {
          "base_uri": "https://localhost:8080/",
          "height": 143
        },
        "collapsed": true,
        "id": "UiRbWIJqDYJz",
        "outputId": "9c71cc77-a0fb-44de-a82d-671d014fe531"
      },
      "execution_count": 44,
      "outputs": [
        {
          "output_type": "execute_result",
          "data": {
            "text/plain": [
              "             Model_name  Model_loss  Model_accuracy\n",
              "0            CNNfashion    0.476639       83.426518\n",
              "1  CNNfashionimp_non_li    0.457463       83.985623\n",
              "2              CNNFirst    0.258554       90.934505"
            ],
            "text/html": [
              "\n",
              "  <div id=\"df-58fb067e-6b08-45c5-a1dd-becc6f005815\" class=\"colab-df-container\">\n",
              "    <div>\n",
              "<style scoped>\n",
              "    .dataframe tbody tr th:only-of-type {\n",
              "        vertical-align: middle;\n",
              "    }\n",
              "\n",
              "    .dataframe tbody tr th {\n",
              "        vertical-align: top;\n",
              "    }\n",
              "\n",
              "    .dataframe thead th {\n",
              "        text-align: right;\n",
              "    }\n",
              "</style>\n",
              "<table border=\"1\" class=\"dataframe\">\n",
              "  <thead>\n",
              "    <tr style=\"text-align: right;\">\n",
              "      <th></th>\n",
              "      <th>Model_name</th>\n",
              "      <th>Model_loss</th>\n",
              "      <th>Model_accuracy</th>\n",
              "    </tr>\n",
              "  </thead>\n",
              "  <tbody>\n",
              "    <tr>\n",
              "      <th>0</th>\n",
              "      <td>CNNfashion</td>\n",
              "      <td>0.476639</td>\n",
              "      <td>83.426518</td>\n",
              "    </tr>\n",
              "    <tr>\n",
              "      <th>1</th>\n",
              "      <td>CNNfashionimp_non_li</td>\n",
              "      <td>0.457463</td>\n",
              "      <td>83.985623</td>\n",
              "    </tr>\n",
              "    <tr>\n",
              "      <th>2</th>\n",
              "      <td>CNNFirst</td>\n",
              "      <td>0.258554</td>\n",
              "      <td>90.934505</td>\n",
              "    </tr>\n",
              "  </tbody>\n",
              "</table>\n",
              "</div>\n",
              "    <div class=\"colab-df-buttons\">\n",
              "\n",
              "  <div class=\"colab-df-container\">\n",
              "    <button class=\"colab-df-convert\" onclick=\"convertToInteractive('df-58fb067e-6b08-45c5-a1dd-becc6f005815')\"\n",
              "            title=\"Convert this dataframe to an interactive table.\"\n",
              "            style=\"display:none;\">\n",
              "\n",
              "  <svg xmlns=\"http://www.w3.org/2000/svg\" height=\"24px\" viewBox=\"0 -960 960 960\">\n",
              "    <path d=\"M120-120v-720h720v720H120Zm60-500h600v-160H180v160Zm220 220h160v-160H400v160Zm0 220h160v-160H400v160ZM180-400h160v-160H180v160Zm440 0h160v-160H620v160ZM180-180h160v-160H180v160Zm440 0h160v-160H620v160Z\"/>\n",
              "  </svg>\n",
              "    </button>\n",
              "\n",
              "  <style>\n",
              "    .colab-df-container {\n",
              "      display:flex;\n",
              "      gap: 12px;\n",
              "    }\n",
              "\n",
              "    .colab-df-convert {\n",
              "      background-color: #E8F0FE;\n",
              "      border: none;\n",
              "      border-radius: 50%;\n",
              "      cursor: pointer;\n",
              "      display: none;\n",
              "      fill: #1967D2;\n",
              "      height: 32px;\n",
              "      padding: 0 0 0 0;\n",
              "      width: 32px;\n",
              "    }\n",
              "\n",
              "    .colab-df-convert:hover {\n",
              "      background-color: #E2EBFA;\n",
              "      box-shadow: 0px 1px 2px rgba(60, 64, 67, 0.3), 0px 1px 3px 1px rgba(60, 64, 67, 0.15);\n",
              "      fill: #174EA6;\n",
              "    }\n",
              "\n",
              "    .colab-df-buttons div {\n",
              "      margin-bottom: 4px;\n",
              "    }\n",
              "\n",
              "    [theme=dark] .colab-df-convert {\n",
              "      background-color: #3B4455;\n",
              "      fill: #D2E3FC;\n",
              "    }\n",
              "\n",
              "    [theme=dark] .colab-df-convert:hover {\n",
              "      background-color: #434B5C;\n",
              "      box-shadow: 0px 1px 3px 1px rgba(0, 0, 0, 0.15);\n",
              "      filter: drop-shadow(0px 1px 2px rgba(0, 0, 0, 0.3));\n",
              "      fill: #FFFFFF;\n",
              "    }\n",
              "  </style>\n",
              "\n",
              "    <script>\n",
              "      const buttonEl =\n",
              "        document.querySelector('#df-58fb067e-6b08-45c5-a1dd-becc6f005815 button.colab-df-convert');\n",
              "      buttonEl.style.display =\n",
              "        google.colab.kernel.accessAllowed ? 'block' : 'none';\n",
              "\n",
              "      async function convertToInteractive(key) {\n",
              "        const element = document.querySelector('#df-58fb067e-6b08-45c5-a1dd-becc6f005815');\n",
              "        const dataTable =\n",
              "          await google.colab.kernel.invokeFunction('convertToInteractive',\n",
              "                                                    [key], {});\n",
              "        if (!dataTable) return;\n",
              "\n",
              "        const docLinkHtml = 'Like what you see? Visit the ' +\n",
              "          '<a target=\"_blank\" href=https://colab.research.google.com/notebooks/data_table.ipynb>data table notebook</a>'\n",
              "          + ' to learn more about interactive tables.';\n",
              "        element.innerHTML = '';\n",
              "        dataTable['output_type'] = 'display_data';\n",
              "        await google.colab.output.renderOutput(dataTable, element);\n",
              "        const docLink = document.createElement('div');\n",
              "        docLink.innerHTML = docLinkHtml;\n",
              "        element.appendChild(docLink);\n",
              "      }\n",
              "    </script>\n",
              "  </div>\n",
              "\n",
              "\n",
              "    <div id=\"df-b89fcc5f-815c-4997-8179-0766a7734575\">\n",
              "      <button class=\"colab-df-quickchart\" onclick=\"quickchart('df-b89fcc5f-815c-4997-8179-0766a7734575')\"\n",
              "                title=\"Suggest charts\"\n",
              "                style=\"display:none;\">\n",
              "\n",
              "<svg xmlns=\"http://www.w3.org/2000/svg\" height=\"24px\"viewBox=\"0 0 24 24\"\n",
              "     width=\"24px\">\n",
              "    <g>\n",
              "        <path d=\"M19 3H5c-1.1 0-2 .9-2 2v14c0 1.1.9 2 2 2h14c1.1 0 2-.9 2-2V5c0-1.1-.9-2-2-2zM9 17H7v-7h2v7zm4 0h-2V7h2v10zm4 0h-2v-4h2v4z\"/>\n",
              "    </g>\n",
              "</svg>\n",
              "      </button>\n",
              "\n",
              "<style>\n",
              "  .colab-df-quickchart {\n",
              "      --bg-color: #E8F0FE;\n",
              "      --fill-color: #1967D2;\n",
              "      --hover-bg-color: #E2EBFA;\n",
              "      --hover-fill-color: #174EA6;\n",
              "      --disabled-fill-color: #AAA;\n",
              "      --disabled-bg-color: #DDD;\n",
              "  }\n",
              "\n",
              "  [theme=dark] .colab-df-quickchart {\n",
              "      --bg-color: #3B4455;\n",
              "      --fill-color: #D2E3FC;\n",
              "      --hover-bg-color: #434B5C;\n",
              "      --hover-fill-color: #FFFFFF;\n",
              "      --disabled-bg-color: #3B4455;\n",
              "      --disabled-fill-color: #666;\n",
              "  }\n",
              "\n",
              "  .colab-df-quickchart {\n",
              "    background-color: var(--bg-color);\n",
              "    border: none;\n",
              "    border-radius: 50%;\n",
              "    cursor: pointer;\n",
              "    display: none;\n",
              "    fill: var(--fill-color);\n",
              "    height: 32px;\n",
              "    padding: 0;\n",
              "    width: 32px;\n",
              "  }\n",
              "\n",
              "  .colab-df-quickchart:hover {\n",
              "    background-color: var(--hover-bg-color);\n",
              "    box-shadow: 0 1px 2px rgba(60, 64, 67, 0.3), 0 1px 3px 1px rgba(60, 64, 67, 0.15);\n",
              "    fill: var(--button-hover-fill-color);\n",
              "  }\n",
              "\n",
              "  .colab-df-quickchart-complete:disabled,\n",
              "  .colab-df-quickchart-complete:disabled:hover {\n",
              "    background-color: var(--disabled-bg-color);\n",
              "    fill: var(--disabled-fill-color);\n",
              "    box-shadow: none;\n",
              "  }\n",
              "\n",
              "  .colab-df-spinner {\n",
              "    border: 2px solid var(--fill-color);\n",
              "    border-color: transparent;\n",
              "    border-bottom-color: var(--fill-color);\n",
              "    animation:\n",
              "      spin 1s steps(1) infinite;\n",
              "  }\n",
              "\n",
              "  @keyframes spin {\n",
              "    0% {\n",
              "      border-color: transparent;\n",
              "      border-bottom-color: var(--fill-color);\n",
              "      border-left-color: var(--fill-color);\n",
              "    }\n",
              "    20% {\n",
              "      border-color: transparent;\n",
              "      border-left-color: var(--fill-color);\n",
              "      border-top-color: var(--fill-color);\n",
              "    }\n",
              "    30% {\n",
              "      border-color: transparent;\n",
              "      border-left-color: var(--fill-color);\n",
              "      border-top-color: var(--fill-color);\n",
              "      border-right-color: var(--fill-color);\n",
              "    }\n",
              "    40% {\n",
              "      border-color: transparent;\n",
              "      border-right-color: var(--fill-color);\n",
              "      border-top-color: var(--fill-color);\n",
              "    }\n",
              "    60% {\n",
              "      border-color: transparent;\n",
              "      border-right-color: var(--fill-color);\n",
              "    }\n",
              "    80% {\n",
              "      border-color: transparent;\n",
              "      border-right-color: var(--fill-color);\n",
              "      border-bottom-color: var(--fill-color);\n",
              "    }\n",
              "    90% {\n",
              "      border-color: transparent;\n",
              "      border-bottom-color: var(--fill-color);\n",
              "    }\n",
              "  }\n",
              "</style>\n",
              "\n",
              "      <script>\n",
              "        async function quickchart(key) {\n",
              "          const quickchartButtonEl =\n",
              "            document.querySelector('#' + key + ' button');\n",
              "          quickchartButtonEl.disabled = true;  // To prevent multiple clicks.\n",
              "          quickchartButtonEl.classList.add('colab-df-spinner');\n",
              "          try {\n",
              "            const charts = await google.colab.kernel.invokeFunction(\n",
              "                'suggestCharts', [key], {});\n",
              "          } catch (error) {\n",
              "            console.error('Error during call to suggestCharts:', error);\n",
              "          }\n",
              "          quickchartButtonEl.classList.remove('colab-df-spinner');\n",
              "          quickchartButtonEl.classList.add('colab-df-quickchart-complete');\n",
              "        }\n",
              "        (() => {\n",
              "          let quickchartButtonEl =\n",
              "            document.querySelector('#df-b89fcc5f-815c-4997-8179-0766a7734575 button');\n",
              "          quickchartButtonEl.style.display =\n",
              "            google.colab.kernel.accessAllowed ? 'block' : 'none';\n",
              "        })();\n",
              "      </script>\n",
              "    </div>\n",
              "\n",
              "  <div id=\"id_336c1032-b38d-4ef7-abee-66c7405086c3\">\n",
              "    <style>\n",
              "      .colab-df-generate {\n",
              "        background-color: #E8F0FE;\n",
              "        border: none;\n",
              "        border-radius: 50%;\n",
              "        cursor: pointer;\n",
              "        display: none;\n",
              "        fill: #1967D2;\n",
              "        height: 32px;\n",
              "        padding: 0 0 0 0;\n",
              "        width: 32px;\n",
              "      }\n",
              "\n",
              "      .colab-df-generate:hover {\n",
              "        background-color: #E2EBFA;\n",
              "        box-shadow: 0px 1px 2px rgba(60, 64, 67, 0.3), 0px 1px 3px 1px rgba(60, 64, 67, 0.15);\n",
              "        fill: #174EA6;\n",
              "      }\n",
              "\n",
              "      [theme=dark] .colab-df-generate {\n",
              "        background-color: #3B4455;\n",
              "        fill: #D2E3FC;\n",
              "      }\n",
              "\n",
              "      [theme=dark] .colab-df-generate:hover {\n",
              "        background-color: #434B5C;\n",
              "        box-shadow: 0px 1px 3px 1px rgba(0, 0, 0, 0.15);\n",
              "        filter: drop-shadow(0px 1px 2px rgba(0, 0, 0, 0.3));\n",
              "        fill: #FFFFFF;\n",
              "      }\n",
              "    </style>\n",
              "    <button class=\"colab-df-generate\" onclick=\"generateWithVariable('com')\"\n",
              "            title=\"Generate code using this dataframe.\"\n",
              "            style=\"display:none;\">\n",
              "\n",
              "  <svg xmlns=\"http://www.w3.org/2000/svg\" height=\"24px\"viewBox=\"0 0 24 24\"\n",
              "       width=\"24px\">\n",
              "    <path d=\"M7,19H8.4L18.45,9,17,7.55,7,17.6ZM5,21V16.75L18.45,3.32a2,2,0,0,1,2.83,0l1.4,1.43a1.91,1.91,0,0,1,.58,1.4,1.91,1.91,0,0,1-.58,1.4L9.25,21ZM18.45,9,17,7.55Zm-12,3A5.31,5.31,0,0,0,4.9,8.1,5.31,5.31,0,0,0,1,6.5,5.31,5.31,0,0,0,4.9,4.9,5.31,5.31,0,0,0,6.5,1,5.31,5.31,0,0,0,8.1,4.9,5.31,5.31,0,0,0,12,6.5,5.46,5.46,0,0,0,6.5,12Z\"/>\n",
              "  </svg>\n",
              "    </button>\n",
              "    <script>\n",
              "      (() => {\n",
              "      const buttonEl =\n",
              "        document.querySelector('#id_336c1032-b38d-4ef7-abee-66c7405086c3 button.colab-df-generate');\n",
              "      buttonEl.style.display =\n",
              "        google.colab.kernel.accessAllowed ? 'block' : 'none';\n",
              "\n",
              "      buttonEl.onclick = () => {\n",
              "        google.colab.notebook.generateWithVariable('com');\n",
              "      }\n",
              "      })();\n",
              "    </script>\n",
              "  </div>\n",
              "\n",
              "    </div>\n",
              "  </div>\n"
            ],
            "application/vnd.google.colaboratory.intrinsic+json": {
              "type": "dataframe",
              "variable_name": "com",
              "summary": "{\n  \"name\": \"com\",\n  \"rows\": 3,\n  \"fields\": [\n    {\n      \"column\": \"Model_name\",\n      \"properties\": {\n        \"dtype\": \"string\",\n        \"num_unique_values\": 3,\n        \"samples\": [\n          \"CNNfashion\",\n          \"CNNfashionimp_non_li\",\n          \"CNNFirst\"\n        ],\n        \"semantic_type\": \"\",\n        \"description\": \"\"\n      }\n    },\n    {\n      \"column\": \"Model_loss\",\n      \"properties\": {\n        \"dtype\": \"number\",\n        \"std\": 0.12075733676913478,\n        \"min\": 0.2585536369952721,\n        \"max\": 0.47663889553981087,\n        \"num_unique_values\": 3,\n        \"samples\": [\n          0.47663889553981087,\n          0.4574634914104931,\n          0.2585536369952721\n        ],\n        \"semantic_type\": \"\",\n        \"description\": \"\"\n      }\n    },\n    {\n      \"column\": \"Model_accuracy\",\n      \"properties\": {\n        \"dtype\": \"number\",\n        \"std\": 4.182691101534292,\n        \"min\": 83.42651757188499,\n        \"max\": 90.93450479233226,\n        \"num_unique_values\": 3,\n        \"samples\": [\n          83.42651757188499,\n          83.98562300319489,\n          90.93450479233226\n        ],\n        \"semantic_type\": \"\",\n        \"description\": \"\"\n      }\n    }\n  ]\n}"
            }
          },
          "metadata": {},
          "execution_count": 44
        }
      ]
    },
    {
      "cell_type": "code",
      "source": [
        "com['train_time']=[total_time,\n",
        "                   total_time__non_li,\n",
        "                   train_model_cnn]\n",
        "com"
      ],
      "metadata": {
        "colab": {
          "base_uri": "https://localhost:8080/",
          "height": 143
        },
        "id": "QUpuColiEfbx",
        "outputId": "00faebe8-b7e0-4e25-9328-42a686582394"
      },
      "execution_count": 45,
      "outputs": [
        {
          "output_type": "execute_result",
          "data": {
            "text/plain": [
              "             Model_name  Model_loss  Model_accuracy  train_time\n",
              "0            CNNfashion    0.476639       83.426518   30.088161\n",
              "1  CNNfashionimp_non_li    0.457463       83.985623   30.049847\n",
              "2              CNNFirst    0.258554       90.934505  607.481053"
            ],
            "text/html": [
              "\n",
              "  <div id=\"df-7c4ef765-4986-47e4-84d9-345b0573efb3\" class=\"colab-df-container\">\n",
              "    <div>\n",
              "<style scoped>\n",
              "    .dataframe tbody tr th:only-of-type {\n",
              "        vertical-align: middle;\n",
              "    }\n",
              "\n",
              "    .dataframe tbody tr th {\n",
              "        vertical-align: top;\n",
              "    }\n",
              "\n",
              "    .dataframe thead th {\n",
              "        text-align: right;\n",
              "    }\n",
              "</style>\n",
              "<table border=\"1\" class=\"dataframe\">\n",
              "  <thead>\n",
              "    <tr style=\"text-align: right;\">\n",
              "      <th></th>\n",
              "      <th>Model_name</th>\n",
              "      <th>Model_loss</th>\n",
              "      <th>Model_accuracy</th>\n",
              "      <th>train_time</th>\n",
              "    </tr>\n",
              "  </thead>\n",
              "  <tbody>\n",
              "    <tr>\n",
              "      <th>0</th>\n",
              "      <td>CNNfashion</td>\n",
              "      <td>0.476639</td>\n",
              "      <td>83.426518</td>\n",
              "      <td>30.088161</td>\n",
              "    </tr>\n",
              "    <tr>\n",
              "      <th>1</th>\n",
              "      <td>CNNfashionimp_non_li</td>\n",
              "      <td>0.457463</td>\n",
              "      <td>83.985623</td>\n",
              "      <td>30.049847</td>\n",
              "    </tr>\n",
              "    <tr>\n",
              "      <th>2</th>\n",
              "      <td>CNNFirst</td>\n",
              "      <td>0.258554</td>\n",
              "      <td>90.934505</td>\n",
              "      <td>607.481053</td>\n",
              "    </tr>\n",
              "  </tbody>\n",
              "</table>\n",
              "</div>\n",
              "    <div class=\"colab-df-buttons\">\n",
              "\n",
              "  <div class=\"colab-df-container\">\n",
              "    <button class=\"colab-df-convert\" onclick=\"convertToInteractive('df-7c4ef765-4986-47e4-84d9-345b0573efb3')\"\n",
              "            title=\"Convert this dataframe to an interactive table.\"\n",
              "            style=\"display:none;\">\n",
              "\n",
              "  <svg xmlns=\"http://www.w3.org/2000/svg\" height=\"24px\" viewBox=\"0 -960 960 960\">\n",
              "    <path d=\"M120-120v-720h720v720H120Zm60-500h600v-160H180v160Zm220 220h160v-160H400v160Zm0 220h160v-160H400v160ZM180-400h160v-160H180v160Zm440 0h160v-160H620v160ZM180-180h160v-160H180v160Zm440 0h160v-160H620v160Z\"/>\n",
              "  </svg>\n",
              "    </button>\n",
              "\n",
              "  <style>\n",
              "    .colab-df-container {\n",
              "      display:flex;\n",
              "      gap: 12px;\n",
              "    }\n",
              "\n",
              "    .colab-df-convert {\n",
              "      background-color: #E8F0FE;\n",
              "      border: none;\n",
              "      border-radius: 50%;\n",
              "      cursor: pointer;\n",
              "      display: none;\n",
              "      fill: #1967D2;\n",
              "      height: 32px;\n",
              "      padding: 0 0 0 0;\n",
              "      width: 32px;\n",
              "    }\n",
              "\n",
              "    .colab-df-convert:hover {\n",
              "      background-color: #E2EBFA;\n",
              "      box-shadow: 0px 1px 2px rgba(60, 64, 67, 0.3), 0px 1px 3px 1px rgba(60, 64, 67, 0.15);\n",
              "      fill: #174EA6;\n",
              "    }\n",
              "\n",
              "    .colab-df-buttons div {\n",
              "      margin-bottom: 4px;\n",
              "    }\n",
              "\n",
              "    [theme=dark] .colab-df-convert {\n",
              "      background-color: #3B4455;\n",
              "      fill: #D2E3FC;\n",
              "    }\n",
              "\n",
              "    [theme=dark] .colab-df-convert:hover {\n",
              "      background-color: #434B5C;\n",
              "      box-shadow: 0px 1px 3px 1px rgba(0, 0, 0, 0.15);\n",
              "      filter: drop-shadow(0px 1px 2px rgba(0, 0, 0, 0.3));\n",
              "      fill: #FFFFFF;\n",
              "    }\n",
              "  </style>\n",
              "\n",
              "    <script>\n",
              "      const buttonEl =\n",
              "        document.querySelector('#df-7c4ef765-4986-47e4-84d9-345b0573efb3 button.colab-df-convert');\n",
              "      buttonEl.style.display =\n",
              "        google.colab.kernel.accessAllowed ? 'block' : 'none';\n",
              "\n",
              "      async function convertToInteractive(key) {\n",
              "        const element = document.querySelector('#df-7c4ef765-4986-47e4-84d9-345b0573efb3');\n",
              "        const dataTable =\n",
              "          await google.colab.kernel.invokeFunction('convertToInteractive',\n",
              "                                                    [key], {});\n",
              "        if (!dataTable) return;\n",
              "\n",
              "        const docLinkHtml = 'Like what you see? Visit the ' +\n",
              "          '<a target=\"_blank\" href=https://colab.research.google.com/notebooks/data_table.ipynb>data table notebook</a>'\n",
              "          + ' to learn more about interactive tables.';\n",
              "        element.innerHTML = '';\n",
              "        dataTable['output_type'] = 'display_data';\n",
              "        await google.colab.output.renderOutput(dataTable, element);\n",
              "        const docLink = document.createElement('div');\n",
              "        docLink.innerHTML = docLinkHtml;\n",
              "        element.appendChild(docLink);\n",
              "      }\n",
              "    </script>\n",
              "  </div>\n",
              "\n",
              "\n",
              "    <div id=\"df-a10405a9-e97b-4eff-84e9-b3a35b1778a9\">\n",
              "      <button class=\"colab-df-quickchart\" onclick=\"quickchart('df-a10405a9-e97b-4eff-84e9-b3a35b1778a9')\"\n",
              "                title=\"Suggest charts\"\n",
              "                style=\"display:none;\">\n",
              "\n",
              "<svg xmlns=\"http://www.w3.org/2000/svg\" height=\"24px\"viewBox=\"0 0 24 24\"\n",
              "     width=\"24px\">\n",
              "    <g>\n",
              "        <path d=\"M19 3H5c-1.1 0-2 .9-2 2v14c0 1.1.9 2 2 2h14c1.1 0 2-.9 2-2V5c0-1.1-.9-2-2-2zM9 17H7v-7h2v7zm4 0h-2V7h2v10zm4 0h-2v-4h2v4z\"/>\n",
              "    </g>\n",
              "</svg>\n",
              "      </button>\n",
              "\n",
              "<style>\n",
              "  .colab-df-quickchart {\n",
              "      --bg-color: #E8F0FE;\n",
              "      --fill-color: #1967D2;\n",
              "      --hover-bg-color: #E2EBFA;\n",
              "      --hover-fill-color: #174EA6;\n",
              "      --disabled-fill-color: #AAA;\n",
              "      --disabled-bg-color: #DDD;\n",
              "  }\n",
              "\n",
              "  [theme=dark] .colab-df-quickchart {\n",
              "      --bg-color: #3B4455;\n",
              "      --fill-color: #D2E3FC;\n",
              "      --hover-bg-color: #434B5C;\n",
              "      --hover-fill-color: #FFFFFF;\n",
              "      --disabled-bg-color: #3B4455;\n",
              "      --disabled-fill-color: #666;\n",
              "  }\n",
              "\n",
              "  .colab-df-quickchart {\n",
              "    background-color: var(--bg-color);\n",
              "    border: none;\n",
              "    border-radius: 50%;\n",
              "    cursor: pointer;\n",
              "    display: none;\n",
              "    fill: var(--fill-color);\n",
              "    height: 32px;\n",
              "    padding: 0;\n",
              "    width: 32px;\n",
              "  }\n",
              "\n",
              "  .colab-df-quickchart:hover {\n",
              "    background-color: var(--hover-bg-color);\n",
              "    box-shadow: 0 1px 2px rgba(60, 64, 67, 0.3), 0 1px 3px 1px rgba(60, 64, 67, 0.15);\n",
              "    fill: var(--button-hover-fill-color);\n",
              "  }\n",
              "\n",
              "  .colab-df-quickchart-complete:disabled,\n",
              "  .colab-df-quickchart-complete:disabled:hover {\n",
              "    background-color: var(--disabled-bg-color);\n",
              "    fill: var(--disabled-fill-color);\n",
              "    box-shadow: none;\n",
              "  }\n",
              "\n",
              "  .colab-df-spinner {\n",
              "    border: 2px solid var(--fill-color);\n",
              "    border-color: transparent;\n",
              "    border-bottom-color: var(--fill-color);\n",
              "    animation:\n",
              "      spin 1s steps(1) infinite;\n",
              "  }\n",
              "\n",
              "  @keyframes spin {\n",
              "    0% {\n",
              "      border-color: transparent;\n",
              "      border-bottom-color: var(--fill-color);\n",
              "      border-left-color: var(--fill-color);\n",
              "    }\n",
              "    20% {\n",
              "      border-color: transparent;\n",
              "      border-left-color: var(--fill-color);\n",
              "      border-top-color: var(--fill-color);\n",
              "    }\n",
              "    30% {\n",
              "      border-color: transparent;\n",
              "      border-left-color: var(--fill-color);\n",
              "      border-top-color: var(--fill-color);\n",
              "      border-right-color: var(--fill-color);\n",
              "    }\n",
              "    40% {\n",
              "      border-color: transparent;\n",
              "      border-right-color: var(--fill-color);\n",
              "      border-top-color: var(--fill-color);\n",
              "    }\n",
              "    60% {\n",
              "      border-color: transparent;\n",
              "      border-right-color: var(--fill-color);\n",
              "    }\n",
              "    80% {\n",
              "      border-color: transparent;\n",
              "      border-right-color: var(--fill-color);\n",
              "      border-bottom-color: var(--fill-color);\n",
              "    }\n",
              "    90% {\n",
              "      border-color: transparent;\n",
              "      border-bottom-color: var(--fill-color);\n",
              "    }\n",
              "  }\n",
              "</style>\n",
              "\n",
              "      <script>\n",
              "        async function quickchart(key) {\n",
              "          const quickchartButtonEl =\n",
              "            document.querySelector('#' + key + ' button');\n",
              "          quickchartButtonEl.disabled = true;  // To prevent multiple clicks.\n",
              "          quickchartButtonEl.classList.add('colab-df-spinner');\n",
              "          try {\n",
              "            const charts = await google.colab.kernel.invokeFunction(\n",
              "                'suggestCharts', [key], {});\n",
              "          } catch (error) {\n",
              "            console.error('Error during call to suggestCharts:', error);\n",
              "          }\n",
              "          quickchartButtonEl.classList.remove('colab-df-spinner');\n",
              "          quickchartButtonEl.classList.add('colab-df-quickchart-complete');\n",
              "        }\n",
              "        (() => {\n",
              "          let quickchartButtonEl =\n",
              "            document.querySelector('#df-a10405a9-e97b-4eff-84e9-b3a35b1778a9 button');\n",
              "          quickchartButtonEl.style.display =\n",
              "            google.colab.kernel.accessAllowed ? 'block' : 'none';\n",
              "        })();\n",
              "      </script>\n",
              "    </div>\n",
              "\n",
              "  <div id=\"id_41d24d8a-ce06-4881-96fc-da57b2f398db\">\n",
              "    <style>\n",
              "      .colab-df-generate {\n",
              "        background-color: #E8F0FE;\n",
              "        border: none;\n",
              "        border-radius: 50%;\n",
              "        cursor: pointer;\n",
              "        display: none;\n",
              "        fill: #1967D2;\n",
              "        height: 32px;\n",
              "        padding: 0 0 0 0;\n",
              "        width: 32px;\n",
              "      }\n",
              "\n",
              "      .colab-df-generate:hover {\n",
              "        background-color: #E2EBFA;\n",
              "        box-shadow: 0px 1px 2px rgba(60, 64, 67, 0.3), 0px 1px 3px 1px rgba(60, 64, 67, 0.15);\n",
              "        fill: #174EA6;\n",
              "      }\n",
              "\n",
              "      [theme=dark] .colab-df-generate {\n",
              "        background-color: #3B4455;\n",
              "        fill: #D2E3FC;\n",
              "      }\n",
              "\n",
              "      [theme=dark] .colab-df-generate:hover {\n",
              "        background-color: #434B5C;\n",
              "        box-shadow: 0px 1px 3px 1px rgba(0, 0, 0, 0.15);\n",
              "        filter: drop-shadow(0px 1px 2px rgba(0, 0, 0, 0.3));\n",
              "        fill: #FFFFFF;\n",
              "      }\n",
              "    </style>\n",
              "    <button class=\"colab-df-generate\" onclick=\"generateWithVariable('com')\"\n",
              "            title=\"Generate code using this dataframe.\"\n",
              "            style=\"display:none;\">\n",
              "\n",
              "  <svg xmlns=\"http://www.w3.org/2000/svg\" height=\"24px\"viewBox=\"0 0 24 24\"\n",
              "       width=\"24px\">\n",
              "    <path d=\"M7,19H8.4L18.45,9,17,7.55,7,17.6ZM5,21V16.75L18.45,3.32a2,2,0,0,1,2.83,0l1.4,1.43a1.91,1.91,0,0,1,.58,1.4,1.91,1.91,0,0,1-.58,1.4L9.25,21ZM18.45,9,17,7.55Zm-12,3A5.31,5.31,0,0,0,4.9,8.1,5.31,5.31,0,0,0,1,6.5,5.31,5.31,0,0,0,4.9,4.9,5.31,5.31,0,0,0,6.5,1,5.31,5.31,0,0,0,8.1,4.9,5.31,5.31,0,0,0,12,6.5,5.46,5.46,0,0,0,6.5,12Z\"/>\n",
              "  </svg>\n",
              "    </button>\n",
              "    <script>\n",
              "      (() => {\n",
              "      const buttonEl =\n",
              "        document.querySelector('#id_41d24d8a-ce06-4881-96fc-da57b2f398db button.colab-df-generate');\n",
              "      buttonEl.style.display =\n",
              "        google.colab.kernel.accessAllowed ? 'block' : 'none';\n",
              "\n",
              "      buttonEl.onclick = () => {\n",
              "        google.colab.notebook.generateWithVariable('com');\n",
              "      }\n",
              "      })();\n",
              "    </script>\n",
              "  </div>\n",
              "\n",
              "    </div>\n",
              "  </div>\n"
            ],
            "application/vnd.google.colaboratory.intrinsic+json": {
              "type": "dataframe",
              "variable_name": "com",
              "summary": "{\n  \"name\": \"com\",\n  \"rows\": 3,\n  \"fields\": [\n    {\n      \"column\": \"Model_name\",\n      \"properties\": {\n        \"dtype\": \"string\",\n        \"num_unique_values\": 3,\n        \"samples\": [\n          \"CNNfashion\",\n          \"CNNfashionimp_non_li\",\n          \"CNNFirst\"\n        ],\n        \"semantic_type\": \"\",\n        \"description\": \"\"\n      }\n    },\n    {\n      \"column\": \"Model_loss\",\n      \"properties\": {\n        \"dtype\": \"number\",\n        \"std\": 0.12075733676913478,\n        \"min\": 0.2585536369952721,\n        \"max\": 0.47663889553981087,\n        \"num_unique_values\": 3,\n        \"samples\": [\n          0.47663889553981087,\n          0.4574634914104931,\n          0.2585536369952721\n        ],\n        \"semantic_type\": \"\",\n        \"description\": \"\"\n      }\n    },\n    {\n      \"column\": \"Model_accuracy\",\n      \"properties\": {\n        \"dtype\": \"number\",\n        \"std\": 4.182691101534292,\n        \"min\": 83.42651757188499,\n        \"max\": 90.93450479233226,\n        \"num_unique_values\": 3,\n        \"samples\": [\n          83.42651757188499,\n          83.98562300319489,\n          90.93450479233226\n        ],\n        \"semantic_type\": \"\",\n        \"description\": \"\"\n      }\n    },\n    {\n      \"column\": \"train_time\",\n      \"properties\": {\n        \"dtype\": \"number\",\n        \"std\": 333.3690025085462,\n        \"min\": 30.049847366999984,\n        \"max\": 607.4810533350001,\n        \"num_unique_values\": 3,\n        \"samples\": [\n          30.08816118300001,\n          30.049847366999984,\n          607.4810533350001\n        ],\n        \"semantic_type\": \"\",\n        \"description\": \"\"\n      }\n    }\n  ]\n}"
            }
          },
          "metadata": {},
          "execution_count": 45
        }
      ]
    },
    {
      "cell_type": "code",
      "source": [
        "com.set_index(\"Model_name\")[\"Model_accuracy\"].plot(kind=\"barh\")\n",
        "plt.xlabel(\"Accuracy%\")\n",
        "plt.ylabel(\"Models\")\n"
      ],
      "metadata": {
        "colab": {
          "base_uri": "https://localhost:8080/",
          "height": 466
        },
        "id": "vy2vAgIbGcU7",
        "outputId": "54a44ee4-019f-47c5-f118-3bf5d981371d"
      },
      "execution_count": 46,
      "outputs": [
        {
          "output_type": "execute_result",
          "data": {
            "text/plain": [
              "Text(0, 0.5, 'Models')"
            ]
          },
          "metadata": {},
          "execution_count": 46
        },
        {
          "output_type": "display_data",
          "data": {
            "text/plain": [
              "<Figure size 640x480 with 1 Axes>"
            ],
            "image/png": "[encoded data removed]"
          },
          "metadata": {}
        }
      ]
    },
    {
      "cell_type": "markdown",
      "source": [
        "#Making prediction on random test_data on our best model:"
      ],
      "metadata": {
        "id": "bRVURk0ZI4OL"
      }
    },
    {
      "cell_type": "code",
      "source": [
        "def make_prediction(model:torch.nn.Module,\n",
        "               data:list,\n",
        "               device:torch.device=device):\n",
        "  pred_probs=[]\n",
        "  model.to(device)\n",
        "  model.eval()\n",
        "  with torch.inference_mode():\n",
        "    for sample in data:\n",
        "    #making our sample to pass through the model:\n",
        "      sample=torch.unsqueeze(sample,dim=0).to(device)\n",
        "    #now getting raw logits by passing the data from our model:\n",
        "      y_pred=model(sample)\n",
        "    #now logits to prediction probabilities:\n",
        "      pred_prob=torch.softmax(y_pred.squeeze(),dim=0)\n",
        "    #now tranferring the pred pobs from gpu to cpu for futher evaluation:\n",
        "      pred_probs.append(pred_prob.cpu())\n",
        "\n",
        "    #stack the pred_probs from list to tensor\n",
        "    return torch.stack(pred_probs)"
      ],
      "metadata": {
        "id": "-tutv8JgI9C0"
      },
      "execution_count": 47,
      "outputs": []
    },
    {
      "cell_type": "code",
      "source": [
        "import random\n",
        "random.seed(13)\n",
        "test_samples=[]\n",
        "test_labels=[]\n",
        "for sample,label in random.sample(list(Test_data),k=9):\n",
        "  test_samples.append(sample)\n",
        "  test_labels.append(label)\n",
        "\n",
        "print(test_samples[0])"
      ],
      "metadata": {
        "colab": {
          "base_uri": "https://localhost:8080/"
        },
        "collapsed": true,
        "id": "MPgO-IlusHll",
        "outputId": "b654ab95-bd18-4498-8ebf-b58e33925d56"
      },
      "execution_count": 48,
      "outputs": [
        {
          "output_type": "stream",
          "name": "stdout",
          "text": [
            "tensor([[[0.0000, 0.0000, 0.0000, 0.0000, 0.0000, 0.0000, 0.0000, 0.0000,\n",
            "          0.0000, 0.0000, 0.0000, 0.0000, 0.0000, 0.0000, 0.0000, 0.0000,\n",
            "          0.0000, 0.0000, 0.0000, 0.0000, 0.0000, 0.0000, 0.0000, 0.0000,\n",
            "          0.0000, 0.0000, 0.0000, 0.0000],\n",
            "         [0.0000, 0.0000, 0.0000, 0.0000, 0.0000, 0.0000, 0.0000, 0.0000,\n",
            "          0.0000, 0.0000, 0.0000, 0.0000, 0.0000, 0.0000, 0.0000, 0.0000,\n",
            "          0.0000, 0.0000, 0.0000, 0.0000, 0.0000, 0.0000, 0.0000, 0.0000,\n",
            "          0.0000, 0.0000, 0.0000, 0.0000],\n",
            "         [0.0000, 0.0000, 0.0000, 0.0000, 0.0000, 0.0000, 0.0000, 0.0000,\n",
            "          0.0000, 0.0000, 0.0000, 0.0000, 0.0000, 0.0000, 0.0000, 0.0000,\n",
            "          0.0000, 0.0000, 0.0000, 0.0000, 0.0000, 0.0000, 0.0000, 0.0000,\n",
            "          0.0000, 0.0000, 0.0000, 0.0000],\n",
            "         [0.0000, 0.0000, 0.0000, 0.0000, 0.0000, 0.0000, 0.0000, 0.0000,\n",
            "          0.0000, 0.0000, 0.0000, 0.0000, 0.0000, 0.0000, 0.0000, 0.0000,\n",
            "          0.0000, 0.0000, 0.0000, 0.0000, 0.0000, 0.0000, 0.0000, 0.0000,\n",
            "          0.0000, 0.0000, 0.0000, 0.0000],\n",
            "         [0.0000, 0.0000, 0.0000, 0.0000, 0.0000, 0.0000, 0.0000, 0.0000,\n",
            "          0.0000, 0.0000, 0.0000, 0.0000, 0.0000, 0.0000, 0.0000, 0.0000,\n",
            "          0.0000, 0.0000, 0.0000, 0.0000, 0.0000, 0.0000, 0.0000, 0.0000,\n",
            "          0.0000, 0.0000, 0.0000, 0.0000],\n",
            "         [0.0000, 0.0000, 0.2627, 0.3647, 0.0000, 0.0000, 0.0000, 0.0000,\n",
            "          0.0000, 0.0000, 0.0000, 0.0000, 0.0000, 0.0000, 0.0000, 0.0000,\n",
            "          0.0000, 0.0000, 0.0000, 0.0000, 0.0000, 0.0000, 0.0000, 0.0000,\n",
            "          0.0980, 0.2627, 0.6314, 0.1451],\n",
            "         [0.0000, 0.0627, 0.6196, 0.6000, 0.5490, 0.5020, 0.5529, 0.4902,\n",
            "          0.5059, 0.3686, 0.3608, 0.4275, 0.3882, 0.2353, 0.2941, 0.3804,\n",
            "          0.3765, 0.3373, 0.4039, 0.4667, 0.3961, 0.4549, 0.4863, 0.5412,\n",
            "          0.6863, 0.6549, 0.7137, 0.6824],\n",
            "         [0.0000, 0.2118, 0.2549, 0.4039, 0.7333, 0.5961, 0.6549, 0.6392,\n",
            "          0.6667, 0.6667, 0.6588, 0.6314, 0.6314, 0.6078, 0.6549, 0.7216,\n",
            "          0.7451, 0.7294, 0.7608, 0.5490, 0.5412, 0.6000, 0.6157, 0.6235,\n",
            "          0.6235, 0.5922, 0.4039, 0.4353],\n",
            "         [0.0000, 0.3647, 0.3608, 0.1216, 0.7373, 0.5765, 0.6157, 0.6235,\n",
            "          0.6314, 0.4824, 0.5333, 0.5569, 0.6000, 0.6314, 0.6157, 0.6118,\n",
            "          0.5255, 0.4039, 0.3255, 0.3608, 0.5804, 0.6902, 0.6549, 0.6314,\n",
            "          0.6157, 0.6157, 0.3255, 0.6745],\n",
            "         [0.0000, 0.4941, 0.4000, 0.0196, 0.8588, 0.5647, 0.6275, 0.6706,\n",
            "          0.5922, 0.5686, 0.4941, 0.5020, 0.6353, 0.6510, 0.6235, 0.5333,\n",
            "          0.4706, 0.5020, 0.6157, 0.7412, 0.7098, 0.7137, 0.7098, 0.6431,\n",
            "          0.6078, 0.6000, 0.4078, 0.5961],\n",
            "         [0.0000, 0.6196, 0.2196, 0.0039, 0.8549, 0.5608, 0.5608, 0.6667,\n",
            "          0.6745, 0.9294, 0.8980, 0.8588, 0.8275, 0.7412, 0.7451, 0.7922,\n",
            "          0.8627, 0.8863, 0.8667, 0.8627, 0.7059, 0.7333, 0.7176, 0.7216,\n",
            "          0.6549, 0.4980, 0.7843, 0.4510],\n",
            "         [0.0000, 0.9255, 0.2745, 0.0000, 0.9176, 0.5686, 0.6235, 0.6235,\n",
            "          0.6196, 0.5843, 0.6078, 0.5961, 0.5804, 0.5608, 0.5922, 0.5804,\n",
            "          0.5882, 0.6353, 0.6235, 0.6980, 0.6431, 0.7333, 0.6941, 0.6471,\n",
            "          0.7176, 0.5686, 0.8627, 0.3647],\n",
            "         [0.0000, 0.9059, 0.1059, 0.0314, 0.9255, 0.5216, 0.6431, 0.6471,\n",
            "          0.5569, 0.5961, 0.6000, 0.5725, 0.5529, 0.5725, 0.6157, 0.6039,\n",
            "          0.6157, 0.6667, 0.6196, 0.6706, 0.6196, 0.6392, 0.7255, 0.6431,\n",
            "          0.7255, 0.6314, 0.6745, 0.2431],\n",
            "         [0.4314, 1.0000, 0.0000, 0.2941, 0.8784, 0.3569, 0.5490, 0.6980,\n",
            "          0.5961, 0.6353, 0.6314, 0.6510, 0.6706, 0.6863, 0.6431, 0.6706,\n",
            "          0.6980, 0.6627, 0.6784, 0.6745, 0.7569, 0.7373, 0.7020, 0.6667,\n",
            "          0.6784, 0.6314, 0.7255, 0.1569],\n",
            "         [0.4784, 0.5490, 0.0000, 0.2196, 0.8588, 0.4510, 0.5686, 0.6471,\n",
            "          0.5843, 0.6314, 0.6196, 0.6353, 0.6549, 0.6706, 0.6588, 0.6824,\n",
            "          0.7255, 0.6902, 0.6588, 0.6196, 0.7608, 0.7216, 0.6471, 0.6745,\n",
            "          0.6275, 0.6157, 0.7137, 0.0510],\n",
            "         [0.6980, 0.8196, 0.0000, 0.2275, 0.8039, 0.6314, 0.5804, 0.6627,\n",
            "          0.6392, 0.6627, 0.6627, 0.6706, 0.6706, 0.6706, 0.6588, 0.6588,\n",
            "          0.6667, 0.6549, 0.6627, 0.6196, 0.7020, 0.7059, 0.6431, 0.6941,\n",
            "          0.6549, 0.6196, 0.6667, 0.0000],\n",
            "         [0.0000, 0.9020, 0.5725, 0.2314, 0.8314, 0.5529, 0.6471, 0.6392,\n",
            "          0.6157, 0.6431, 0.6667, 0.6745, 0.6706, 0.6980, 0.6706, 0.6510,\n",
            "          0.6510, 0.6588, 0.6549, 0.6588, 0.6667, 0.6863, 0.6549, 0.7098,\n",
            "          0.6863, 0.6275, 0.6824, 0.0000],\n",
            "         [0.0000, 0.8784, 0.2824, 0.2667, 0.9098, 0.5412, 0.6510, 0.6157,\n",
            "          0.6235, 0.6510, 0.6549, 0.6431, 0.6431, 0.6471, 0.6667, 0.6431,\n",
            "          0.6275, 0.6667, 0.6784, 0.6902, 0.6824, 0.6863, 0.6510, 0.7098,\n",
            "          0.6745, 0.6157, 0.6667, 0.0000],\n",
            "         [0.4824, 0.9725, 0.0000, 0.2627, 0.8980, 0.5765, 0.6196, 0.5961,\n",
            "          0.6667, 0.6824, 0.6784, 0.6706, 0.6863, 0.6627, 0.6745, 0.6784,\n",
            "          0.6627, 0.6627, 0.7098, 0.6863, 0.6784, 0.6863, 0.6471, 0.7216,\n",
            "          0.6980, 0.6196, 0.6627, 0.0078],\n",
            "         [0.0118, 1.0000, 0.1686, 0.1490, 0.9608, 0.5843, 0.6196, 0.6196,\n",
            "          0.6745, 0.6824, 0.6863, 0.6824, 0.6941, 0.6549, 0.6392, 0.6549,\n",
            "          0.6863, 0.6824, 0.6902, 0.6667, 0.6706, 0.6667, 0.6275, 0.6784,\n",
            "          0.6863, 0.6314, 0.6902, 0.0275],\n",
            "         [0.0000, 0.0667, 0.5020, 0.7098, 0.8706, 0.6118, 0.6902, 0.7333,\n",
            "          0.7686, 0.7804, 0.7725, 0.7020, 0.6353, 0.6627, 0.6745, 0.6863,\n",
            "          0.6784, 0.6471, 0.6510, 0.6471, 0.6588, 0.6314, 0.6392, 0.6667,\n",
            "          0.6549, 0.6118, 0.6039, 0.0745],\n",
            "         [0.0078, 0.0000, 0.2980, 0.9843, 0.8353, 0.8471, 0.8824, 0.8941,\n",
            "          0.9176, 0.9059, 0.9098, 0.8784, 0.7725, 0.7294, 0.7216, 0.7059,\n",
            "          0.6902, 0.6745, 0.6627, 0.6510, 0.6510, 0.6627, 0.6588, 0.6784,\n",
            "          0.7137, 0.6588, 0.5882, 0.0706],\n",
            "         [0.0039, 0.0000, 0.1686, 0.9608, 0.9137, 0.9255, 0.9804, 0.9686,\n",
            "          0.9569, 0.9255, 0.9529, 0.9176, 0.8627, 0.8235, 0.8314, 0.8157,\n",
            "          0.8078, 0.7922, 0.7569, 0.7412, 0.7412, 0.7647, 0.7647, 0.6510,\n",
            "          0.6824, 0.5882, 0.2824, 0.0000],\n",
            "         [0.0039, 0.0000, 0.0000, 0.6667, 0.7373, 0.6941, 0.7176, 0.7333,\n",
            "          0.7333, 0.7176, 0.7333, 0.4902, 0.0000, 0.0000, 0.0000, 0.0000,\n",
            "          0.0000, 0.0000, 0.0000, 0.0000, 0.0000, 0.0000, 0.0000, 0.0000,\n",
            "          0.0000, 0.0000, 0.0000, 0.0000],\n",
            "         [0.0000, 0.0000, 0.0000, 0.0000, 0.0000, 0.0000, 0.0000, 0.0000,\n",
            "          0.0000, 0.0000, 0.0000, 0.0000, 0.0000, 0.0000, 0.0000, 0.0000,\n",
            "          0.0000, 0.0000, 0.0000, 0.0000, 0.0000, 0.0000, 0.0000, 0.0000,\n",
            "          0.0000, 0.0000, 0.0000, 0.0000],\n",
            "         [0.0000, 0.0000, 0.0000, 0.0000, 0.0000, 0.0000, 0.0000, 0.0000,\n",
            "          0.0000, 0.0000, 0.0000, 0.0000, 0.0000, 0.0000, 0.0000, 0.0000,\n",
            "          0.0000, 0.0000, 0.0000, 0.0000, 0.0000, 0.0000, 0.0000, 0.0000,\n",
            "          0.0000, 0.0000, 0.0000, 0.0000],\n",
            "         [0.0000, 0.0000, 0.0000, 0.0000, 0.0000, 0.0000, 0.0000, 0.0000,\n",
            "          0.0000, 0.0000, 0.0000, 0.0000, 0.0000, 0.0000, 0.0000, 0.0000,\n",
            "          0.0000, 0.0000, 0.0000, 0.0000, 0.0000, 0.0000, 0.0000, 0.0000,\n",
            "          0.0000, 0.0000, 0.0000, 0.0000],\n",
            "         [0.0000, 0.0000, 0.0000, 0.0000, 0.0000, 0.0000, 0.0000, 0.0000,\n",
            "          0.0000, 0.0000, 0.0000, 0.0000, 0.0000, 0.0000, 0.0000, 0.0000,\n",
            "          0.0000, 0.0000, 0.0000, 0.0000, 0.0000, 0.0000, 0.0000, 0.0000,\n",
            "          0.0000, 0.0000, 0.0000, 0.0000]]])\n"
          ]
        }
      ]
    },
    {
      "cell_type": "code",
      "source": [
        "plt.imshow(test_samples[0].squeeze(),cmap=\"gray\")\n",
        "plt.title(class_[test_labels[0]])"
      ],
      "metadata": {
        "colab": {
          "base_uri": "https://localhost:8080/",
          "height": 469
        },
        "id": "QOi7RqXHtdHh",
        "outputId": "46c02991-bd95-44f8-e299-247e52aa4869"
      },
      "execution_count": 49,
      "outputs": [
        {
          "output_type": "execute_result",
          "data": {
            "text/plain": [
              "Text(0.5, 1.0, 'Bag')"
            ]
          },
          "metadata": {},
          "execution_count": 49
        },
        {
          "output_type": "display_data",
          "data": {
            "text/plain": [
              "<Figure size 640x480 with 1 Axes>"
            ],
            "image/png": "[encoded data removed]"
          },
          "metadata": {}
        }
      ]
    },
    {
      "cell_type": "code",
      "source": [
        "#Make prediction:\n",
        "pred_probs=make_prediction(model=model_CNN,\n",
        "                       data=test_samples\n",
        "                      )\n",
        "pred_probs[:2]"
      ],
      "metadata": {
        "colab": {
          "base_uri": "https://localhost:8080/"
        },
        "id": "dYY6DSIHt23m",
        "outputId": "d8d51380-018b-4779-f4bb-12455c7aa774"
      },
      "execution_count": 50,
      "outputs": [
        {
          "output_type": "execute_result",
          "data": {
            "text/plain": [
              "tensor([[3.4622e-05, 3.6988e-08, 3.3475e-06, 8.6983e-08, 2.0540e-07, 1.1185e-06,\n",
              "         5.0145e-06, 5.4132e-07, 9.9994e-01, 1.3128e-05],\n",
              "        [3.1582e-01, 1.9970e-04, 4.9804e-04, 1.4509e-01, 8.6349e-04, 4.8714e-04,\n",
              "         1.2509e-01, 1.7158e-04, 4.1177e-01, 1.0231e-05]])"
            ]
          },
          "metadata": {},
          "execution_count": 50
        }
      ]
    },
    {
      "cell_type": "code",
      "source": [
        "test_labels"
      ],
      "metadata": {
        "colab": {
          "base_uri": "https://localhost:8080/"
        },
        "id": "avV00x_kwxyN",
        "outputId": "3cbb55e6-8c09-4279-e832-c3145c094849"
      },
      "execution_count": 51,
      "outputs": [
        {
          "output_type": "execute_result",
          "data": {
            "text/plain": [
              "[8, 6, 5, 4, 7, 1, 5, 1, 4]"
            ]
          },
          "metadata": {},
          "execution_count": 51
        }
      ]
    },
    {
      "cell_type": "code",
      "source": [
        "#convert prediction probabilities to label:\n",
        "pred_lables=pred_probs.argmax(dim=1)\n",
        "pred_lables"
      ],
      "metadata": {
        "colab": {
          "base_uri": "https://localhost:8080/"
        },
        "id": "XjCrdMNHwdaW",
        "outputId": "c69ed295-d81b-41dd-c921-ce12d7300e2e"
      },
      "execution_count": 52,
      "outputs": [
        {
          "output_type": "execute_result",
          "data": {
            "text/plain": [
              "tensor([8, 8, 5, 4, 7, 1, 5, 1, 3])"
            ]
          },
          "metadata": {},
          "execution_count": 52
        }
      ]
    },
    {
      "cell_type": "code",
      "source": [
        "#visualize visualize visualize\n",
        "plt.figure(figsize=(9,9))\n",
        "nrows=3\n",
        "ncols=3\n",
        "for i,sample in enumerate(test_samples):\n",
        "  #plot the subplot\n",
        "  plt.subplot(nrows,ncols,i+1)\n",
        "  #make the target image\n",
        "  plt.imshow(sample.squeeze(),cmap=\"gray\")\n",
        "  #Predicted_labels:\n",
        "  pred_label=class_[pred_lables[i]]\n",
        "  #truth label:\n",
        "  true_label=class_[test_labels[i]]\n",
        "\n",
        "  #create the title of each subplot:\n",
        "  title_text=f\"Pred: {pred_label} | Truth: {true_label}\"\n",
        "\n",
        "  #check the eqality and changing color of right or wrong prdiction:\n",
        "  if pred_label==true_label:\n",
        "    plt.title(title_text,fontsize=10,c='g')\n",
        "    plt.axis(\"off\")\n",
        "  else:\n",
        "    plt.title(title_text,fontsize=10,c=\"r\")\n",
        "    plt.axis(\"off\")"
      ],
      "metadata": {
        "colab": {
          "base_uri": "https://localhost:8080/",
          "height": 749
        },
        "id": "s4vH6yyLxDnM",
        "outputId": "06012292-aaf9-4670-98dc-cfd58cf1f179"
      },
      "execution_count": 53,
      "outputs": [
        {
          "output_type": "display_data",
          "data": {
            "text/plain": [
              "<Figure size 900x900 with 9 Axes>"
            ],
            "image/png": "[encoded data removed]"
          },
          "metadata": {}
        }
      ]
    },
    {
      "cell_type": "markdown",
      "source": [
        "#CONFUSION MATRIX:\n",
        "#means it is basiaclly used to calculate how many times our model did false prediction each class(label)"
      ],
      "metadata": {
        "id": "w9ZwU1Lq4-rW"
      }
    },
    {
      "cell_type": "code",
      "source": [
        "#step 1: Making prediction through our model:\n",
        "pred=[]\n",
        "model_CNN.eval()\n",
        "with torch.inference_mode():\n",
        "  for X,y in tqdm(test_Data_loader,desc=\"Making predictions...\"):\n",
        "    X,y=X.to(device),y.to(device)\n",
        "    y_pred=model_CNN(X)\n",
        "    pred_probs=torch.softmax(y_pred.squeeze(),dim=0).argmax(dim=1)\n",
        "    pred.append(pred_probs.cpu())\n",
        "\n",
        "y_pred_tensor=torch.cat(pred)\n",
        "y_pred_tensor"
      ],
      "metadata": {
        "colab": {
          "base_uri": "https://localhost:8080/",
          "height": 66,
          "referenced_widgets": [
            "4f0a8801307a48f9a6731a154b239671",
            "9f85eb7d8969400faab6e8687bf152ac",
            "84d85b4e2d76464fa3d73a2d3cbadab6",
            "99e2d48b529a48ed888982295972541d",
            "9804ab789dbd42ddb5c268b2c7eaa2f7",
            "12f516fb224c4a4abed3129f7f925563",
            "d83130848ad949b9b5ed9a7ed4fb0a94",
            "7b548d62cd5d4917ae48ec9df065c422",
            "b277823f405e46a08f2bc76b1ae701b9",
            "c1980e4f0bd44e8a8e59986fe1961dc6",
            "69613d3970044cdbb878ab688d1dda9f"
          ]
        },
        "id": "FDi8XJ3B49fL",
        "outputId": "0c855d88-9eda-4303-bab5-f94d40990b69"
      },
      "execution_count": 54,
      "outputs": [
        {
          "output_type": "display_data",
          "data": {
            "text/plain": [
              "Making predictions...:   0%|          | 0/313 [00:00<?, ?it/s]"
            ],
            "application/vnd.jupyter.widget-view+json": {
              "version_major": 2,
              "version_minor": 0,
              "model_id": "4f0a8801307a48f9a6731a154b239671"
            }
          },
          "metadata": {}
        },
        {
          "output_type": "execute_result",
          "data": {
            "text/plain": [
              "tensor([9, 2, 1,  ..., 8, 1, 0])"
            ]
          },
          "metadata": {},
          "execution_count": 54
        }
      ]
    },
    {
      "cell_type": "code",
      "source": [
        "# See if torchmetrics exists, if not, install it\n",
        "try:\n",
        "    import torchmetrics, mlxtend\n",
        "    print(f\"mlxtend version: {mlxtend.__version__}\")\n",
        "    assert int(mlxtend.__version__.split(\".\")[1]) >= 19, \"mlxtend verison should be 0.19.0 or higher\"\n",
        "except:\n",
        "    !pip install -q torchmetrics -U mlxtend # <- Note: If you're using Google Colab, this may require restarting the runtime #only important\n",
        "    import torchmetrics, mlxtend\n",
        "    print(f\"mlxtend version: {mlxtend.__version__}\")"
      ],
      "metadata": {
        "colab": {
          "base_uri": "https://localhost:8080/"
        },
        "id": "BhUmZuzK8I30",
        "outputId": "03c3086e-6bf5-4efb-8448-bf478d2b6262"
      },
      "execution_count": 55,
      "outputs": [
        {
          "output_type": "stream",
          "name": "stdout",
          "text": [
            "mlxtend version: 0.23.4\n"
          ]
        }
      ]
    },
    {
      "cell_type": "code",
      "source": [
        "from torchmetrics import ConfusionMatrix\n",
        "from mlxtend.plotting import plot_confusion_matrix\n",
        "#step 2:Setup confusion matrix instance and compare predictions to targets:\n",
        "confusion_matrix=ConfusionMatrix(num_classes=len(class_),task=\"multiclass\")\n",
        "confusion_matrix_tensor=confusion_matrix(preds=y_pred_tensor,\n",
        "                                         target=Test_data.targets)\n",
        "#step 3:Plot the the confusion matrix:\n",
        "fig,ax=plot_confusion_matrix(conf_mat=confusion_matrix_tensor.numpy(),\n",
        "                             class_names=class_,\n",
        "                             figsize=(10,7)\n",
        "                             );"
      ],
      "metadata": {
        "colab": {
          "base_uri": "https://localhost:8080/",
          "height": 667
        },
        "id": "CxaQxlupAC_1",
        "outputId": "8f9b7d57-fdec-46ee-979f-a2586c852c08"
      },
      "execution_count": 57,
      "outputs": [
        {
          "output_type": "display_data",
          "data": {
            "text/plain": [
              "<Figure size 1000x700 with 1 Axes>"
            ],
            "image/png": "[encoded data removed]"
          },
          "metadata": {}
        }
      ]
    },
    {
      "cell_type": "markdown",
      "source": [
        "#SAVING AND LOADING OUR BEST PERFORMING MODEL:"
      ],
      "metadata": {
        "id": "NY2aSpkxC7eo"
      }
    },
    {
      "cell_type": "code",
      "source": [
        "from pathlib import Path\n",
        "#creating the path and folder\n",
        "Model_path=Path(\"Model_CNN\")\n",
        "Model_path.mkdir(parents=True,\n",
        "                 exist_ok=True)\n",
        "\n",
        "#Model naming and its path naming:\n",
        "Model_name=\"CNN_model_CONV2D.pth\"\n",
        "Model_saving_path=Model_path / Model_name\n",
        "\n",
        "#saving the model:\n",
        "print(f\"Saving model to: {Model_saving_path}\")\n",
        "torch.save(obj=model_CNN.state_dict(), # only saving the state_dict() only saves the learned parameters\n",
        "           f=Model_saving_path)"
      ],
      "metadata": {
        "colab": {
          "base_uri": "https://localhost:8080/"
        },
        "id": "qpOb6Ty2C7NF",
        "outputId": "c62e79eb-591c-4093-a8e5-a7db1d7ee439"
      },
      "execution_count": 60,
      "outputs": [
        {
          "output_type": "stream",
          "name": "stdout",
          "text": [
            "Saving model to: Model_CNN/CNN_model_CONV2D.pth\n"
          ]
        }
      ]
    },
    {
      "cell_type": "code",
      "source": [
        "#using our saved model again:\n",
        "loaded_model=CNNFirst(input_shape=1,\n",
        "                      hidden_layer=30,\n",
        "                      output_shape=1)\n",
        "loaded_model.load_state_dict(torch.load(f=Model_saving_path))\n",
        "loaded_model=loaded_model.to(device)\n",
        "#evaluate our model:\n",
        "torch.manual_seed(42)\n",
        "loaded_model_result=eval(model_=loaded_model,\n",
        "                         data_loader=test_Data_loader,\n",
        "                         loss_fn=loss_function_cnn,\n",
        "                         accuracy_fn=accuracy_fn,\n",
        "                         device=device)\n",
        "loaded_model_result"
      ],
      "metadata": {
        "colab": {
          "base_uri": "https://localhost:8080/",
          "height": 101,
          "referenced_widgets": [
            "9fb2ec77591d4eca9e08bb0514d7c754",
            "b92d748e312b4b28a5aa588678ec6d35",
            "90616d4ea2ec4b548bfe8c1d06c6bd2c",
            "b46af197c7e341eca898acaa91dae82b",
            "3fe3441ffe0341c18a32b0210d34f5bc",
            "a238d3a2bdd941c89c601d7898933abf",
            "0faffa9109fe4f568ab93b924febd671",
            "417fba8c1a31498aa3d4df3ff815d9b1",
            "c79389d21e604577910ab7758da1567d",
            "a10c08c789e14102914da28a7e680966",
            "dc53cc8581c246a8ab44fbe7cddf0eb6"
          ]
        },
        "id": "dERbgeW0EoES",
        "outputId": "fe82ebb1-44a8-4980-8dae-6648f4c2d8e8"
      },
      "execution_count": 62,
      "outputs": [
        {
          "output_type": "display_data",
          "data": {
            "text/plain": [
              "  0%|          | 0/313 [00:00<?, ?it/s]"
            ],
            "application/vnd.jupyter.widget-view+json": {
              "version_major": 2,
              "version_minor": 0,
              "model_id": "9fb2ec77591d4eca9e08bb0514d7c754"
            }
          },
          "metadata": {}
        },
        {
          "output_type": "execute_result",
          "data": {
            "text/plain": [
              "{'Model_name': 'CNNFirst',\n",
              " 'Model_loss': 0.2585536369952721,\n",
              " 'Model_accuracy': 90.93450479233226}"
            ]
          },
          "metadata": {},
          "execution_count": 62
        }
      ]
    },
    {
      "cell_type": "code",
      "source": [
        "model_CNN_output"
      ],
      "metadata": {
        "colab": {
          "base_uri": "https://localhost:8080/"
        },
        "id": "YtXzmUQmGHk9",
        "outputId": "56026d3d-ac4a-4e34-e9fb-b2e3573f49ca"
      },
      "execution_count": 63,
      "outputs": [
        {
          "output_type": "execute_result",
          "data": {
            "text/plain": [
              "{'Model_name': 'CNNFirst',\n",
              " 'Model_loss': 0.2585536369952721,\n",
              " 'Model_accuracy': 90.93450479233226}"
            ]
          },
          "metadata": {},
          "execution_count": 63
        }
      ]
    }
  ]
}