{
  "nbformat": 4,
  "nbformat_minor": 0,
  "metadata": {
    "colab": {
      "provenance": [],
      "authorship_tag": "ABX9TyM13ksDijumyvrDd0QGxhVN",
      "include_colab_link": true
    },
    "kernelspec": {
      "name": "python3",
      "display_name": "Python 3"
    },
    "language_info": {
      "name": "python"
    }
  },
  "cells": [
    {
      "cell_type": "markdown",
      "metadata": {
        "id": "view-in-github",
        "colab_type": "text"
      },
      "source": [
        "<a href=\"https://colab.research.google.com/github/yashraj01-se/Pytorchrepo/blob/main/Pytorch_fundamentals_tensors_3.ipynb\" target=\"_parent\"><img src=\"https://colab.research.google.com/assets/colab-badge.svg\" alt=\"Open In Colab\"/></a>"
      ]
    },
    {
      "cell_type": "markdown",
      "source": [
        "Tensor Manipulation:"
      ],
      "metadata": {
        "id": "UqMJ_MbulcEg"
      }
    },
    {
      "cell_type": "code",
      "execution_count": null,
      "metadata": {
        "id": "MHvfMU8ejJa5"
      },
      "outputs": [],
      "source": [
        "#reshaping,stacking,squeezing and unsquezzind tensors:\n",
        "#reshaping-reshape the input tensor to a defined shape...\n",
        "#view-return a view of a input tensor of certain shape but keep the same\n",
        "#memory as the original tensor.\n",
        "#stackig-combining multiple tensors on the top of each other(vstack) and side by side (hstack)\n",
        "#squeeze-remove all 1 dimension from a tensor.\n",
        "#unsqueeze-add a 1 dimension to the taget tensor.\n",
        "#permute-return a view of the input with differnt dimension permuted (swapped) in a certain way...\n"
      ]
    },
    {
      "cell_type": "code",
      "source": [
        "import torch\n",
        "x=torch.arange(1,10)\n",
        "x,x.shape"
      ],
      "metadata": {
        "id": "mSqF6a1llaXh",
        "colab": {
          "base_uri": "https://localhost:8080/"
        },
        "outputId": "2963f5de-4c4b-4ef2-bece-57fdbe3b39e1"
      },
      "execution_count": 33,
      "outputs": [
        {
          "output_type": "execute_result",
          "data": {
            "text/plain": [
              "(tensor([1, 2, 3, 4, 5, 6, 7, 8, 9]), torch.Size([9]))"
            ]
          },
          "metadata": {},
          "execution_count": 33
        }
      ]
    },
    {
      "cell_type": "code",
      "source": [
        "#reshape: Add an extra dimension:\n",
        "x_re=x.reshape(1,9)#ek dimension 9 ke size of tensor me....(dimension,size) // by -1 the pytorch will auto matically understand the reshaping...\n",
        "x_re,x_re.shape\n",
        "\n"
      ],
      "metadata": {
        "colab": {
          "base_uri": "https://localhost:8080/"
        },
        "id": "kzVdhuedmXUO",
        "outputId": "dc2956d4-67c1-4c9a-c432-4e2f1d3f07b2"
      },
      "execution_count": 34,
      "outputs": [
        {
          "output_type": "execute_result",
          "data": {
            "text/plain": [
              "(tensor([[1, 2, 3, 4, 5, 6, 7, 8, 9]]), torch.Size([1, 9]))"
            ]
          },
          "metadata": {},
          "execution_count": 34
        }
      ]
    },
    {
      "cell_type": "code",
      "source": [
        "#change the view:\n",
        "z=x.view(4,3) #z is just a different view of x\n",
        "z,z.shape"
      ],
      "metadata": {
        "colab": {
          "base_uri": "https://localhost:8080/"
        },
        "id": "Bm5_QHVina_f",
        "outputId": "b9159303-5c49-4fbd-f6e1-f4b680591377"
      },
      "execution_count": 21,
      "outputs": [
        {
          "output_type": "execute_result",
          "data": {
            "text/plain": [
              "(tensor([[ 1,  2,  3],\n",
              "         [ 4,  5,  6],\n",
              "         [ 7,  8,  9],\n",
              "         [10, 11, 12]]),\n",
              " torch.Size([4, 3]))"
            ]
          },
          "metadata": {},
          "execution_count": 21
        }
      ]
    },
    {
      "cell_type": "code",
      "source": [
        "#changing z will change the x because they share same memory location"
      ],
      "metadata": {
        "id": "13TnlV68pRQF"
      },
      "execution_count": null,
      "outputs": []
    },
    {
      "cell_type": "code",
      "source": [
        "z[:0]=5\n",
        "z,x\n"
      ],
      "metadata": {
        "colab": {
          "base_uri": "https://localhost:8080/"
        },
        "id": "Yae5dEYQpdmf",
        "outputId": "71c8f8b9-6b8c-4987-a4b4-3ebe59794d6e"
      },
      "execution_count": 22,
      "outputs": [
        {
          "output_type": "execute_result",
          "data": {
            "text/plain": [
              "(tensor([[ 1,  2,  3],\n",
              "         [ 4,  5,  6],\n",
              "         [ 7,  8,  9],\n",
              "         [10, 11, 12]]),\n",
              " tensor([ 1,  2,  3,  4,  5,  6,  7,  8,  9, 10, 11, 12]))"
            ]
          },
          "metadata": {},
          "execution_count": 22
        }
      ]
    },
    {
      "cell_type": "code",
      "source": [
        "#stack tensor on top:\n",
        "x_stack=torch.stack([x,x,x,x],dim=0)# dim=0(vertical stack), dim=1(horizontal stack)\n",
        "x_stack"
      ],
      "metadata": {
        "colab": {
          "base_uri": "https://localhost:8080/"
        },
        "id": "veH97flIp1E-",
        "outputId": "aeabbcc4-e572-4ffb-fdc0-131302a23c55"
      },
      "execution_count": 28,
      "outputs": [
        {
          "output_type": "execute_result",
          "data": {
            "text/plain": [
              "tensor([[ 1,  2,  3,  4,  5,  6,  7,  8,  9, 10, 11, 12],\n",
              "        [ 1,  2,  3,  4,  5,  6,  7,  8,  9, 10, 11, 12],\n",
              "        [ 1,  2,  3,  4,  5,  6,  7,  8,  9, 10, 11, 12],\n",
              "        [ 1,  2,  3,  4,  5,  6,  7,  8,  9, 10, 11, 12]])"
            ]
          },
          "metadata": {},
          "execution_count": 28
        }
      ]
    },
    {
      "cell_type": "code",
      "source": [
        "#squeeze:\n",
        "x_sq=torch.squeeze(x_stack)\n",
        "x_sq   # because no one dimension...."
      ],
      "metadata": {
        "colab": {
          "base_uri": "https://localhost:8080/"
        },
        "id": "fpiDwIhoqtFn",
        "outputId": "1c136795-56c5-449c-d096-2f97d92fdf05"
      },
      "execution_count": 24,
      "outputs": [
        {
          "output_type": "execute_result",
          "data": {
            "text/plain": [
              "tensor([[ 1,  2,  3,  4,  5,  6,  7,  8,  9, 10, 11, 12],\n",
              "        [ 1,  2,  3,  4,  5,  6,  7,  8,  9, 10, 11, 12],\n",
              "        [ 1,  2,  3,  4,  5,  6,  7,  8,  9, 10, 11, 12],\n",
              "        [ 1,  2,  3,  4,  5,  6,  7,  8,  9, 10, 11, 12]])"
            ]
          },
          "metadata": {},
          "execution_count": 24
        }
      ]
    },
    {
      "cell_type": "code",
      "source": [
        "print(\"previous:\",x_re)\n",
        "print(\"previous shape:\",x_re.shape)"
      ],
      "metadata": {
        "colab": {
          "base_uri": "https://localhost:8080/"
        },
        "id": "0Iww66AAvMKI",
        "outputId": "2b006be7-3755-492f-c811-aa76a000cd96"
      },
      "execution_count": 43,
      "outputs": [
        {
          "output_type": "stream",
          "name": "stdout",
          "text": [
            "previous: tensor([[1, 2, 3, 4, 5, 6, 7, 8, 9]])\n",
            "previous shape: torch.Size([1, 9])\n"
          ]
        }
      ]
    },
    {
      "cell_type": "code",
      "source": [
        "x_squeezed=x_re.squeeze()\n",
        "print(\"now after squeeze:\",x_re.squeeze())\n",
        "print(\"shape after:\",x_re.squeeze().shape)"
      ],
      "metadata": {
        "colab": {
          "base_uri": "https://localhost:8080/"
        },
        "id": "AuxtBEM8u8xf",
        "outputId": "83b857e1-a4e1-40fe-c770-070e603bc232"
      },
      "execution_count": 53,
      "outputs": [
        {
          "output_type": "stream",
          "name": "stdout",
          "text": [
            "now after squeeze: tensor([1, 2, 3, 4, 5, 6, 7, 8, 9])\n",
            "shape after: torch.Size([9])\n"
          ]
        }
      ]
    },
    {
      "cell_type": "code",
      "source": [
        "#add another dimension at specific dim....\n",
        "print(\"now after unsqueeze:\",x_squeezed.unsqueeze(dim=0))\n",
        "print(\"shape after unsqueeze:\",x_re.squeeze().shape)"
      ],
      "metadata": {
        "colab": {
          "base_uri": "https://localhost:8080/"
        },
        "id": "Ef7eFV_hwUVE",
        "outputId": "96a69781-154b-40fa-d171-7f5c212e682b"
      },
      "execution_count": 54,
      "outputs": [
        {
          "output_type": "stream",
          "name": "stdout",
          "text": [
            "now after unsqueeze: tensor([[1, 2, 3, 4, 5, 6, 7, 8, 9]])\n",
            "shape after unsqueeze: torch.Size([9])\n"
          ]
        }
      ]
    },
    {
      "cell_type": "code",
      "source": [
        "x_re"
      ],
      "metadata": {
        "colab": {
          "base_uri": "https://localhost:8080/"
        },
        "id": "svEdTEiKyhhR",
        "outputId": "bd1591f1-4e78-44b6-d166-be425bbe2590"
      },
      "execution_count": 58,
      "outputs": [
        {
          "output_type": "execute_result",
          "data": {
            "text/plain": [
              "tensor([[1, 2, 3, 4, 5, 6, 7, 8, 9]])"
            ]
          },
          "metadata": {},
          "execution_count": 58
        }
      ]
    },
    {
      "cell_type": "code",
      "source": [
        "#torch.permute -rearranges the dimensions of target tensor in a specified order...\n",
        "#mainly used with image data...\n",
        "x_pert=torch.rand(224,224,3) #[height,width,colour channel]\n",
        "x_p=torch.permute(x_pert,(2,0,1))\n",
        "print(\"prev shape: \",x_pert.shape)\n",
        "print(\"after permutation: \",x_p.shape) #[colour_channel,height,width] #basically a  differnt a view"
      ],
      "metadata": {
        "colab": {
          "base_uri": "https://localhost:8080/"
        },
        "id": "x08-wD6OxzsY",
        "outputId": "713d58b4-0789-4c26-c7b9-4972b7335149"
      },
      "execution_count": 71,
      "outputs": [
        {
          "output_type": "stream",
          "name": "stdout",
          "text": [
            "prev shape:  torch.Size([224, 224, 3])\n",
            "after permutation:  torch.Size([3, 224, 224])\n"
          ]
        }
      ]
    },
    {
      "cell_type": "code",
      "source": [
        "x_pert[0,0,0]=7232\n",
        "x_p#this shows that value remain same just view changes...because of same memory shared..."
      ],
      "metadata": {
        "colab": {
          "base_uri": "https://localhost:8080/"
        },
        "id": "M7xHyvQD0vug",
        "outputId": "7c159324-255c-47d5-88a0-9418563baace"
      },
      "execution_count": 77,
      "outputs": [
        {
          "output_type": "execute_result",
          "data": {
            "text/plain": [
              "tensor([[[7.2320e+03, 4.6204e-01, 3.4591e-01,  ..., 7.5934e-02,\n",
              "          8.4687e-01, 9.4467e-01],\n",
              "         [3.3977e-01, 1.7016e-01, 3.2916e-01,  ..., 8.5748e-01,\n",
              "          2.5636e-01, 3.6475e-01],\n",
              "         [3.9450e-01, 4.9686e-01, 7.4590e-01,  ..., 5.3999e-01,\n",
              "          3.7921e-02, 8.7819e-01],\n",
              "         ...,\n",
              "         [2.3075e-01, 9.9127e-01, 2.8417e-02,  ..., 7.5877e-01,\n",
              "          2.6656e-01, 8.0532e-01],\n",
              "         [6.9465e-01, 5.7022e-01, 3.9514e-01,  ..., 9.8191e-02,\n",
              "          4.7284e-01, 3.1127e-01],\n",
              "         [8.5638e-01, 6.8553e-01, 8.3080e-02,  ..., 8.6831e-01,\n",
              "          2.6449e-01, 2.0815e-01]],\n",
              "\n",
              "        [[1.3835e-01, 2.3525e-01, 4.3798e-01,  ..., 2.7950e-01,\n",
              "          2.1861e-01, 2.7182e-01],\n",
              "         [6.4712e-01, 3.6155e-01, 1.3387e-01,  ..., 7.8666e-01,\n",
              "          9.1759e-01, 3.1640e-02],\n",
              "         [9.7822e-01, 7.6138e-01, 7.5369e-01,  ..., 4.6394e-01,\n",
              "          9.4780e-01, 8.0648e-01],\n",
              "         ...,\n",
              "         [3.1378e-01, 7.9865e-01, 2.9515e-01,  ..., 2.2915e-01,\n",
              "          9.0112e-01, 3.9173e-01],\n",
              "         [4.0786e-01, 9.3279e-01, 3.9434e-01,  ..., 1.9860e-01,\n",
              "          8.8426e-01, 8.0110e-01],\n",
              "         [5.3447e-01, 3.0958e-02, 4.5639e-01,  ..., 6.1421e-01,\n",
              "          1.3336e-01, 4.3198e-01]],\n",
              "\n",
              "        [[5.6421e-01, 2.0373e-01, 6.2887e-01,  ..., 4.6602e-01,\n",
              "          6.8376e-01, 8.6171e-01],\n",
              "         [9.4685e-01, 6.7034e-01, 4.7315e-01,  ..., 5.0408e-01,\n",
              "          6.9337e-01, 4.9497e-01],\n",
              "         [9.9990e-01, 7.7824e-01, 1.4510e-01,  ..., 2.6112e-01,\n",
              "          1.6386e-01, 4.1532e-01],\n",
              "         ...,\n",
              "         [3.7793e-01, 4.8502e-01, 3.1629e-01,  ..., 1.8185e-01,\n",
              "          9.1114e-01, 1.4877e-01],\n",
              "         [9.6124e-03, 2.5673e-01, 4.3694e-01,  ..., 1.7337e-01,\n",
              "          6.0027e-01, 2.5550e-01],\n",
              "         [9.3137e-02, 2.3592e-01, 6.2642e-01,  ..., 7.6429e-01,\n",
              "          7.0312e-01, 1.5882e-01]]])"
            ]
          },
          "metadata": {},
          "execution_count": 77
        }
      ]
    },
    {
      "cell_type": "markdown",
      "source": [
        "#selecting data from tensors (indexing)\n"
      ],
      "metadata": {
        "id": "STNTuniP1rop"
      }
    },
    {
      "cell_type": "code",
      "source": [
        "import torch\n",
        "x=torch.arange(1,10).reshape(1,3,3)\n",
        "x,x.shape"
      ],
      "metadata": {
        "colab": {
          "base_uri": "https://localhost:8080/"
        },
        "id": "JQ6RvX8I1tM-",
        "outputId": "9934223c-5209-4cd1-b68a-c7437bee2c5f"
      },
      "execution_count": 80,
      "outputs": [
        {
          "output_type": "execute_result",
          "data": {
            "text/plain": [
              "(tensor([[[1, 2, 3],\n",
              "          [4, 5, 6],\n",
              "          [7, 8, 9]]]),\n",
              " torch.Size([1, 3, 3]))"
            ]
          },
          "metadata": {},
          "execution_count": 80
        }
      ]
    },
    {
      "cell_type": "code",
      "source": [
        "#indexing--\n",
        "x[0]"
      ],
      "metadata": {
        "colab": {
          "base_uri": "https://localhost:8080/"
        },
        "id": "PiVKlHxh2iNx",
        "outputId": "472fc900-2de9-424e-ffc8-37f96a22238f"
      },
      "execution_count": 85,
      "outputs": [
        {
          "output_type": "execute_result",
          "data": {
            "text/plain": [
              "tensor(8)"
            ]
          },
          "metadata": {},
          "execution_count": 85
        }
      ]
    },
    {
      "cell_type": "code",
      "source": [
        "#middle bracket--\n",
        "x[0,1]"
      ],
      "metadata": {
        "colab": {
          "base_uri": "https://localhost:8080/"
        },
        "id": "y6UUVS8727Iq",
        "outputId": "3f2c941b-d9e9-43d6-fa9c-bce9af3ab89e"
      },
      "execution_count": 86,
      "outputs": [
        {
          "output_type": "execute_result",
          "data": {
            "text/plain": [
              "tensor([4, 5, 6])"
            ]
          },
          "metadata": {},
          "execution_count": 86
        }
      ]
    },
    {
      "cell_type": "code",
      "source": [
        "#specific inner braceket--\n",
        "x[0,2,2]"
      ],
      "metadata": {
        "colab": {
          "base_uri": "https://localhost:8080/"
        },
        "id": "u1WvrS9Q3Gqy",
        "outputId": "53d464e2-adad-4a1c-c105-24912a04503f"
      },
      "execution_count": 90,
      "outputs": [
        {
          "output_type": "execute_result",
          "data": {
            "text/plain": [
              "tensor(9)"
            ]
          },
          "metadata": {},
          "execution_count": 90
        }
      ]
    },
    {
      "cell_type": "code",
      "source": [
        "#you can also use \":\" to select \"all\" of a target dimension:\n",
        "x[:,0]\n",
        "x[:,0,1]\n",
        "x[0,1,:]"
      ],
      "metadata": {
        "colab": {
          "base_uri": "https://localhost:8080/"
        },
        "id": "Z8Mz1dk23nnh",
        "outputId": "80e9fad5-9f3f-49de-c19b-2ae45b3ca6a9"
      },
      "execution_count": 97,
      "outputs": [
        {
          "output_type": "execute_result",
          "data": {
            "text/plain": [
              "tensor([4, 5, 6])"
            ]
          },
          "metadata": {},
          "execution_count": 97
        }
      ]
    },
    {
      "cell_type": "code",
      "source": [
        "#get all the values of 0th and 1st dim but only index 1 of 2nd diomension:\n",
        "x[:,:,1]"
      ],
      "metadata": {
        "colab": {
          "base_uri": "https://localhost:8080/"
        },
        "id": "4WAWK_0x4TZw",
        "outputId": "de7a2817-6c78-41aa-a088-0b3cc5521ecc"
      },
      "execution_count": 98,
      "outputs": [
        {
          "output_type": "execute_result",
          "data": {
            "text/plain": [
              "tensor([[2, 5, 8]])"
            ]
          },
          "metadata": {},
          "execution_count": 98
        }
      ]
    },
    {
      "cell_type": "code",
      "source": [
        "#get all values of the 0 dimension but only the 1 index of 1st and 2nd dim..\n",
        "x[:,1,1]"
      ],
      "metadata": {
        "colab": {
          "base_uri": "https://localhost:8080/"
        },
        "id": "HO7rguI540Bu",
        "outputId": "8ca48ba3-7e48-4104-f858-3ce14a6a2112"
      },
      "execution_count": 99,
      "outputs": [
        {
          "output_type": "execute_result",
          "data": {
            "text/plain": [
              "tensor([5])"
            ]
          },
          "metadata": {},
          "execution_count": 99
        }
      ]
    },
    {
      "cell_type": "code",
      "source": [
        "#get index 0 of 0th and 1st dimension and all values of 2nd dim..\n",
        "x[0,0,:]"
      ],
      "metadata": {
        "colab": {
          "base_uri": "https://localhost:8080/"
        },
        "id": "UeThnN4c5U7M",
        "outputId": "ece2e845-d531-4f9e-e3a9-4710cb1a266f"
      },
      "execution_count": 100,
      "outputs": [
        {
          "output_type": "execute_result",
          "data": {
            "text/plain": [
              "tensor([1, 2, 3])"
            ]
          },
          "metadata": {},
          "execution_count": 100
        }
      ]
    },
    {
      "cell_type": "code",
      "source": [
        "#retrun 3,6,9\n",
        "x[:,:,2]"
      ],
      "metadata": {
        "colab": {
          "base_uri": "https://localhost:8080/"
        },
        "id": "Fm7N7gIb50X1",
        "outputId": "0a1291e6-540f-4306-f347-9e1cf6a7eaa0"
      },
      "execution_count": 101,
      "outputs": [
        {
          "output_type": "execute_result",
          "data": {
            "text/plain": [
              "tensor([[3, 6, 9]])"
            ]
          },
          "metadata": {},
          "execution_count": 101
        }
      ]
    },
    {
      "cell_type": "markdown",
      "source": [
        "Pytorch tensors & numpy"
      ],
      "metadata": {
        "id": "Hf8dZAzq8pxe"
      }
    },
    {
      "cell_type": "code",
      "source": [
        "#most of the time we start with numpy array that is needed to be converted into tensor using ->torch.from_numpy(name_numpy_array\n",
        "#and tensor to numpy:->torch.Tensor.numpy()"
      ],
      "metadata": {
        "id": "IHrmeeEl8igP"
      },
      "execution_count": null,
      "outputs": []
    },
    {
      "cell_type": "code",
      "source": [
        "#numpy to tensor:\n",
        "import torch\n",
        "import numpy as np\n",
        "df=np.arange(1.0,4.0)\n",
        "df_t=torch.from_numpy(df).type(torch.float32)\n",
        "df.dtype,df_t.dtype\n"
      ],
      "metadata": {
        "colab": {
          "base_uri": "https://localhost:8080/"
        },
        "id": "oEj2pGCR9gpG",
        "outputId": "f03bd6cd-94e7-41ed-ceba-7aa1fd639c04"
      },
      "execution_count": 124,
      "outputs": [
        {
          "output_type": "execute_result",
          "data": {
            "text/plain": [
              "(dtype('float64'), torch.float32)"
            ]
          },
          "metadata": {},
          "execution_count": 124
        }
      ]
    },
    {
      "cell_type": "code",
      "source": [
        "#if we try to cahnge the value of array will it affect the value of tensor??\n",
        "df=df+1;\n",
        "df,df_t  #hence proves that array and tensor remains differnt and changing the value of array will not affect the value of tensor...."
      ],
      "metadata": {
        "colab": {
          "base_uri": "https://localhost:8080/"
        },
        "id": "4QCS8pKq_Xws",
        "outputId": "ab1f15c1-e6fe-4353-adac-32597ba95a85"
      },
      "execution_count": 125,
      "outputs": [
        {
          "output_type": "execute_result",
          "data": {
            "text/plain": [
              "(array([2., 3., 4.]), tensor([1., 2., 3.]))"
            ]
          },
          "metadata": {},
          "execution_count": 125
        }
      ]
    },
    {
      "cell_type": "code",
      "source": [
        "#tensor to numpy:\n",
        "ten_to_num=df_t.numpy()\n",
        "ten_to_num,df_t"
      ],
      "metadata": {
        "colab": {
          "base_uri": "https://localhost:8080/"
        },
        "id": "TngZbJr1_xvh",
        "outputId": "597e6e08-ee26-4afb-ddd9-a11391304cdb"
      },
      "execution_count": 126,
      "outputs": [
        {
          "output_type": "execute_result",
          "data": {
            "text/plain": [
              "(array([1., 2., 3.], dtype=float32), tensor([1., 2., 3.]))"
            ]
          },
          "metadata": {},
          "execution_count": 126
        }
      ]
    },
    {
      "cell_type": "code",
      "source": [
        "#if we try to change the value of tensor will it affect the value of array??\n",
        "df_t=df+1\n",
        "ten_to_num,df_t #proves value do not changes..."
      ],
      "metadata": {
        "colab": {
          "base_uri": "https://localhost:8080/"
        },
        "id": "yALWp2i1AXFb",
        "outputId": "5134c123-dfd5-4ddf-8bbf-e7942174d207"
      },
      "execution_count": 127,
      "outputs": [
        {
          "output_type": "execute_result",
          "data": {
            "text/plain": [
              "(array([1., 2., 3.], dtype=float32), array([3., 4., 5.]))"
            ]
          },
          "metadata": {},
          "execution_count": 127
        }
      ]
    },
    {
      "cell_type": "markdown",
      "source": [
        "Pytorch reproducebility-(taking random out of random)"
      ],
      "metadata": {
        "id": "sVBwH-x6BNuJ"
      }
    },
    {
      "cell_type": "code",
      "source": [
        "#to reduce the randomness in neural network and pytorch comes the concept of **RANDOM SEED**"
      ],
      "metadata": {
        "id": "1DB7Rpo4BWL8"
      },
      "execution_count": null,
      "outputs": []
    },
    {
      "cell_type": "code",
      "source": [
        "#basically the random seed \"Flavours\" the randomness ...#It helps in reproducibility (getting the same result every time for testing or debugging)."
      ],
      "metadata": {
        "id": "hkBEdCBXB-se"
      },
      "execution_count": null,
      "outputs": []
    },
    {
      "cell_type": "code",
      "source": [
        "import torch\n",
        "ran_A=torch.rand(3,4)\n",
        "ran_B=torch.rand(3,4)\n",
        "print(ran_A)\n",
        "print(ran_B)\n",
        "print(ran_A==ran_B)"
      ],
      "metadata": {
        "colab": {
          "base_uri": "https://localhost:8080/"
        },
        "id": "4ZyspbdACiKA",
        "outputId": "2a61eca7-5c33-4c4d-c219-b3302c288410"
      },
      "execution_count": 128,
      "outputs": [
        {
          "output_type": "stream",
          "name": "stdout",
          "text": [
            "tensor([[0.2335, 0.9430, 0.5573, 0.3630],\n",
            "        [0.0570, 0.3983, 0.8556, 0.5567],\n",
            "        [0.4918, 0.7970, 0.7846, 0.2642]])\n",
            "tensor([[0.6982, 0.7886, 0.5917, 0.1074],\n",
            "        [0.5639, 0.5175, 0.4799, 0.7235],\n",
            "        [0.5053, 0.4453, 0.2152, 0.2303]])\n",
            "tensor([[False, False, False, False],\n",
            "        [False, False, False, False],\n",
            "        [False, False, False, False]])\n"
          ]
        }
      ]
    },
    {
      "cell_type": "code",
      "source": [
        "#make it reproducable...\n",
        "RANDOM_SEED=42\n",
        "torch.manual_seed(RANDOM_SEED)\n",
        "ran_c=torch.rand(3,4)\n",
        "torch.manual_seed(RANDOM_SEED) #remember each time we have to call torch_manual\n",
        "ran_d=torch.rand(3,4)\n",
        "print(ran_c)\n",
        "print(ran_d)\n",
        "print(ran_c==ran_d)"
      ],
      "metadata": {
        "colab": {
          "base_uri": "https://localhost:8080/"
        },
        "id": "Z7EwRYzYDH8y",
        "outputId": "85f946c8-80db-4a02-f5a6-8b0a93ecc785"
      },
      "execution_count": 131,
      "outputs": [
        {
          "output_type": "stream",
          "name": "stdout",
          "text": [
            "tensor([[0.8823, 0.9150, 0.3829, 0.9593],\n",
            "        [0.3904, 0.6009, 0.2566, 0.7936],\n",
            "        [0.9408, 0.1332, 0.9346, 0.5936]])\n",
            "tensor([[0.8823, 0.9150, 0.3829, 0.9593],\n",
            "        [0.3904, 0.6009, 0.2566, 0.7936],\n",
            "        [0.9408, 0.1332, 0.9346, 0.5936]])\n",
            "tensor([[True, True, True, True],\n",
            "        [True, True, True, True],\n",
            "        [True, True, True, True]])\n"
          ]
        }
      ]
    }
  ]
}